{
 "cells": [
  {
   "cell_type": "markdown",
   "metadata": {},
   "source": [
    "# Capstone Project: Create a Customer Segmentation Report for Arvato Financial Services\n",
    "\n",
    "In this project, you will analyze demographics data for customers of a mail-order sales company in Germany, comparing it against demographics information for the general population. You'll use unsupervised learning techniques to perform customer segmentation, identifying the parts of the population that best describe the core customer base of the company. Then, you'll apply what you've learned on a third dataset with demographics information for targets of a marketing campaign for the company, and use a model to predict which individuals are most likely to convert into becoming customers for the company. The data that you will use has been provided by our partners at Bertelsmann Arvato Analytics, and represents a real-life data science task.\n",
    "\n",
    "If you completed the first term of this program, you will be familiar with the first part of this project, from the unsupervised learning project. The versions of those two datasets used in this project will include many more features and has not been pre-cleaned. You are also free to choose whatever approach you'd like to analyzing the data rather than follow pre-determined steps. In your work on this project, make sure that you carefully document your steps and decisions, since your main deliverable for this project will be a blog post reporting your findings."
   ]
  },
  {
   "cell_type": "code",
   "execution_count": 1,
   "metadata": {},
   "outputs": [],
   "source": [
    "# import libraries\n",
    "import numpy as np\n",
    "import pandas as pd\n",
    "import pickle\n",
    "import math\n",
    "import random\n",
    "import matplotlib.pyplot as plt\n",
    "import seaborn as sns\n",
    "from scipy.stats import skew\n",
    "\n",
    "from sklearn.base import BaseEstimator, TransformerMixin\n",
    "from sklearn.preprocessing import FunctionTransformer, StandardScaler, OneHotEncoder\n",
    "from sklearn.impute import SimpleImputer\n",
    "from sklearn.compose import ColumnTransformer\n",
    "from sklearn.decomposition import PCA\n",
    "from sklearn.cluster import KMeans\n",
    "from sklearn.cluster import MiniBatchKMeans\n",
    "\n",
    "from sklearn.pipeline import Pipeline\n",
    "from sklearn.linear_model import LogisticRegression\n",
    "from sklearn.ensemble import RandomForestClassifier, AdaBoostClassifier, GradientBoostingClassifier\n",
    "import xgboost as xgb\n",
    "from sklearn.model_selection import learning_curve\n",
    "\n",
    "from sklearn.model_selection import GridSearchCV\n",
    "from sklearn.metrics import roc_auc_score\n",
    "\n",
    "# magic word for producing visualizations in notebook\n",
    "%matplotlib inline"
   ]
  },
  {
   "cell_type": "markdown",
   "metadata": {},
   "source": [
    "## Part 0: Get to Know the Data\n",
    "\n",
    "There are four data files associated with this project:\n",
    "\n",
    "- `Udacity_AZDIAS_052018.csv`: Demographics data for the general population of Germany; 891 211 persons (rows) x 366 features (columns).\n",
    "- `Udacity_CUSTOMERS_052018.csv`: Demographics data for customers of a mail-order company; 191 652 persons (rows) x 369 features (columns).\n",
    "- `Udacity_MAILOUT_052018_TRAIN.csv`: Demographics data for individuals who were targets of a marketing campaign; 42 982 persons (rows) x 367 (columns).\n",
    "- `Udacity_MAILOUT_052018_TEST.csv`: Demographics data for individuals who were targets of a marketing campaign; 42 833 persons (rows) x 366 (columns).\n",
    "\n",
    "Each row of the demographics files represents a single person, but also includes information outside of individuals, including information about their household, building, and neighborhood. Use the information from the first two files to figure out how customers (\"CUSTOMERS\") are similar to or differ from the general population at large (\"AZDIAS\"), then use your analysis to make predictions on the other two files (\"MAILOUT\"), predicting which recipients are most likely to become a customer for the mail-order company.\n",
    "\n",
    "The \"CUSTOMERS\" file contains three extra columns ('CUSTOMER_GROUP', 'ONLINE_PURCHASE', and 'PRODUCT_GROUP'), which provide broad information about the customers depicted in the file. The original \"MAILOUT\" file included one additional column, \"RESPONSE\", which indicated whether or not each recipient became a customer of the company. For the \"TRAIN\" subset, this column has been retained, but in the \"TEST\" subset it has been removed; it is against that withheld column that your final predictions will be assessed in the Kaggle competition.\n",
    "\n",
    "Otherwise, all of the remaining columns are the same between the three data files. For more information about the columns depicted in the files, you can refer to two Excel spreadsheets provided in the workspace. [One of them](./DIAS Information Levels - Attributes 2017.xlsx) is a top-level list of attributes and descriptions, organized by informational category. [The other](./DIAS Attributes - Values 2017.xlsx) is a detailed mapping of data values for each feature in alphabetical order.\n",
    "\n",
    "In the below cell, we've provided some initial code to load in the first two datasets. Note for all of the `.csv` data files in this project that they're semicolon (`;`) delimited, so an additional argument in the [`read_csv()`](https://pandas.pydata.org/pandas-docs/stable/generated/pandas.read_csv.html) call has been included to read in the data properly. Also, considering the size of the datasets, it may take some time for them to load completely.\n",
    "\n",
    "You'll notice when the data is loaded in that a warning message will immediately pop up. Before you really start digging into the modeling and analysis, you're going to need to perform some cleaning. Take some time to browse the structure of the data and look over the informational spreadsheets to understand the data values. Make some decisions on which features to keep, which features to drop, and if any revisions need to be made on data formats. It'll be a good idea to create a function with pre-processing steps, since you'll need to clean all of the datasets before you work with them."
   ]
  },
  {
   "cell_type": "code",
   "execution_count": 2,
   "metadata": {},
   "outputs": [],
   "source": [
    "# load in the data\n",
    "# azdias = pd.read_csv('Udacity_AZDIAS_052018.csv', sep=';', low_memory=False)\n",
    "# customers = pd.read_csv('Udacity_CUSTOMERS_052018.csv', sep=';', low_memory=False)"
   ]
  },
  {
   "cell_type": "code",
   "execution_count": 3,
   "metadata": {},
   "outputs": [],
   "source": [
    "# pickle/serialize df to file \n",
    "# azdias.to_pickle('azdias.pickle')\n",
    "# customers.to_pickle('customers.pickle')"
   ]
  },
  {
   "cell_type": "code",
   "execution_count": 4,
   "metadata": {},
   "outputs": [],
   "source": [
    "# load pickled file\n",
    "azdias = pd.read_pickle('azdias.pickle')\n",
    "customers = pd.read_pickle('customers.pickle')"
   ]
  },
  {
   "cell_type": "code",
   "execution_count": 5,
   "metadata": {},
   "outputs": [
    {
     "name": "stdout",
     "output_type": "stream",
     "text": [
      "General Population DF shape: (891221, 366)\n"
     ]
    }
   ],
   "source": [
    "print(\"General Population DF shape: {}\".format(azdias.shape))"
   ]
  },
  {
   "cell_type": "code",
   "execution_count": 6,
   "metadata": {},
   "outputs": [
    {
     "data": {
      "text/html": [
       "<div>\n",
       "<style scoped>\n",
       "    .dataframe tbody tr th:only-of-type {\n",
       "        vertical-align: middle;\n",
       "    }\n",
       "\n",
       "    .dataframe tbody tr th {\n",
       "        vertical-align: top;\n",
       "    }\n",
       "\n",
       "    .dataframe thead th {\n",
       "        text-align: right;\n",
       "    }\n",
       "</style>\n",
       "<table border=\"1\" class=\"dataframe\">\n",
       "  <thead>\n",
       "    <tr style=\"text-align: right;\">\n",
       "      <th></th>\n",
       "      <th>LNR</th>\n",
       "      <th>AGER_TYP</th>\n",
       "      <th>AKT_DAT_KL</th>\n",
       "      <th>ALTER_HH</th>\n",
       "      <th>ALTER_KIND1</th>\n",
       "      <th>ALTER_KIND2</th>\n",
       "      <th>ALTER_KIND3</th>\n",
       "      <th>ALTER_KIND4</th>\n",
       "      <th>ALTERSKATEGORIE_FEIN</th>\n",
       "      <th>ANZ_HAUSHALTE_AKTIV</th>\n",
       "      <th>...</th>\n",
       "      <th>VHN</th>\n",
       "      <th>VK_DHT4A</th>\n",
       "      <th>VK_DISTANZ</th>\n",
       "      <th>VK_ZG11</th>\n",
       "      <th>W_KEIT_KIND_HH</th>\n",
       "      <th>WOHNDAUER_2008</th>\n",
       "      <th>WOHNLAGE</th>\n",
       "      <th>ZABEOTYP</th>\n",
       "      <th>ANREDE_KZ</th>\n",
       "      <th>ALTERSKATEGORIE_GROB</th>\n",
       "    </tr>\n",
       "  </thead>\n",
       "  <tbody>\n",
       "    <tr>\n",
       "      <th>0</th>\n",
       "      <td>910215</td>\n",
       "      <td>-1</td>\n",
       "      <td>NaN</td>\n",
       "      <td>NaN</td>\n",
       "      <td>NaN</td>\n",
       "      <td>NaN</td>\n",
       "      <td>NaN</td>\n",
       "      <td>NaN</td>\n",
       "      <td>NaN</td>\n",
       "      <td>NaN</td>\n",
       "      <td>...</td>\n",
       "      <td>NaN</td>\n",
       "      <td>NaN</td>\n",
       "      <td>NaN</td>\n",
       "      <td>NaN</td>\n",
       "      <td>NaN</td>\n",
       "      <td>NaN</td>\n",
       "      <td>NaN</td>\n",
       "      <td>3</td>\n",
       "      <td>1</td>\n",
       "      <td>2</td>\n",
       "    </tr>\n",
       "    <tr>\n",
       "      <th>1</th>\n",
       "      <td>910220</td>\n",
       "      <td>-1</td>\n",
       "      <td>9.0</td>\n",
       "      <td>0.0</td>\n",
       "      <td>NaN</td>\n",
       "      <td>NaN</td>\n",
       "      <td>NaN</td>\n",
       "      <td>NaN</td>\n",
       "      <td>21.0</td>\n",
       "      <td>11.0</td>\n",
       "      <td>...</td>\n",
       "      <td>4.0</td>\n",
       "      <td>8.0</td>\n",
       "      <td>11.0</td>\n",
       "      <td>10.0</td>\n",
       "      <td>3.0</td>\n",
       "      <td>9.0</td>\n",
       "      <td>4.0</td>\n",
       "      <td>5</td>\n",
       "      <td>2</td>\n",
       "      <td>1</td>\n",
       "    </tr>\n",
       "    <tr>\n",
       "      <th>2</th>\n",
       "      <td>910225</td>\n",
       "      <td>-1</td>\n",
       "      <td>9.0</td>\n",
       "      <td>17.0</td>\n",
       "      <td>NaN</td>\n",
       "      <td>NaN</td>\n",
       "      <td>NaN</td>\n",
       "      <td>NaN</td>\n",
       "      <td>17.0</td>\n",
       "      <td>10.0</td>\n",
       "      <td>...</td>\n",
       "      <td>2.0</td>\n",
       "      <td>9.0</td>\n",
       "      <td>9.0</td>\n",
       "      <td>6.0</td>\n",
       "      <td>3.0</td>\n",
       "      <td>9.0</td>\n",
       "      <td>2.0</td>\n",
       "      <td>5</td>\n",
       "      <td>2</td>\n",
       "      <td>3</td>\n",
       "    </tr>\n",
       "    <tr>\n",
       "      <th>3</th>\n",
       "      <td>910226</td>\n",
       "      <td>2</td>\n",
       "      <td>1.0</td>\n",
       "      <td>13.0</td>\n",
       "      <td>NaN</td>\n",
       "      <td>NaN</td>\n",
       "      <td>NaN</td>\n",
       "      <td>NaN</td>\n",
       "      <td>13.0</td>\n",
       "      <td>1.0</td>\n",
       "      <td>...</td>\n",
       "      <td>0.0</td>\n",
       "      <td>7.0</td>\n",
       "      <td>10.0</td>\n",
       "      <td>11.0</td>\n",
       "      <td>NaN</td>\n",
       "      <td>9.0</td>\n",
       "      <td>7.0</td>\n",
       "      <td>3</td>\n",
       "      <td>2</td>\n",
       "      <td>4</td>\n",
       "    </tr>\n",
       "    <tr>\n",
       "      <th>4</th>\n",
       "      <td>910241</td>\n",
       "      <td>-1</td>\n",
       "      <td>1.0</td>\n",
       "      <td>20.0</td>\n",
       "      <td>NaN</td>\n",
       "      <td>NaN</td>\n",
       "      <td>NaN</td>\n",
       "      <td>NaN</td>\n",
       "      <td>14.0</td>\n",
       "      <td>3.0</td>\n",
       "      <td>...</td>\n",
       "      <td>2.0</td>\n",
       "      <td>3.0</td>\n",
       "      <td>5.0</td>\n",
       "      <td>4.0</td>\n",
       "      <td>2.0</td>\n",
       "      <td>9.0</td>\n",
       "      <td>3.0</td>\n",
       "      <td>4</td>\n",
       "      <td>1</td>\n",
       "      <td>3</td>\n",
       "    </tr>\n",
       "  </tbody>\n",
       "</table>\n",
       "<p>5 rows × 366 columns</p>\n",
       "</div>"
      ],
      "text/plain": [
       "      LNR  AGER_TYP  AKT_DAT_KL  ALTER_HH  ALTER_KIND1  ALTER_KIND2  \\\n",
       "0  910215        -1         NaN       NaN          NaN          NaN   \n",
       "1  910220        -1         9.0       0.0          NaN          NaN   \n",
       "2  910225        -1         9.0      17.0          NaN          NaN   \n",
       "3  910226         2         1.0      13.0          NaN          NaN   \n",
       "4  910241        -1         1.0      20.0          NaN          NaN   \n",
       "\n",
       "   ALTER_KIND3  ALTER_KIND4  ALTERSKATEGORIE_FEIN  ANZ_HAUSHALTE_AKTIV  ...  \\\n",
       "0          NaN          NaN                   NaN                  NaN  ...   \n",
       "1          NaN          NaN                  21.0                 11.0  ...   \n",
       "2          NaN          NaN                  17.0                 10.0  ...   \n",
       "3          NaN          NaN                  13.0                  1.0  ...   \n",
       "4          NaN          NaN                  14.0                  3.0  ...   \n",
       "\n",
       "   VHN  VK_DHT4A  VK_DISTANZ  VK_ZG11  W_KEIT_KIND_HH  WOHNDAUER_2008  \\\n",
       "0  NaN       NaN         NaN      NaN             NaN             NaN   \n",
       "1  4.0       8.0        11.0     10.0             3.0             9.0   \n",
       "2  2.0       9.0         9.0      6.0             3.0             9.0   \n",
       "3  0.0       7.0        10.0     11.0             NaN             9.0   \n",
       "4  2.0       3.0         5.0      4.0             2.0             9.0   \n",
       "\n",
       "   WOHNLAGE ZABEOTYP ANREDE_KZ ALTERSKATEGORIE_GROB  \n",
       "0       NaN        3         1                    2  \n",
       "1       4.0        5         2                    1  \n",
       "2       2.0        5         2                    3  \n",
       "3       7.0        3         2                    4  \n",
       "4       3.0        4         1                    3  \n",
       "\n",
       "[5 rows x 366 columns]"
      ]
     },
     "execution_count": 6,
     "metadata": {},
     "output_type": "execute_result"
    }
   ],
   "source": [
    "azdias.head()"
   ]
  },
  {
   "cell_type": "code",
   "execution_count": 7,
   "metadata": {},
   "outputs": [
    {
     "name": "stdout",
     "output_type": "stream",
     "text": [
      "Customers DF shape: (891221, 366)\n"
     ]
    }
   ],
   "source": [
    "print(\"Customers DF shape: {}\".format(azdias.shape))"
   ]
  },
  {
   "cell_type": "code",
   "execution_count": 8,
   "metadata": {},
   "outputs": [
    {
     "data": {
      "text/html": [
       "<div>\n",
       "<style scoped>\n",
       "    .dataframe tbody tr th:only-of-type {\n",
       "        vertical-align: middle;\n",
       "    }\n",
       "\n",
       "    .dataframe tbody tr th {\n",
       "        vertical-align: top;\n",
       "    }\n",
       "\n",
       "    .dataframe thead th {\n",
       "        text-align: right;\n",
       "    }\n",
       "</style>\n",
       "<table border=\"1\" class=\"dataframe\">\n",
       "  <thead>\n",
       "    <tr style=\"text-align: right;\">\n",
       "      <th></th>\n",
       "      <th>LNR</th>\n",
       "      <th>AGER_TYP</th>\n",
       "      <th>AKT_DAT_KL</th>\n",
       "      <th>ALTER_HH</th>\n",
       "      <th>ALTER_KIND1</th>\n",
       "      <th>ALTER_KIND2</th>\n",
       "      <th>ALTER_KIND3</th>\n",
       "      <th>ALTER_KIND4</th>\n",
       "      <th>ALTERSKATEGORIE_FEIN</th>\n",
       "      <th>ANZ_HAUSHALTE_AKTIV</th>\n",
       "      <th>...</th>\n",
       "      <th>VK_ZG11</th>\n",
       "      <th>W_KEIT_KIND_HH</th>\n",
       "      <th>WOHNDAUER_2008</th>\n",
       "      <th>WOHNLAGE</th>\n",
       "      <th>ZABEOTYP</th>\n",
       "      <th>PRODUCT_GROUP</th>\n",
       "      <th>CUSTOMER_GROUP</th>\n",
       "      <th>ONLINE_PURCHASE</th>\n",
       "      <th>ANREDE_KZ</th>\n",
       "      <th>ALTERSKATEGORIE_GROB</th>\n",
       "    </tr>\n",
       "  </thead>\n",
       "  <tbody>\n",
       "    <tr>\n",
       "      <th>0</th>\n",
       "      <td>9626</td>\n",
       "      <td>2</td>\n",
       "      <td>1.0</td>\n",
       "      <td>10.0</td>\n",
       "      <td>NaN</td>\n",
       "      <td>NaN</td>\n",
       "      <td>NaN</td>\n",
       "      <td>NaN</td>\n",
       "      <td>10.0</td>\n",
       "      <td>1.0</td>\n",
       "      <td>...</td>\n",
       "      <td>2.0</td>\n",
       "      <td>6.0</td>\n",
       "      <td>9.0</td>\n",
       "      <td>7.0</td>\n",
       "      <td>3</td>\n",
       "      <td>COSMETIC_AND_FOOD</td>\n",
       "      <td>MULTI_BUYER</td>\n",
       "      <td>0</td>\n",
       "      <td>1</td>\n",
       "      <td>4</td>\n",
       "    </tr>\n",
       "    <tr>\n",
       "      <th>1</th>\n",
       "      <td>9628</td>\n",
       "      <td>-1</td>\n",
       "      <td>9.0</td>\n",
       "      <td>11.0</td>\n",
       "      <td>NaN</td>\n",
       "      <td>NaN</td>\n",
       "      <td>NaN</td>\n",
       "      <td>NaN</td>\n",
       "      <td>NaN</td>\n",
       "      <td>NaN</td>\n",
       "      <td>...</td>\n",
       "      <td>3.0</td>\n",
       "      <td>0.0</td>\n",
       "      <td>9.0</td>\n",
       "      <td>NaN</td>\n",
       "      <td>3</td>\n",
       "      <td>FOOD</td>\n",
       "      <td>SINGLE_BUYER</td>\n",
       "      <td>0</td>\n",
       "      <td>1</td>\n",
       "      <td>4</td>\n",
       "    </tr>\n",
       "    <tr>\n",
       "      <th>2</th>\n",
       "      <td>143872</td>\n",
       "      <td>-1</td>\n",
       "      <td>1.0</td>\n",
       "      <td>6.0</td>\n",
       "      <td>NaN</td>\n",
       "      <td>NaN</td>\n",
       "      <td>NaN</td>\n",
       "      <td>NaN</td>\n",
       "      <td>0.0</td>\n",
       "      <td>1.0</td>\n",
       "      <td>...</td>\n",
       "      <td>11.0</td>\n",
       "      <td>6.0</td>\n",
       "      <td>9.0</td>\n",
       "      <td>2.0</td>\n",
       "      <td>3</td>\n",
       "      <td>COSMETIC_AND_FOOD</td>\n",
       "      <td>MULTI_BUYER</td>\n",
       "      <td>0</td>\n",
       "      <td>2</td>\n",
       "      <td>4</td>\n",
       "    </tr>\n",
       "    <tr>\n",
       "      <th>3</th>\n",
       "      <td>143873</td>\n",
       "      <td>1</td>\n",
       "      <td>1.0</td>\n",
       "      <td>8.0</td>\n",
       "      <td>NaN</td>\n",
       "      <td>NaN</td>\n",
       "      <td>NaN</td>\n",
       "      <td>NaN</td>\n",
       "      <td>8.0</td>\n",
       "      <td>0.0</td>\n",
       "      <td>...</td>\n",
       "      <td>2.0</td>\n",
       "      <td>NaN</td>\n",
       "      <td>9.0</td>\n",
       "      <td>7.0</td>\n",
       "      <td>1</td>\n",
       "      <td>COSMETIC</td>\n",
       "      <td>MULTI_BUYER</td>\n",
       "      <td>0</td>\n",
       "      <td>1</td>\n",
       "      <td>4</td>\n",
       "    </tr>\n",
       "    <tr>\n",
       "      <th>4</th>\n",
       "      <td>143874</td>\n",
       "      <td>-1</td>\n",
       "      <td>1.0</td>\n",
       "      <td>20.0</td>\n",
       "      <td>NaN</td>\n",
       "      <td>NaN</td>\n",
       "      <td>NaN</td>\n",
       "      <td>NaN</td>\n",
       "      <td>14.0</td>\n",
       "      <td>7.0</td>\n",
       "      <td>...</td>\n",
       "      <td>4.0</td>\n",
       "      <td>2.0</td>\n",
       "      <td>9.0</td>\n",
       "      <td>3.0</td>\n",
       "      <td>1</td>\n",
       "      <td>FOOD</td>\n",
       "      <td>MULTI_BUYER</td>\n",
       "      <td>0</td>\n",
       "      <td>1</td>\n",
       "      <td>3</td>\n",
       "    </tr>\n",
       "  </tbody>\n",
       "</table>\n",
       "<p>5 rows × 369 columns</p>\n",
       "</div>"
      ],
      "text/plain": [
       "      LNR  AGER_TYP  AKT_DAT_KL  ALTER_HH  ALTER_KIND1  ALTER_KIND2  \\\n",
       "0    9626         2         1.0      10.0          NaN          NaN   \n",
       "1    9628        -1         9.0      11.0          NaN          NaN   \n",
       "2  143872        -1         1.0       6.0          NaN          NaN   \n",
       "3  143873         1         1.0       8.0          NaN          NaN   \n",
       "4  143874        -1         1.0      20.0          NaN          NaN   \n",
       "\n",
       "   ALTER_KIND3  ALTER_KIND4  ALTERSKATEGORIE_FEIN  ANZ_HAUSHALTE_AKTIV  ...  \\\n",
       "0          NaN          NaN                  10.0                  1.0  ...   \n",
       "1          NaN          NaN                   NaN                  NaN  ...   \n",
       "2          NaN          NaN                   0.0                  1.0  ...   \n",
       "3          NaN          NaN                   8.0                  0.0  ...   \n",
       "4          NaN          NaN                  14.0                  7.0  ...   \n",
       "\n",
       "   VK_ZG11  W_KEIT_KIND_HH  WOHNDAUER_2008  WOHNLAGE  ZABEOTYP  \\\n",
       "0      2.0             6.0             9.0       7.0         3   \n",
       "1      3.0             0.0             9.0       NaN         3   \n",
       "2     11.0             6.0             9.0       2.0         3   \n",
       "3      2.0             NaN             9.0       7.0         1   \n",
       "4      4.0             2.0             9.0       3.0         1   \n",
       "\n",
       "       PRODUCT_GROUP  CUSTOMER_GROUP ONLINE_PURCHASE ANREDE_KZ  \\\n",
       "0  COSMETIC_AND_FOOD     MULTI_BUYER               0         1   \n",
       "1               FOOD    SINGLE_BUYER               0         1   \n",
       "2  COSMETIC_AND_FOOD     MULTI_BUYER               0         2   \n",
       "3           COSMETIC     MULTI_BUYER               0         1   \n",
       "4               FOOD     MULTI_BUYER               0         1   \n",
       "\n",
       "  ALTERSKATEGORIE_GROB  \n",
       "0                    4  \n",
       "1                    4  \n",
       "2                    4  \n",
       "3                    4  \n",
       "4                    3  \n",
       "\n",
       "[5 rows x 369 columns]"
      ]
     },
     "execution_count": 8,
     "metadata": {},
     "output_type": "execute_result"
    }
   ],
   "source": [
    "customers.head()"
   ]
  },
  {
   "cell_type": "code",
   "execution_count": 9,
   "metadata": {},
   "outputs": [
    {
     "data": {
      "text/plain": [
       "float64    267\n",
       "int64       93\n",
       "object       6\n",
       "dtype: int64"
      ]
     },
     "execution_count": 9,
     "metadata": {},
     "output_type": "execute_result"
    }
   ],
   "source": [
    "azdias.dtypes.value_counts()"
   ]
  },
  {
   "cell_type": "markdown",
   "metadata": {},
   "source": [
    "# Preprocessing"
   ]
  },
  {
   "cell_type": "markdown",
   "metadata": {},
   "source": [
    "#### 1.) Assess missing data in columns"
   ]
  },
  {
   "cell_type": "markdown",
   "metadata": {},
   "source": [
    "**Start by assessing the DIAS_Attributes_Values file for missing key values and create missing keys dictionary**"
   ]
  },
  {
   "cell_type": "code",
   "execution_count": 10,
   "metadata": {},
   "outputs": [],
   "source": [
    "def create_missing_key_dict(attribute_value_file):\n",
    "    attribute_values = pd.read_csv(attribute_value_file, sep=',')\n",
    "    missing_keys = attribute_values[attribute_values[\"Meaning\"].isin([\"unknown\", \"unknown / no main age detectable\"])]\n",
    "    \n",
    "    missing_keys_dict = {}\n",
    "    \n",
    "    for _, row in missing_keys.iterrows():\n",
    "        key = row[\"Attribute\"]\n",
    "        missing_keys_dict[key] = row[\"Value\"].split(\", \")\n",
    "    \n",
    "    no_transaction_attributes = ['D19_BANKEN_ANZ_12', 'D19_BANKEN_ANZ_24', 'D19_BANKEN_DATUM', \n",
    "                                 'D19_BANKEN_DIREKT_RZ', 'D19_BANKEN_GROSS_RZ', 'D19_BANKEN_LOKAL_RZ', \n",
    "                                 'D19_BANKEN_OFFLINE_DATUM', 'D19_BANKEN_ONLINE_DATUM', \n",
    "                                 'D19_BANKEN_REST_RZ', 'D19_BEKLEIDUNG_GEH_RZ', 'D19_BEKLEIDUNG_REST_RZ', \n",
    "                                 'D19_BILDUNG_RZ', 'D19_BIO_OEKO_RZ', 'D19_BUCH_RZ', 'D19_DIGIT_SERV_RZ', \n",
    "                                 'D19_DROGERIEARTIKEL_RZ', 'D19_ENERGIE_RZ', 'D19_FREIZEIT_RZ', \n",
    "                                 'D19_GARTEN_RZ', 'D19_GESAMT_ANZ_12', 'D19_GESAMT_ANZ_24', \n",
    "                                 'D19_GESAMT_DATUM', 'D19_GESAMT_OFFLINE_DATUM', 'D19_GESAMT_ONLINE_DATUM', \n",
    "                                 'D19_HANDWERK_RZ', 'D19_HAUS_DEKO_RZ', 'D19_KINDERARTIKEL_RZ', \n",
    "                                 'D19_KOSMETIK_RZ', 'D19_LEBENSMITTEL_RZ', 'D19_LOTTO_RZ', \n",
    "                                 'D19_NAHRUNGSERGAENZUNG_RZ', 'D19_RATGEBER_RZ', 'D19_REISEN_RZ', \n",
    "                                 'D19_SAMMELARTIKEL_RZ', 'D19_SCHUHE_RZ', 'D19_SONSTIGE_RZ', \n",
    "                                 'D19_TECHNIK_RZ', 'D19_TELKO_ANZ_12', 'D19_TELKO_ANZ_24', \n",
    "                                 'D19_TELKO_DATUM', 'D19_TELKO_MOBILE_RZ', 'D19_TELKO_OFFLINE_DATUM', \n",
    "                                 'D19_TELKO_ONLINE_DATUM', 'D19_TELKO_REST_RZ', 'D19_TIERARTIKEL_RZ', \n",
    "                                 'D19_VERSAND_ANZ_12', 'D19_VERSAND_ANZ_24', 'D19_VERSAND_DATUM', \n",
    "                                 'D19_VERSAND_OFFLINE_DATUM', 'D19_VERSAND_ONLINE_DATUM', \n",
    "                                 'D19_VERSAND_REST_RZ', 'D19_VERSICHERUNGEN_RZ', 'D19_VERSI_ANZ_12', \n",
    "                                 'D19_VERSI_ANZ_24', 'D19_VOLLSORTIMENT_RZ', 'D19_WEIN_FEINKOST_RZ']\n",
    "    \n",
    "    \n",
    "    for key in no_transaction_attributes:\n",
    "        new_key = key.replace(\"_RZ\", \"\")\n",
    "        missing_keys_dict[new_key] = ['0']\n",
    "    \n",
    "    # For attributes with missing codes, manually add codes from attributes that are similar to it\n",
    "    missing_keys_dict[\"CAMEO_INTL_2015\"] = ['XX']\n",
    "    missing_keys_dict[\"CAMEO_DEUG_2015\"] = ['X']\n",
    "    missing_keys_dict[\"CAMEO_DEU_2015\"] = ['XX']\n",
    "    missing_keys_dict[\"GEBURTSJAHR\"] = ['0']\n",
    "    missing_keys_dict[\"KBA13_CCM_1401_2500\"] = missing_keys_dict[\"KBA13_CCM_1400_2500\"]\n",
    "    missing_keys_dict[\"KBA13_BAUMAX\"] = missing_keys_dict[\"KBA05_BAUMAX\"]\n",
    "    missing_keys_dict[\"KBA13_ANTG1\"] = missing_keys_dict[\"KBA05_ANTG1\"]\n",
    "    missing_keys_dict[\"KBA13_ANTG2\"] = missing_keys_dict[\"KBA05_ANTG2\"]\n",
    "    missing_keys_dict[\"KBA13_ANTG3\"] = missing_keys_dict[\"KBA05_ANTG3\"]\n",
    "    missing_keys_dict[\"KBA13_ANTG4\"] = missing_keys_dict[\"KBA05_ANTG4\"]\n",
    "    \n",
    "    return missing_keys_dict"
   ]
  },
  {
   "cell_type": "code",
   "execution_count": 11,
   "metadata": {},
   "outputs": [],
   "source": [
    "missing_keys_dict = create_missing_key_dict(\"./DIAS_Attributes_Values_2017.csv\")"
   ]
  },
  {
   "cell_type": "code",
   "execution_count": 12,
   "metadata": {},
   "outputs": [
    {
     "name": "stdout",
     "output_type": "stream",
     "text": [
      "{'AGER_TYP': ['-1'], 'ALTERSKATEGORIE_GROB': ['-1', '0'], 'ALTER_HH': ['0'], 'ANREDE_KZ': ['-1', '0'], 'BALLRAUM': ['-1'], 'BIP_FLAG': ['-1'], 'CAMEO_DEUG_2015': ['X'], 'CAMEO_DEUINTL_2015': ['-1'], 'CJT_GESAMTTYP': ['0'], 'D19_KK_KUNDENTYP': ['-1'], 'EWDICHTE': ['-1'], 'FINANZTYP': ['-1'], 'FINANZ_ANLEGER': ['-1'], 'FINANZ_HAUSBAUER': ['-1'], 'FINANZ_MINIMALIST': ['-1'], 'FINANZ_SPARER': ['-1'], 'FINANZ_UNAUFFAELLIGER': ['-1'], 'FINANZ_VORSORGER': ['-1'], 'GEBAEUDETYP': ['-1', '0'], 'GEOSCORE_KLS7': ['-1', '0'], 'HAUSHALTSSTRUKTUR': ['-1', '0'], 'HEALTH_TYP': ['-1'], 'HH_EINKOMMEN_SCORE': ['-1', '0'], 'INNENSTADT': ['-1'], 'KBA05_ALTER1': ['-1', '9'], 'KBA05_ALTER2': ['-1', '9'], 'KBA05_ALTER3': ['-1', '9'], 'KBA05_ALTER4': ['-1', '9'], 'KBA05_ANHANG': ['-1', '9'], 'KBA05_ANTG1': ['-1'], 'KBA05_ANTG2': ['-1'], 'KBA05_ANTG3': ['-1'], 'KBA05_ANTG4': ['-1'], 'KBA05_AUTOQUOT': ['-1', '9'], 'KBA05_BAUMAX': ['-1', '0'], 'KBA05_CCM1': ['-1', '9'], 'KBA05_CCM2': ['-1', '9'], 'KBA05_CCM3': ['-1', '9'], 'KBA05_CCM4': ['-1', '9'], 'KBA05_DIESEL': ['-1', '9'], 'KBA05_FRAU': ['-1', '9'], 'KBA05_GBZ': ['-1', '0'], 'KBA05_HERST1': ['-1', '9'], 'KBA05_HERST2': ['-1', '9'], 'KBA05_HERST3': ['-1', '9'], 'KBA05_HERST4': ['-1', '9'], 'KBA05_HERST5': ['-1', '9'], 'KBA05_HERSTTEMP': ['-1', '9'], 'KBA05_KRSAQUOT': ['-1', '9'], 'KBA05_KRSHERST1': ['-1', '9'], 'KBA05_KRSHERST2': ['-1', '9'], 'KBA05_KRSHERST3': ['-1', '9'], 'KBA05_KRSKLEIN': ['-1', '9'], 'KBA05_KRSOBER': ['-1', '9'], 'KBA05_KRSVAN': ['-1', '9'], 'KBA05_KRSZUL': ['-1', '9'], 'KBA05_KW1': ['-1', '9'], 'KBA05_KW2': ['-1', '9'], 'KBA05_KW3': ['-1', '9'], 'KBA05_MAXAH': ['-1', '9'], 'KBA05_MAXBJ': ['-1', '9'], 'KBA05_MAXHERST': ['-1', '9'], 'KBA05_MAXSEG': ['-1', '9'], 'KBA05_MAXVORB': ['-1', '9'], 'KBA05_MOD1': ['-1', '9'], 'KBA05_MOD2': ['-1', '9'], 'KBA05_MOD3': ['-1', '9'], 'KBA05_MOD4': ['-1', '9'], 'KBA05_MOD8': ['-1', '9'], 'KBA05_MODTEMP': ['-1', '9'], 'KBA05_MOTOR': ['-1', '9'], 'KBA05_MOTRAD': ['-1', '9'], 'KBA05_SEG1': ['-1', '9'], 'KBA05_SEG10': ['-1', '9'], 'KBA05_SEG2': ['-1', '9'], 'KBA05_SEG3': ['-1', '9'], 'KBA05_SEG4': ['-1', '9'], 'KBA05_SEG5': ['-1', '9'], 'KBA05_SEG6': ['-1', '9'], 'KBA05_SEG7': ['-1', '9'], 'KBA05_SEG8': ['-1', '9'], 'KBA05_SEG9': ['-1', '9'], 'KBA05_VORB0': ['-1', '9'], 'KBA05_VORB1': ['-1', '9'], 'KBA05_VORB2': ['-1', '9'], 'KBA05_ZUL1': ['-1', '9'], 'KBA05_ZUL2': ['-1', '9'], 'KBA05_ZUL3': ['-1', '9'], 'KBA05_ZUL4': ['-1', '9'], 'KBA13_ALTERHALTER_30': ['-1'], 'KBA13_ALTERHALTER_45': ['-1'], 'KBA13_ALTERHALTER_60': ['-1'], 'KBA13_ALTERHALTER_61': ['-1'], 'KBA13_AUDI': ['-1'], 'KBA13_AUTOQUOTE': ['-1'], 'KBA13_BJ_1999': ['-1'], 'KBA13_BJ_2000': ['-1'], 'KBA13_BJ_2004': ['-1'], 'KBA13_BJ_2006': ['-1'], 'KBA13_BJ_2008': ['-1'], 'KBA13_BJ_2009': ['-1'], 'KBA13_BMW': ['-1'], 'KBA13_CCM_1000': ['-1'], 'KBA13_CCM_1200': ['-1'], 'KBA13_CCM_1400': ['-1'], 'KBA13_CCM_0_1400': ['-1'], 'KBA13_CCM_1500': ['-1'], 'KBA13_CCM_1400_2500': ['-1'], 'KBA13_CCM_1600': ['-1'], 'KBA13_CCM_1800': ['-1'], 'KBA13_CCM_2000': ['-1'], 'KBA13_CCM_2500': ['-1'], 'KBA13_CCM_2501': ['-1'], 'KBA13_CCM_3000': ['-1'], 'KBA13_CCM_3001': ['-1'], 'KBA13_FAB_ASIEN': ['-1'], 'KBA13_FAB_SONSTIGE': ['-1'], 'KBA13_FIAT': ['-1'], 'KBA13_FORD': ['-1'], 'KBA13_HALTER_20': ['-1'], 'KBA13_HALTER_25': ['-1'], 'KBA13_HALTER_30': ['-1'], 'KBA13_HALTER_35': ['-1'], 'KBA13_HALTER_40': ['-1'], 'KBA13_HALTER_45': ['-1'], 'KBA13_HALTER_50': ['-1'], 'KBA13_HALTER_55': ['-1'], 'KBA13_HALTER_60': ['-1'], 'KBA13_HALTER_65': ['-1'], 'KBA13_HALTER_66': ['-1'], 'KBA13_HERST_ASIEN': ['-1'], 'KBA13_HERST_AUDI_VW': ['-1'], 'KBA13_HERST_BMW_BENZ': ['-1'], 'KBA13_HERST_EUROPA': ['-1'], 'KBA13_HERST_FORD_OPEL': ['-1'], 'KBA13_HERST_SONST': ['-1'], 'KBA13_KMH_110': ['-1'], 'KBA13_KMH_140': ['-1'], 'KBA13_KMH_180': ['-1'], 'KBA13_KMH_0_140': ['-1'], 'KBA13_KMH_140_210': ['-1'], 'KBA13_KMH_211': ['-1'], 'KBA13_KMH_250': ['-1'], 'KBA13_KMH_251': ['-1'], 'KBA13_KRSAQUOT': ['-1'], 'KBA13_KRSHERST_AUDI_VW': ['-1'], 'KBA13_KRSHERST_BMW_BENZ': ['-1'], 'KBA13_KRSHERST_FORD_OPEL': ['-1'], 'KBA13_KRSSEG_KLEIN': ['-1'], 'KBA13_KRSSEG_OBER': ['-1'], 'KBA13_KRSSEG_VAN': ['-1'], 'KBA13_KRSZUL_NEU': ['-1'], 'KBA13_KW_30': ['-1'], 'KBA13_KW_40': ['-1'], 'KBA13_KW_50': ['-1'], 'KBA13_KW_60': ['-1'], 'KBA13_KW_0_60': ['-1'], 'KBA13_KW_70': ['-1'], 'KBA13_KW_61_120': ['-1'], 'KBA13_KW_80': ['-1'], 'KBA13_KW_90': ['-1'], 'KBA13_KW_110': ['-1'], 'KBA13_KW_120': ['-1'], 'KBA13_KW_121': ['-1'], 'KBA13_MAZDA': ['-1'], 'KBA13_MERCEDES': ['-1'], 'KBA13_MOTOR': ['-1'], 'KBA13_NISSAN': ['-1'], 'KBA13_OPEL': ['-1'], 'KBA13_PEUGEOT': ['-1'], 'KBA13_RENAULT': ['-1'], 'KBA13_SEG_GELAENDEWAGEN': ['-1'], 'KBA13_SEG_GROSSRAUMVANS': ['-1'], 'KBA13_SEG_KLEINST': ['-1'], 'KBA13_SEG_KLEINWAGEN': ['-1'], 'KBA13_SEG_KOMPAKTKLASSE': ['-1'], 'KBA13_SEG_MINIVANS': ['-1'], 'KBA13_SEG_MINIWAGEN': ['-1'], 'KBA13_SEG_MITTELKLASSE': ['-1'], 'KBA13_SEG_OBEREMITTELKLASSE': ['-1'], 'KBA13_SEG_OBERKLASSE': ['-1'], 'KBA13_SEG_SONSTIGE': ['-1'], 'KBA13_SEG_SPORTWAGEN': ['-1'], 'KBA13_SEG_UTILITIES': ['-1'], 'KBA13_SEG_VAN': ['-1'], 'KBA13_SEG_WOHNMOBILE': ['-1'], 'KBA13_SITZE_4': ['-1'], 'KBA13_SITZE_5': ['-1'], 'KBA13_SITZE_6': ['-1'], 'KBA13_TOYOTA': ['-1'], 'KBA13_VORB_0': ['-1'], 'KBA13_VORB_1': ['-1'], 'KBA13_VORB_1_2': ['-1'], 'KBA13_VORB_2': ['-1'], 'KBA13_VORB_3': ['-1'], 'KBA13_VW': ['-1'], 'KKK': ['-1', '0'], 'NATIONALITAET_KZ': ['-1', '0'], 'ORTSGR_KLS9': ['-1'], 'OST_WEST_KZ': ['-1'], 'PLZ8_ANTG1': ['-1'], 'PLZ8_ANTG2': ['-1'], 'PLZ8_ANTG3': ['-1'], 'PLZ8_ANTG4': ['-1'], 'PLZ8_GBZ': ['-1'], 'PLZ8_HHZ': ['-1'], 'PRAEGENDE_JUGENDJAHRE': ['-1', '0'], 'REGIOTYP': ['-1', '0'], 'RELAT_AB': ['-1', '9'], 'RETOURTYP_BK_S': ['0'], 'SEMIO_DOM': ['-1', '9'], 'SEMIO_ERL': ['-1', '9'], 'SEMIO_FAM': ['-1', '9'], 'SEMIO_KAEM': ['-1', '9'], 'SEMIO_KRIT': ['-1', '9'], 'SEMIO_KULT': ['-1', '9'], 'SEMIO_LUST': ['-1', '9'], 'SEMIO_MAT': ['-1', '9'], 'SEMIO_PFLICHT': ['-1', '9'], 'SEMIO_RAT': ['-1', '9'], 'SEMIO_REL': ['-1', '9'], 'SEMIO_SOZ': ['-1', '9'], 'SEMIO_TRADV': ['-1', '9'], 'SEMIO_VERT': ['-1', '9'], 'SHOPPER_TYP': ['-1'], 'SOHO_FLAG': ['-1'], 'TITEL_KZ': ['-1', '0'], 'VERS_TYP': ['-1'], 'WOHNDAUER_2008': ['-1', '0'], 'WOHNLAGE': ['-1'], 'WACHSTUMSGEBIET_NB': ['-1', '0'], 'W_KEIT_KIND_HH': ['-1', '0'], 'ZABEOTYP': ['-1', '9'], 'D19_BANKEN_ANZ_12': ['0'], 'D19_BANKEN_ANZ_24': ['0'], 'D19_BANKEN_DATUM': ['0'], 'D19_BANKEN_DIREKT': ['0'], 'D19_BANKEN_GROSS': ['0'], 'D19_BANKEN_LOKAL': ['0'], 'D19_BANKEN_OFFLINE_DATUM': ['0'], 'D19_BANKEN_ONLINE_DATUM': ['0'], 'D19_BANKEN_REST': ['0'], 'D19_BEKLEIDUNG_GEH': ['0'], 'D19_BEKLEIDUNG_REST': ['0'], 'D19_BILDUNG': ['0'], 'D19_BIO_OEKO': ['0'], 'D19_BUCH': ['0'], 'D19_DIGIT_SERV': ['0'], 'D19_DROGERIEARTIKEL': ['0'], 'D19_ENERGIE': ['0'], 'D19_FREIZEIT': ['0'], 'D19_GARTEN': ['0'], 'D19_GESAMT_ANZ_12': ['0'], 'D19_GESAMT_ANZ_24': ['0'], 'D19_GESAMT_DATUM': ['0'], 'D19_GESAMT_OFFLINE_DATUM': ['0'], 'D19_GESAMT_ONLINE_DATUM': ['0'], 'D19_HANDWERK': ['0'], 'D19_HAUS_DEKO': ['0'], 'D19_KINDERARTIKEL': ['0'], 'D19_KOSMETIK': ['0'], 'D19_LEBENSMITTEL': ['0'], 'D19_LOTTO': ['0'], 'D19_NAHRUNGSERGAENZUNG': ['0'], 'D19_RATGEBER': ['0'], 'D19_REISEN': ['0'], 'D19_SAMMELARTIKEL': ['0'], 'D19_SCHUHE': ['0'], 'D19_SONSTIGE': ['0'], 'D19_TECHNIK': ['0'], 'D19_TELKO_ANZ_12': ['0'], 'D19_TELKO_ANZ_24': ['0'], 'D19_TELKO_DATUM': ['0'], 'D19_TELKO_MOBILE': ['0'], 'D19_TELKO_OFFLINE_DATUM': ['0'], 'D19_TELKO_ONLINE_DATUM': ['0'], 'D19_TELKO_REST': ['0'], 'D19_TIERARTIKEL': ['0'], 'D19_VERSAND_ANZ_12': ['0'], 'D19_VERSAND_ANZ_24': ['0'], 'D19_VERSAND_DATUM': ['0'], 'D19_VERSAND_OFFLINE_DATUM': ['0'], 'D19_VERSAND_ONLINE_DATUM': ['0'], 'D19_VERSAND_REST': ['0'], 'D19_VERSICHERUNGEN': ['0'], 'D19_VERSI_ANZ_12': ['0'], 'D19_VERSI_ANZ_24': ['0'], 'D19_VOLLSORTIMENT': ['0'], 'D19_WEIN_FEINKOST': ['0'], 'CAMEO_INTL_2015': ['XX'], 'CAMEO_DEU_2015': ['XX'], 'GEBURTSJAHR': ['0'], 'KBA13_CCM_1401_2500': ['-1'], 'KBA13_BAUMAX': ['-1', '0'], 'KBA13_ANTG1': ['-1'], 'KBA13_ANTG2': ['-1'], 'KBA13_ANTG3': ['-1'], 'KBA13_ANTG4': ['-1']}\n"
     ]
    }
   ],
   "source": [
    "print(missing_keys_dict)"
   ]
  },
  {
   "cell_type": "markdown",
   "metadata": {},
   "source": [
    "**Produce an array of number of missing values for each column**"
   ]
  },
  {
   "cell_type": "code",
   "execution_count": 13,
   "metadata": {},
   "outputs": [],
   "source": [
    "def get_missing_by_column(df):\n",
    "    '''\n",
    "    Determine the number of NaN or missing values for each column and returns an array of this number\n",
    "    Input:\n",
    "        df (dataframe): The dataframe for which the evaluation will be made\n",
    "    Output:\n",
    "        col_missing_value (array): An array of values representing missing values for each column\n",
    "    '''\n",
    "    col_missing_value = []\n",
    "    for col in azdias.columns:\n",
    "        try:\n",
    "            col_missing_value.append(azdias[col].isnull().value_counts()[1])\n",
    "        except:\n",
    "            col_missing_value.append(0)\n",
    "    return col_missing_value"
   ]
  },
  {
   "cell_type": "code",
   "execution_count": 14,
   "metadata": {},
   "outputs": [],
   "source": [
    "initial_missing = get_missing_by_column(azdias)"
   ]
  },
  {
   "cell_type": "code",
   "execution_count": 15,
   "metadata": {},
   "outputs": [
    {
     "name": "stdout",
     "output_type": "stream",
     "text": [
      "[0, 0, 73499, 73499, 810163, 861722, 885051, 890016, 262947, 93148, 97008, 73499, 73499, 93148, 73499, 97216, 93740, 98979, 98979, 98979, 4854, 4854, 4854, 4854, 4854, 4854, 4854, 4854, 0, 0, 0, 0, 0, 0, 0, 0, 257113, 0, 0, 0, 0, 0, 0, 0, 0, 0, 0, 0, 0, 0, 0, 0, 0, 257113, 0, 0, 0, 257113, 0, 0, 0, 257113, 257113, 0, 0, 0, 0, 0, 0, 257113, 0, 0, 0, 0, 0, 0, 0, 257113, 0, 0, 0, 0, 0, 0, 0, 257113, 0, 0, 0, 0, 0, 0, 257113, 0, 0, 0, 93148, 93148, 73499, 93740, 654153, 0, 0, 0, 0, 0, 0, 0, 93155, 93148, 93155, 0, 97274, 4854, 0, 0, 107602, 18348, 93740, 133324, 133324, 133324, 133324, 133324, 133324, 133324, 133324, 133324, 133324, 133324, 133324, 133324, 133324, 133324, 133324, 133324, 133324, 133324, 133324, 133324, 133324, 133324, 93148, 133324, 133324, 133324, 133324, 133324, 133324, 133324, 133324, 133324, 133324, 133324, 133324, 133324, 133324, 133324, 133324, 133324, 133324, 133324, 133324, 133324, 93148, 133324, 133324, 133324, 133324, 133324, 133324, 133324, 133324, 133324, 133324, 133324, 133324, 133324, 133324, 133324, 133324, 133324, 133324, 133324, 105800, 105800, 105800, 105800, 105800, 105800, 105800, 105800, 105800, 105800, 105800, 105800, 105800, 105800, 105800, 105800, 105800, 105800, 105800, 105800, 105800, 105800, 105800, 105800, 105800, 105800, 105800, 105800, 105800, 105800, 105800, 105800, 105800, 105800, 105800, 105800, 105800, 105800, 105800, 105800, 105800, 105800, 105800, 105800, 105800, 105800, 105800, 105800, 105800, 105800, 105800, 105800, 105800, 105800, 105800, 105800, 105800, 105800, 105800, 105800, 105800, 105800, 105800, 105800, 105800, 105800, 105800, 105800, 105800, 105800, 105800, 105800, 105800, 105800, 105800, 105800, 105800, 105800, 105800, 105800, 105800, 105800, 105800, 105800, 105800, 105800, 105800, 105800, 105800, 105800, 105800, 105800, 105800, 105800, 105800, 105800, 105800, 105800, 105800, 105800, 105800, 105800, 105800, 105800, 105800, 105800, 105800, 105800, 105800, 105800, 105800, 105800, 105800, 105800, 105800, 105800, 584612, 121196, 0, 73969, 93155, 4854, 4854, 4854, 4854, 4854, 4854, 93148, 93148, 133324, 0, 4854, 97216, 93148, 116515, 116515, 116515, 116515, 116515, 116515, 116515, 0, 121196, 97216, 4854, 4854, 4854, 51226, 0, 0, 0, 0, 0, 0, 0, 0, 0, 0, 0, 0, 0, 0, 0, 73499, 97274, 73499, 97786, 97786, 73499, 97274, 0, 73499, 121196, 75917, 75917, 75917, 107602, 73499, 93148, 0, 0, 0]\n"
     ]
    }
   ],
   "source": [
    "print(initial_missing)"
   ]
  },
  {
   "cell_type": "markdown",
   "metadata": {},
   "source": [
    "**Convert missing value key to NaN**"
   ]
  },
  {
   "cell_type": "code",
   "execution_count": 16,
   "metadata": {},
   "outputs": [],
   "source": [
    "def convert_keys_to_nan(df, keys_dict):\n",
    "    '''\n",
    "    Replace missing value with np.NaN for missing value keys in the missing keys dictionary\n",
    "    Input:\n",
    "        df (dataframe):\n",
    "        keys_dict (dictionary): Dictionary of attributes as keys with missing value that needs to be converted to np.NaN\n",
    "    Output:\n",
    "        None\n",
    "    '''\n",
    "    for attribute in keys_dict:\n",
    "        if attribute in azdias.columns:\n",
    "            keys_values = keys_dict[attribute]\n",
    "            for key in keys_values:\n",
    "                if key == 'X' or key == 'XX':\n",
    "                    key = str(key)\n",
    "                else:\n",
    "                    key = int(key)\n",
    "                df[attribute].replace(key, np.NaN, inplace=True)"
   ]
  },
  {
   "cell_type": "code",
   "execution_count": 17,
   "metadata": {},
   "outputs": [],
   "source": [
    "convert_keys_to_nan(azdias, missing_keys_dict)"
   ]
  },
  {
   "cell_type": "markdown",
   "metadata": {},
   "source": [
    "**Check how much missing data there is in each column**"
   ]
  },
  {
   "cell_type": "code",
   "execution_count": 18,
   "metadata": {},
   "outputs": [],
   "source": [
    "def create_missing_info_df(df, initial_missing=None):\n",
    "    '''\n",
    "    Build a missing info dataframe where each row is an attribute and the columns will show \n",
    "    initial missing values (obtained from isnull() function), final missing values (obtained\n",
    "    from encoding to np.NaN) and percentage of missing values.\n",
    "    Input:\n",
    "        df (dataframe): dataframe from which missing info is created\n",
    "        initial_missing (array): An array of values representing missing values for each column\n",
    "    Output:\n",
    "        sorted_missing_info (dataframe): Dataframe showing attributes in each row with its\n",
    "        corresponding initial missing, final missing and percentage missing values; sorted in \n",
    "        descending order.\n",
    "    '''\n",
    "    missing_info = pd.DataFrame(data=azdias.columns, columns=[\"Attribute\"])\n",
    "    \n",
    "    if initial_missing != None:\n",
    "        missing_info[\"initial_missing\"] = initial_missing\n",
    "        \n",
    "    missing_info[\"final_missing\"] = get_missing_by_column(df)\n",
    "    total = df.shape[0]\n",
    "    \n",
    "    # calculate percent of total missing value by attribute \n",
    "    missing_info[\"%_missing\"] = missing_info[\"final_missing\"] / total * 100\n",
    "    \n",
    "    # dataframe of missing attributes sorted from lowest to highest\n",
    "    sorted_missing_info = missing_info.sort_values(by=\"final_missing\", ascending=False)\n",
    "    \n",
    "    return sorted_missing_info"
   ]
  },
  {
   "cell_type": "code",
   "execution_count": 19,
   "metadata": {},
   "outputs": [
    {
     "name": "stdout",
     "output_type": "stream",
     "text": [
      "                  Attribute  initial_missing  final_missing  %_missing\n",
      "7               ALTER_KIND4           890016         890016       99.9\n",
      "349                TITEL_KZ            73499         889061       99.8\n",
      "6               ALTER_KIND3           885051         885051       99.3\n",
      "33         D19_BANKEN_LOKAL                0         874745       98.2\n",
      "5               ALTER_KIND2           861722         861722       96.7\n",
      "71         D19_TELKO_ANZ_12                0         857990       96.3\n",
      "43           D19_DIGIT_SERV                0         857661       96.2\n",
      "41             D19_BIO_OEKO                0         854074       95.8\n",
      "79          D19_TIERARTIKEL                0         852220       95.6\n",
      "63   D19_NAHRUNGSERGAENZUNG                0         852176       95.6\n",
      "47               D19_GARTEN                0         851626       95.6\n",
      "60         D19_LEBENSMITTEL                0         837914       94.0\n",
      "95        D19_WEIN_FEINKOST                0         836142       93.8\n",
      "28        D19_BANKEN_ANZ_12                0         831734       93.3\n",
      "45              D19_ENERGIE                0         829857       93.1\n",
      "72         D19_TELKO_ANZ_24                0         826208       92.7\n",
      "37          D19_BANKEN_REST                0         821760       92.2\n",
      "87         D19_VERSI_ANZ_12                0         821289       92.2\n",
      "40              D19_BILDUNG                0         813156       91.2\n",
      "4               ALTER_KIND1           810163         810163       90.9\n",
      "38       D19_BEKLEIDUNG_GEH                0         809304       90.8\n",
      "64             D19_RATGEBER                0         805071       90.3\n",
      "66        D19_SAMMELARTIKEL                0         802085       90.0\n",
      "29        D19_BANKEN_ANZ_24                0         794100       89.1\n",
      "46             D19_FREIZEIT                0         790748       88.7\n",
      "32         D19_BANKEN_GROSS                0         785351       88.1\n",
      "88         D19_VERSI_ANZ_24                0         777037       87.2\n",
      "67               D19_SCHUHE                0         773024       86.7\n",
      "54             D19_HANDWERK                0         768381       86.2\n",
      "78           D19_TELKO_REST                0         765973       85.9\n"
     ]
    }
   ],
   "source": [
    "sorted_missing_info = create_missing_info_df(azdias, initial_missing)\n",
    "print(sorted_missing_info.round(decimals=1)[:30])"
   ]
  },
  {
   "cell_type": "code",
   "execution_count": 20,
   "metadata": {},
   "outputs": [
    {
     "data": {
      "image/png": "[encoded data removed]",
      "text/plain": [
       "<Figure size 1152x576 with 1 Axes>"
      ]
     },
     "metadata": {
      "needs_background": "light"
     },
     "output_type": "display_data"
    }
   ],
   "source": [
    "ax = sorted_missing_info[:80].plot(\"Attribute\", \"%_missing\", kind=\"bar\", figsize=(16, 8), \n",
    "                                   title=\"Top 80 Columns with highest missing values\")\n",
    "ax.set_xlabel(\"Column name\")\n",
    "ax.set_ylabel(\"Percentage missing values\")\n",
    "ax.figure.savefig('top_missing.png', dpi=500);"
   ]
  },
  {
   "cell_type": "markdown",
   "metadata": {},
   "source": [
    "**Drop columns with more than 30% missing data**"
   ]
  },
  {
   "cell_type": "code",
   "execution_count": 21,
   "metadata": {},
   "outputs": [
    {
     "name": "stdout",
     "output_type": "stream",
     "text": [
      "54\n",
      "['ALTER_KIND4', 'TITEL_KZ', 'ALTER_KIND3', 'D19_BANKEN_LOKAL', 'ALTER_KIND2', 'D19_TELKO_ANZ_12', 'D19_DIGIT_SERV', 'D19_BIO_OEKO', 'D19_TIERARTIKEL', 'D19_NAHRUNGSERGAENZUNG', 'D19_GARTEN', 'D19_LEBENSMITTEL', 'D19_WEIN_FEINKOST', 'D19_BANKEN_ANZ_12', 'D19_ENERGIE', 'D19_TELKO_ANZ_24', 'D19_BANKEN_REST', 'D19_VERSI_ANZ_12', 'D19_BILDUNG', 'ALTER_KIND1', 'D19_BEKLEIDUNG_GEH', 'D19_RATGEBER', 'D19_SAMMELARTIKEL', 'D19_BANKEN_ANZ_24', 'D19_FREIZEIT', 'D19_BANKEN_GROSS', 'D19_VERSI_ANZ_24', 'D19_SCHUHE', 'D19_HANDWERK', 'D19_TELKO_REST', 'D19_DROGERIEARTIKEL', 'D19_KINDERARTIKEL', 'D19_LOTTO', 'D19_KOSMETIK', 'D19_REISEN', 'D19_VERSAND_REST', 'D19_BANKEN_DIREKT', 'D19_TELKO_MOBILE', 'D19_HAUS_DEKO', 'D19_BEKLEIDUNG_REST', 'AGER_TYP', 'D19_VERSICHERUNGEN', 'EXTSEL992', 'D19_VERSAND_ANZ_12', 'D19_TECHNIK', 'D19_VOLLSORTIMENT', 'D19_GESAMT_ANZ_12', 'KK_KUNDENTYP', 'D19_VERSAND_ANZ_24', 'D19_SONSTIGE', 'D19_GESAMT_ANZ_24', 'KBA05_BAUMAX', 'GEBURTSJAHR', 'ALTER_HH']\n",
      "[99.86 99.76 99.31 98.15 96.69 96.27 96.23 95.83 95.62 95.62 95.56 94.02\n",
      " 93.82 93.33 93.11 92.71 92.21 92.15 91.24 90.9  90.81 90.33 90.   89.1\n",
      " 88.73 88.12 87.19 86.74 86.22 85.95 85.39 84.08 83.92 83.69 82.69 82.41\n",
      " 81.78 81.55 80.01 77.7  76.02 73.46 73.4  71.58 70.7  67.32 65.62 65.6\n",
      " 63.26 56.77 56.7  53.47 44.02 34.81]\n"
     ]
    }
   ],
   "source": [
    "deleted_columns_one = sorted_missing_info[sorted_missing_info[\"%_missing\"]>30][\"Attribute\"].values\n",
    "print(len(deleted_columns_one))\n",
    "print(list(deleted_columns_one))\n",
    "print(sorted_missing_info[sorted_missing_info[\"%_missing\"]>30][\"%_missing\"].values.round(2))"
   ]
  },
  {
   "cell_type": "markdown",
   "metadata": {},
   "source": [
    "Total columns with more than 30% missing data is 54 columns. These 54 attributes will be dropped from the dataframe."
   ]
  },
  {
   "cell_type": "markdown",
   "metadata": {},
   "source": [
    "**Additional columns to drop**"
   ]
  },
  {
   "cell_type": "markdown",
   "metadata": {},
   "source": [
    "By going through the AZDIAS columns and comparing them to the DIAS_Attribute_Values file, we ensure that columns in the AZDIAS data are found in the DIAS_Attribute_Values file. We also check for columns that are a repeat or similar to other columns, has many zero values and too many categories. <br>\n",
    "\n",
    "Additional attributes that needs to be dropped: <br>\n",
    "\n",
    "ALTERSKATEGORIE_FEIN : Attribute is unknown. <br>\n",
    "ANZ_HH_TITEL : Too many zero values. <br>\n",
    "ANZ_KINDER : Too many categories. 11 categories. <br>\n",
    "ANZ_TITEL : Too many zero values. <br>\n",
    "CAMEO_DEU_2015 : Too many categories. 44 categories. <br>\n",
    "D19_LETZTER_KAUF_BRANCHE : Attribute is unknown & repeat of other D19. <br>\n",
    "D19_TELKO_ONLINE_QUOTE_12 : Attribute is unknown. Too many zero values. <br>\n",
    "D19_VERSI_ONLINE_QUOTE_12 : Attribute is unknown. Too many zero values. <br>\n",
    "GEBAEUDETYP : Repeat of GEBAEUDETYP_RASTER. <br>\n",
    "KBA05_MODTEMP : Repeat of KBA05_HERSTTEMP. <br>\n",
    "LNR : Identifier that does not contribute to analysis. <br>\n",
    "LP_FAMILIE_FEIN : Repeat of LP_FAMILY_GROB. <br>\n",
    "LP_LEBENSPHASE_FEIN : Too many categories and repeat of other columns. 40 categories. <br>\n",
    "LP_LEBENSPHASE_GROB : Too many categories and repeat of other columns. 12 categories. <br>\n",
    "LP_STATUS_FEIN : Almost similar to LP_STATUS_GROB. <br>\n",
    "PLZ8_ANTG1 : Almost similar to PLZ8_BAUMAX. <br>\n",
    "PLZ8_ANTG2 : Almost similar to PLZ8_BAUMAX. <br>\n",
    "PLZ8_ANTG3 : Almost similar to PLZ8_BAUMAX. <br>\n",
    "PLZ8_ANTG4 : Almost similar to PLZ8_BAUMAX. <br>\n",
    "VERDICHTUNGSRAUM : Too many categories. 45 categories. <br>\n",
    "VK_DHT4A : Too many categories. 11 categories. <br>\n",
    "VK_DISTANZ : Too many categories. 11 categories. <br>\n",
    "VK_ZG11 : Too many categories. 11 categories. <br>"
   ]
  },
  {
   "cell_type": "code",
   "execution_count": 22,
   "metadata": {},
   "outputs": [],
   "source": [
    "attribute_values = pd.read_csv(\"./Analysis/decision.csv\", sep=',')"
   ]
  },
  {
   "cell_type": "code",
   "execution_count": 23,
   "metadata": {},
   "outputs": [],
   "source": [
    "deleted_columns_two = attribute_values[attribute_values[\"Action\"].isin(['drop'])]['Columns'].values"
   ]
  },
  {
   "cell_type": "code",
   "execution_count": 24,
   "metadata": {},
   "outputs": [
    {
     "name": "stdout",
     "output_type": "stream",
     "text": [
      "['ALTERSKATEGORIE_FEIN' 'ANZ_HH_TITEL' 'ANZ_KINDER' 'ANZ_TITEL'\n",
      " 'CAMEO_DEU_2015' 'D19_LETZTER_KAUF_BRANCHE' 'D19_TELKO_ONLINE_QUOTE_12'\n",
      " 'D19_VERSI_ONLINE_QUOTE_12' 'GEBAEUDETYP' 'KBA05_MODTEMP' 'LNR'\n",
      " 'LP_FAMILIE_FEIN' 'LP_LEBENSPHASE_FEIN' 'LP_LEBENSPHASE_GROB'\n",
      " 'LP_STATUS_FEIN' 'PLZ8_ANTG1' 'PLZ8_ANTG2' 'PLZ8_ANTG3' 'PLZ8_ANTG4'\n",
      " 'VERDICHTUNGSRAUM' 'VK_DHT4A' 'VK_DISTANZ' 'VK_ZG11']\n",
      "23\n"
     ]
    }
   ],
   "source": [
    "print(deleted_columns_two)\n",
    "print(len(deleted_columns_two))"
   ]
  },
  {
   "cell_type": "markdown",
   "metadata": {},
   "source": [
    "**List all columns to be dropped**"
   ]
  },
  {
   "cell_type": "code",
   "execution_count": 25,
   "metadata": {},
   "outputs": [
    {
     "name": "stdout",
     "output_type": "stream",
     "text": [
      "77\n",
      "['ALTER_KIND4', 'TITEL_KZ', 'ALTER_KIND3', 'D19_BANKEN_LOKAL', 'ALTER_KIND2', 'D19_TELKO_ANZ_12', 'D19_DIGIT_SERV', 'D19_BIO_OEKO', 'D19_TIERARTIKEL', 'D19_NAHRUNGSERGAENZUNG', 'D19_GARTEN', 'D19_LEBENSMITTEL', 'D19_WEIN_FEINKOST', 'D19_BANKEN_ANZ_12', 'D19_ENERGIE', 'D19_TELKO_ANZ_24', 'D19_BANKEN_REST', 'D19_VERSI_ANZ_12', 'D19_BILDUNG', 'ALTER_KIND1', 'D19_BEKLEIDUNG_GEH', 'D19_RATGEBER', 'D19_SAMMELARTIKEL', 'D19_BANKEN_ANZ_24', 'D19_FREIZEIT', 'D19_BANKEN_GROSS', 'D19_VERSI_ANZ_24', 'D19_SCHUHE', 'D19_HANDWERK', 'D19_TELKO_REST', 'D19_DROGERIEARTIKEL', 'D19_KINDERARTIKEL', 'D19_LOTTO', 'D19_KOSMETIK', 'D19_REISEN', 'D19_VERSAND_REST', 'D19_BANKEN_DIREKT', 'D19_TELKO_MOBILE', 'D19_HAUS_DEKO', 'D19_BEKLEIDUNG_REST', 'AGER_TYP', 'D19_VERSICHERUNGEN', 'EXTSEL992', 'D19_VERSAND_ANZ_12', 'D19_TECHNIK', 'D19_VOLLSORTIMENT', 'D19_GESAMT_ANZ_12', 'KK_KUNDENTYP', 'D19_VERSAND_ANZ_24', 'D19_SONSTIGE', 'D19_GESAMT_ANZ_24', 'KBA05_BAUMAX', 'GEBURTSJAHR', 'ALTER_HH', 'ALTERSKATEGORIE_FEIN', 'ANZ_HH_TITEL', 'ANZ_KINDER', 'ANZ_TITEL', 'CAMEO_DEU_2015', 'D19_LETZTER_KAUF_BRANCHE', 'D19_TELKO_ONLINE_QUOTE_12', 'D19_VERSI_ONLINE_QUOTE_12', 'GEBAEUDETYP', 'KBA05_MODTEMP', 'LNR', 'LP_FAMILIE_FEIN', 'LP_LEBENSPHASE_FEIN', 'LP_LEBENSPHASE_GROB', 'LP_STATUS_FEIN', 'PLZ8_ANTG1', 'PLZ8_ANTG2', 'PLZ8_ANTG3', 'PLZ8_ANTG4', 'VERDICHTUNGSRAUM', 'VK_DHT4A', 'VK_DISTANZ', 'VK_ZG11']\n"
     ]
    }
   ],
   "source": [
    "deleted_columns = list(deleted_columns_one) + list(deleted_columns_two)\n",
    "print(len(deleted_columns))\n",
    "print(deleted_columns)"
   ]
  },
  {
   "cell_type": "code",
   "execution_count": 26,
   "metadata": {},
   "outputs": [
    {
     "name": "stdout",
     "output_type": "stream",
     "text": [
      "AZDIAS shape in original dataframe: (891221, 366)\n",
      "AZDIAS shape with columns dropped: (891221, 289)\n"
     ]
    }
   ],
   "source": [
    "print(\"AZDIAS shape in original dataframe: {}\".format(azdias.shape))\n",
    "azdias_reduced = azdias.drop(deleted_columns, axis=1)\n",
    "print(\"AZDIAS shape with columns dropped: {}\".format(azdias_reduced.shape))"
   ]
  },
  {
   "cell_type": "markdown",
   "metadata": {},
   "source": [
    "#### 2.) Assess missing data in rows"
   ]
  },
  {
   "cell_type": "code",
   "execution_count": 27,
   "metadata": {},
   "outputs": [],
   "source": [
    "# Calculate the number of missing value for each row\n",
    "azdias_reduced[\"n_missing\"] = azdias_reduced.isnull().sum(axis=1)"
   ]
  },
  {
   "cell_type": "code",
   "execution_count": 28,
   "metadata": {},
   "outputs": [
    {
     "data": {
      "image/png": "[encoded data removed]",
      "text/plain": [
       "<Figure size 1152x576 with 1 Axes>"
      ]
     },
     "metadata": {
      "needs_background": "light"
     },
     "output_type": "display_data"
    }
   ],
   "source": [
    "plt.figure(figsize=(16, 8))\n",
    "plt.hist(azdias_reduced[\"n_missing\"], bins=np.linspace(min(azdias_reduced[\"n_missing\"]), max(azdias_reduced[\"n_missing\"])+1))\n",
    "plt.xticks(np.arange(min(azdias_reduced[\"n_missing\"]), max(azdias_reduced[\"n_missing\"])+1, 10))\n",
    "plt.ylabel(\"Number of rows\")\n",
    "plt.xlabel(\"Amount of missing data out of {} attributes\".format(azdias_reduced.shape[1]))\n",
    "plt.title(\"Distribution of missing values by row\")\n",
    "plt.savefig('row_missing.png', dpi=500);"
   ]
  },
  {
   "cell_type": "code",
   "execution_count": 29,
   "metadata": {},
   "outputs": [
    {
     "data": {
      "image/png": "[encoded data removed]",
      "text/plain": [
       "<Figure size 1152x576 with 1 Axes>"
      ]
     },
     "metadata": {
      "needs_background": "light"
     },
     "output_type": "display_data"
    }
   ],
   "source": [
    "x = (azdias_reduced[\"n_missing\"].value_counts().sort_index().cumsum()/len(azdias)) * 100\n",
    "\n",
    "plt.figure(figsize=(16, 8))\n",
    "plt.plot(x)\n",
    "\n",
    "plt.yticks(np.arange(0, 100+5, 5))\n",
    "plt.xticks(np.arange(min(x.index), max(x.index)+1, 10))\n",
    "\n",
    "plt.ylabel(\"Percentage share of rows\")\n",
    "plt.xlabel(\"No. of missing values\")\n",
    "plt.title(\"Cumulative distribution of missing row values\")\n",
    "plt.savefig(\"cum_dist_missing_rows.png\", dpi=500);"
   ]
  },
  {
   "cell_type": "code",
   "execution_count": 30,
   "metadata": {},
   "outputs": [
    {
     "name": "stdout",
     "output_type": "stream",
     "text": [
      "Percentage of data kept: \n",
      " 0     54.673869\n",
      "1     55.268446\n",
      "2     59.520478\n",
      "3     61.413836\n",
      "4     62.604337\n",
      "5     77.622722\n",
      "6     78.302576\n",
      "7     79.619197\n",
      "8     80.206144\n",
      "9     80.653059\n",
      "10    81.269741\n",
      "11    82.056639\n",
      "12    82.139447\n",
      "13    82.203067\n",
      "14    82.220684\n",
      "15    82.227753\n",
      "16    82.594665\n",
      "17    82.599378\n",
      "18    82.617218\n",
      "19    82.629561\n",
      "20    82.640782\n",
      "21    82.709564\n",
      "22    82.713491\n",
      "23    82.715286\n",
      "24    82.718652\n",
      "25    82.722131\n",
      "26    82.724711\n",
      "27    82.727741\n",
      "28    82.727853\n",
      "55    82.731668\n",
      "Name: n_missing, dtype: float64\n"
     ]
    }
   ],
   "source": [
    "print(\"Percentage of data kept: \\n\", x[0:30])"
   ]
  },
  {
   "cell_type": "markdown",
   "metadata": {},
   "source": [
    "The figure above shows us the percentage share of rows with X no. of missing values. \n",
    "\n",
    "We shall keep rows with less than 26 missing values. This means 82% share of rows data will be retained. This is where the percentage of rows/data kept plateaus. We shall use this threshold to drop the rows with missing values."
   ]
  },
  {
   "cell_type": "code",
   "execution_count": 31,
   "metadata": {},
   "outputs": [
    {
     "name": "stdout",
     "output_type": "stream",
     "text": [
      "(737237, 289)\n"
     ]
    }
   ],
   "source": [
    "# Keep rows with missing rows that is less than 26 missing attributes\n",
    "azdias_row_reduced = azdias_reduced[azdias_reduced[\"n_missing\"] < 26].drop(\"n_missing\", axis=1)\n",
    "print(azdias_row_reduced.shape)"
   ]
  },
  {
   "cell_type": "markdown",
   "metadata": {},
   "source": [
    "#### 3.) Clean and perform feature engineering"
   ]
  },
  {
   "cell_type": "markdown",
   "metadata": {},
   "source": [
    "Summarizing from above, the steps performed to clean data are condensed into a clean_data helper function.\n",
    "\n",
    "Further, the following attributes require feature engineering before the dataframe can be used for analysis.\n",
    "\n",
    "Attributes that need feature engineering:<br>\n",
    "- CAMEO_INTL_2015\n",
    "- EINGEFUEGT_AM\n",
    "- OST_WEST_KZ\n",
    "- PLZ8_BAUMAX\n",
    "- PRAEGENDE_JUGENDJAHRE\n",
    "- WOHNLAGE"
   ]
  },
  {
   "cell_type": "code",
   "execution_count": 32,
   "metadata": {},
   "outputs": [],
   "source": [
    "'''\n",
    "Original Column Attribute \n",
    "CAMEO_INTL_2015 - CAMEO classification 2015 - international typology\n",
    "                  (each German CAMEO code belongs to one international code)\n",
    "-1 - unknown\n",
    "11 - Wealthy Households-Pre-Family Couples & Singles\n",
    "12 - Wealthy Households-Young Couples With Children\n",
    "13 - Wealthy Households-Families With School Age Children\n",
    "14 - Wealthy Households-Older Families &  Mature Couples\n",
    "15 - Wealthy Households-Elders In Retirement\n",
    "21 - Prosperous Households-Pre-Family Couples & Singles\n",
    "22 - Prosperous Households-Young Couples With Children\n",
    "23 - Prosperous Households-Families With School Age Children\n",
    "24 - Prosperous Households-Older Families & Mature Couples\n",
    "25 - Prosperous Households-Elders In Retirement\n",
    "31 - Comfortable Households-Pre-Family Couples & Singles\n",
    "32 - Comfortable Households-Young Couples With Children\n",
    "33 - Comfortable Households-Families With School Age Children\n",
    "34 - Comfortable Households-Older Families & Mature Couples\n",
    "35 - Comfortable Households-Elders In Retirement\n",
    "41 - Less Affluent Households-Pre-Family Couples & Singles\n",
    "42 - Less Affluent Households-Young Couples With Children\n",
    "43 - Less Affluent Households-Families With School Age Children\n",
    "44 - Less Affluent Households-Older Families & Mature Couples\n",
    "45 - Less Affluent Households-Elders In Retirement\n",
    "51 - Poorer Households-Pre-Family Couples & Singles\n",
    "52 - Poorer Households-Young Couples With Children\n",
    "53 - Poorer Households-Families With School Age Children\n",
    "54 - Poorer Households-Older Families & Mature Couples\n",
    "55 - Poorer Households-Elders In Retirement\n",
    "XX - unknown\n",
    "\n",
    "New Column Attribute\n",
    "WEALTH - wealth of households\n",
    "1 - Wealthy Households\n",
    "2 - Prosperous Households\n",
    "3 - Comfortable Households\n",
    "4 - Less Affluent Households\n",
    "5 - Poorer Households\n",
    "\n",
    "FAMILY_TYPE - type of family/household\n",
    "1 - Pre-Family Couples & Singles\n",
    "2 - Young Couples With Children\n",
    "3 - Families With School Age Children\n",
    "4 - Older Families &  Mature Couples\n",
    "5 - Elders In Retirement\n",
    "\n",
    "'''\n",
    "def engineer_CAMEO_INTL_2015(df):\n",
    "    df['WEALTH'] = df['CAMEO_INTL_2015'].str[:1].astype(float)\n",
    "    df['FAMILY_TYPE'] = df['CAMEO_INTL_2015'].str[1:2].astype(float)\n",
    "    \n",
    "    df_new = df.drop(['CAMEO_INTL_2015'], axis=1)\n",
    "    \n",
    "    return df_new"
   ]
  },
  {
   "cell_type": "code",
   "execution_count": 33,
   "metadata": {},
   "outputs": [],
   "source": [
    "'''\n",
    "Original Column Attribute \n",
    "PLZ8_BAUMAX - most common building-type within the PLZ8\n",
    "-1 - unknown\n",
    " 0 - unknown\n",
    " 1 - mainly 1-2 family homes\n",
    " 2 - mainly 3-5 family homes\n",
    " 3 - mainly 6-10 family homes\n",
    " 4 - mainly >10 family homes\n",
    " 5 - mainly business building\n",
    "\n",
    "New Column Attribute\n",
    "PLZ8_BAUMAX_FAMILY - most common family-homes type within the PLZ8\n",
    " 0 - 0 family homes\n",
    " 1 - mainly 1-2 family homes\n",
    " 2 - mainly 3-5 family homes\n",
    " 3 - mainly 6-10 family homes\n",
    " 4 - mainly >10 family homes\n",
    "\n",
    "PLZ8_BAUMAX_BUSINESS - business/non-business within the PLZ8\n",
    " 0 - not business\n",
    " 1 - business\n",
    "'''\n",
    "\n",
    "def engineer_PLZ8_BAUMAX(df):\n",
    "    df['PLZ8_BAUMAX_FAMILY'] = df['PLZ8_BAUMAX']\n",
    "    df['PLZ8_BAUMAX_FAMILY'].replace([5], [0], inplace=True)\n",
    "    \n",
    "    df['PLZ8_BAUMAX_BUSINESS'] = df['PLZ8_BAUMAX']\n",
    "    df['PLZ8_BAUMAX_BUSINESS'].replace([1, 2, 3, 4, 5], [0, 0, 0, 0, 1], inplace=True)\n",
    "\n",
    "    df_new = df.drop(['PLZ8_BAUMAX'], axis=1)\n",
    "    \n",
    "    return df_new"
   ]
  },
  {
   "cell_type": "code",
   "execution_count": 34,
   "metadata": {},
   "outputs": [],
   "source": [
    "'''\n",
    "Original Column Attribute \n",
    "PRAEGENDE_JUGENDJAHRE - dominating movement in the person's youth (avantgarde or mainstream)\n",
    "-1  - unknown\n",
    " 0  - unknown\n",
    " 1  - 40ies - war years (Mainstream, O+W)\n",
    " 2  - 40ies - reconstruction years (Avantgarde, O+W)\n",
    " 3  - 50ies - economic miracle (Mainstream, O+W)\n",
    " 4  - 50ies - milk bar / Individualisation (Avantgarde, O+W)\n",
    " 5  - 60ies - economic miracle (Mainstream, O+W)\n",
    " 6  - 60ies - generation 68 / student protestors (Avantgarde, W)\n",
    " 7  - 60ies - opponents to the building of the Wall (Avantgarde, O)\n",
    " 8  - 70ies - family orientation (Mainstream, O+W)\n",
    " 9  - 70ies - peace movement (Avantgarde, O+W)\n",
    " 10 - 80ies - Generation Golf (Mainstream, W)\n",
    " 11 - 80ies - ecological awareness (Avantgarde, W)\n",
    " 12 - 80ies - FDJ / communist party youth organisation (Mainstream, O)\n",
    " 13 - 80ies - Swords into ploughshares (Avantgarde, O)\n",
    " 14 - 90ies - digital media kids (Mainstream, O+W)\n",
    " 15 - 90ies - ecological awareness (Avantgarde, O+W)\n",
    " \n",
    "New Column Attribute\n",
    "MOVEMENT - avantgarde or mainstream\n",
    "1 - mainstream\n",
    "2 - avantgarde\n",
    "\n",
    "GENERATION - decade generation 40s, 50s, 60s, 70s, 80s and 90s\n",
    "4 - 40s generation (a youth in the 1940s)\n",
    "5 - 50s generation (a youth in the 1950s)\n",
    "6 - 60s generation (a youth in the 1960s)\n",
    "7 - 70s generation (a youth in the 1970s)\n",
    "8 - 80s generation (a youth in the 1980s)\n",
    "9 - 90s generation (a youth in the 1990s)\n",
    "'''\n",
    "\n",
    "def engineer_PRAEGENDE_JUGENDJAHRE(df):\n",
    "    df['MOVEMENT'] = df['PRAEGENDE_JUGENDJAHRE']\n",
    "    df['MOVEMENT'].replace([-1, 0, 1, 2, 3, 4, 5, 6, 7, 8, 9, 10, 11, 12, 13, 14, 15],\n",
    "                           [np.nan, np.nan, 1, 2, 1, 2, 1, 2, 2, 1, 2, 1, 2, 1, 2, 1, 2], inplace=True)\n",
    "    \n",
    "    df['GENERATION'] = df['PRAEGENDE_JUGENDJAHRE']\n",
    "    df['GENERATION'].replace([-1, 0, 1, 2, 3, 4, 5, 6, 7, 8, 9, 10, 11, 12, 13, 14, 15],\n",
    "                             [np.nan, np.nan, 4, 4, 5, 5, 6, 6, 6, 7, 7, 8, 8, 8, 8, 9, 9], inplace=True)\n",
    "    \n",
    "    df_new = df.drop(['PRAEGENDE_JUGENDJAHRE'], axis=1)\n",
    "    \n",
    "    return df_new"
   ]
  },
  {
   "cell_type": "code",
   "execution_count": 35,
   "metadata": {},
   "outputs": [],
   "source": [
    "'''\n",
    "Original Column Attribute \n",
    "WOHNLAGE - residential-area\n",
    "-1 - unknown\n",
    " 0 - no score calculated\n",
    " 1 - very good neighbourhood\n",
    " 2 - good neighbourhood\n",
    " 3 - average neighbourhood\n",
    " 4 - poor neighbourhood\n",
    " 5 - very poor neighbourhood\n",
    " 7 - rural neighbourhood\n",
    " 8 - new building in rural neighbourhood\n",
    "\n",
    "New Column Attribute\n",
    "RURAL_NEIGHBOURHOOD - rural/non-rural\n",
    " 0 - not rural\n",
    " 1 - rural\n",
    "'''\n",
    "\n",
    "def engineer_WOHNLAGE(df):\n",
    "    df['RURAL_NEIGHBOURHOOD'] = df['WOHNLAGE']\n",
    "    df['RURAL_NEIGHBOURHOOD'].replace([-1, 0, 1, 2, 3, 4, 5, 7, 8], \n",
    "                                      [np.nan, np.nan, 0, 0, 0, 0, 0, 1, 1], inplace=True)\n",
    "    \n",
    "    df_new = df.drop(['WOHNLAGE'], axis=1)\n",
    "    \n",
    "    return df_new"
   ]
  },
  {
   "cell_type": "code",
   "execution_count": 36,
   "metadata": {},
   "outputs": [],
   "source": [
    "def clean_data(df, test_data=False):\n",
    "    '''\n",
    "    Clean the dataframe by performing column, row drops and feature engineering.\n",
    "    Input:\n",
    "        df (dataframe): original dataframe to be cleaned\n",
    "        missing_keys_dict (dictionary): dictionary of attributes and its missing keys\n",
    "        test_data (boolean): test data, if dataframe is not a test data then default is False\n",
    "    Output:\n",
    "        df_cleaned (dataframe): dataframe that has been cleaned\n",
    "    \n",
    "    '''\n",
    "    missing_keys_dict = create_missing_key_dict('./DIAS_Attributes_Values_2017.csv')\n",
    "    # COLUMN DROP\n",
    "    # convert missing value codes into NaNs\n",
    "    convert_keys_to_nan(df, missing_keys_dict)\n",
    "    # Drop columns with more than 30% of missing values\n",
    "    deleted_columns_1 = ['ALTER_KIND4', 'TITEL_KZ', 'ALTER_KIND3', 'D19_BANKEN_LOKAL', 'ALTER_KIND2', \n",
    "                         'D19_TELKO_ANZ_12', 'D19_DIGIT_SERV', 'D19_BIO_OEKO', 'D19_TIERARTIKEL', \n",
    "                         'D19_NAHRUNGSERGAENZUNG', 'D19_GARTEN', 'D19_LEBENSMITTEL', 'D19_WEIN_FEINKOST', \n",
    "                         'D19_BANKEN_ANZ_12', 'D19_ENERGIE', 'D19_TELKO_ANZ_24', 'D19_BANKEN_REST', \n",
    "                         'D19_VERSI_ANZ_12', 'D19_BILDUNG', 'ALTER_KIND1', 'D19_BEKLEIDUNG_GEH', \n",
    "                         'D19_RATGEBER', 'D19_SAMMELARTIKEL', 'D19_BANKEN_ANZ_24', 'D19_FREIZEIT', \n",
    "                         'D19_BANKEN_GROSS', 'D19_VERSI_ANZ_24', 'D19_SCHUHE', 'D19_HANDWERK', \n",
    "                         'D19_TELKO_REST', 'D19_DROGERIEARTIKEL', 'D19_KINDERARTIKEL', 'D19_LOTTO', \n",
    "                         'D19_KOSMETIK', 'D19_REISEN', 'D19_VERSAND_REST', 'D19_BANKEN_DIREKT', \n",
    "                         'D19_TELKO_MOBILE', 'D19_HAUS_DEKO', 'D19_BEKLEIDUNG_REST', 'AGER_TYP', \n",
    "                         'D19_VERSICHERUNGEN', 'EXTSEL992', 'D19_VERSAND_ANZ_12', 'D19_TECHNIK', \n",
    "                         'D19_VOLLSORTIMENT', 'D19_GESAMT_ANZ_12', 'KK_KUNDENTYP', 'D19_VERSAND_ANZ_24', \n",
    "                         'D19_SONSTIGE', 'D19_GESAMT_ANZ_24', 'KBA05_BAUMAX', 'GEBURTSJAHR', 'ALTER_HH']  \n",
    "    # Drop more columns with unknown / repeated / attributes or has many zero values\n",
    "    deleted_columns_2 = ['ALTERSKATEGORIE_FEIN', 'ANZ_HH_TITEL', 'ANZ_KINDER', 'ANZ_TITEL', 'CAMEO_DEU_2015', \n",
    "                         'D19_LETZTER_KAUF_BRANCHE', 'D19_TELKO_ONLINE_QUOTE_12', 'D19_VERSI_ONLINE_QUOTE_12', \n",
    "                         'GEBAEUDETYP', 'KBA05_MODTEMP', 'LNR', 'LP_FAMILIE_FEIN', 'LP_LEBENSPHASE_FEIN', \n",
    "                         'LP_LEBENSPHASE_GROB', 'LP_STATUS_FEIN', 'PLZ8_ANTG1', 'PLZ8_ANTG2', 'PLZ8_ANTG3', \n",
    "                         'PLZ8_ANTG4', 'VERDICHTUNGSRAUM', 'VK_DHT4A', 'VK_DISTANZ', 'VK_ZG11']\n",
    "\n",
    "    # Perform column drop\n",
    "\n",
    "    deleted_columns = list(deleted_columns_1) + list(deleted_columns_2)\n",
    "    df_cleaned = df.drop(deleted_columns,axis=1)\n",
    "    \n",
    "    \n",
    "    # ROW DROP\n",
    "    # Drop rows with more than 26 missing attributes if it is not a testing data, skip this step if it is a test data\n",
    "    df_cleaned['n_missing'] = df_cleaned.isnull().sum(axis=1)\n",
    "    \n",
    "    try:\n",
    "        df_cleaned = df_cleaned.drop(['PRODUCT_GROUP','CUSTOMER_GROUP','ONLINE_PURCHASE'], axis=1)\n",
    "    except:\n",
    "        pass\n",
    "    \n",
    "    if not test_data:\n",
    "        # Remove rows with more than 26 missing attributes\n",
    "        df_cleaned = df_cleaned[df_cleaned[\"n_missing\"] < 26].drop(\"n_missing\", axis=1)\n",
    "    else:\n",
    "        df_cleaned = df_cleaned.drop(\"n_missing\", axis=1)\n",
    "    \n",
    "    \n",
    "    # FEATURE ENGINEERING OF ATTRIBUTES\n",
    "\n",
    "    # CAMEO_INTL_2015 -> engineer attributes\n",
    "    df_cleaned = engineer_CAMEO_INTL_2015(df_cleaned)\n",
    "\n",
    "    # EINGEFUEGT_AM -> Change to year format\n",
    "    # print(\"Change EINGEFUEGT_AM to year\")\n",
    "    df_cleaned[\"EINGEFUEGT_AM\"] = pd.to_datetime(df_cleaned[\"EINGEFUEGT_AM\"], format='%Y/%m/%d %H:%M')\n",
    "    df_cleaned[\"EINGEFUEGT_AM\"] = df_cleaned[\"EINGEFUEGT_AM\"].dt.year\n",
    "    \n",
    "    # OST_WEST_KZ -> Change attribute values O -> 0, W -> 1\n",
    "    # print(\"Reencode OST_WEST_KZ attribute\")\n",
    "    df_cleaned['OST_WEST_KZ'].replace(['O','W'], [0, 1], inplace=True)\n",
    "    \n",
    "    # PLZ8_BAUMAX -> engineer attributes\n",
    "    df_cleaned = engineer_PLZ8_BAUMAX(df_cleaned)\n",
    "    \n",
    "    # PRAEGENDE_JUGENDJAHRE -> engineer attributes\n",
    "    df_cleaned = engineer_PRAEGENDE_JUGENDJAHRE(df_cleaned)\n",
    "    \n",
    "    # WOHNLAGE -> engineer attributes\n",
    "    df_cleaned = engineer_WOHNLAGE(df_cleaned)\n",
    "\n",
    "    # CAMEO_DEUG_2015 -> Change object type to numeric type\n",
    "    df_cleaned[\"CAMEO_DEUG_2015\"] = pd.to_numeric(df_cleaned[\"CAMEO_DEUG_2015\"])\n",
    "     \n",
    "    return df_cleaned"
   ]
  },
  {
   "cell_type": "code",
   "execution_count": 37,
   "metadata": {},
   "outputs": [
    {
     "data": {
      "text/plain": [
       "(737237, 292)"
      ]
     },
     "execution_count": 37,
     "metadata": {},
     "output_type": "execute_result"
    }
   ],
   "source": [
    "azdias_cleaned = clean_data(azdias)\n",
    "azdias_cleaned.shape"
   ]
  },
  {
   "cell_type": "code",
   "execution_count": 38,
   "metadata": {},
   "outputs": [
    {
     "data": {
      "text/plain": [
       "float64    247\n",
       "int64       45\n",
       "dtype: int64"
      ]
     },
     "execution_count": 38,
     "metadata": {},
     "output_type": "execute_result"
    }
   ],
   "source": [
    "azdias_cleaned.dtypes.value_counts()"
   ]
  },
  {
   "cell_type": "code",
   "execution_count": 39,
   "metadata": {},
   "outputs": [
    {
     "data": {
      "text/plain": [
       "(134245, 292)"
      ]
     },
     "execution_count": 39,
     "metadata": {},
     "output_type": "execute_result"
    }
   ],
   "source": [
    "customers_cleaned = clean_data(customers)\n",
    "customers_cleaned.shape"
   ]
  },
  {
   "cell_type": "code",
   "execution_count": 40,
   "metadata": {},
   "outputs": [
    {
     "data": {
      "text/plain": [
       "float64    247\n",
       "int64       45\n",
       "dtype: int64"
      ]
     },
     "execution_count": 40,
     "metadata": {},
     "output_type": "execute_result"
    }
   ],
   "source": [
    "customers_cleaned.dtypes.value_counts()"
   ]
  },
  {
   "cell_type": "code",
   "execution_count": 41,
   "metadata": {},
   "outputs": [],
   "source": [
    "#azdias_cleaned.to_pickle('azdias_cleaned.pickle')\n",
    "#customers_cleaned.to_pickle('customers_cleaned.pickle')"
   ]
  },
  {
   "cell_type": "code",
   "execution_count": 42,
   "metadata": {},
   "outputs": [],
   "source": [
    "# load pickled file\n",
    "azdias_cleaned = pd.read_pickle('azdias_cleaned.pickle')\n",
    "customers_cleaned = pd.read_pickle('customers_cleaned.pickle')"
   ]
  },
  {
   "cell_type": "markdown",
   "metadata": {},
   "source": [
    "#### 4.) Impute, transform and standardize features"
   ]
  },
  {
   "cell_type": "markdown",
   "metadata": {},
   "source": [
    "We shall now classify attributes type and impute the data according to the type of attribute:\n",
    "\n",
    "1.) skewed continuous - These are datasets that are continuous numbers. For example, the number of people in a household and number of cars. Highly skewed continuous datasets have to be log-transformed so as to reduce possible mistakes in dataset. The missing values in the dataset can then be median imputed.<br>\n",
    "2.) binary - Missing values for binary type datasets will be imputed according to the most frequently occuring value, either '1' or '0'.<br>\n",
    "3.) categorical - Categorical dataset type will be dummy transformed with missing values imputed as 0.<br>\n",
    "4.) numerical - These dataset type will be imputed according to the median value."
   ]
  },
  {
   "cell_type": "code",
   "execution_count": 43,
   "metadata": {},
   "outputs": [],
   "source": [
    "def get_attributes_by_type(df):\n",
    "    # Numeric continuous columns\n",
    "    attribute_values = pd.read_csv(\"./Analysis/decision.csv\", sep=',')\n",
    "    \n",
    "    numeric_continuous_columns = attribute_values[(attribute_values[\"Type\"]==\"numerical\") & \n",
    "                                              (attribute_values[\"Action\"]==\"keep\")]['Columns'].values\n",
    "    \n",
    "    continuous_columns = []\n",
    "    continuous_columns.append(\"EINGEFUEGT_AM\")\n",
    "    for col in numeric_continuous_columns:\n",
    "        if col in df.columns:\n",
    "            continuous_columns.append(col)\n",
    "    \n",
    "    print(\"Continuous columns\", continuous_columns)\n",
    "    print(\"\")\n",
    "    print(\"No. of continuous columns\", len(continuous_columns))\n",
    "    print(\"\")\n",
    "    \n",
    "    skewed_continuous_columns = []\n",
    "    for col in continuous_columns:\n",
    "        try:\n",
    "            skewness = skew(azdias_cleaned[col].dropna())\n",
    "            print(\"{}, Skewness: {}\".format(col, round(skewness, 1)))\n",
    "            if abs(skewness) > 1:\n",
    "                skewed_continuous_columns.append(col)\n",
    "        except:\n",
    "            pass\n",
    "    print(\"\")\n",
    "    print(\"Skewed continuous columns\", skewed_continuous_columns)\n",
    "    print(\"\")\n",
    "    print(\"No. of skewed continuous columns\", len(skewed_continuous_columns))\n",
    "    print(\"\")\n",
    "    \n",
    "    \n",
    "    # Binary columns\n",
    "    number_columns = df.select_dtypes(['float64', 'int64']).columns\n",
    "    binary_columns = []\n",
    "    for col in number_columns:\n",
    "        no_unique = df[col].dropna().nunique()\n",
    "        if no_unique == 2 :\n",
    "            binary_columns.append(col)\n",
    "    print(\"Binary columns\", binary_columns)\n",
    "    print(\"\")\n",
    "    print(\"No. of binary columns\", len(binary_columns))\n",
    "    print(\"\")\n",
    "    \n",
    "    \n",
    "    # Categorical columns\n",
    "    categorical_columns = []\n",
    "    cat_columns = attribute_values[attribute_values[\"Action\"]==\"one-hot\"]['Columns'].values\n",
    "    for i in cat_columns:\n",
    "        if i in df.columns:\n",
    "            categorical_columns.append(i)\n",
    "    print(\"Categorical columns\", categorical_columns)\n",
    "    print(\"\")\n",
    "    print(\"No. of categorical columns\", len(categorical_columns))\n",
    "    print(\"\")\n",
    "    \n",
    "    \n",
    "    # Numerical columns\n",
    "    numerical_columns = list(set(azdias_cleaned.columns) - set(skewed_continuous_columns) - set(binary_columns) - set(categorical_columns))\n",
    "    print(\"Numerical columns\", numerical_columns)\n",
    "    print(\"\")\n",
    "    print(\"No. of numerical columns\", len(numerical_columns))\n",
    "    print(\"\")\n",
    "    \n",
    "    \n",
    "    s = len(skewed_continuous_columns)\n",
    "    b = len(binary_columns)\n",
    "    c = len(categorical_columns)\n",
    "    n = len(numerical_columns)\n",
    "    total_no = s + b + c + n\n",
    "    \n",
    "    # Total no. of columns\n",
    "    print(\"Total no. of columns(skew+binary+categorical+numerical) = {} + {} + {} + {} = {}\".format(s, b, c, n, total_no))\n",
    "    \n",
    "    \n",
    "    return skewed_continuous_columns, binary_columns, categorical_columns, numerical_columns"
   ]
  },
  {
   "cell_type": "code",
   "execution_count": 44,
   "metadata": {},
   "outputs": [
    {
     "name": "stdout",
     "output_type": "stream",
     "text": [
      "Continuous columns ['EINGEFUEGT_AM', 'ANZ_HAUSHALTE_AKTIV', 'ANZ_PERSONEN', 'ANZ_STATISTISCHE_HAUSHALTE', 'EINGEZOGENAM_HH_JAHR', 'KBA13_ANZAHL_PKW', 'MIN_GEBAEUDEJAHR']\n",
      "\n",
      "No. of continuous columns 7\n",
      "\n",
      "EINGEFUEGT_AM, Skewness: 3.0\n",
      "ANZ_HAUSHALTE_AKTIV, Skewness: 8.7\n",
      "ANZ_PERSONEN, Skewness: 1.8\n",
      "ANZ_STATISTISCHE_HAUSHALTE, Skewness: 8.6\n",
      "EINGEZOGENAM_HH_JAHR, Skewness: 0.2\n",
      "KBA13_ANZAHL_PKW, Skewness: 1.3\n",
      "MIN_GEBAEUDEJAHR, Skewness: 3.1\n",
      "\n",
      "Skewed continuous columns ['EINGEFUEGT_AM', 'ANZ_HAUSHALTE_AKTIV', 'ANZ_PERSONEN', 'ANZ_STATISTISCHE_HAUSHALTE', 'KBA13_ANZAHL_PKW', 'MIN_GEBAEUDEJAHR']\n",
      "\n",
      "No. of skewed continuous columns 6\n",
      "\n",
      "Binary columns ['DSL_FLAG', 'GREEN_AVANTGARDE', 'HH_DELTA_FLAG', 'KBA05_SEG6', 'KONSUMZELLE', 'OST_WEST_KZ', 'SOHO_KZ', 'UNGLEICHENN_FLAG', 'VERS_TYP', 'ANREDE_KZ', 'PLZ8_BAUMAX_BUSINESS', 'MOVEMENT', 'RURAL_NEIGHBOURHOOD']\n",
      "\n",
      "No. of binary columns 13\n",
      "\n",
      "Categorical columns ['AKT_DAT_KL', 'CJT_GESAMTTYP', 'CJT_KATALOGNUTZER', 'CJT_TYP_1', 'CJT_TYP_2', 'CJT_TYP_3', 'CJT_TYP_4', 'CJT_TYP_5', 'CJT_TYP_6', 'D19_KONSUMTYP', 'D19_KONSUMTYP_MAX', 'FINANZTYP', 'GEBAEUDETYP_RASTER', 'GEMEINDETYP', 'GFK_URLAUBERTYP', 'HEALTH_TYP', 'KBA05_HERSTTEMP', 'KBA05_MAXHERST', 'KBA13_BAUMAX', 'LP_FAMILIE_GROB', 'LP_STATUS_GROB', 'MOBI_RASTER', 'NATIONALITAET_KZ', 'RETOURTYP_BK_S', 'RT_KEIN_ANREIZ', 'RT_SCHNAEPPCHEN', 'RT_UEBERGROESSE', 'SHOPPER_TYP', 'STRUKTURTYP', 'VHA', 'VHN', 'ZABEOTYP']\n",
      "\n",
      "No. of categorical columns 32\n",
      "\n",
      "Numerical columns ['D19_VERSAND_DATUM', 'KBA05_MAXVORB', 'KBA05_ANTG2', 'KBA05_HERST2', 'FINANZ_HAUSBAUER', 'KBA13_KMH_140_210', 'D19_SOZIALES', 'KBA05_ALTER3', 'PLZ8_BAUMAX_FAMILY', 'KBA13_HALTER_55', 'KBA13_VORB_1', 'D19_BANKEN_ONLINE_DATUM', 'SEMIO_KULT', 'KBA05_HERST4', 'KBA13_KW_60', 'KBA05_MAXSEG', 'KBA13_FORD', 'D19_GESAMT_ONLINE_QUOTE_12', 'KBA05_ZUL2', 'KKK', 'KBA05_MAXAH', 'INNENSTADT', 'KBA05_MOD1', 'KBA13_SEG_KLEINWAGEN', 'KBA13_KW_90', 'D19_GESAMT_OFFLINE_DATUM', 'KBA13_SITZE_4', 'SEMIO_LUST', 'KBA13_HALTER_35', 'KBA05_KRSHERST3', 'FINANZ_SPARER', 'KBA13_KW_0_60', 'KBA13_KW_70', 'KBA05_ALTER2', 'KBA13_NISSAN', 'FINANZ_MINIMALIST', 'FINANZ_UNAUFFAELLIGER', 'ALTERSKATEGORIE_GROB', 'KBA13_CCM_1500', 'KBA05_KRSHERST2', 'KBA13_ANTG4', 'UMFELD_JUNG', 'KBA13_SITZE_6', 'KBA05_CCM2', 'KBA05_VORB2', 'KBA13_HALTER_40', 'GENERATION', 'KBA13_SEG_KLEINST', 'KBA13_HERST_EUROPA', 'KBA13_HERST_AUDI_VW', 'SEMIO_KAEM', 'KBA13_SEG_OBEREMITTELKLASSE', 'KBA05_CCM4', 'SEMIO_TRADV', 'KBA05_MOD8', 'KBA05_MOD4', 'KBA13_MOTOR', 'KBA05_MOD2', 'D19_BANKEN_OFFLINE_DATUM', 'KBA13_KRSHERST_FORD_OPEL', 'KBA05_KW2', 'KBA13_CCM_1200', 'KBA13_KW_120', 'KBA13_HALTER_30', 'KBA13_MAZDA', 'KBA13_VORB_0', 'SEMIO_SOZ', 'KBA13_HALTER_66', 'KBA13_HERST_FORD_OPEL', 'KBA13_AUTOQUOTE', 'ONLINE_AFFINITAET', 'D19_TELKO_ONLINE_DATUM', 'KBA13_SEG_GELAENDEWAGEN', 'KBA05_SEG1', 'KBA13_BJ_2006', 'KOMBIALTER', 'KBA05_KRSVAN', 'KBA13_GBZ', 'KBA05_SEG5', 'FAMILY_TYPE', 'KBA05_ALTER1', 'KBA13_KMH_0_140', 'WOHNDAUER_2008', 'SEMIO_PFLICHT', 'KBA05_ANTG1', 'KBA13_RENAULT', 'EINGEZOGENAM_HH_JAHR', 'KBA05_KRSKLEIN', 'KBA13_SEG_SPORTWAGEN', 'D19_GESAMT_DATUM', 'KBA13_BJ_2000', 'FIRMENDICHTE', 'KBA13_CCM_1400', 'KBA13_HERST_SONST', 'PLZ8_GBZ', 'KBA05_ANTG4', 'KBA05_VORB1', 'D19_TELKO_OFFLINE_DATUM', 'KBA05_HERST1', 'KBA13_SEG_UTILITIES', 'KBA13_CCM_1000', 'KBA05_HERST3', 'KBA13_KMH_210', 'RELAT_AB', 'KBA13_KW_110', 'D19_VERSI_ONLINE_DATUM', 'KBA05_KRSHERST1', 'KBA13_SEG_KOMPAKTKLASSE', 'KBA13_ALTERHALTER_60', 'FINANZ_ANLEGER', 'ARBEIT', 'KBA13_OPEL', 'KBA05_KRSZUL', 'KBA05_VORB0', 'MOBI_REGIO', 'KBA13_CCM_1800', 'HH_EINKOMMEN_SCORE', 'KBA13_ANTG1', 'KBA13_SEG_MINIWAGEN', 'KBA13_CCM_2501', 'KBA13_SEG_VAN', 'KBA05_ALTER4', 'KBA13_CCM_3001', 'KBA13_VORB_1_2', 'KBA05_CCM1', 'KBA13_BJ_1999', 'KBA13_KMH_250', 'KBA13_BJ_2009', 'D19_VERSAND_ONLINE_QUOTE_12', 'KBA05_MOTOR', 'KBA13_KRSSEG_OBER', 'KBA13_ANTG3', 'KBA05_SEG8', 'KBA13_ANTG2', 'KBA13_ALTERHALTER_45', 'KBA05_ZUL4', 'KBA05_ZUL3', 'UMFELD_ALT', 'KBA05_MOD3', 'KBA13_BJ_2008', 'KBA13_SEG_SONSTIGE', 'SEMIO_DOM', 'WEALTH', 'KBA13_CCM_2000', 'SEMIO_ERL', 'KBA13_HALTER_50', 'ORTSGR_KLS9', 'BALLRAUM', 'KBA05_HERST5', 'KBA13_VORB_2', 'KBA13_MERCEDES', 'KBA13_CCM_0_1400', 'EWDICHTE', 'D19_BUCH_CD', 'PLZ8_HHZ', 'KONSUMNAEHE', 'KBA13_SEG_GROSSRAUMVANS', 'D19_VERSI_OFFLINE_DATUM', 'KBA13_KW_30', 'KBA13_KRSSEG_KLEIN', 'D19_BANKEN_DATUM', 'KBA05_KW1', 'KBA13_ALTERHALTER_30', 'KBA13_TOYOTA', 'KBA13_FAB_ASIEN', 'KBA13_CCM_3000', 'KBA13_KW_61_120', 'KBA05_ZUL1', 'D19_VERSAND_ONLINE_DATUM', 'KBA13_HALTER_20', 'KBA13_HALTER_45', 'SEMIO_REL', 'KBA05_CCM3', 'KBA13_KRSAQUOT', 'SEMIO_FAM', 'KBA13_KRSSEG_VAN', 'KBA05_ANTG3', 'KBA05_SEG4', 'KBA05_GBZ', 'KBA13_HERST_BMW_BENZ', 'KBA13_KRSZUL_NEU', 'KBA13_KRSHERST_BMW_BENZ', 'KBA05_SEG3', 'KBA05_SEG10', 'KBA05_MOTRAD', 'KBA13_CCM_1401_2500', 'FINANZ_VORSORGER', 'KBA05_KRSAQUOT', 'KBA05_MAXBJ', 'REGIOTYP', 'KBA05_SEG9', 'KBA13_KW_50', 'SEMIO_KRIT', 'KBA13_KW_121', 'KBA13_FAB_SONSTIGE', 'KBA13_KMH_211', 'KBA13_VORB_3', 'KBA05_ANHANG', 'KBA13_KW_80', 'D19_VERSAND_OFFLINE_DATUM', 'KBA05_SEG2', 'KBA13_ALTERHALTER_61', 'CAMEO_DEUG_2015', 'SEMIO_VERT', 'KBA13_CCM_2500', 'KBA13_BJ_2004', 'KBA13_KMH_180', 'KBA13_KW_40', 'KBA13_SEG_OBERKLASSE', 'D19_VERSI_DATUM', 'KBA05_KRSOBER', 'KBA05_KW3', 'KBA13_PEUGEOT', 'D19_TELKO_DATUM', 'KBA13_SITZE_5', 'KBA13_VW', 'KBA05_AUTOQUOT', 'KBA13_KRSHERST_AUDI_VW', 'KBA13_AUDI', 'SEMIO_MAT', 'D19_GESAMT_ONLINE_DATUM', 'KBA13_HALTER_25', 'W_KEIT_KIND_HH', 'KBA13_HHZ', 'KBA05_SEG7', 'KBA13_HALTER_60', 'SEMIO_RAT', 'KBA13_KMH_251', 'KBA05_FRAU', 'D19_BANKEN_ONLINE_QUOTE_12', 'KBA05_DIESEL', 'KBA13_SEG_MINIVANS', 'KBA13_FIAT', 'KBA13_HERST_ASIEN', 'KBA13_KMH_110', 'KBA13_SEG_MITTELKLASSE', 'KBA13_CCM_1600', 'KBA13_HALTER_65', 'KBA13_SEG_WOHNMOBILE', 'KBA13_BMW', 'KBA13_KMH_140']\n",
      "\n",
      "No. of numerical columns 241\n",
      "\n",
      "Total no. of columns(skew+binary+categorical+numerical) = 6 + 13 + 32 + 241 = 292\n"
     ]
    }
   ],
   "source": [
    "skewed_continuous_columns, binary_columns, categorical_columns, numerical_columns = get_attributes_by_type(azdias_cleaned)"
   ]
  },
  {
   "cell_type": "markdown",
   "metadata": {},
   "source": [
    "**Helper class for categorical attributes encoding**"
   ]
  },
  {
   "cell_type": "code",
   "execution_count": 45,
   "metadata": {},
   "outputs": [],
   "source": [
    "'''\n",
    "Helper class for dummy variable encoding\n",
    "'''\n",
    "\n",
    "class DummiesTransformer(BaseEstimator, TransformerMixin):\n",
    "    def transform(self, X, **transformparams):\n",
    "        if set(self._columns) != set(X.columns):\n",
    "            raise ValueError('Dataframe columns are not the same')\n",
    "        elif len(self._columns) != len(X.columns):\n",
    "            raise ValueError('Dataframe length is not the same')\n",
    "          \n",
    "        X_cat = np.empty((len(X), self._total_cat_cols), dtype='int')\n",
    "        i = 0\n",
    "        for col in self._columns:\n",
    "            vals = self._cat_cols[col]\n",
    "            for val in vals:\n",
    "                X_cat[:, i] = X[col] == val\n",
    "                i += 1\n",
    "                \n",
    "        return pd.DataFrame(data=X_cat, columns=self._feature_names)\n",
    "\n",
    "    def fit(self, X, y=None, **fitparams):\n",
    "        self._columns = X.columns.values\n",
    "        self._feature_names = []\n",
    "        self._total_cat_cols = 0\n",
    "        self._cat_cols = {}\n",
    "        for col in self._columns: \n",
    "            vals = X[col].value_counts().index.values\n",
    "            vals = np.sort(vals)\n",
    "            col_names = [col + '_' + str(int(val)) for val in vals]\n",
    "            self._feature_names = np.append(self._feature_names, col_names)\n",
    "            self._cat_cols[col] = vals\n",
    "            self._total_cat_cols += len(vals)\n",
    "        return self\n",
    "    \n",
    "    def get_feature_names(self):\n",
    "        return self._feature_names "
   ]
  },
  {
   "cell_type": "markdown",
   "metadata": {},
   "source": [
    "**Skewed Continuous Pipeline**"
   ]
  },
  {
   "cell_type": "code",
   "execution_count": 46,
   "metadata": {},
   "outputs": [
    {
     "name": "stdout",
     "output_type": "stream",
     "text": [
      "['EINGEFUEGT_AM', 'ANZ_HAUSHALTE_AKTIV', 'ANZ_PERSONEN', 'ANZ_STATISTISCHE_HAUSHALTE', 'KBA13_ANZAHL_PKW', 'MIN_GEBAEUDEJAHR']\n"
     ]
    }
   ],
   "source": [
    "print(skewed_continuous_columns)"
   ]
  },
  {
   "cell_type": "code",
   "execution_count": 47,
   "metadata": {},
   "outputs": [],
   "source": [
    "skew_pipeline = Pipeline([\n",
    "    ('log_transform', FunctionTransformer(func=np.log1p, check_inverse=False)),\n",
    "    ('log_impute', SimpleImputer(missing_values=np.nan, strategy='median')),\n",
    "    ('log_scale', StandardScaler())\n",
    "])"
   ]
  },
  {
   "cell_type": "markdown",
   "metadata": {},
   "source": [
    "**Binary Pipeline**"
   ]
  },
  {
   "cell_type": "code",
   "execution_count": 48,
   "metadata": {},
   "outputs": [
    {
     "name": "stdout",
     "output_type": "stream",
     "text": [
      "['DSL_FLAG', 'GREEN_AVANTGARDE', 'HH_DELTA_FLAG', 'KBA05_SEG6', 'KONSUMZELLE', 'OST_WEST_KZ', 'SOHO_KZ', 'UNGLEICHENN_FLAG', 'VERS_TYP', 'ANREDE_KZ', 'PLZ8_BAUMAX_BUSINESS', 'MOVEMENT', 'RURAL_NEIGHBOURHOOD']\n"
     ]
    }
   ],
   "source": [
    "print(binary_columns)"
   ]
  },
  {
   "cell_type": "code",
   "execution_count": 49,
   "metadata": {},
   "outputs": [],
   "source": [
    "binary_pipeline = Pipeline([('binary_impute', SimpleImputer(missing_values=np.nan, strategy=\"most_frequent\"))])"
   ]
  },
  {
   "cell_type": "markdown",
   "metadata": {},
   "source": [
    "**Categorical Pipeline**"
   ]
  },
  {
   "cell_type": "code",
   "execution_count": 50,
   "metadata": {},
   "outputs": [
    {
     "name": "stdout",
     "output_type": "stream",
     "text": [
      "['AKT_DAT_KL', 'CJT_GESAMTTYP', 'CJT_KATALOGNUTZER', 'CJT_TYP_1', 'CJT_TYP_2', 'CJT_TYP_3', 'CJT_TYP_4', 'CJT_TYP_5', 'CJT_TYP_6', 'D19_KONSUMTYP', 'D19_KONSUMTYP_MAX', 'FINANZTYP', 'GEBAEUDETYP_RASTER', 'GEMEINDETYP', 'GFK_URLAUBERTYP', 'HEALTH_TYP', 'KBA05_HERSTTEMP', 'KBA05_MAXHERST', 'KBA13_BAUMAX', 'LP_FAMILIE_GROB', 'LP_STATUS_GROB', 'MOBI_RASTER', 'NATIONALITAET_KZ', 'RETOURTYP_BK_S', 'RT_KEIN_ANREIZ', 'RT_SCHNAEPPCHEN', 'RT_UEBERGROESSE', 'SHOPPER_TYP', 'STRUKTURTYP', 'VHA', 'VHN', 'ZABEOTYP']\n"
     ]
    }
   ],
   "source": [
    "print(categorical_columns)"
   ]
  },
  {
   "cell_type": "code",
   "execution_count": 51,
   "metadata": {},
   "outputs": [],
   "source": [
    "categorical_pipeline = Pipeline([('categorical_dummy', DummiesTransformer())])"
   ]
  },
  {
   "cell_type": "markdown",
   "metadata": {},
   "source": [
    "**Numerical**"
   ]
  },
  {
   "cell_type": "code",
   "execution_count": 52,
   "metadata": {},
   "outputs": [
    {
     "name": "stdout",
     "output_type": "stream",
     "text": [
      "['D19_VERSAND_DATUM', 'KBA05_MAXVORB', 'KBA05_ANTG2', 'KBA05_HERST2', 'FINANZ_HAUSBAUER', 'KBA13_KMH_140_210', 'D19_SOZIALES', 'KBA05_ALTER3', 'PLZ8_BAUMAX_FAMILY', 'KBA13_HALTER_55', 'KBA13_VORB_1', 'D19_BANKEN_ONLINE_DATUM', 'SEMIO_KULT', 'KBA05_HERST4', 'KBA13_KW_60', 'KBA05_MAXSEG', 'KBA13_FORD', 'D19_GESAMT_ONLINE_QUOTE_12', 'KBA05_ZUL2', 'KKK', 'KBA05_MAXAH', 'INNENSTADT', 'KBA05_MOD1', 'KBA13_SEG_KLEINWAGEN', 'KBA13_KW_90', 'D19_GESAMT_OFFLINE_DATUM', 'KBA13_SITZE_4', 'SEMIO_LUST', 'KBA13_HALTER_35', 'KBA05_KRSHERST3', 'FINANZ_SPARER', 'KBA13_KW_0_60', 'KBA13_KW_70', 'KBA05_ALTER2', 'KBA13_NISSAN', 'FINANZ_MINIMALIST', 'FINANZ_UNAUFFAELLIGER', 'ALTERSKATEGORIE_GROB', 'KBA13_CCM_1500', 'KBA05_KRSHERST2', 'KBA13_ANTG4', 'UMFELD_JUNG', 'KBA13_SITZE_6', 'KBA05_CCM2', 'KBA05_VORB2', 'KBA13_HALTER_40', 'GENERATION', 'KBA13_SEG_KLEINST', 'KBA13_HERST_EUROPA', 'KBA13_HERST_AUDI_VW', 'SEMIO_KAEM', 'KBA13_SEG_OBEREMITTELKLASSE', 'KBA05_CCM4', 'SEMIO_TRADV', 'KBA05_MOD8', 'KBA05_MOD4', 'KBA13_MOTOR', 'KBA05_MOD2', 'D19_BANKEN_OFFLINE_DATUM', 'KBA13_KRSHERST_FORD_OPEL', 'KBA05_KW2', 'KBA13_CCM_1200', 'KBA13_KW_120', 'KBA13_HALTER_30', 'KBA13_MAZDA', 'KBA13_VORB_0', 'SEMIO_SOZ', 'KBA13_HALTER_66', 'KBA13_HERST_FORD_OPEL', 'KBA13_AUTOQUOTE', 'ONLINE_AFFINITAET', 'D19_TELKO_ONLINE_DATUM', 'KBA13_SEG_GELAENDEWAGEN', 'KBA05_SEG1', 'KBA13_BJ_2006', 'KOMBIALTER', 'KBA05_KRSVAN', 'KBA13_GBZ', 'KBA05_SEG5', 'FAMILY_TYPE', 'KBA05_ALTER1', 'KBA13_KMH_0_140', 'WOHNDAUER_2008', 'SEMIO_PFLICHT', 'KBA05_ANTG1', 'KBA13_RENAULT', 'EINGEZOGENAM_HH_JAHR', 'KBA05_KRSKLEIN', 'KBA13_SEG_SPORTWAGEN', 'D19_GESAMT_DATUM', 'KBA13_BJ_2000', 'FIRMENDICHTE', 'KBA13_CCM_1400', 'KBA13_HERST_SONST', 'PLZ8_GBZ', 'KBA05_ANTG4', 'KBA05_VORB1', 'D19_TELKO_OFFLINE_DATUM', 'KBA05_HERST1', 'KBA13_SEG_UTILITIES', 'KBA13_CCM_1000', 'KBA05_HERST3', 'KBA13_KMH_210', 'RELAT_AB', 'KBA13_KW_110', 'D19_VERSI_ONLINE_DATUM', 'KBA05_KRSHERST1', 'KBA13_SEG_KOMPAKTKLASSE', 'KBA13_ALTERHALTER_60', 'FINANZ_ANLEGER', 'ARBEIT', 'KBA13_OPEL', 'KBA05_KRSZUL', 'KBA05_VORB0', 'MOBI_REGIO', 'KBA13_CCM_1800', 'HH_EINKOMMEN_SCORE', 'KBA13_ANTG1', 'KBA13_SEG_MINIWAGEN', 'KBA13_CCM_2501', 'KBA13_SEG_VAN', 'KBA05_ALTER4', 'KBA13_CCM_3001', 'KBA13_VORB_1_2', 'KBA05_CCM1', 'KBA13_BJ_1999', 'KBA13_KMH_250', 'KBA13_BJ_2009', 'D19_VERSAND_ONLINE_QUOTE_12', 'KBA05_MOTOR', 'KBA13_KRSSEG_OBER', 'KBA13_ANTG3', 'KBA05_SEG8', 'KBA13_ANTG2', 'KBA13_ALTERHALTER_45', 'KBA05_ZUL4', 'KBA05_ZUL3', 'UMFELD_ALT', 'KBA05_MOD3', 'KBA13_BJ_2008', 'KBA13_SEG_SONSTIGE', 'SEMIO_DOM', 'WEALTH', 'KBA13_CCM_2000', 'SEMIO_ERL', 'KBA13_HALTER_50', 'ORTSGR_KLS9', 'BALLRAUM', 'KBA05_HERST5', 'KBA13_VORB_2', 'KBA13_MERCEDES', 'KBA13_CCM_0_1400', 'EWDICHTE', 'D19_BUCH_CD', 'PLZ8_HHZ', 'KONSUMNAEHE', 'KBA13_SEG_GROSSRAUMVANS', 'D19_VERSI_OFFLINE_DATUM', 'KBA13_KW_30', 'KBA13_KRSSEG_KLEIN', 'D19_BANKEN_DATUM', 'KBA05_KW1', 'KBA13_ALTERHALTER_30', 'KBA13_TOYOTA', 'KBA13_FAB_ASIEN', 'KBA13_CCM_3000', 'KBA13_KW_61_120', 'KBA05_ZUL1', 'D19_VERSAND_ONLINE_DATUM', 'KBA13_HALTER_20', 'KBA13_HALTER_45', 'SEMIO_REL', 'KBA05_CCM3', 'KBA13_KRSAQUOT', 'SEMIO_FAM', 'KBA13_KRSSEG_VAN', 'KBA05_ANTG3', 'KBA05_SEG4', 'KBA05_GBZ', 'KBA13_HERST_BMW_BENZ', 'KBA13_KRSZUL_NEU', 'KBA13_KRSHERST_BMW_BENZ', 'KBA05_SEG3', 'KBA05_SEG10', 'KBA05_MOTRAD', 'KBA13_CCM_1401_2500', 'FINANZ_VORSORGER', 'KBA05_KRSAQUOT', 'KBA05_MAXBJ', 'REGIOTYP', 'KBA05_SEG9', 'KBA13_KW_50', 'SEMIO_KRIT', 'KBA13_KW_121', 'KBA13_FAB_SONSTIGE', 'KBA13_KMH_211', 'KBA13_VORB_3', 'KBA05_ANHANG', 'KBA13_KW_80', 'D19_VERSAND_OFFLINE_DATUM', 'KBA05_SEG2', 'KBA13_ALTERHALTER_61', 'CAMEO_DEUG_2015', 'SEMIO_VERT', 'KBA13_CCM_2500', 'KBA13_BJ_2004', 'KBA13_KMH_180', 'KBA13_KW_40', 'KBA13_SEG_OBERKLASSE', 'D19_VERSI_DATUM', 'KBA05_KRSOBER', 'KBA05_KW3', 'KBA13_PEUGEOT', 'D19_TELKO_DATUM', 'KBA13_SITZE_5', 'KBA13_VW', 'KBA05_AUTOQUOT', 'KBA13_KRSHERST_AUDI_VW', 'KBA13_AUDI', 'SEMIO_MAT', 'D19_GESAMT_ONLINE_DATUM', 'KBA13_HALTER_25', 'W_KEIT_KIND_HH', 'KBA13_HHZ', 'KBA05_SEG7', 'KBA13_HALTER_60', 'SEMIO_RAT', 'KBA13_KMH_251', 'KBA05_FRAU', 'D19_BANKEN_ONLINE_QUOTE_12', 'KBA05_DIESEL', 'KBA13_SEG_MINIVANS', 'KBA13_FIAT', 'KBA13_HERST_ASIEN', 'KBA13_KMH_110', 'KBA13_SEG_MITTELKLASSE', 'KBA13_CCM_1600', 'KBA13_HALTER_65', 'KBA13_SEG_WOHNMOBILE', 'KBA13_BMW', 'KBA13_KMH_140']\n"
     ]
    }
   ],
   "source": [
    "print(numerical_columns)"
   ]
  },
  {
   "cell_type": "code",
   "execution_count": 53,
   "metadata": {},
   "outputs": [],
   "source": [
    "numerical_pipeline = Pipeline([('numerical_impute', SimpleImputer(missing_values=np.nan, strategy=\"median\")),\n",
    "                               ('numerical_scale', StandardScaler())\n",
    "                              ])"
   ]
  },
  {
   "cell_type": "markdown",
   "metadata": {},
   "source": [
    "**Combine pipelines**"
   ]
  },
  {
   "cell_type": "code",
   "execution_count": 54,
   "metadata": {},
   "outputs": [],
   "source": [
    "transformers = [('skewed', skew_pipeline, skewed_continuous_columns),\n",
    "                ('binary', binary_pipeline, binary_columns), \n",
    "                ('categorical', categorical_pipeline, categorical_columns),\n",
    "                ('numerical', numerical_pipeline, numerical_columns)]"
   ]
  },
  {
   "cell_type": "code",
   "execution_count": 55,
   "metadata": {},
   "outputs": [],
   "source": [
    "column_transformer = ColumnTransformer(transformers = transformers)"
   ]
  },
  {
   "cell_type": "markdown",
   "metadata": {},
   "source": [
    "**Features transformation**"
   ]
  },
  {
   "cell_type": "code",
   "execution_count": 56,
   "metadata": {},
   "outputs": [],
   "source": [
    "azdias_transformed = column_transformer.fit_transform(azdias_cleaned)"
   ]
  },
  {
   "cell_type": "code",
   "execution_count": 57,
   "metadata": {},
   "outputs": [],
   "source": [
    "# Getting the column names from one hot encoded features\n",
    "dummy_columns = list(column_transformer.named_transformers_['categorical'].named_steps['categorical_dummy'].get_feature_names())"
   ]
  },
  {
   "cell_type": "code",
   "execution_count": 58,
   "metadata": {},
   "outputs": [],
   "source": [
    "# List all column names for the transformed dataframe\n",
    "column_names = skewed_continuous_columns + binary_columns + dummy_columns + numerical_columns"
   ]
  },
  {
   "cell_type": "code",
   "execution_count": 59,
   "metadata": {},
   "outputs": [],
   "source": [
    "azdias_transformed = pd.DataFrame(azdias_transformed, columns=[column_names])"
   ]
  },
  {
   "cell_type": "code",
   "execution_count": 60,
   "metadata": {},
   "outputs": [
    {
     "data": {
      "text/plain": [
       "float64    436\n",
       "dtype: int64"
      ]
     },
     "execution_count": 60,
     "metadata": {},
     "output_type": "execute_result"
    }
   ],
   "source": [
    "azdias_transformed.dtypes.value_counts()"
   ]
  },
  {
   "cell_type": "code",
   "execution_count": 61,
   "metadata": {},
   "outputs": [
    {
     "data": {
      "text/plain": [
       "(737237, 436)"
      ]
     },
     "execution_count": 61,
     "metadata": {},
     "output_type": "execute_result"
    }
   ],
   "source": [
    "azdias_transformed.shape"
   ]
  },
  {
   "cell_type": "markdown",
   "metadata": {},
   "source": [
    "## Part 1: Customer Segmentation Report\n",
    "\n",
    "The main bulk of your analysis will come in this part of the project. Here, you should use unsupervised learning techniques to describe the relationship between the demographics of the company's existing customers and the general population of Germany. By the end of this part, you should be able to describe parts of the general population that are more likely to be part of the mail-order company's main customer base, and which parts of the general population are less so."
   ]
  },
  {
   "cell_type": "markdown",
   "metadata": {},
   "source": [
    "## Principal Component Analysis - PCA"
   ]
  },
  {
   "cell_type": "code",
   "execution_count": 62,
   "metadata": {},
   "outputs": [],
   "source": [
    "def pca_scree_plot(pca):\n",
    "    \"\"\"\n",
    "    Plots PCA scree plot\n",
    "    \n",
    "    Input: PCA object after fit transform\n",
    "    Output: Scree plot\n",
    "    \"\"\"\n",
    "    num_components = len(pca.explained_variance_ratio_)\n",
    "    index = np.arange(num_components)\n",
    "    values = pca.explained_variance_ratio_\n",
    "    cumulative_values = np.cumsum(values)\n",
    "\n",
    "    fig = plt.figure(figsize=(18, 6))\n",
    "    ax = plt.subplot()\n",
    "    ax.bar(index, values)\n",
    "    ax.plot(index, cumulative_values)\n",
    "\n",
    "    plt.xlabel(\"Principal component\")\n",
    "    plt.ylabel(\"Cumulative explained variance\")\n",
    "    plt.title(\"Cumulative explained variance per principal component plot\")\n",
    "\n",
    "    return fig"
   ]
  },
  {
   "cell_type": "code",
   "execution_count": 63,
   "metadata": {},
   "outputs": [
    {
     "data": {
      "image/png": "[encoded data removed]",
      "text/plain": [
       "<Figure size 1296x432 with 1 Axes>"
      ]
     },
     "metadata": {
      "needs_background": "light"
     },
     "output_type": "display_data"
    }
   ],
   "source": [
    "# Principal Component Analysis on Dataset. Fit the model with data and apply the dimensionality reduction on data.\n",
    "pca = PCA()\n",
    "azdias_pca = pca.fit_transform(azdias_transformed)\n",
    "fig = pca_scree_plot(pca)\n",
    "fig.savefig('scree_plot.png', dpi=500)"
   ]
  },
  {
   "cell_type": "markdown",
   "metadata": {},
   "source": [
    "At around the 170-th principal component, the explained variance drops off close to zero."
   ]
  },
  {
   "cell_type": "code",
   "execution_count": 64,
   "metadata": {},
   "outputs": [
    {
     "name": "stdout",
     "output_type": "stream",
     "text": [
      "Explained variance ratio for the first 170 components is 91.0%\n"
     ]
    }
   ],
   "source": [
    "n_component = 170\n",
    "print(\"Explained variance ratio for the first {} components is {}%\".format(n_component, sum(pca.explained_variance_ratio_[:n_component]).round(2)*100))"
   ]
  },
  {
   "cell_type": "markdown",
   "metadata": {},
   "source": [
    "The first 170 components will describe 91% of the data variance out of a total of 436 features."
   ]
  },
  {
   "cell_type": "code",
   "execution_count": 65,
   "metadata": {},
   "outputs": [
    {
     "name": "stdout",
     "output_type": "stream",
     "text": [
      "azdias_pca_reduced shape: (737237, 170)\n",
      "explained variance ratio percentage: 91.0\n"
     ]
    }
   ],
   "source": [
    "pca = PCA(n_component)\n",
    "\n",
    "azdias_pca_reduced = pca.fit_transform(azdias_transformed)\n",
    "explained_variance_ratio = sum(pca.explained_variance_ratio_)\n",
    "\n",
    "print(\"azdias_pca_reduced shape: {}\".format(azdias_pca_reduced.shape))\n",
    "print(\"explained variance ratio percentage: {}\".format(explained_variance_ratio.round(2)*100))"
   ]
  },
  {
   "cell_type": "markdown",
   "metadata": {},
   "source": [
    "**Mapping PCA components to column names**"
   ]
  },
  {
   "cell_type": "code",
   "execution_count": 66,
   "metadata": {},
   "outputs": [
    {
     "name": "stdout",
     "output_type": "stream",
     "text": [
      "The first 3 components accounts for 18.3% of the data variance.\n"
     ]
    }
   ],
   "source": [
    "top_three_pca = pca.explained_variance_ratio_[:3]\n",
    "print(\"The first 3 components accounts for {}% of the data variance.\".format(top_three_pca.sum().round(3) * 100))"
   ]
  },
  {
   "cell_type": "code",
   "execution_count": 67,
   "metadata": {},
   "outputs": [],
   "source": [
    "def map_component_to_features(pca, component, column_names):\n",
    "    \"\"\"\n",
    "    Input:\n",
    "    pca (object) : object of PCA class\n",
    "    component (int) : number of components to map to features\n",
    "    column_names (list(str)) : column names of azdias before PCA transformation\n",
    "    \n",
    "    Output:\n",
    "    df_features (dataframe) : dataframe with attribute names and attribute PCA weighting\n",
    "    \"\"\"\n",
    "    weights_array = pca.components_[component]\n",
    "    df_features = pd.DataFrame(weights_array, index=column_names, columns=['weight'])\n",
    "    df_features = df_features.sort_values(by=['weight'], ascending=False)\n",
    "    return df_features    "
   ]
  },
  {
   "cell_type": "code",
   "execution_count": 68,
   "metadata": {},
   "outputs": [
    {
     "name": "stdout",
     "output_type": "stream",
     "text": [
      "The first component explains 8.0% of the variance in the data and is determined largely by the following features:\n"
     ]
    },
    {
     "data": {
      "text/html": [
       "<div>\n",
       "<style scoped>\n",
       "    .dataframe tbody tr th:only-of-type {\n",
       "        vertical-align: middle;\n",
       "    }\n",
       "\n",
       "    .dataframe tbody tr th {\n",
       "        vertical-align: top;\n",
       "    }\n",
       "\n",
       "    .dataframe thead th {\n",
       "        text-align: right;\n",
       "    }\n",
       "</style>\n",
       "<table border=\"1\" class=\"dataframe\">\n",
       "  <thead>\n",
       "    <tr style=\"text-align: right;\">\n",
       "      <th></th>\n",
       "      <th>weight</th>\n",
       "    </tr>\n",
       "  </thead>\n",
       "  <tbody>\n",
       "    <tr>\n",
       "      <th>CAMEO_DEUG_2015</th>\n",
       "      <td>0.154466</td>\n",
       "    </tr>\n",
       "    <tr>\n",
       "      <th>WEALTH</th>\n",
       "      <td>0.152734</td>\n",
       "    </tr>\n",
       "    <tr>\n",
       "      <th>HH_EINKOMMEN_SCORE</th>\n",
       "      <td>0.149516</td>\n",
       "    </tr>\n",
       "    <tr>\n",
       "      <th>KBA13_ANTG3</th>\n",
       "      <td>0.148763</td>\n",
       "    </tr>\n",
       "    <tr>\n",
       "      <th>ANZ_HAUSHALTE_AKTIV</th>\n",
       "      <td>0.148019</td>\n",
       "    </tr>\n",
       "  </tbody>\n",
       "</table>\n",
       "</div>"
      ],
      "text/plain": [
       "                       weight\n",
       "CAMEO_DEUG_2015      0.154466\n",
       "WEALTH               0.152734\n",
       "HH_EINKOMMEN_SCORE   0.149516\n",
       "KBA13_ANTG3          0.148763\n",
       "ANZ_HAUSHALTE_AKTIV  0.148019"
      ]
     },
     "execution_count": 68,
     "metadata": {},
     "output_type": "execute_result"
    }
   ],
   "source": [
    "print(\"The first component explains {}% of the variance in the data and is determined largely by the following features:\".format(top_three_pca[0].round(2)*100))\n",
    "map_component_to_features(pca, 0, azdias_transformed.columns).head()"
   ]
  },
  {
   "cell_type": "code",
   "execution_count": 69,
   "metadata": {},
   "outputs": [
    {
     "name": "stdout",
     "output_type": "stream",
     "text": [
      "The first component is negatively influenced by the following features:\n"
     ]
    },
    {
     "data": {
      "text/html": [
       "<div>\n",
       "<style scoped>\n",
       "    .dataframe tbody tr th:only-of-type {\n",
       "        vertical-align: middle;\n",
       "    }\n",
       "\n",
       "    .dataframe tbody tr th {\n",
       "        vertical-align: top;\n",
       "    }\n",
       "\n",
       "    .dataframe thead th {\n",
       "        text-align: right;\n",
       "    }\n",
       "</style>\n",
       "<table border=\"1\" class=\"dataframe\">\n",
       "  <thead>\n",
       "    <tr style=\"text-align: right;\">\n",
       "      <th></th>\n",
       "      <th>weight</th>\n",
       "    </tr>\n",
       "  </thead>\n",
       "  <tbody>\n",
       "    <tr>\n",
       "      <th>KBA05_AUTOQUOT</th>\n",
       "      <td>-0.140908</td>\n",
       "    </tr>\n",
       "    <tr>\n",
       "      <th>KBA05_GBZ</th>\n",
       "      <td>-0.142110</td>\n",
       "    </tr>\n",
       "    <tr>\n",
       "      <th>KBA05_ANTG1</th>\n",
       "      <td>-0.149706</td>\n",
       "    </tr>\n",
       "    <tr>\n",
       "      <th>KBA13_ANTG1</th>\n",
       "      <td>-0.152483</td>\n",
       "    </tr>\n",
       "    <tr>\n",
       "      <th>MOBI_REGIO</th>\n",
       "      <td>-0.158888</td>\n",
       "    </tr>\n",
       "  </tbody>\n",
       "</table>\n",
       "</div>"
      ],
      "text/plain": [
       "                  weight\n",
       "KBA05_AUTOQUOT -0.140908\n",
       "KBA05_GBZ      -0.142110\n",
       "KBA05_ANTG1    -0.149706\n",
       "KBA13_ANTG1    -0.152483\n",
       "MOBI_REGIO     -0.158888"
      ]
     },
     "execution_count": 69,
     "metadata": {},
     "output_type": "execute_result"
    }
   ],
   "source": [
    "print(\"The first component is negatively influenced by the following features:\")\n",
    "map_component_to_features(pca, 0, azdias_transformed.columns).tail()"
   ]
  },
  {
   "cell_type": "markdown",
   "metadata": {},
   "source": [
    "This shows that component 1 is mainly determined by status, class in society, household income, number of people in a household building."
   ]
  },
  {
   "cell_type": "code",
   "execution_count": 70,
   "metadata": {},
   "outputs": [
    {
     "name": "stdout",
     "output_type": "stream",
     "text": [
      "The second component explains 6.0% of the variance in the data and is determined largely by the following features:\n"
     ]
    },
    {
     "data": {
      "text/html": [
       "<div>\n",
       "<style scoped>\n",
       "    .dataframe tbody tr th:only-of-type {\n",
       "        vertical-align: middle;\n",
       "    }\n",
       "\n",
       "    .dataframe tbody tr th {\n",
       "        vertical-align: top;\n",
       "    }\n",
       "\n",
       "    .dataframe thead th {\n",
       "        text-align: right;\n",
       "    }\n",
       "</style>\n",
       "<table border=\"1\" class=\"dataframe\">\n",
       "  <thead>\n",
       "    <tr style=\"text-align: right;\">\n",
       "      <th></th>\n",
       "      <th>weight</th>\n",
       "    </tr>\n",
       "  </thead>\n",
       "  <tbody>\n",
       "    <tr>\n",
       "      <th>KBA13_HERST_BMW_BENZ</th>\n",
       "      <td>0.185519</td>\n",
       "    </tr>\n",
       "    <tr>\n",
       "      <th>KBA13_SEG_OBEREMITTELKLASSE</th>\n",
       "      <td>0.161479</td>\n",
       "    </tr>\n",
       "    <tr>\n",
       "      <th>KBA13_BMW</th>\n",
       "      <td>0.157188</td>\n",
       "    </tr>\n",
       "    <tr>\n",
       "      <th>KBA13_MERCEDES</th>\n",
       "      <td>0.155927</td>\n",
       "    </tr>\n",
       "    <tr>\n",
       "      <th>KBA13_SITZE_4</th>\n",
       "      <td>0.147272</td>\n",
       "    </tr>\n",
       "  </tbody>\n",
       "</table>\n",
       "</div>"
      ],
      "text/plain": [
       "                               weight\n",
       "KBA13_HERST_BMW_BENZ         0.185519\n",
       "KBA13_SEG_OBEREMITTELKLASSE  0.161479\n",
       "KBA13_BMW                    0.157188\n",
       "KBA13_MERCEDES               0.155927\n",
       "KBA13_SITZE_4                0.147272"
      ]
     },
     "execution_count": 70,
     "metadata": {},
     "output_type": "execute_result"
    }
   ],
   "source": [
    "print(\"The second component explains {}% of the variance in the data and is determined largely by the following features:\".format(top_three_pca[1].round(3)*100))\n",
    "map_component_to_features(pca, 1, azdias_transformed.columns).head()"
   ]
  },
  {
   "cell_type": "code",
   "execution_count": 71,
   "metadata": {},
   "outputs": [
    {
     "name": "stdout",
     "output_type": "stream",
     "text": [
      "The second component is negatively influenced by the following features:\n"
     ]
    },
    {
     "data": {
      "text/html": [
       "<div>\n",
       "<style scoped>\n",
       "    .dataframe tbody tr th:only-of-type {\n",
       "        vertical-align: middle;\n",
       "    }\n",
       "\n",
       "    .dataframe tbody tr th {\n",
       "        vertical-align: top;\n",
       "    }\n",
       "\n",
       "    .dataframe thead th {\n",
       "        text-align: right;\n",
       "    }\n",
       "</style>\n",
       "<table border=\"1\" class=\"dataframe\">\n",
       "  <thead>\n",
       "    <tr style=\"text-align: right;\">\n",
       "      <th></th>\n",
       "      <th>weight</th>\n",
       "    </tr>\n",
       "  </thead>\n",
       "  <tbody>\n",
       "    <tr>\n",
       "      <th>KBA13_SEG_KLEINWAGEN</th>\n",
       "      <td>-0.130056</td>\n",
       "    </tr>\n",
       "    <tr>\n",
       "      <th>KBA13_HALTER_20</th>\n",
       "      <td>-0.130617</td>\n",
       "    </tr>\n",
       "    <tr>\n",
       "      <th>KBA13_ALTERHALTER_60</th>\n",
       "      <td>-0.131835</td>\n",
       "    </tr>\n",
       "    <tr>\n",
       "      <th>KBA13_KMH_140_210</th>\n",
       "      <td>-0.135490</td>\n",
       "    </tr>\n",
       "    <tr>\n",
       "      <th>KBA13_SITZE_5</th>\n",
       "      <td>-0.146284</td>\n",
       "    </tr>\n",
       "  </tbody>\n",
       "</table>\n",
       "</div>"
      ],
      "text/plain": [
       "                        weight\n",
       "KBA13_SEG_KLEINWAGEN -0.130056\n",
       "KBA13_HALTER_20      -0.130617\n",
       "KBA13_ALTERHALTER_60 -0.131835\n",
       "KBA13_KMH_140_210    -0.135490\n",
       "KBA13_SITZE_5        -0.146284"
      ]
     },
     "execution_count": 71,
     "metadata": {},
     "output_type": "execute_result"
    }
   ],
   "source": [
    "print(\"The second component is negatively influenced by the following features:\")\n",
    "map_component_to_features(pca, 1, azdias_transformed.columns).tail()"
   ]
  },
  {
   "cell_type": "markdown",
   "metadata": {},
   "source": [
    "This shows that component 2 is mainly determined by luxury and expensive cars owned."
   ]
  },
  {
   "cell_type": "code",
   "execution_count": 72,
   "metadata": {},
   "outputs": [
    {
     "name": "stdout",
     "output_type": "stream",
     "text": [
      "The third component explains 4.0% of the variance in the data and is determined largely by the following features:\n"
     ]
    },
    {
     "data": {
      "text/html": [
       "<div>\n",
       "<style scoped>\n",
       "    .dataframe tbody tr th:only-of-type {\n",
       "        vertical-align: middle;\n",
       "    }\n",
       "\n",
       "    .dataframe tbody tr th {\n",
       "        vertical-align: top;\n",
       "    }\n",
       "\n",
       "    .dataframe thead th {\n",
       "        text-align: right;\n",
       "    }\n",
       "</style>\n",
       "<table border=\"1\" class=\"dataframe\">\n",
       "  <thead>\n",
       "    <tr style=\"text-align: right;\">\n",
       "      <th></th>\n",
       "      <th>weight</th>\n",
       "    </tr>\n",
       "  </thead>\n",
       "  <tbody>\n",
       "    <tr>\n",
       "      <th>ALTERSKATEGORIE_GROB</th>\n",
       "      <td>0.217716</td>\n",
       "    </tr>\n",
       "    <tr>\n",
       "      <th>FINANZ_VORSORGER</th>\n",
       "      <td>0.212488</td>\n",
       "    </tr>\n",
       "    <tr>\n",
       "      <th>KOMBIALTER</th>\n",
       "      <td>0.175747</td>\n",
       "    </tr>\n",
       "    <tr>\n",
       "      <th>SEMIO_ERL</th>\n",
       "      <td>0.169764</td>\n",
       "    </tr>\n",
       "    <tr>\n",
       "      <th>SEMIO_LUST</th>\n",
       "      <td>0.162190</td>\n",
       "    </tr>\n",
       "  </tbody>\n",
       "</table>\n",
       "</div>"
      ],
      "text/plain": [
       "                        weight\n",
       "ALTERSKATEGORIE_GROB  0.217716\n",
       "FINANZ_VORSORGER      0.212488\n",
       "KOMBIALTER            0.175747\n",
       "SEMIO_ERL             0.169764\n",
       "SEMIO_LUST            0.162190"
      ]
     },
     "execution_count": 72,
     "metadata": {},
     "output_type": "execute_result"
    }
   ],
   "source": [
    "print(\"The third component explains {}% of the variance in the data and is determined largely by the following features:\".format(top_three_pca[2].round(2)*100))\n",
    "map_component_to_features(pca, 2, azdias_transformed.columns).head()"
   ]
  },
  {
   "cell_type": "code",
   "execution_count": 73,
   "metadata": {},
   "outputs": [
    {
     "name": "stdout",
     "output_type": "stream",
     "text": [
      "The third component is negatively influenced by the following features:\n"
     ]
    },
    {
     "data": {
      "text/html": [
       "<div>\n",
       "<style scoped>\n",
       "    .dataframe tbody tr th:only-of-type {\n",
       "        vertical-align: middle;\n",
       "    }\n",
       "\n",
       "    .dataframe tbody tr th {\n",
       "        vertical-align: top;\n",
       "    }\n",
       "\n",
       "    .dataframe thead th {\n",
       "        text-align: right;\n",
       "    }\n",
       "</style>\n",
       "<table border=\"1\" class=\"dataframe\">\n",
       "  <thead>\n",
       "    <tr style=\"text-align: right;\">\n",
       "      <th></th>\n",
       "      <th>weight</th>\n",
       "    </tr>\n",
       "  </thead>\n",
       "  <tbody>\n",
       "    <tr>\n",
       "      <th>FINANZ_UNAUFFAELLIGER</th>\n",
       "      <td>-0.202474</td>\n",
       "    </tr>\n",
       "    <tr>\n",
       "      <th>SEMIO_REL</th>\n",
       "      <td>-0.205689</td>\n",
       "    </tr>\n",
       "    <tr>\n",
       "      <th>SEMIO_PFLICHT</th>\n",
       "      <td>-0.211025</td>\n",
       "    </tr>\n",
       "    <tr>\n",
       "      <th>FINANZ_SPARER</th>\n",
       "      <td>-0.232614</td>\n",
       "    </tr>\n",
       "    <tr>\n",
       "      <th>GENERATION</th>\n",
       "      <td>-0.243960</td>\n",
       "    </tr>\n",
       "  </tbody>\n",
       "</table>\n",
       "</div>"
      ],
      "text/plain": [
       "                         weight\n",
       "FINANZ_UNAUFFAELLIGER -0.202474\n",
       "SEMIO_REL             -0.205689\n",
       "SEMIO_PFLICHT         -0.211025\n",
       "FINANZ_SPARER         -0.232614\n",
       "GENERATION            -0.243960"
      ]
     },
     "execution_count": 73,
     "metadata": {},
     "output_type": "execute_result"
    }
   ],
   "source": [
    "print(\"The third component is negatively influenced by the following features:\")\n",
    "map_component_to_features(pca, 2, azdias_transformed.columns).tail()"
   ]
  },
  {
   "cell_type": "markdown",
   "metadata": {},
   "source": [
    "This shows that component 3 is mainly determined by age, generation, religion, \"traditional-mindedness\" and money-saver behaviour."
   ]
  },
  {
   "cell_type": "markdown",
   "metadata": {},
   "source": [
    "## K-Means Clustering"
   ]
  },
  {
   "cell_type": "markdown",
   "metadata": {},
   "source": [
    "To find a K value, we start by selecting a range of centers value (K value). Then we compute the sum of squared error for the all the centers value/K value. Sum of squared error(SSE) is defined as the sum of the squared distance between each centroid and each member of the cluster. We then plot the centers value/K value against the SSE. Based on the plot, we should be able to observe that as K increases, SSE decreases. Hence, the idea of the algorithm is to choose the value of K at which the graph decreases abruptly - this produces the so-called \"elbow effect\"."
   ]
  },
  {
   "cell_type": "code",
   "execution_count": 74,
   "metadata": {},
   "outputs": [],
   "source": [
    "def get_kmeans_score(data, center, batch_size=20000):\n",
    "    '''\n",
    "    returns the kmeans score. This is the sum of the squared error for all the centers value.\n",
    "    Input:\n",
    "        data (dataframe) : the dataset you want to fit kmeans to\n",
    "        center (int) : the number of centers in the distribution (or equivalent to the K value)\n",
    "    \n",
    "    Output:\n",
    "        score (int) : the sum of the squared error for kmeans model fit to the data\n",
    "    '''\n",
    "    kmeans = MiniBatchKMeans(n_clusters=center, batch_size=batch_size, random_state=0)\n",
    "    model = kmeans.fit(data)\n",
    "    score = np.abs(model.score(data))\n",
    "    return score"
   ]
  },
  {
   "cell_type": "code",
   "execution_count": 75,
   "metadata": {},
   "outputs": [
    {
     "name": "stdout",
     "output_type": "stream",
     "text": [
      "1\n",
      "2\n",
      "3\n",
      "4\n",
      "5\n",
      "6\n",
      "7\n",
      "8\n",
      "9\n",
      "10\n",
      "11\n",
      "12\n",
      "13\n",
      "14\n",
      "15\n",
      "16\n",
      "17\n",
      "18\n",
      "19\n",
      "20\n",
      "21\n",
      "22\n",
      "23\n",
      "24\n",
      "25\n",
      "26\n",
      "27\n",
      "28\n",
      "29\n",
      "30\n"
     ]
    }
   ],
   "source": [
    "batch_size = 40000\n",
    "scores = []\n",
    "centers = list(range(1, 31, 1))\n",
    "\n",
    "for center in centers:\n",
    "    print(center)\n",
    "    scores.append(get_kmeans_score(azdias_pca_reduced, center, batch_size))"
   ]
  },
  {
   "cell_type": "code",
   "execution_count": 76,
   "metadata": {},
   "outputs": [
    {
     "data": {
      "image/png": "[encoded data removed]",
      "text/plain": [
       "<Figure size 1152x576 with 1 Axes>"
      ]
     },
     "metadata": {
      "needs_background": "light"
     },
     "output_type": "display_data"
    }
   ],
   "source": [
    "plt.figure(figsize=(16,8))\n",
    "plt.plot(centers, scores, '-o')\n",
    "plt.xlabel(\"Number of clusters, k\")\n",
    "plt.ylabel(\"Score/Sum of the squared error\")\n",
    "plt.title(\"Score vs No. of clusters\")\n",
    "plt.savefig('elbow_diagram.png', dpi=500)"
   ]
  },
  {
   "cell_type": "markdown",
   "metadata": {},
   "source": [
    "To determine the optimal number of clusters, we select k=12, because at this point, we can see a slight elbow forming."
   ]
  },
  {
   "cell_type": "markdown",
   "metadata": {},
   "source": [
    "## Clean customers dataset, transform, perform PCA and K-Means clustering"
   ]
  },
  {
   "cell_type": "code",
   "execution_count": 92,
   "metadata": {},
   "outputs": [],
   "source": [
    "# Set PCA and KMeans parameters and pipeline\n",
    "n_components = 170\n",
    "n_clusters = 12\n",
    "cluster_pipeline = Pipeline([\n",
    "    ('transform', column_transformer),\n",
    "    ('pca', PCA(n_components)),\n",
    "    ('kmeans', KMeans(n_clusters, random_state=0))\n",
    "])"
   ]
  },
  {
   "cell_type": "code",
   "execution_count": 94,
   "metadata": {},
   "outputs": [],
   "source": [
    "# Fit cluster pipeline to general population & create clustered general population dataframe\n",
    "cluster_pipeline.fit(azdias_cleaned)\n",
    "azdias_clustered = pd.DataFrame(cluster_pipeline.predict(azdias_cleaned), columns=['Cluster'])"
   ]
  },
  {
   "cell_type": "code",
   "execution_count": 95,
   "metadata": {},
   "outputs": [],
   "source": [
    "# Create clustered customers dataframe\n",
    "customers_clustered = pd.DataFrame(cluster_pipeline.predict(customers_cleaned), columns=['Cluster'])"
   ]
  },
  {
   "cell_type": "code",
   "execution_count": 96,
   "metadata": {},
   "outputs": [],
   "source": [
    "azdias_clustered.to_pickle('azdias_clustered.pkl')\n",
    "customers_clustered.to_pickle('customers_clustered.pkl')\n",
    "azdias_clustered = pd.read_pickle('azdias_clustered.pkl')\n",
    "customers_clustered = pd.read_pickle('customers_clustered.pkl')"
   ]
  },
  {
   "cell_type": "markdown",
   "metadata": {},
   "source": [
    "**Comparison of proportion of clustered datapoints for general population and customers clusters**"
   ]
  },
  {
   "cell_type": "code",
   "execution_count": 97,
   "metadata": {},
   "outputs": [],
   "source": [
    "general_clusters = azdias_clustered['Cluster'].value_counts().sort_index()"
   ]
  },
  {
   "cell_type": "code",
   "execution_count": 98,
   "metadata": {},
   "outputs": [
    {
     "data": {
      "text/plain": [
       "0     58890\n",
       "1     87789\n",
       "2     48268\n",
       "3     43351\n",
       "4     50695\n",
       "5     48927\n",
       "6     51450\n",
       "7     82257\n",
       "8     71104\n",
       "9     65458\n",
       "10    62610\n",
       "11    66438\n",
       "Name: Cluster, dtype: int64"
      ]
     },
     "execution_count": 98,
     "metadata": {},
     "output_type": "execute_result"
    }
   ],
   "source": [
    "general_clusters"
   ]
  },
  {
   "cell_type": "code",
   "execution_count": 99,
   "metadata": {},
   "outputs": [],
   "source": [
    "customer_clusters = customers_clustered['Cluster'].value_counts().sort_index()"
   ]
  },
  {
   "cell_type": "code",
   "execution_count": 100,
   "metadata": {},
   "outputs": [
    {
     "data": {
      "text/plain": [
       "0     14968\n",
       "1     42838\n",
       "2      2294\n",
       "3      5869\n",
       "4      2524\n",
       "5     22462\n",
       "6      3559\n",
       "7     19233\n",
       "8      1085\n",
       "9       747\n",
       "10     9570\n",
       "11     9096\n",
       "Name: Cluster, dtype: int64"
      ]
     },
     "execution_count": 100,
     "metadata": {},
     "output_type": "execute_result"
    }
   ],
   "source": [
    "customer_clusters"
   ]
  },
  {
   "cell_type": "code",
   "execution_count": 101,
   "metadata": {},
   "outputs": [],
   "source": [
    "clusters = pd.concat([general_clusters, customer_clusters], axis=1).reset_index()"
   ]
  },
  {
   "cell_type": "code",
   "execution_count": 102,
   "metadata": {},
   "outputs": [],
   "source": [
    "clusters.columns = ['cluster', 'general_count', 'customers_count']"
   ]
  },
  {
   "cell_type": "code",
   "execution_count": 103,
   "metadata": {},
   "outputs": [
    {
     "data": {
      "text/html": [
       "<div>\n",
       "<style scoped>\n",
       "    .dataframe tbody tr th:only-of-type {\n",
       "        vertical-align: middle;\n",
       "    }\n",
       "\n",
       "    .dataframe tbody tr th {\n",
       "        vertical-align: top;\n",
       "    }\n",
       "\n",
       "    .dataframe thead th {\n",
       "        text-align: right;\n",
       "    }\n",
       "</style>\n",
       "<table border=\"1\" class=\"dataframe\">\n",
       "  <thead>\n",
       "    <tr style=\"text-align: right;\">\n",
       "      <th></th>\n",
       "      <th>cluster</th>\n",
       "      <th>general_count</th>\n",
       "      <th>customers_count</th>\n",
       "    </tr>\n",
       "  </thead>\n",
       "  <tbody>\n",
       "    <tr>\n",
       "      <th>0</th>\n",
       "      <td>0</td>\n",
       "      <td>58890</td>\n",
       "      <td>14968</td>\n",
       "    </tr>\n",
       "    <tr>\n",
       "      <th>1</th>\n",
       "      <td>1</td>\n",
       "      <td>87789</td>\n",
       "      <td>42838</td>\n",
       "    </tr>\n",
       "    <tr>\n",
       "      <th>2</th>\n",
       "      <td>2</td>\n",
       "      <td>48268</td>\n",
       "      <td>2294</td>\n",
       "    </tr>\n",
       "    <tr>\n",
       "      <th>3</th>\n",
       "      <td>3</td>\n",
       "      <td>43351</td>\n",
       "      <td>5869</td>\n",
       "    </tr>\n",
       "    <tr>\n",
       "      <th>4</th>\n",
       "      <td>4</td>\n",
       "      <td>50695</td>\n",
       "      <td>2524</td>\n",
       "    </tr>\n",
       "    <tr>\n",
       "      <th>5</th>\n",
       "      <td>5</td>\n",
       "      <td>48927</td>\n",
       "      <td>22462</td>\n",
       "    </tr>\n",
       "    <tr>\n",
       "      <th>6</th>\n",
       "      <td>6</td>\n",
       "      <td>51450</td>\n",
       "      <td>3559</td>\n",
       "    </tr>\n",
       "    <tr>\n",
       "      <th>7</th>\n",
       "      <td>7</td>\n",
       "      <td>82257</td>\n",
       "      <td>19233</td>\n",
       "    </tr>\n",
       "    <tr>\n",
       "      <th>8</th>\n",
       "      <td>8</td>\n",
       "      <td>71104</td>\n",
       "      <td>1085</td>\n",
       "    </tr>\n",
       "    <tr>\n",
       "      <th>9</th>\n",
       "      <td>9</td>\n",
       "      <td>65458</td>\n",
       "      <td>747</td>\n",
       "    </tr>\n",
       "    <tr>\n",
       "      <th>10</th>\n",
       "      <td>10</td>\n",
       "      <td>62610</td>\n",
       "      <td>9570</td>\n",
       "    </tr>\n",
       "    <tr>\n",
       "      <th>11</th>\n",
       "      <td>11</td>\n",
       "      <td>66438</td>\n",
       "      <td>9096</td>\n",
       "    </tr>\n",
       "  </tbody>\n",
       "</table>\n",
       "</div>"
      ],
      "text/plain": [
       "    cluster  general_count  customers_count\n",
       "0         0          58890            14968\n",
       "1         1          87789            42838\n",
       "2         2          48268             2294\n",
       "3         3          43351             5869\n",
       "4         4          50695             2524\n",
       "5         5          48927            22462\n",
       "6         6          51450             3559\n",
       "7         7          82257            19233\n",
       "8         8          71104             1085\n",
       "9         9          65458              747\n",
       "10       10          62610             9570\n",
       "11       11          66438             9096"
      ]
     },
     "execution_count": 103,
     "metadata": {},
     "output_type": "execute_result"
    }
   ],
   "source": [
    "clusters"
   ]
  },
  {
   "cell_type": "code",
   "execution_count": 104,
   "metadata": {},
   "outputs": [],
   "source": [
    "clusters['general_share'] = ( clusters['general_count'] / clusters['general_count'].sum() ) * 100\n",
    "clusters['customers_share'] = ( clusters['customers_count'] / clusters['customers_count'].sum() ) * 100\n",
    "clusters['difference'] = clusters['customers_share'] - clusters['general_share']"
   ]
  },
  {
   "cell_type": "markdown",
   "metadata": {},
   "source": [
    "**Plot of clusters**"
   ]
  },
  {
   "cell_type": "code",
   "execution_count": 105,
   "metadata": {},
   "outputs": [
    {
     "data": {
      "image/png": "[encoded data removed]",
      "text/plain": [
       "<Figure size 1152x576 with 1 Axes>"
      ]
     },
     "metadata": {
      "needs_background": "light"
     },
     "output_type": "display_data"
    }
   ],
   "source": [
    "fig, ax = plt.subplots(figsize=(16, 8))\n",
    "index = np.arange(n_clusters)\n",
    "bar_width = 0.35\n",
    "\n",
    "ax.bar(index, clusters['general_share'], bar_width, label='general_share')\n",
    "ax.bar(index+bar_width, clusters['customers_share'], bar_width, label='customers_share')\n",
    "\n",
    "ax.set_xlabel(\"Cluster\")\n",
    "ax.set_ylabel(\"Percentage of total (%)\")\n",
    "ax.set_title(\"Percentage share of clusters in general population and customers dataset\")\n",
    "ax.set_xticks(index + bar_width / 2)\n",
    "ax.set_xticklabels(index)\n",
    "ax.legend()\n",
    "plt.savefig('share_of_clusters.png', dpi=500)"
   ]
  },
  {
   "cell_type": "markdown",
   "metadata": {},
   "source": [
    "**Plot of cluster differences**"
   ]
  },
  {
   "cell_type": "code",
   "execution_count": 106,
   "metadata": {},
   "outputs": [
    {
     "data": {
      "image/png": "[encoded data removed]",
      "text/plain": [
       "<Figure size 1152x576 with 1 Axes>"
      ]
     },
     "metadata": {
      "needs_background": "light"
     },
     "output_type": "display_data"
    }
   ],
   "source": [
    "fig, ax = plt.subplots(figsize=(16, 8))\n",
    "index = np.arange(n_clusters)\n",
    "bar_width = 0.35\n",
    "\n",
    "ax.bar(index, clusters['difference'], bar_width)\n",
    "ax.set_xlabel(\"Cluster\")\n",
    "ax.set_ylabel(\"Percentage difference in total share\")\n",
    "ax.set_title(\"Percentage difference in total share of each cluster for general population and customers dataset\")\n",
    "ax.set_xticks(index)\n",
    "ax.set_xticklabels(index)\n",
    "\n",
    "plt.savefig('cluster_difference.png', dpi=500)"
   ]
  },
  {
   "cell_type": "markdown",
   "metadata": {},
   "source": [
    "Clusters 1 and 5 are positively-represented while clusters 8 and 9 are negatively-represented."
   ]
  },
  {
   "cell_type": "markdown",
   "metadata": {},
   "source": [
    "**Obtain cluster attributes**"
   ]
  },
  {
   "cell_type": "code",
   "execution_count": 107,
   "metadata": {},
   "outputs": [],
   "source": [
    "def get_clusters_attributes(cluster_pipeline, numerical_columns, column_names):\n",
    "    '''\n",
    "    Input:\n",
    "        cluster_pipeline (object) : object of cluster_pipeline\n",
    "        num_attributes (list): list of numerical attributes which were rescaled\n",
    "        log_attributes (list): list of attributes which has logarithmic transformation and also were rescaled\n",
    "        column_names (list): names of all columns after Column Transformer operation\n",
    "    \n",
    "    Output:\n",
    "        cluster_centers_df (dataframe): Dataframe of cluster_centers with their attributes values\n",
    "    '''\n",
    "    pca_components = cluster_pipeline.named_steps['pca']\n",
    "    kmeans = cluster_pipeline.named_steps['kmeans']\n",
    "    transformer = cluster_pipeline.named_steps['transform']\n",
    "    \n",
    "    cluster_centers = pca_components.inverse_transform(kmeans.cluster_centers_)\n",
    "    cluster_centers_df = pd.DataFrame(data=cluster_centers, columns=column_names)\n",
    "    \n",
    "    num_scale = transformer.named_transformers_['numerical'].named_steps['numerical_scale']\n",
    "    \n",
    "    cluster_centers_df[numerical_columns] = num_scale.inverse_transform(cluster_centers_df[numerical_columns])\n",
    "    \n",
    "    return cluster_centers_df"
   ]
  },
  {
   "cell_type": "code",
   "execution_count": 108,
   "metadata": {},
   "outputs": [],
   "source": [
    "cluster_centers_df = get_clusters_attributes(cluster_pipeline, numerical_columns, column_names)"
   ]
  },
  {
   "cell_type": "code",
   "execution_count": 109,
   "metadata": {},
   "outputs": [
    {
     "data": {
      "text/html": [
       "<div>\n",
       "<style scoped>\n",
       "    .dataframe tbody tr th:only-of-type {\n",
       "        vertical-align: middle;\n",
       "    }\n",
       "\n",
       "    .dataframe tbody tr th {\n",
       "        vertical-align: top;\n",
       "    }\n",
       "\n",
       "    .dataframe thead th {\n",
       "        text-align: right;\n",
       "    }\n",
       "</style>\n",
       "<table border=\"1\" class=\"dataframe\">\n",
       "  <thead>\n",
       "    <tr style=\"text-align: right;\">\n",
       "      <th></th>\n",
       "      <th>EINGEFUEGT_AM</th>\n",
       "      <th>ANZ_HAUSHALTE_AKTIV</th>\n",
       "      <th>ANZ_PERSONEN</th>\n",
       "      <th>ANZ_STATISTISCHE_HAUSHALTE</th>\n",
       "      <th>KBA13_ANZAHL_PKW</th>\n",
       "      <th>MIN_GEBAEUDEJAHR</th>\n",
       "      <th>DSL_FLAG</th>\n",
       "      <th>GREEN_AVANTGARDE</th>\n",
       "      <th>HH_DELTA_FLAG</th>\n",
       "      <th>KBA05_SEG6</th>\n",
       "      <th>...</th>\n",
       "      <th>KBA13_SEG_MINIVANS</th>\n",
       "      <th>KBA13_FIAT</th>\n",
       "      <th>KBA13_HERST_ASIEN</th>\n",
       "      <th>KBA13_KMH_110</th>\n",
       "      <th>KBA13_SEG_MITTELKLASSE</th>\n",
       "      <th>KBA13_CCM_1600</th>\n",
       "      <th>KBA13_HALTER_65</th>\n",
       "      <th>KBA13_SEG_WOHNMOBILE</th>\n",
       "      <th>KBA13_BMW</th>\n",
       "      <th>KBA13_KMH_140</th>\n",
       "    </tr>\n",
       "  </thead>\n",
       "  <tbody>\n",
       "    <tr>\n",
       "      <th>0</th>\n",
       "      <td>0.260286</td>\n",
       "      <td>-0.813708</td>\n",
       "      <td>0.319098</td>\n",
       "      <td>-0.808381</td>\n",
       "      <td>-0.218824</td>\n",
       "      <td>0.314161</td>\n",
       "      <td>0.975798</td>\n",
       "      <td>0.148074</td>\n",
       "      <td>0.112352</td>\n",
       "      <td>0.107464</td>\n",
       "      <td>...</td>\n",
       "      <td>3.271826</td>\n",
       "      <td>2.972704</td>\n",
       "      <td>2.405512</td>\n",
       "      <td>1.332593</td>\n",
       "      <td>2.933712</td>\n",
       "      <td>3.067657</td>\n",
       "      <td>2.848247</td>\n",
       "      <td>2.571588</td>\n",
       "      <td>2.809924</td>\n",
       "      <td>2.760461</td>\n",
       "    </tr>\n",
       "    <tr>\n",
       "      <th>1</th>\n",
       "      <td>-0.086148</td>\n",
       "      <td>-0.816304</td>\n",
       "      <td>-0.015401</td>\n",
       "      <td>-0.793433</td>\n",
       "      <td>0.433556</td>\n",
       "      <td>-0.071384</td>\n",
       "      <td>0.996876</td>\n",
       "      <td>0.469798</td>\n",
       "      <td>0.101727</td>\n",
       "      <td>0.166602</td>\n",
       "      <td>...</td>\n",
       "      <td>3.375695</td>\n",
       "      <td>3.281349</td>\n",
       "      <td>2.892623</td>\n",
       "      <td>1.306646</td>\n",
       "      <td>2.881086</td>\n",
       "      <td>3.008290</td>\n",
       "      <td>3.351166</td>\n",
       "      <td>2.817360</td>\n",
       "      <td>3.239362</td>\n",
       "      <td>2.746179</td>\n",
       "    </tr>\n",
       "    <tr>\n",
       "      <th>2</th>\n",
       "      <td>-0.203621</td>\n",
       "      <td>1.074000</td>\n",
       "      <td>-0.356228</td>\n",
       "      <td>1.055601</td>\n",
       "      <td>-0.836120</td>\n",
       "      <td>-0.216977</td>\n",
       "      <td>0.991624</td>\n",
       "      <td>0.057430</td>\n",
       "      <td>0.064150</td>\n",
       "      <td>0.044708</td>\n",
       "      <td>...</td>\n",
       "      <td>2.238410</td>\n",
       "      <td>3.417839</td>\n",
       "      <td>2.880787</td>\n",
       "      <td>1.366479</td>\n",
       "      <td>2.926803</td>\n",
       "      <td>3.088164</td>\n",
       "      <td>2.337788</td>\n",
       "      <td>2.464678</td>\n",
       "      <td>3.231273</td>\n",
       "      <td>2.934362</td>\n",
       "    </tr>\n",
       "    <tr>\n",
       "      <th>3</th>\n",
       "      <td>-0.209078</td>\n",
       "      <td>0.888514</td>\n",
       "      <td>-0.302788</td>\n",
       "      <td>0.868057</td>\n",
       "      <td>-0.444523</td>\n",
       "      <td>-0.273016</td>\n",
       "      <td>0.997813</td>\n",
       "      <td>0.221787</td>\n",
       "      <td>0.077152</td>\n",
       "      <td>0.225014</td>\n",
       "      <td>...</td>\n",
       "      <td>2.265489</td>\n",
       "      <td>3.515346</td>\n",
       "      <td>2.326579</td>\n",
       "      <td>1.255276</td>\n",
       "      <td>3.225204</td>\n",
       "      <td>2.764186</td>\n",
       "      <td>3.395548</td>\n",
       "      <td>2.578349</td>\n",
       "      <td>4.256458</td>\n",
       "      <td>2.561288</td>\n",
       "    </tr>\n",
       "    <tr>\n",
       "      <th>4</th>\n",
       "      <td>0.180453</td>\n",
       "      <td>0.833793</td>\n",
       "      <td>-0.225524</td>\n",
       "      <td>0.860092</td>\n",
       "      <td>-0.421469</td>\n",
       "      <td>0.197223</td>\n",
       "      <td>0.971724</td>\n",
       "      <td>0.030313</td>\n",
       "      <td>0.062439</td>\n",
       "      <td>0.017878</td>\n",
       "      <td>...</td>\n",
       "      <td>2.902266</td>\n",
       "      <td>2.354160</td>\n",
       "      <td>4.499410</td>\n",
       "      <td>1.337516</td>\n",
       "      <td>3.775075</td>\n",
       "      <td>3.511635</td>\n",
       "      <td>2.495897</td>\n",
       "      <td>1.529630</td>\n",
       "      <td>2.132260</td>\n",
       "      <td>2.117211</td>\n",
       "    </tr>\n",
       "    <tr>\n",
       "      <th>5</th>\n",
       "      <td>-0.119177</td>\n",
       "      <td>-0.431790</td>\n",
       "      <td>0.105232</td>\n",
       "      <td>-0.432570</td>\n",
       "      <td>0.099278</td>\n",
       "      <td>-0.147023</td>\n",
       "      <td>0.999198</td>\n",
       "      <td>0.668909</td>\n",
       "      <td>0.104004</td>\n",
       "      <td>0.320413</td>\n",
       "      <td>...</td>\n",
       "      <td>2.834277</td>\n",
       "      <td>3.068399</td>\n",
       "      <td>2.373592</td>\n",
       "      <td>1.163698</td>\n",
       "      <td>2.897341</td>\n",
       "      <td>2.554121</td>\n",
       "      <td>4.025179</td>\n",
       "      <td>2.855833</td>\n",
       "      <td>4.167927</td>\n",
       "      <td>2.259445</td>\n",
       "    </tr>\n",
       "    <tr>\n",
       "      <th>6</th>\n",
       "      <td>0.528000</td>\n",
       "      <td>-0.642037</td>\n",
       "      <td>0.171108</td>\n",
       "      <td>-0.625506</td>\n",
       "      <td>-0.489106</td>\n",
       "      <td>0.662133</td>\n",
       "      <td>0.938394</td>\n",
       "      <td>0.106936</td>\n",
       "      <td>0.086884</td>\n",
       "      <td>0.063281</td>\n",
       "      <td>...</td>\n",
       "      <td>2.885360</td>\n",
       "      <td>2.176732</td>\n",
       "      <td>3.863273</td>\n",
       "      <td>1.494477</td>\n",
       "      <td>3.194145</td>\n",
       "      <td>3.376288</td>\n",
       "      <td>1.897660</td>\n",
       "      <td>1.470238</td>\n",
       "      <td>2.062850</td>\n",
       "      <td>2.354826</td>\n",
       "    </tr>\n",
       "    <tr>\n",
       "      <th>7</th>\n",
       "      <td>0.214813</td>\n",
       "      <td>-0.708518</td>\n",
       "      <td>0.846662</td>\n",
       "      <td>-0.710942</td>\n",
       "      <td>0.401534</td>\n",
       "      <td>0.222600</td>\n",
       "      <td>0.995465</td>\n",
       "      <td>0.451771</td>\n",
       "      <td>0.134248</td>\n",
       "      <td>0.151605</td>\n",
       "      <td>...</td>\n",
       "      <td>3.347198</td>\n",
       "      <td>3.265239</td>\n",
       "      <td>2.833553</td>\n",
       "      <td>1.312911</td>\n",
       "      <td>2.907633</td>\n",
       "      <td>2.994720</td>\n",
       "      <td>3.270574</td>\n",
       "      <td>2.761630</td>\n",
       "      <td>3.247692</td>\n",
       "      <td>2.743403</td>\n",
       "    </tr>\n",
       "    <tr>\n",
       "      <th>8</th>\n",
       "      <td>0.032421</td>\n",
       "      <td>-0.257878</td>\n",
       "      <td>-0.195166</td>\n",
       "      <td>-0.274260</td>\n",
       "      <td>0.452167</td>\n",
       "      <td>0.036167</td>\n",
       "      <td>0.995466</td>\n",
       "      <td>0.189040</td>\n",
       "      <td>0.084837</td>\n",
       "      <td>0.133077</td>\n",
       "      <td>...</td>\n",
       "      <td>3.375830</td>\n",
       "      <td>3.267381</td>\n",
       "      <td>2.782220</td>\n",
       "      <td>1.336665</td>\n",
       "      <td>2.918562</td>\n",
       "      <td>2.965627</td>\n",
       "      <td>3.212663</td>\n",
       "      <td>2.790760</td>\n",
       "      <td>3.210691</td>\n",
       "      <td>2.808880</td>\n",
       "    </tr>\n",
       "    <tr>\n",
       "      <th>9</th>\n",
       "      <td>-0.222533</td>\n",
       "      <td>0.693343</td>\n",
       "      <td>-0.117791</td>\n",
       "      <td>0.674862</td>\n",
       "      <td>-0.038422</td>\n",
       "      <td>-0.251621</td>\n",
       "      <td>0.997483</td>\n",
       "      <td>0.043112</td>\n",
       "      <td>0.083669</td>\n",
       "      <td>0.064287</td>\n",
       "      <td>...</td>\n",
       "      <td>2.949964</td>\n",
       "      <td>3.324979</td>\n",
       "      <td>3.222941</td>\n",
       "      <td>1.286471</td>\n",
       "      <td>3.215960</td>\n",
       "      <td>3.065093</td>\n",
       "      <td>3.431861</td>\n",
       "      <td>2.657322</td>\n",
       "      <td>3.149826</td>\n",
       "      <td>2.884781</td>\n",
       "    </tr>\n",
       "    <tr>\n",
       "      <th>10</th>\n",
       "      <td>-0.252728</td>\n",
       "      <td>0.513040</td>\n",
       "      <td>-0.243037</td>\n",
       "      <td>0.505932</td>\n",
       "      <td>-0.212550</td>\n",
       "      <td>-0.285878</td>\n",
       "      <td>0.995898</td>\n",
       "      <td>0.079570</td>\n",
       "      <td>0.078968</td>\n",
       "      <td>0.070700</td>\n",
       "      <td>...</td>\n",
       "      <td>2.800352</td>\n",
       "      <td>3.347152</td>\n",
       "      <td>3.276445</td>\n",
       "      <td>1.321684</td>\n",
       "      <td>3.013948</td>\n",
       "      <td>3.025160</td>\n",
       "      <td>3.479522</td>\n",
       "      <td>2.618720</td>\n",
       "      <td>3.027185</td>\n",
       "      <td>3.062109</td>\n",
       "    </tr>\n",
       "    <tr>\n",
       "      <th>11</th>\n",
       "      <td>-0.134479</td>\n",
       "      <td>0.605756</td>\n",
       "      <td>-0.338166</td>\n",
       "      <td>0.610674</td>\n",
       "      <td>0.402584</td>\n",
       "      <td>-0.200229</td>\n",
       "      <td>0.999869</td>\n",
       "      <td>0.064895</td>\n",
       "      <td>0.070609</td>\n",
       "      <td>0.066517</td>\n",
       "      <td>...</td>\n",
       "      <td>3.175084</td>\n",
       "      <td>3.296295</td>\n",
       "      <td>2.880819</td>\n",
       "      <td>1.277874</td>\n",
       "      <td>3.117830</td>\n",
       "      <td>2.940466</td>\n",
       "      <td>3.443074</td>\n",
       "      <td>2.773721</td>\n",
       "      <td>3.457935</td>\n",
       "      <td>2.680018</td>\n",
       "    </tr>\n",
       "  </tbody>\n",
       "</table>\n",
       "<p>12 rows × 436 columns</p>\n",
       "</div>"
      ],
      "text/plain": [
       "    EINGEFUEGT_AM  ANZ_HAUSHALTE_AKTIV  ANZ_PERSONEN  \\\n",
       "0        0.260286            -0.813708      0.319098   \n",
       "1       -0.086148            -0.816304     -0.015401   \n",
       "2       -0.203621             1.074000     -0.356228   \n",
       "3       -0.209078             0.888514     -0.302788   \n",
       "4        0.180453             0.833793     -0.225524   \n",
       "5       -0.119177            -0.431790      0.105232   \n",
       "6        0.528000            -0.642037      0.171108   \n",
       "7        0.214813            -0.708518      0.846662   \n",
       "8        0.032421            -0.257878     -0.195166   \n",
       "9       -0.222533             0.693343     -0.117791   \n",
       "10      -0.252728             0.513040     -0.243037   \n",
       "11      -0.134479             0.605756     -0.338166   \n",
       "\n",
       "    ANZ_STATISTISCHE_HAUSHALTE  KBA13_ANZAHL_PKW  MIN_GEBAEUDEJAHR  DSL_FLAG  \\\n",
       "0                    -0.808381         -0.218824          0.314161  0.975798   \n",
       "1                    -0.793433          0.433556         -0.071384  0.996876   \n",
       "2                     1.055601         -0.836120         -0.216977  0.991624   \n",
       "3                     0.868057         -0.444523         -0.273016  0.997813   \n",
       "4                     0.860092         -0.421469          0.197223  0.971724   \n",
       "5                    -0.432570          0.099278         -0.147023  0.999198   \n",
       "6                    -0.625506         -0.489106          0.662133  0.938394   \n",
       "7                    -0.710942          0.401534          0.222600  0.995465   \n",
       "8                    -0.274260          0.452167          0.036167  0.995466   \n",
       "9                     0.674862         -0.038422         -0.251621  0.997483   \n",
       "10                    0.505932         -0.212550         -0.285878  0.995898   \n",
       "11                    0.610674          0.402584         -0.200229  0.999869   \n",
       "\n",
       "    GREEN_AVANTGARDE  HH_DELTA_FLAG  KBA05_SEG6  ...  KBA13_SEG_MINIVANS  \\\n",
       "0           0.148074       0.112352    0.107464  ...            3.271826   \n",
       "1           0.469798       0.101727    0.166602  ...            3.375695   \n",
       "2           0.057430       0.064150    0.044708  ...            2.238410   \n",
       "3           0.221787       0.077152    0.225014  ...            2.265489   \n",
       "4           0.030313       0.062439    0.017878  ...            2.902266   \n",
       "5           0.668909       0.104004    0.320413  ...            2.834277   \n",
       "6           0.106936       0.086884    0.063281  ...            2.885360   \n",
       "7           0.451771       0.134248    0.151605  ...            3.347198   \n",
       "8           0.189040       0.084837    0.133077  ...            3.375830   \n",
       "9           0.043112       0.083669    0.064287  ...            2.949964   \n",
       "10          0.079570       0.078968    0.070700  ...            2.800352   \n",
       "11          0.064895       0.070609    0.066517  ...            3.175084   \n",
       "\n",
       "    KBA13_FIAT  KBA13_HERST_ASIEN  KBA13_KMH_110  KBA13_SEG_MITTELKLASSE  \\\n",
       "0     2.972704           2.405512       1.332593                2.933712   \n",
       "1     3.281349           2.892623       1.306646                2.881086   \n",
       "2     3.417839           2.880787       1.366479                2.926803   \n",
       "3     3.515346           2.326579       1.255276                3.225204   \n",
       "4     2.354160           4.499410       1.337516                3.775075   \n",
       "5     3.068399           2.373592       1.163698                2.897341   \n",
       "6     2.176732           3.863273       1.494477                3.194145   \n",
       "7     3.265239           2.833553       1.312911                2.907633   \n",
       "8     3.267381           2.782220       1.336665                2.918562   \n",
       "9     3.324979           3.222941       1.286471                3.215960   \n",
       "10    3.347152           3.276445       1.321684                3.013948   \n",
       "11    3.296295           2.880819       1.277874                3.117830   \n",
       "\n",
       "    KBA13_CCM_1600  KBA13_HALTER_65  KBA13_SEG_WOHNMOBILE  KBA13_BMW  \\\n",
       "0         3.067657         2.848247              2.571588   2.809924   \n",
       "1         3.008290         3.351166              2.817360   3.239362   \n",
       "2         3.088164         2.337788              2.464678   3.231273   \n",
       "3         2.764186         3.395548              2.578349   4.256458   \n",
       "4         3.511635         2.495897              1.529630   2.132260   \n",
       "5         2.554121         4.025179              2.855833   4.167927   \n",
       "6         3.376288         1.897660              1.470238   2.062850   \n",
       "7         2.994720         3.270574              2.761630   3.247692   \n",
       "8         2.965627         3.212663              2.790760   3.210691   \n",
       "9         3.065093         3.431861              2.657322   3.149826   \n",
       "10        3.025160         3.479522              2.618720   3.027185   \n",
       "11        2.940466         3.443074              2.773721   3.457935   \n",
       "\n",
       "    KBA13_KMH_140  \n",
       "0        2.760461  \n",
       "1        2.746179  \n",
       "2        2.934362  \n",
       "3        2.561288  \n",
       "4        2.117211  \n",
       "5        2.259445  \n",
       "6        2.354826  \n",
       "7        2.743403  \n",
       "8        2.808880  \n",
       "9        2.884781  \n",
       "10       3.062109  \n",
       "11       2.680018  \n",
       "\n",
       "[12 rows x 436 columns]"
      ]
     },
     "execution_count": 109,
     "metadata": {},
     "output_type": "execute_result"
    }
   ],
   "source": [
    "cluster_centers_df"
   ]
  },
  {
   "cell_type": "code",
   "execution_count": 110,
   "metadata": {},
   "outputs": [],
   "source": [
    "positive_cluster1 = 1\n",
    "positive_cluster2 = 5\n",
    "negative_cluster1 = 8\n",
    "negative_cluster2 = 9\n",
    "\n",
    "comparison_df = cluster_centers_df.T[[1, 5, 8, 9]]\n",
    "comparison_df.columns = ['positive_cluster1', 'positive_cluster2', 'negative_cluster1', 'negative_cluster2']"
   ]
  },
  {
   "cell_type": "code",
   "execution_count": 111,
   "metadata": {},
   "outputs": [],
   "source": [
    "comparison_df_std = comparison_df[comparison_df.std(axis=1) > 1]"
   ]
  },
  {
   "cell_type": "code",
   "execution_count": 112,
   "metadata": {},
   "outputs": [
    {
     "data": {
      "text/html": [
       "<div>\n",
       "<style scoped>\n",
       "    .dataframe tbody tr th:only-of-type {\n",
       "        vertical-align: middle;\n",
       "    }\n",
       "\n",
       "    .dataframe tbody tr th {\n",
       "        vertical-align: top;\n",
       "    }\n",
       "\n",
       "    .dataframe thead th {\n",
       "        text-align: right;\n",
       "    }\n",
       "</style>\n",
       "<table border=\"1\" class=\"dataframe\">\n",
       "  <thead>\n",
       "    <tr style=\"text-align: right;\">\n",
       "      <th></th>\n",
       "      <th>positive_cluster1</th>\n",
       "      <th>positive_cluster2</th>\n",
       "      <th>negative_cluster1</th>\n",
       "      <th>negative_cluster2</th>\n",
       "    </tr>\n",
       "  </thead>\n",
       "  <tbody>\n",
       "    <tr>\n",
       "      <th>SEMIO_KULT</th>\n",
       "      <td>3.390980</td>\n",
       "      <td>3.708336</td>\n",
       "      <td>5.169783</td>\n",
       "      <td>5.455969</td>\n",
       "    </tr>\n",
       "    <tr>\n",
       "      <th>D19_GESAMT_ONLINE_QUOTE_12</th>\n",
       "      <td>1.188808</td>\n",
       "      <td>3.179372</td>\n",
       "      <td>0.700759</td>\n",
       "      <td>2.889749</td>\n",
       "    </tr>\n",
       "    <tr>\n",
       "      <th>SEMIO_LUST</th>\n",
       "      <td>5.487079</td>\n",
       "      <td>4.868135</td>\n",
       "      <td>3.194223</td>\n",
       "      <td>2.848390</td>\n",
       "    </tr>\n",
       "    <tr>\n",
       "      <th>FINANZ_SPARER</th>\n",
       "      <td>1.296134</td>\n",
       "      <td>2.154606</td>\n",
       "      <td>4.098786</td>\n",
       "      <td>4.425177</td>\n",
       "    </tr>\n",
       "    <tr>\n",
       "      <th>FINANZ_MINIMALIST</th>\n",
       "      <td>4.428936</td>\n",
       "      <td>3.663659</td>\n",
       "      <td>2.276622</td>\n",
       "      <td>1.527996</td>\n",
       "    </tr>\n",
       "    <tr>\n",
       "      <th>FINANZ_UNAUFFAELLIGER</th>\n",
       "      <td>1.845222</td>\n",
       "      <td>2.661640</td>\n",
       "      <td>4.043443</td>\n",
       "      <td>3.758124</td>\n",
       "    </tr>\n",
       "    <tr>\n",
       "      <th>GENERATION</th>\n",
       "      <td>6.014793</td>\n",
       "      <td>7.011037</td>\n",
       "      <td>8.612618</td>\n",
       "      <td>8.632926</td>\n",
       "    </tr>\n",
       "    <tr>\n",
       "      <th>SEMIO_TRADV</th>\n",
       "      <td>2.666127</td>\n",
       "      <td>3.619860</td>\n",
       "      <td>5.305816</td>\n",
       "      <td>5.333789</td>\n",
       "    </tr>\n",
       "    <tr>\n",
       "      <th>SEMIO_PFLICHT</th>\n",
       "      <td>2.915480</td>\n",
       "      <td>3.680781</td>\n",
       "      <td>5.880629</td>\n",
       "      <td>6.066300</td>\n",
       "    </tr>\n",
       "    <tr>\n",
       "      <th>EINGEZOGENAM_HH_JAHR</th>\n",
       "      <td>1999.942163</td>\n",
       "      <td>2002.819713</td>\n",
       "      <td>2005.588961</td>\n",
       "      <td>2006.930659</td>\n",
       "    </tr>\n",
       "    <tr>\n",
       "      <th>FINANZ_ANLEGER</th>\n",
       "      <td>1.706023</td>\n",
       "      <td>1.953474</td>\n",
       "      <td>4.086049</td>\n",
       "      <td>3.982268</td>\n",
       "    </tr>\n",
       "    <tr>\n",
       "      <th>HH_EINKOMMEN_SCORE</th>\n",
       "      <td>3.159838</td>\n",
       "      <td>2.922414</td>\n",
       "      <td>4.394139</td>\n",
       "      <td>5.692894</td>\n",
       "    </tr>\n",
       "    <tr>\n",
       "      <th>D19_VERSAND_ONLINE_QUOTE_12</th>\n",
       "      <td>0.928531</td>\n",
       "      <td>2.932432</td>\n",
       "      <td>0.561418</td>\n",
       "      <td>2.597041</td>\n",
       "    </tr>\n",
       "    <tr>\n",
       "      <th>WEALTH</th>\n",
       "      <td>2.248932</td>\n",
       "      <td>2.121247</td>\n",
       "      <td>2.701643</td>\n",
       "      <td>4.465122</td>\n",
       "    </tr>\n",
       "    <tr>\n",
       "      <th>SEMIO_ERL</th>\n",
       "      <td>5.409487</td>\n",
       "      <td>4.694577</td>\n",
       "      <td>3.471336</td>\n",
       "      <td>3.299261</td>\n",
       "    </tr>\n",
       "    <tr>\n",
       "      <th>ORTSGR_KLS9</th>\n",
       "      <td>4.541447</td>\n",
       "      <td>6.223346</td>\n",
       "      <td>4.154017</td>\n",
       "      <td>6.544858</td>\n",
       "    </tr>\n",
       "    <tr>\n",
       "      <th>SEMIO_REL</th>\n",
       "      <td>2.817785</td>\n",
       "      <td>3.462382</td>\n",
       "      <td>5.560400</td>\n",
       "      <td>5.873922</td>\n",
       "    </tr>\n",
       "    <tr>\n",
       "      <th>FINANZ_VORSORGER</th>\n",
       "      <td>4.636497</td>\n",
       "      <td>3.805388</td>\n",
       "      <td>2.258766</td>\n",
       "      <td>2.228924</td>\n",
       "    </tr>\n",
       "    <tr>\n",
       "      <th>CAMEO_DEUG_2015</th>\n",
       "      <td>3.776982</td>\n",
       "      <td>3.495023</td>\n",
       "      <td>4.588467</td>\n",
       "      <td>7.587349</td>\n",
       "    </tr>\n",
       "    <tr>\n",
       "      <th>SEMIO_MAT</th>\n",
       "      <td>2.835536</td>\n",
       "      <td>3.681739</td>\n",
       "      <td>4.987129</td>\n",
       "      <td>5.056515</td>\n",
       "    </tr>\n",
       "    <tr>\n",
       "      <th>SEMIO_RAT</th>\n",
       "      <td>2.878243</td>\n",
       "      <td>3.638527</td>\n",
       "      <td>5.084416</td>\n",
       "      <td>5.262348</td>\n",
       "    </tr>\n",
       "  </tbody>\n",
       "</table>\n",
       "</div>"
      ],
      "text/plain": [
       "                             positive_cluster1  positive_cluster2  \\\n",
       "SEMIO_KULT                            3.390980           3.708336   \n",
       "D19_GESAMT_ONLINE_QUOTE_12            1.188808           3.179372   \n",
       "SEMIO_LUST                            5.487079           4.868135   \n",
       "FINANZ_SPARER                         1.296134           2.154606   \n",
       "FINANZ_MINIMALIST                     4.428936           3.663659   \n",
       "FINANZ_UNAUFFAELLIGER                 1.845222           2.661640   \n",
       "GENERATION                            6.014793           7.011037   \n",
       "SEMIO_TRADV                           2.666127           3.619860   \n",
       "SEMIO_PFLICHT                         2.915480           3.680781   \n",
       "EINGEZOGENAM_HH_JAHR               1999.942163        2002.819713   \n",
       "FINANZ_ANLEGER                        1.706023           1.953474   \n",
       "HH_EINKOMMEN_SCORE                    3.159838           2.922414   \n",
       "D19_VERSAND_ONLINE_QUOTE_12           0.928531           2.932432   \n",
       "WEALTH                                2.248932           2.121247   \n",
       "SEMIO_ERL                             5.409487           4.694577   \n",
       "ORTSGR_KLS9                           4.541447           6.223346   \n",
       "SEMIO_REL                             2.817785           3.462382   \n",
       "FINANZ_VORSORGER                      4.636497           3.805388   \n",
       "CAMEO_DEUG_2015                       3.776982           3.495023   \n",
       "SEMIO_MAT                             2.835536           3.681739   \n",
       "SEMIO_RAT                             2.878243           3.638527   \n",
       "\n",
       "                             negative_cluster1  negative_cluster2  \n",
       "SEMIO_KULT                            5.169783           5.455969  \n",
       "D19_GESAMT_ONLINE_QUOTE_12            0.700759           2.889749  \n",
       "SEMIO_LUST                            3.194223           2.848390  \n",
       "FINANZ_SPARER                         4.098786           4.425177  \n",
       "FINANZ_MINIMALIST                     2.276622           1.527996  \n",
       "FINANZ_UNAUFFAELLIGER                 4.043443           3.758124  \n",
       "GENERATION                            8.612618           8.632926  \n",
       "SEMIO_TRADV                           5.305816           5.333789  \n",
       "SEMIO_PFLICHT                         5.880629           6.066300  \n",
       "EINGEZOGENAM_HH_JAHR               2005.588961        2006.930659  \n",
       "FINANZ_ANLEGER                        4.086049           3.982268  \n",
       "HH_EINKOMMEN_SCORE                    4.394139           5.692894  \n",
       "D19_VERSAND_ONLINE_QUOTE_12           0.561418           2.597041  \n",
       "WEALTH                                2.701643           4.465122  \n",
       "SEMIO_ERL                             3.471336           3.299261  \n",
       "ORTSGR_KLS9                           4.154017           6.544858  \n",
       "SEMIO_REL                             5.560400           5.873922  \n",
       "FINANZ_VORSORGER                      2.258766           2.228924  \n",
       "CAMEO_DEUG_2015                       4.588467           7.587349  \n",
       "SEMIO_MAT                             4.987129           5.056515  \n",
       "SEMIO_RAT                             5.084416           5.262348  "
      ]
     },
     "execution_count": 112,
     "metadata": {},
     "output_type": "execute_result"
    }
   ],
   "source": [
    "comparison_df_std"
   ]
  },
  {
   "cell_type": "markdown",
   "metadata": {},
   "source": [
    "Observing the positive and negative clusters for the highest difference between them, we can identify attributes of groups of people that would be positively interested by the marketing, as well as those negatively interested by it.\n",
    "\n",
    "The positively interested clusters/positive targets for the marketing campaign are those that have the following attributes:\n",
    "- High affinity to be culturally minded\n",
    "- Low affinity to be sensual minded\n",
    "- A money saver\n",
    "- Has low finance interest/debt\n",
    "- Has a good/remarkable financial standing\n",
    "- Coming of age in the 1970s and 1960s\n",
    "- Traditional minded\n",
    "- Dutiful\n",
    "- Is an investor or have investments\n",
    "- Has a high household net income\n",
    "- Wealthy\n",
    "- Less inclined to events\n",
    "- Religiously inclined\n",
    "- Has financial planning\n",
    "- Are from the established middle-class and consumption middle-class\n",
    "- Highly material minded\n",
    "- Very rational-minded\n",
    "\n",
    "The negatively interested clusters/negative targets for the marketing campaign are those that have the following attributes (generally the opposite of the positively interested clusters):\n",
    "- Not culturally minded\n",
    "- High affinity to be sensual minded\n",
    "- Does not have money saving habits\n",
    "- Has high finance interest/debt\n",
    "- Has low financial standing\n",
    "- Coming of age in the 1980s\n",
    "- Not traditional minded\n",
    "- Not dutiful\n",
    "- Does not invest or have investments\n",
    "- Has a low household net income\n",
    "- Poor\n",
    "- Inclined to events\n",
    "- Not religious\n",
    "- No financial planning\n",
    "- Are from the lower middle-class and working-class\n",
    "- Less material minded\n",
    "- Not rational-minded"
   ]
  },
  {
   "cell_type": "code",
   "execution_count": 113,
   "metadata": {},
   "outputs": [],
   "source": [
    "comparison_df.to_pickle('comparison_df.pkl')"
   ]
  },
  {
   "cell_type": "code",
   "execution_count": 114,
   "metadata": {},
   "outputs": [],
   "source": [
    "comparison_df = pd.read_pickle('comparison_df.pkl')"
   ]
  },
  {
   "cell_type": "markdown",
   "metadata": {},
   "source": [
    "## Part 2: Supervised Learning Model\n",
    "\n",
    "Now that you've found which parts of the population are more likely to be customers of the mail-order company, it's time to build a prediction model. Each of the rows in the \"MAILOUT\" data files represents an individual that was targeted for a mailout campaign. Ideally, we should be able to use the demographic information from each individual to decide whether or not it will be worth it to include that person in the campaign.\n",
    "\n",
    "The \"MAILOUT\" data has been split into two approximately equal parts, each with almost 43 000 data rows. In this part, you can verify your model with the \"TRAIN\" partition, which includes a column, \"RESPONSE\", that states whether or not a person became a customer of the company following the campaign. In the next part, you'll need to create predictions on the \"TEST\" partition, where the \"RESPONSE\" column has been withheld."
   ]
  },
  {
   "cell_type": "code",
   "execution_count": 115,
   "metadata": {},
   "outputs": [],
   "source": [
    "mailout_train = pd.read_csv('./Udacity_MAILOUT_052018_TRAIN.csv', sep=';', low_memory=False)"
   ]
  },
  {
   "cell_type": "code",
   "execution_count": 116,
   "metadata": {},
   "outputs": [
    {
     "data": {
      "text/plain": [
       "(42962, 367)"
      ]
     },
     "execution_count": 116,
     "metadata": {},
     "output_type": "execute_result"
    }
   ],
   "source": [
    "mailout_train.shape"
   ]
  },
  {
   "cell_type": "code",
   "execution_count": 117,
   "metadata": {},
   "outputs": [
    {
     "data": {
      "text/plain": [
       "0    42430\n",
       "1      532\n",
       "Name: RESPONSE, dtype: int64"
      ]
     },
     "execution_count": 117,
     "metadata": {},
     "output_type": "execute_result"
    }
   ],
   "source": [
    "mailout_train['RESPONSE'].value_counts()"
   ]
  },
  {
   "cell_type": "code",
   "execution_count": 118,
   "metadata": {},
   "outputs": [],
   "source": [
    "mailout_train_cleaned = clean_data(mailout_train, test_data=True)"
   ]
  },
  {
   "cell_type": "code",
   "execution_count": 119,
   "metadata": {},
   "outputs": [
    {
     "name": "stdout",
     "output_type": "stream",
     "text": [
      "(42962, 293)\n"
     ]
    }
   ],
   "source": [
    "print(mailout_train_cleaned.shape)"
   ]
  },
  {
   "cell_type": "code",
   "execution_count": 120,
   "metadata": {},
   "outputs": [
    {
     "name": "stdout",
     "output_type": "stream",
     "text": [
      "float64    249\n",
      "int64       44\n",
      "dtype: int64\n"
     ]
    }
   ],
   "source": [
    "print(mailout_train_cleaned.dtypes.value_counts())"
   ]
  },
  {
   "cell_type": "code",
   "execution_count": 121,
   "metadata": {},
   "outputs": [],
   "source": [
    "X_train = mailout_train_cleaned.drop(['RESPONSE'], axis=1)\n",
    "y_train = mailout_train_cleaned['RESPONSE']"
   ]
  },
  {
   "cell_type": "markdown",
   "metadata": {},
   "source": [
    "From here onwards, we shall choose 2 types of algorithm for our supervised learning algorithm. As our project involves binary classification - 1 for customer and 0 for non-customer, there are several algorithms to choose from.</br>\n",
    "\n",
    "Here, we shall select **logistic regression as our benchmark model**. Subsequently, we shall seek to make improvement from the benchmark model by using classifiers such as RandomForestClassifier, AdaBoostClassifier and GradientBoostingClassifier model."
   ]
  },
  {
   "cell_type": "code",
   "execution_count": 122,
   "metadata": {},
   "outputs": [],
   "source": [
    "models = {'LogisticRegression': LogisticRegression(C=0.01),\n",
    "          'RandomForestClassifier': RandomForestClassifier(),\n",
    "          'AdaBoostClassifier': AdaBoostClassifier(),\n",
    "          'GradientBoostingClassifier': GradientBoostingClassifier(),\n",
    "          'XGBClassifier': xgb.XGBClassifier()\n",
    "         }"
   ]
  },
  {
   "cell_type": "code",
   "execution_count": 123,
   "metadata": {},
   "outputs": [],
   "source": [
    "def randomize(X, y):\n",
    "    X2 = pd.concat([X,y], axis=1)\n",
    "    X2 = X2.sample(frac=1, random_state=0)\n",
    "    y2 = X2['RESPONSE']\n",
    "    X2 = X2.drop(['RESPONSE'], axis=1)\n",
    "    \n",
    "    return X2, y2"
   ]
  },
  {
   "cell_type": "code",
   "execution_count": 124,
   "metadata": {},
   "outputs": [],
   "source": [
    "def plot_learning_curves(X, y, estimator, n_trainings):\n",
    "    train_sizes, train_scores, test_scores = learning_curve(\n",
    "        estimator, X, y, train_sizes=np.linspace(.1, 1.0, n_trainings), cv=None, scoring='roc_auc')\n",
    "    \n",
    "    train_scores_mean = np.mean(train_scores, axis=1)\n",
    "    test_scores_mean = np.mean(test_scores, axis=1)\n",
    "    \n",
    "    roc_auc_train_score = train_scores_mean[-1].round(2)\n",
    "    roc_auc_validation_score = test_scores_mean[-1].round(2)\n",
    "    \n",
    "    print(\"ROC_AUC Train Score: {}\".format(roc_auc_train_score))\n",
    "    print(\"ROC_AUC Validation/Test Score: {}\".format(roc_auc_validation_score))\n",
    "    \n",
    "    plt.grid()\n",
    "    plt.xlabel(\"Percentage of training\")\n",
    "    plt.ylabel(\"Score\")\n",
    "    plt.title(\"Learning curves\")\n",
    "    plt.plot(np.linspace(0.1, 1.0, n_trainings)*100, train_scores_mean, 'o-', color='b', label='train' )\n",
    "    plt.plot(np.linspace(0.1, 1.0, n_trainings)*100, test_scores_mean, 'o-', color='g', label='test' )\n",
    "    \n",
    "    plt.yticks(np.arange(0.45, 1.02, 0.05))\n",
    "    plt.xticks(np.arange(0., 100.05, 10))\n",
    "    plt.show()"
   ]
  },
  {
   "cell_type": "markdown",
   "metadata": {},
   "source": [
    "The pipeline consists of two parts, a transformer from the pre-processing section of this project and a classifier:"
   ]
  },
  {
   "cell_type": "code",
   "execution_count": 125,
   "metadata": {},
   "outputs": [
    {
     "name": "stdout",
     "output_type": "stream",
     "text": [
      "LogisticRegression\n",
      "ROC_AUC Train Score: 0.8\n",
      "ROC_AUC Validation/Test Score: 0.68\n"
     ]
    },
    {
     "data": {
      "image/png": "[encoded data removed]",
      "text/plain": [
       "<Figure size 432x288 with 1 Axes>"
      ]
     },
     "metadata": {
      "needs_background": "light"
     },
     "output_type": "display_data"
    },
    {
     "name": "stdout",
     "output_type": "stream",
     "text": [
      "RandomForestClassifier\n",
      "ROC_AUC Train Score: 0.97\n",
      "ROC_AUC Validation/Test Score: 0.61\n"
     ]
    },
    {
     "data": {
      "image/png": "[encoded data removed]",
      "text/plain": [
       "<Figure size 432x288 with 1 Axes>"
      ]
     },
     "metadata": {
      "needs_background": "light"
     },
     "output_type": "display_data"
    },
    {
     "name": "stdout",
     "output_type": "stream",
     "text": [
      "AdaBoostClassifier\n",
      "ROC_AUC Train Score: 0.83\n",
      "ROC_AUC Validation/Test Score: 0.73\n"
     ]
    },
    {
     "data": {
      "image/png": "[encoded data removed]",
      "text/plain": [
       "<Figure size 432x288 with 1 Axes>"
      ]
     },
     "metadata": {
      "needs_background": "light"
     },
     "output_type": "display_data"
    },
    {
     "name": "stdout",
     "output_type": "stream",
     "text": [
      "GradientBoostingClassifier\n",
      "ROC_AUC Train Score: 0.91\n",
      "ROC_AUC Validation/Test Score: 0.75\n"
     ]
    },
    {
     "data": {
      "image/png": "[encoded data removed]",
      "text/plain": [
       "<Figure size 432x288 with 1 Axes>"
      ]
     },
     "metadata": {
      "needs_background": "light"
     },
     "output_type": "display_data"
    },
    {
     "name": "stdout",
     "output_type": "stream",
     "text": [
      "XGBClassifier\n",
      "ROC_AUC Train Score: 0.99\n",
      "ROC_AUC Validation/Test Score: 0.68\n"
     ]
    },
    {
     "data": {
      "image/png": "[encoded data removed]",
      "text/plain": [
       "<Figure size 432x288 with 1 Axes>"
      ]
     },
     "metadata": {
      "needs_background": "light"
     },
     "output_type": "display_data"
    }
   ],
   "source": [
    "for model_key in models.keys():\n",
    "    print(model_key)\n",
    "    ml_pipeline = Pipeline([\n",
    "        ('transform', column_transformer),\n",
    "        ('model', models[model_key])\n",
    "    ])\n",
    "    X2, y2 = randomize(X_train, y_train)\n",
    "    plot_learning_curves(X2, y2, ml_pipeline, 10)"
   ]
  },
  {
   "cell_type": "markdown",
   "metadata": {},
   "source": [
    "From the Logistic Regression benchmark model, the benchmark model train score is lower than the initial model train score for all models. The benchmark model test score is lower than the AdaBoostClassifier and GradientBoostingClassifier initial model test score; but equivalent with XGBClassifier initial model test score and higher than RandomForestClassifier initial model test score.\n",
    "\n",
    "The RandomForestClassifier and XGBoostClassifier is a high bias model in this instance as the train and test curve does not seem to converge even with additional data. This means both estimators are overfitting the model and hence badly predicts new data.\n",
    "\n",
    "The AdaBoostClassifier is slightly better as the train and test curve seems to converge with the addition data.\n",
    "\n",
    "The GradientBoostingClassifier is also as good as the train and test curve seems to converge with the addition of data. Moreover there is the possibility that the model will converge further if more data is provided. Also, it's validation score is higher than AdaBoostClassifier. Hence, we will select GradientBoostingClassifier as our estimator."
   ]
  },
  {
   "cell_type": "markdown",
   "metadata": {},
   "source": [
    "## Grid Search"
   ]
  },
  {
   "cell_type": "markdown",
   "metadata": {},
   "source": [
    "GridSearch performs an exhaustive search over specified parameter values for an estimator. It will then select the model with parameters that yield the best validation score."
   ]
  },
  {
   "cell_type": "code",
   "execution_count": 126,
   "metadata": {},
   "outputs": [
    {
     "name": "stdout",
     "output_type": "stream",
     "text": [
      "{'gbc__learning_rate': 0.1, 'gbc__max_depth': 3, 'gbc__min_samples_split': 4, 'gbc__n_estimators': 100}\n",
      "ROC score: 0.8976\n",
      "Final ROC score: 0.8985\n"
     ]
    }
   ],
   "source": [
    "# Create pipeline with column transformer and gradient boosting classifier for grid search\n",
    "gbc_pipeline = Pipeline([\n",
    "    ('transform', column_transformer),\n",
    "    ('gbc', GradientBoostingClassifier(random_state=0))\n",
    "])\n",
    "\n",
    "# define parameters appropriate for an exhaustive iterative search of the best parameters\n",
    "parameters = { 'gbc__learning_rate': [0.1, 0.2], 'gbc__n_estimators': [100], \n",
    "              'gbc__max_depth': [3, 5], 'gbc__min_samples_split': [2, 4] }\n",
    "\n",
    "# instantiate grid search\n",
    "grid_obj = GridSearchCV(gbc_pipeline, parameters, scoring='roc_auc')\n",
    "\n",
    "# fit the grid search object to training data to find the best parameters\n",
    "grid_obj.fit(X_train, y_train)\n",
    "\n",
    "# get the estimator and predict based on the best parameters\n",
    "print(grid_obj.best_params_)\n",
    "best_clf = grid_obj.best_estimator_\n",
    "best_predictions = best_clf.predict_proba(X_train)[:, 1]\n",
    "\n",
    "# predict based on the default parameters\n",
    "predictions = (gbc_pipeline.fit(X_train, y_train)).predict_proba(X_train)[:, 1]\n",
    "\n",
    "print(\"ROC score: {:.4f}\".format(roc_auc_score(y_train, predictions)))\n",
    "print(\"Final ROC score: {:.4f}\".format(roc_auc_score(y_train, best_predictions)))"
   ]
  },
  {
   "cell_type": "markdown",
   "metadata": {},
   "source": [
    "The GradientBoostingClassifier final model score of 0.8985 is significantly better than the LogisticRegression benchmark model score of 0.68."
   ]
  },
  {
   "cell_type": "code",
   "execution_count": 127,
   "metadata": {},
   "outputs": [],
   "source": [
    "pkl_filename = 'best_gradient_boosting.pkl'\n",
    "with open(pkl_filename, 'wb') as file:\n",
    "    pickle.dump(best_clf, file)"
   ]
  },
  {
   "cell_type": "code",
   "execution_count": 128,
   "metadata": {},
   "outputs": [
    {
     "data": {
      "image/png": "[encoded data removed]",
      "text/plain": [
       "<Figure size 1152x576 with 1 Axes>"
      ]
     },
     "metadata": {
      "needs_background": "light"
     },
     "output_type": "display_data"
    }
   ],
   "source": [
    "feature_importances = best_clf.named_steps['gbc'].feature_importances_\n",
    "pd.Series(feature_importances, index=column_names).sort_values()[-10:].plot(kind='barh', figsize=(16, 8))\n",
    "plt.xlabel(\"Feature importance\")\n",
    "plt.savefig('feature_importance.png', dpi=500)"
   ]
  },
  {
   "cell_type": "markdown",
   "metadata": {},
   "source": [
    "## Part 3: Kaggle Competition\n",
    "\n",
    "Now that you've created a model to predict which individuals are most likely to respond to a mailout campaign, it's time to test that model in competition through Kaggle. If you click on the link [here](http://www.kaggle.com/t/21e6d45d4c574c7fa2d868f0e8c83140), you'll be taken to the competition page where, if you have a Kaggle account, you can enter. If you're one of the top performers, you may have the chance to be contacted by a hiring manager from Arvato or Bertelsmann for an interview!\n",
    "\n",
    "Your entry to the competition should be a CSV file with two columns. The first column should be a copy of \"LNR\", which acts as an ID number for each individual in the \"TEST\" partition. The second column, \"RESPONSE\", should be some measure of how likely each individual became a customer – this might not be a straightforward probability. As you should have found in Part 2, there is a large output class imbalance, where most individuals did not respond to the mailout. Thus, predicting individual classes and using accuracy does not seem to be an appropriate performance evaluation method. Instead, the competition will be using AUC to evaluate performance. The exact values of the \"RESPONSE\" column do not matter as much: only that the higher values try to capture as many of the actual customers as possible, early in the ROC curve sweep."
   ]
  },
  {
   "cell_type": "code",
   "execution_count": 129,
   "metadata": {},
   "outputs": [],
   "source": [
    "mailout_test = pd.read_csv('./Udacity_MAILOUT_052018_TEST.csv', sep=';', low_memory=False)"
   ]
  },
  {
   "cell_type": "code",
   "execution_count": 130,
   "metadata": {},
   "outputs": [
    {
     "data": {
      "text/plain": [
       "(42833, 366)"
      ]
     },
     "execution_count": 130,
     "metadata": {},
     "output_type": "execute_result"
    }
   ],
   "source": [
    "mailout_test.shape"
   ]
  },
  {
   "cell_type": "code",
   "execution_count": 132,
   "metadata": {},
   "outputs": [],
   "source": [
    "mailout_test_cleaned = clean_data(mailout_test, test_data=True)"
   ]
  },
  {
   "cell_type": "code",
   "execution_count": 133,
   "metadata": {},
   "outputs": [],
   "source": [
    "# check that dataset is the same\n",
    "mailout_test_cleaned = mailout_test_cleaned[mailout_train_cleaned.drop(['RESPONSE'], axis=1).columns]"
   ]
  },
  {
   "cell_type": "code",
   "execution_count": 134,
   "metadata": {},
   "outputs": [
    {
     "name": "stdout",
     "output_type": "stream",
     "text": [
      "(42962, 292)\n",
      "(42833, 292)\n"
     ]
    }
   ],
   "source": [
    "print(mailout_train_cleaned.drop(['RESPONSE'], axis=1).shape)\n",
    "print(mailout_test_cleaned.shape)"
   ]
  },
  {
   "cell_type": "code",
   "execution_count": 135,
   "metadata": {},
   "outputs": [
    {
     "data": {
      "text/plain": [
       "array([0.04380426, 0.0214581 , 0.00640997, ..., 0.01381013, 0.01650682,\n",
       "       0.02649488])"
      ]
     },
     "execution_count": 135,
     "metadata": {},
     "output_type": "execute_result"
    }
   ],
   "source": [
    "pkl_filename = 'best_gradient_boosting.pkl'\n",
    "\n",
    "with open(pkl_filename, 'rb') as file:\n",
    "    pickle_model = pickle.load(file)\n",
    "\n",
    "kaggle_predict = pickle_model.predict_proba(mailout_test_cleaned)[:,1]\n",
    "kaggle_predict"
   ]
  },
  {
   "cell_type": "code",
   "execution_count": 136,
   "metadata": {},
   "outputs": [
    {
     "data": {
      "text/plain": [
       "(42833, 2)"
      ]
     },
     "execution_count": 136,
     "metadata": {},
     "output_type": "execute_result"
    }
   ],
   "source": [
    "submission = pd.read_csv('Arvato_Capstone_Example_Submission.csv')\n",
    "submission['RESPONSE'] = kaggle_predict\n",
    "submission.to_csv('kaggle_submission.csv', index=False)\n",
    "submission.shape"
   ]
  },
  {
   "cell_type": "code",
   "execution_count": 137,
   "metadata": {},
   "outputs": [
    {
     "data": {
      "text/html": [
       "<div>\n",
       "<style scoped>\n",
       "    .dataframe tbody tr th:only-of-type {\n",
       "        vertical-align: middle;\n",
       "    }\n",
       "\n",
       "    .dataframe tbody tr th {\n",
       "        vertical-align: top;\n",
       "    }\n",
       "\n",
       "    .dataframe thead th {\n",
       "        text-align: right;\n",
       "    }\n",
       "</style>\n",
       "<table border=\"1\" class=\"dataframe\">\n",
       "  <thead>\n",
       "    <tr style=\"text-align: right;\">\n",
       "      <th></th>\n",
       "      <th>LNR</th>\n",
       "      <th>RESPONSE</th>\n",
       "    </tr>\n",
       "  </thead>\n",
       "  <tbody>\n",
       "    <tr>\n",
       "      <th>0</th>\n",
       "      <td>1754</td>\n",
       "      <td>0.043804</td>\n",
       "    </tr>\n",
       "    <tr>\n",
       "      <th>1</th>\n",
       "      <td>1770</td>\n",
       "      <td>0.021458</td>\n",
       "    </tr>\n",
       "    <tr>\n",
       "      <th>2</th>\n",
       "      <td>1465</td>\n",
       "      <td>0.006410</td>\n",
       "    </tr>\n",
       "    <tr>\n",
       "      <th>3</th>\n",
       "      <td>1470</td>\n",
       "      <td>0.003504</td>\n",
       "    </tr>\n",
       "    <tr>\n",
       "      <th>4</th>\n",
       "      <td>1478</td>\n",
       "      <td>0.004702</td>\n",
       "    </tr>\n",
       "  </tbody>\n",
       "</table>\n",
       "</div>"
      ],
      "text/plain": [
       "    LNR  RESPONSE\n",
       "0  1754  0.043804\n",
       "1  1770  0.021458\n",
       "2  1465  0.006410\n",
       "3  1470  0.003504\n",
       "4  1478  0.004702"
      ]
     },
     "execution_count": 137,
     "metadata": {},
     "output_type": "execute_result"
    }
   ],
   "source": [
    "submission.head()"
   ]
  },
  {
   "cell_type": "markdown",
   "metadata": {},
   "source": [
    "#### The Kaggle score on the test data set is 0.78494."
   ]
  }
 ],
 "metadata": {
  "kernelspec": {
   "display_name": "Python 3",
   "language": "python",
   "name": "python3"
  },
  "language_info": {
   "codemirror_mode": {
    "name": "ipython",
    "version": 3
   },
   "file_extension": ".py",
   "mimetype": "text/x-python",
   "name": "python",
   "nbconvert_exporter": "python",
   "pygments_lexer": "ipython3",
   "version": "3.8.5"
  }
 },
 "nbformat": 4,
 "nbformat_minor": 4
}
