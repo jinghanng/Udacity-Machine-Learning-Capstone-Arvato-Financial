{
 "cells": [
  {
   "cell_type": "markdown",
   "metadata": {},
   "source": [
    "# Capstone Project: Create a Customer Segmentation Report for Arvato Financial Services\n",
    "\n",
    "In this project, you will analyze demographics data for customers of a mail-order sales company in Germany, comparing it against demographics information for the general population. You'll use unsupervised learning techniques to perform customer segmentation, identifying the parts of the population that best describe the core customer base of the company. Then, you'll apply what you've learned on a third dataset with demographics information for targets of a marketing campaign for the company, and use a model to predict which individuals are most likely to convert into becoming customers for the company. The data that you will use has been provided by our partners at Bertelsmann Arvato Analytics, and represents a real-life data science task.\n",
    "\n",
    "If you completed the first term of this program, you will be familiar with the first part of this project, from the unsupervised learning project. The versions of those two datasets used in this project will include many more features and has not been pre-cleaned. You are also free to choose whatever approach you'd like to analyzing the data rather than follow pre-determined steps. In your work on this project, make sure that you carefully document your steps and decisions, since your main deliverable for this project will be a blog post reporting your findings."
   ]
  },
  {
   "cell_type": "code",
   "execution_count": 1,
   "metadata": {},
   "outputs": [],
   "source": [
    "# import libraries\n",
    "import numpy as np\n",
    "import pandas as pd\n",
    "import pickle\n",
    "import math\n",
    "import random\n",
    "import matplotlib.pyplot as plt\n",
    "import seaborn as sns\n",
    "from scipy.stats import skew\n",
    "\n",
    "\n",
    "from sklearn.preprocessing import FunctionTransformer, StandardScaler, OneHotEncoder\n",
    "from sklearn.impute import SimpleImputer\n",
    "from sklearn.compose import ColumnTransformer\n",
    "from sklearn.decomposition import PCA\n",
    "from sklearn.cluster import KMeans\n",
    "from sklearn.cluster import MiniBatchKMeans\n",
    "\n",
    "from sklearn.pipeline import Pipeline\n",
    "from sklearn.ensemble import RandomForestClassifier, AdaBoostClassifier, GradientBoostingClassifier\n",
    "import xgboost as xgb\n",
    "from sklearn.model_selection import learning_curve\n",
    "\n",
    "from sklearn.model_selection import GridSearchCV\n",
    "from sklearn.metrics import roc_auc_score\n",
    "\n",
    "# magic word for producing visualizations in notebook\n",
    "%matplotlib inline"
   ]
  },
  {
   "cell_type": "markdown",
   "metadata": {},
   "source": [
    "## Part 0: Get to Know the Data\n",
    "\n",
    "There are four data files associated with this project:\n",
    "\n",
    "- `Udacity_AZDIAS_052018.csv`: Demographics data for the general population of Germany; 891 211 persons (rows) x 366 features (columns).\n",
    "- `Udacity_CUSTOMERS_052018.csv`: Demographics data for customers of a mail-order company; 191 652 persons (rows) x 369 features (columns).\n",
    "- `Udacity_MAILOUT_052018_TRAIN.csv`: Demographics data for individuals who were targets of a marketing campaign; 42 982 persons (rows) x 367 (columns).\n",
    "- `Udacity_MAILOUT_052018_TEST.csv`: Demographics data for individuals who were targets of a marketing campaign; 42 833 persons (rows) x 366 (columns).\n",
    "\n",
    "Each row of the demographics files represents a single person, but also includes information outside of individuals, including information about their household, building, and neighborhood. Use the information from the first two files to figure out how customers (\"CUSTOMERS\") are similar to or differ from the general population at large (\"AZDIAS\"), then use your analysis to make predictions on the other two files (\"MAILOUT\"), predicting which recipients are most likely to become a customer for the mail-order company.\n",
    "\n",
    "The \"CUSTOMERS\" file contains three extra columns ('CUSTOMER_GROUP', 'ONLINE_PURCHASE', and 'PRODUCT_GROUP'), which provide broad information about the customers depicted in the file. The original \"MAILOUT\" file included one additional column, \"RESPONSE\", which indicated whether or not each recipient became a customer of the company. For the \"TRAIN\" subset, this column has been retained, but in the \"TEST\" subset it has been removed; it is against that withheld column that your final predictions will be assessed in the Kaggle competition.\n",
    "\n",
    "Otherwise, all of the remaining columns are the same between the three data files. For more information about the columns depicted in the files, you can refer to two Excel spreadsheets provided in the workspace. [One of them](./DIAS Information Levels - Attributes 2017.xlsx) is a top-level list of attributes and descriptions, organized by informational category. [The other](./DIAS Attributes - Values 2017.xlsx) is a detailed mapping of data values for each feature in alphabetical order.\n",
    "\n",
    "In the below cell, we've provided some initial code to load in the first two datasets. Note for all of the `.csv` data files in this project that they're semicolon (`;`) delimited, so an additional argument in the [`read_csv()`](https://pandas.pydata.org/pandas-docs/stable/generated/pandas.read_csv.html) call has been included to read in the data properly. Also, considering the size of the datasets, it may take some time for them to load completely.\n",
    "\n",
    "You'll notice when the data is loaded in that a warning message will immediately pop up. Before you really start digging into the modeling and analysis, you're going to need to perform some cleaning. Take some time to browse the structure of the data and look over the informational spreadsheets to understand the data values. Make some decisions on which features to keep, which features to drop, and if any revisions need to be made on data formats. It'll be a good idea to create a function with pre-processing steps, since you'll need to clean all of the datasets before you work with them."
   ]
  },
  {
   "cell_type": "code",
   "execution_count": 2,
   "metadata": {},
   "outputs": [],
   "source": [
    "# load in the data\n",
    "# azdias = pd.read_csv('Udacity_AZDIAS_052018.csv', sep=';', low_memory=False)\n",
    "# customers = pd.read_csv('Udacity_CUSTOMERS_052018.csv', sep=';', low_memory=False)"
   ]
  },
  {
   "cell_type": "code",
   "execution_count": 3,
   "metadata": {},
   "outputs": [],
   "source": [
    "# pickle/serialize df to file \n",
    "# azdias.to_pickle('azdias.pickle')\n",
    "# customers.to_pickle('customers.pickle')"
   ]
  },
  {
   "cell_type": "code",
   "execution_count": 4,
   "metadata": {},
   "outputs": [],
   "source": [
    "# load pickled file\n",
    "azdias = pd.read_pickle('azdias.pickle')\n",
    "customers = pd.read_pickle('customers.pickle')"
   ]
  },
  {
   "cell_type": "code",
   "execution_count": 5,
   "metadata": {},
   "outputs": [
    {
     "name": "stdout",
     "output_type": "stream",
     "text": [
      "General Population DF shape: (891221, 366)\n"
     ]
    }
   ],
   "source": [
    "print(\"General Population DF shape: {}\".format(azdias.shape))"
   ]
  },
  {
   "cell_type": "code",
   "execution_count": 6,
   "metadata": {},
   "outputs": [
    {
     "data": {
      "text/html": [
       "<div>\n",
       "<style scoped>\n",
       "    .dataframe tbody tr th:only-of-type {\n",
       "        vertical-align: middle;\n",
       "    }\n",
       "\n",
       "    .dataframe tbody tr th {\n",
       "        vertical-align: top;\n",
       "    }\n",
       "\n",
       "    .dataframe thead th {\n",
       "        text-align: right;\n",
       "    }\n",
       "</style>\n",
       "<table border=\"1\" class=\"dataframe\">\n",
       "  <thead>\n",
       "    <tr style=\"text-align: right;\">\n",
       "      <th></th>\n",
       "      <th>LNR</th>\n",
       "      <th>AGER_TYP</th>\n",
       "      <th>AKT_DAT_KL</th>\n",
       "      <th>ALTER_HH</th>\n",
       "      <th>ALTER_KIND1</th>\n",
       "      <th>ALTER_KIND2</th>\n",
       "      <th>ALTER_KIND3</th>\n",
       "      <th>ALTER_KIND4</th>\n",
       "      <th>ALTERSKATEGORIE_FEIN</th>\n",
       "      <th>ANZ_HAUSHALTE_AKTIV</th>\n",
       "      <th>...</th>\n",
       "      <th>VHN</th>\n",
       "      <th>VK_DHT4A</th>\n",
       "      <th>VK_DISTANZ</th>\n",
       "      <th>VK_ZG11</th>\n",
       "      <th>W_KEIT_KIND_HH</th>\n",
       "      <th>WOHNDAUER_2008</th>\n",
       "      <th>WOHNLAGE</th>\n",
       "      <th>ZABEOTYP</th>\n",
       "      <th>ANREDE_KZ</th>\n",
       "      <th>ALTERSKATEGORIE_GROB</th>\n",
       "    </tr>\n",
       "  </thead>\n",
       "  <tbody>\n",
       "    <tr>\n",
       "      <th>0</th>\n",
       "      <td>910215</td>\n",
       "      <td>-1</td>\n",
       "      <td>NaN</td>\n",
       "      <td>NaN</td>\n",
       "      <td>NaN</td>\n",
       "      <td>NaN</td>\n",
       "      <td>NaN</td>\n",
       "      <td>NaN</td>\n",
       "      <td>NaN</td>\n",
       "      <td>NaN</td>\n",
       "      <td>...</td>\n",
       "      <td>NaN</td>\n",
       "      <td>NaN</td>\n",
       "      <td>NaN</td>\n",
       "      <td>NaN</td>\n",
       "      <td>NaN</td>\n",
       "      <td>NaN</td>\n",
       "      <td>NaN</td>\n",
       "      <td>3</td>\n",
       "      <td>1</td>\n",
       "      <td>2</td>\n",
       "    </tr>\n",
       "    <tr>\n",
       "      <th>1</th>\n",
       "      <td>910220</td>\n",
       "      <td>-1</td>\n",
       "      <td>9.0</td>\n",
       "      <td>0.0</td>\n",
       "      <td>NaN</td>\n",
       "      <td>NaN</td>\n",
       "      <td>NaN</td>\n",
       "      <td>NaN</td>\n",
       "      <td>21.0</td>\n",
       "      <td>11.0</td>\n",
       "      <td>...</td>\n",
       "      <td>4.0</td>\n",
       "      <td>8.0</td>\n",
       "      <td>11.0</td>\n",
       "      <td>10.0</td>\n",
       "      <td>3.0</td>\n",
       "      <td>9.0</td>\n",
       "      <td>4.0</td>\n",
       "      <td>5</td>\n",
       "      <td>2</td>\n",
       "      <td>1</td>\n",
       "    </tr>\n",
       "    <tr>\n",
       "      <th>2</th>\n",
       "      <td>910225</td>\n",
       "      <td>-1</td>\n",
       "      <td>9.0</td>\n",
       "      <td>17.0</td>\n",
       "      <td>NaN</td>\n",
       "      <td>NaN</td>\n",
       "      <td>NaN</td>\n",
       "      <td>NaN</td>\n",
       "      <td>17.0</td>\n",
       "      <td>10.0</td>\n",
       "      <td>...</td>\n",
       "      <td>2.0</td>\n",
       "      <td>9.0</td>\n",
       "      <td>9.0</td>\n",
       "      <td>6.0</td>\n",
       "      <td>3.0</td>\n",
       "      <td>9.0</td>\n",
       "      <td>2.0</td>\n",
       "      <td>5</td>\n",
       "      <td>2</td>\n",
       "      <td>3</td>\n",
       "    </tr>\n",
       "    <tr>\n",
       "      <th>3</th>\n",
       "      <td>910226</td>\n",
       "      <td>2</td>\n",
       "      <td>1.0</td>\n",
       "      <td>13.0</td>\n",
       "      <td>NaN</td>\n",
       "      <td>NaN</td>\n",
       "      <td>NaN</td>\n",
       "      <td>NaN</td>\n",
       "      <td>13.0</td>\n",
       "      <td>1.0</td>\n",
       "      <td>...</td>\n",
       "      <td>0.0</td>\n",
       "      <td>7.0</td>\n",
       "      <td>10.0</td>\n",
       "      <td>11.0</td>\n",
       "      <td>NaN</td>\n",
       "      <td>9.0</td>\n",
       "      <td>7.0</td>\n",
       "      <td>3</td>\n",
       "      <td>2</td>\n",
       "      <td>4</td>\n",
       "    </tr>\n",
       "    <tr>\n",
       "      <th>4</th>\n",
       "      <td>910241</td>\n",
       "      <td>-1</td>\n",
       "      <td>1.0</td>\n",
       "      <td>20.0</td>\n",
       "      <td>NaN</td>\n",
       "      <td>NaN</td>\n",
       "      <td>NaN</td>\n",
       "      <td>NaN</td>\n",
       "      <td>14.0</td>\n",
       "      <td>3.0</td>\n",
       "      <td>...</td>\n",
       "      <td>2.0</td>\n",
       "      <td>3.0</td>\n",
       "      <td>5.0</td>\n",
       "      <td>4.0</td>\n",
       "      <td>2.0</td>\n",
       "      <td>9.0</td>\n",
       "      <td>3.0</td>\n",
       "      <td>4</td>\n",
       "      <td>1</td>\n",
       "      <td>3</td>\n",
       "    </tr>\n",
       "  </tbody>\n",
       "</table>\n",
       "<p>5 rows × 366 columns</p>\n",
       "</div>"
      ],
      "text/plain": [
       "      LNR  AGER_TYP  AKT_DAT_KL  ALTER_HH  ALTER_KIND1  ALTER_KIND2  \\\n",
       "0  910215        -1         NaN       NaN          NaN          NaN   \n",
       "1  910220        -1         9.0       0.0          NaN          NaN   \n",
       "2  910225        -1         9.0      17.0          NaN          NaN   \n",
       "3  910226         2         1.0      13.0          NaN          NaN   \n",
       "4  910241        -1         1.0      20.0          NaN          NaN   \n",
       "\n",
       "   ALTER_KIND3  ALTER_KIND4  ALTERSKATEGORIE_FEIN  ANZ_HAUSHALTE_AKTIV  ...  \\\n",
       "0          NaN          NaN                   NaN                  NaN  ...   \n",
       "1          NaN          NaN                  21.0                 11.0  ...   \n",
       "2          NaN          NaN                  17.0                 10.0  ...   \n",
       "3          NaN          NaN                  13.0                  1.0  ...   \n",
       "4          NaN          NaN                  14.0                  3.0  ...   \n",
       "\n",
       "   VHN  VK_DHT4A  VK_DISTANZ  VK_ZG11  W_KEIT_KIND_HH  WOHNDAUER_2008  \\\n",
       "0  NaN       NaN         NaN      NaN             NaN             NaN   \n",
       "1  4.0       8.0        11.0     10.0             3.0             9.0   \n",
       "2  2.0       9.0         9.0      6.0             3.0             9.0   \n",
       "3  0.0       7.0        10.0     11.0             NaN             9.0   \n",
       "4  2.0       3.0         5.0      4.0             2.0             9.0   \n",
       "\n",
       "   WOHNLAGE ZABEOTYP ANREDE_KZ ALTERSKATEGORIE_GROB  \n",
       "0       NaN        3         1                    2  \n",
       "1       4.0        5         2                    1  \n",
       "2       2.0        5         2                    3  \n",
       "3       7.0        3         2                    4  \n",
       "4       3.0        4         1                    3  \n",
       "\n",
       "[5 rows x 366 columns]"
      ]
     },
     "execution_count": 6,
     "metadata": {},
     "output_type": "execute_result"
    }
   ],
   "source": [
    "azdias.head()"
   ]
  },
  {
   "cell_type": "code",
   "execution_count": 7,
   "metadata": {},
   "outputs": [
    {
     "name": "stdout",
     "output_type": "stream",
     "text": [
      "Customers DF shape: (891221, 366)\n"
     ]
    }
   ],
   "source": [
    "print(\"Customers DF shape: {}\".format(azdias.shape))"
   ]
  },
  {
   "cell_type": "code",
   "execution_count": 8,
   "metadata": {},
   "outputs": [
    {
     "data": {
      "text/html": [
       "<div>\n",
       "<style scoped>\n",
       "    .dataframe tbody tr th:only-of-type {\n",
       "        vertical-align: middle;\n",
       "    }\n",
       "\n",
       "    .dataframe tbody tr th {\n",
       "        vertical-align: top;\n",
       "    }\n",
       "\n",
       "    .dataframe thead th {\n",
       "        text-align: right;\n",
       "    }\n",
       "</style>\n",
       "<table border=\"1\" class=\"dataframe\">\n",
       "  <thead>\n",
       "    <tr style=\"text-align: right;\">\n",
       "      <th></th>\n",
       "      <th>LNR</th>\n",
       "      <th>AGER_TYP</th>\n",
       "      <th>AKT_DAT_KL</th>\n",
       "      <th>ALTER_HH</th>\n",
       "      <th>ALTER_KIND1</th>\n",
       "      <th>ALTER_KIND2</th>\n",
       "      <th>ALTER_KIND3</th>\n",
       "      <th>ALTER_KIND4</th>\n",
       "      <th>ALTERSKATEGORIE_FEIN</th>\n",
       "      <th>ANZ_HAUSHALTE_AKTIV</th>\n",
       "      <th>...</th>\n",
       "      <th>VK_ZG11</th>\n",
       "      <th>W_KEIT_KIND_HH</th>\n",
       "      <th>WOHNDAUER_2008</th>\n",
       "      <th>WOHNLAGE</th>\n",
       "      <th>ZABEOTYP</th>\n",
       "      <th>PRODUCT_GROUP</th>\n",
       "      <th>CUSTOMER_GROUP</th>\n",
       "      <th>ONLINE_PURCHASE</th>\n",
       "      <th>ANREDE_KZ</th>\n",
       "      <th>ALTERSKATEGORIE_GROB</th>\n",
       "    </tr>\n",
       "  </thead>\n",
       "  <tbody>\n",
       "    <tr>\n",
       "      <th>0</th>\n",
       "      <td>9626</td>\n",
       "      <td>2</td>\n",
       "      <td>1.0</td>\n",
       "      <td>10.0</td>\n",
       "      <td>NaN</td>\n",
       "      <td>NaN</td>\n",
       "      <td>NaN</td>\n",
       "      <td>NaN</td>\n",
       "      <td>10.0</td>\n",
       "      <td>1.0</td>\n",
       "      <td>...</td>\n",
       "      <td>2.0</td>\n",
       "      <td>6.0</td>\n",
       "      <td>9.0</td>\n",
       "      <td>7.0</td>\n",
       "      <td>3</td>\n",
       "      <td>COSMETIC_AND_FOOD</td>\n",
       "      <td>MULTI_BUYER</td>\n",
       "      <td>0</td>\n",
       "      <td>1</td>\n",
       "      <td>4</td>\n",
       "    </tr>\n",
       "    <tr>\n",
       "      <th>1</th>\n",
       "      <td>9628</td>\n",
       "      <td>-1</td>\n",
       "      <td>9.0</td>\n",
       "      <td>11.0</td>\n",
       "      <td>NaN</td>\n",
       "      <td>NaN</td>\n",
       "      <td>NaN</td>\n",
       "      <td>NaN</td>\n",
       "      <td>NaN</td>\n",
       "      <td>NaN</td>\n",
       "      <td>...</td>\n",
       "      <td>3.0</td>\n",
       "      <td>0.0</td>\n",
       "      <td>9.0</td>\n",
       "      <td>NaN</td>\n",
       "      <td>3</td>\n",
       "      <td>FOOD</td>\n",
       "      <td>SINGLE_BUYER</td>\n",
       "      <td>0</td>\n",
       "      <td>1</td>\n",
       "      <td>4</td>\n",
       "    </tr>\n",
       "    <tr>\n",
       "      <th>2</th>\n",
       "      <td>143872</td>\n",
       "      <td>-1</td>\n",
       "      <td>1.0</td>\n",
       "      <td>6.0</td>\n",
       "      <td>NaN</td>\n",
       "      <td>NaN</td>\n",
       "      <td>NaN</td>\n",
       "      <td>NaN</td>\n",
       "      <td>0.0</td>\n",
       "      <td>1.0</td>\n",
       "      <td>...</td>\n",
       "      <td>11.0</td>\n",
       "      <td>6.0</td>\n",
       "      <td>9.0</td>\n",
       "      <td>2.0</td>\n",
       "      <td>3</td>\n",
       "      <td>COSMETIC_AND_FOOD</td>\n",
       "      <td>MULTI_BUYER</td>\n",
       "      <td>0</td>\n",
       "      <td>2</td>\n",
       "      <td>4</td>\n",
       "    </tr>\n",
       "    <tr>\n",
       "      <th>3</th>\n",
       "      <td>143873</td>\n",
       "      <td>1</td>\n",
       "      <td>1.0</td>\n",
       "      <td>8.0</td>\n",
       "      <td>NaN</td>\n",
       "      <td>NaN</td>\n",
       "      <td>NaN</td>\n",
       "      <td>NaN</td>\n",
       "      <td>8.0</td>\n",
       "      <td>0.0</td>\n",
       "      <td>...</td>\n",
       "      <td>2.0</td>\n",
       "      <td>NaN</td>\n",
       "      <td>9.0</td>\n",
       "      <td>7.0</td>\n",
       "      <td>1</td>\n",
       "      <td>COSMETIC</td>\n",
       "      <td>MULTI_BUYER</td>\n",
       "      <td>0</td>\n",
       "      <td>1</td>\n",
       "      <td>4</td>\n",
       "    </tr>\n",
       "    <tr>\n",
       "      <th>4</th>\n",
       "      <td>143874</td>\n",
       "      <td>-1</td>\n",
       "      <td>1.0</td>\n",
       "      <td>20.0</td>\n",
       "      <td>NaN</td>\n",
       "      <td>NaN</td>\n",
       "      <td>NaN</td>\n",
       "      <td>NaN</td>\n",
       "      <td>14.0</td>\n",
       "      <td>7.0</td>\n",
       "      <td>...</td>\n",
       "      <td>4.0</td>\n",
       "      <td>2.0</td>\n",
       "      <td>9.0</td>\n",
       "      <td>3.0</td>\n",
       "      <td>1</td>\n",
       "      <td>FOOD</td>\n",
       "      <td>MULTI_BUYER</td>\n",
       "      <td>0</td>\n",
       "      <td>1</td>\n",
       "      <td>3</td>\n",
       "    </tr>\n",
       "  </tbody>\n",
       "</table>\n",
       "<p>5 rows × 369 columns</p>\n",
       "</div>"
      ],
      "text/plain": [
       "      LNR  AGER_TYP  AKT_DAT_KL  ALTER_HH  ALTER_KIND1  ALTER_KIND2  \\\n",
       "0    9626         2         1.0      10.0          NaN          NaN   \n",
       "1    9628        -1         9.0      11.0          NaN          NaN   \n",
       "2  143872        -1         1.0       6.0          NaN          NaN   \n",
       "3  143873         1         1.0       8.0          NaN          NaN   \n",
       "4  143874        -1         1.0      20.0          NaN          NaN   \n",
       "\n",
       "   ALTER_KIND3  ALTER_KIND4  ALTERSKATEGORIE_FEIN  ANZ_HAUSHALTE_AKTIV  ...  \\\n",
       "0          NaN          NaN                  10.0                  1.0  ...   \n",
       "1          NaN          NaN                   NaN                  NaN  ...   \n",
       "2          NaN          NaN                   0.0                  1.0  ...   \n",
       "3          NaN          NaN                   8.0                  0.0  ...   \n",
       "4          NaN          NaN                  14.0                  7.0  ...   \n",
       "\n",
       "   VK_ZG11  W_KEIT_KIND_HH  WOHNDAUER_2008  WOHNLAGE  ZABEOTYP  \\\n",
       "0      2.0             6.0             9.0       7.0         3   \n",
       "1      3.0             0.0             9.0       NaN         3   \n",
       "2     11.0             6.0             9.0       2.0         3   \n",
       "3      2.0             NaN             9.0       7.0         1   \n",
       "4      4.0             2.0             9.0       3.0         1   \n",
       "\n",
       "       PRODUCT_GROUP  CUSTOMER_GROUP ONLINE_PURCHASE ANREDE_KZ  \\\n",
       "0  COSMETIC_AND_FOOD     MULTI_BUYER               0         1   \n",
       "1               FOOD    SINGLE_BUYER               0         1   \n",
       "2  COSMETIC_AND_FOOD     MULTI_BUYER               0         2   \n",
       "3           COSMETIC     MULTI_BUYER               0         1   \n",
       "4               FOOD     MULTI_BUYER               0         1   \n",
       "\n",
       "  ALTERSKATEGORIE_GROB  \n",
       "0                    4  \n",
       "1                    4  \n",
       "2                    4  \n",
       "3                    4  \n",
       "4                    3  \n",
       "\n",
       "[5 rows x 369 columns]"
      ]
     },
     "execution_count": 8,
     "metadata": {},
     "output_type": "execute_result"
    }
   ],
   "source": [
    "customers.head()"
   ]
  },
  {
   "cell_type": "code",
   "execution_count": 9,
   "metadata": {},
   "outputs": [
    {
     "data": {
      "text/plain": [
       "float64    267\n",
       "int64       93\n",
       "object       6\n",
       "dtype: int64"
      ]
     },
     "execution_count": 9,
     "metadata": {},
     "output_type": "execute_result"
    }
   ],
   "source": [
    "azdias.dtypes.value_counts()"
   ]
  },
  {
   "cell_type": "markdown",
   "metadata": {},
   "source": [
    "# Preprocessing"
   ]
  },
  {
   "cell_type": "markdown",
   "metadata": {},
   "source": [
    "#### 1.) Assess missing data in columns"
   ]
  },
  {
   "cell_type": "markdown",
   "metadata": {},
   "source": [
    "**Start by assessing the DIAS_Attributes_Values file for missing key values and create missing keys dictionary**"
   ]
  },
  {
   "cell_type": "markdown",
   "metadata": {},
   "source": [
    "**Clean \"unknown\" transaction data**"
   ]
  },
  {
   "cell_type": "code",
   "execution_count": 10,
   "metadata": {},
   "outputs": [],
   "source": [
    "unknown_keys_dict = {}\n",
    "attribute_values = pd.read_csv(\"./DIAS_Attributes_Values_2017.csv\", sep=',')"
   ]
  },
  {
   "cell_type": "code",
   "execution_count": 11,
   "metadata": {},
   "outputs": [],
   "source": [
    "unknown_keys = attribute_values[attribute_values[\"Meaning\"].isin([\"unknown\", \"unknown / no main age detectable\"])]"
   ]
  },
  {
   "cell_type": "code",
   "execution_count": 12,
   "metadata": {},
   "outputs": [],
   "source": [
    "for _, row in unknown_keys.iterrows():\n",
    "    key = row[\"Attribute\"]\n",
    "    unknown_keys_dict[key] = row[\"Value\"].split(\", \")"
   ]
  },
  {
   "cell_type": "code",
   "execution_count": 13,
   "metadata": {},
   "outputs": [
    {
     "name": "stdout",
     "output_type": "stream",
     "text": [
      "{'AGER_TYP': ['-1'], 'ALTERSKATEGORIE_GROB': ['-1', '0'], 'ALTER_HH': ['0'], 'ANREDE_KZ': ['-1', '0'], 'BALLRAUM': ['-1'], 'BIP_FLAG': ['-1'], 'CAMEO_DEUG_2015': ['-1'], 'CAMEO_DEUINTL_2015': ['-1'], 'CJT_GESAMTTYP': ['0'], 'D19_KK_KUNDENTYP': ['-1'], 'EWDICHTE': ['-1'], 'FINANZTYP': ['-1'], 'FINANZ_ANLEGER': ['-1'], 'FINANZ_HAUSBAUER': ['-1'], 'FINANZ_MINIMALIST': ['-1'], 'FINANZ_SPARER': ['-1'], 'FINANZ_UNAUFFAELLIGER': ['-1'], 'FINANZ_VORSORGER': ['-1'], 'GEBAEUDETYP': ['-1', '0'], 'GEOSCORE_KLS7': ['-1', '0'], 'HAUSHALTSSTRUKTUR': ['-1', '0'], 'HEALTH_TYP': ['-1'], 'HH_EINKOMMEN_SCORE': ['-1', '0'], 'INNENSTADT': ['-1'], 'KBA05_ALTER1': ['-1', '9'], 'KBA05_ALTER2': ['-1', '9'], 'KBA05_ALTER3': ['-1', '9'], 'KBA05_ALTER4': ['-1', '9'], 'KBA05_ANHANG': ['-1', '9'], 'KBA05_ANTG1': ['-1'], 'KBA05_ANTG2': ['-1'], 'KBA05_ANTG3': ['-1'], 'KBA05_ANTG4': ['-1'], 'KBA05_AUTOQUOT': ['-1', '9'], 'KBA05_BAUMAX': ['-1', '0'], 'KBA05_CCM1': ['-1', '9'], 'KBA05_CCM2': ['-1', '9'], 'KBA05_CCM3': ['-1', '9'], 'KBA05_CCM4': ['-1', '9'], 'KBA05_DIESEL': ['-1', '9'], 'KBA05_FRAU': ['-1', '9'], 'KBA05_GBZ': ['-1', '0'], 'KBA05_HERST1': ['-1', '9'], 'KBA05_HERST2': ['-1', '9'], 'KBA05_HERST3': ['-1', '9'], 'KBA05_HERST4': ['-1', '9'], 'KBA05_HERST5': ['-1', '9'], 'KBA05_HERSTTEMP': ['-1', '9'], 'KBA05_KRSAQUOT': ['-1', '9'], 'KBA05_KRSHERST1': ['-1', '9'], 'KBA05_KRSHERST2': ['-1', '9'], 'KBA05_KRSHERST3': ['-1', '9'], 'KBA05_KRSKLEIN': ['-1', '9'], 'KBA05_KRSOBER': ['-1', '9'], 'KBA05_KRSVAN': ['-1', '9'], 'KBA05_KRSZUL': ['-1', '9'], 'KBA05_KW1': ['-1', '9'], 'KBA05_KW2': ['-1', '9'], 'KBA05_KW3': ['-1', '9'], 'KBA05_MAXAH': ['-1', '9'], 'KBA05_MAXBJ': ['-1', '9'], 'KBA05_MAXHERST': ['-1', '9'], 'KBA05_MAXSEG': ['-1', '9'], 'KBA05_MAXVORB': ['-1', '9'], 'KBA05_MOD1': ['-1', '9'], 'KBA05_MOD2': ['-1', '9'], 'KBA05_MOD3': ['-1', '9'], 'KBA05_MOD4': ['-1', '9'], 'KBA05_MOD8': ['-1', '9'], 'KBA05_MODTEMP': ['-1', '9'], 'KBA05_MOTOR': ['-1', '9'], 'KBA05_MOTRAD': ['-1', '9'], 'KBA05_SEG1': ['-1', '9'], 'KBA05_SEG10': ['-1', '9'], 'KBA05_SEG2': ['-1', '9'], 'KBA05_SEG3': ['-1', '9'], 'KBA05_SEG4': ['-1', '9'], 'KBA05_SEG5': ['-1', '9'], 'KBA05_SEG6': ['-1', '9'], 'KBA05_SEG7': ['-1', '9'], 'KBA05_SEG8': ['-1', '9'], 'KBA05_SEG9': ['-1', '9'], 'KBA05_VORB0': ['-1', '9'], 'KBA05_VORB1': ['-1', '9'], 'KBA05_VORB2': ['-1', '9'], 'KBA05_ZUL1': ['-1', '9'], 'KBA05_ZUL2': ['-1', '9'], 'KBA05_ZUL3': ['-1', '9'], 'KBA05_ZUL4': ['-1', '9'], 'KBA13_ALTERHALTER_30': ['-1'], 'KBA13_ALTERHALTER_45': ['-1'], 'KBA13_ALTERHALTER_60': ['-1'], 'KBA13_ALTERHALTER_61': ['-1'], 'KBA13_AUDI': ['-1'], 'KBA13_AUTOQUOTE': ['-1'], 'KBA13_BJ_1999': ['-1'], 'KBA13_BJ_2000': ['-1'], 'KBA13_BJ_2004': ['-1'], 'KBA13_BJ_2006': ['-1'], 'KBA13_BJ_2008': ['-1'], 'KBA13_BJ_2009': ['-1'], 'KBA13_BMW': ['-1'], 'KBA13_CCM_1000': ['-1'], 'KBA13_CCM_1200': ['-1'], 'KBA13_CCM_1400': ['-1'], 'KBA13_CCM_0_1400': ['-1'], 'KBA13_CCM_1500': ['-1'], 'KBA13_CCM_1400_2500': ['-1'], 'KBA13_CCM_1600': ['-1'], 'KBA13_CCM_1800': ['-1'], 'KBA13_CCM_2000': ['-1'], 'KBA13_CCM_2500': ['-1'], 'KBA13_CCM_2501': ['-1'], 'KBA13_CCM_3000': ['-1'], 'KBA13_CCM_3001': ['-1'], 'KBA13_FAB_ASIEN': ['-1'], 'KBA13_FAB_SONSTIGE': ['-1'], 'KBA13_FIAT': ['-1'], 'KBA13_FORD': ['-1'], 'KBA13_HALTER_20': ['-1'], 'KBA13_HALTER_25': ['-1'], 'KBA13_HALTER_30': ['-1'], 'KBA13_HALTER_35': ['-1'], 'KBA13_HALTER_40': ['-1'], 'KBA13_HALTER_45': ['-1'], 'KBA13_HALTER_50': ['-1'], 'KBA13_HALTER_55': ['-1'], 'KBA13_HALTER_60': ['-1'], 'KBA13_HALTER_65': ['-1'], 'KBA13_HALTER_66': ['-1'], 'KBA13_HERST_ASIEN': ['-1'], 'KBA13_HERST_AUDI_VW': ['-1'], 'KBA13_HERST_BMW_BENZ': ['-1'], 'KBA13_HERST_EUROPA': ['-1'], 'KBA13_HERST_FORD_OPEL': ['-1'], 'KBA13_HERST_SONST': ['-1'], 'KBA13_KMH_110': ['-1'], 'KBA13_KMH_140': ['-1'], 'KBA13_KMH_180': ['-1'], 'KBA13_KMH_0_140': ['-1'], 'KBA13_KMH_140_210': ['-1'], 'KBA13_KMH_211': ['-1'], 'KBA13_KMH_250': ['-1'], 'KBA13_KMH_251': ['-1'], 'KBA13_KRSAQUOT': ['-1'], 'KBA13_KRSHERST_AUDI_VW': ['-1'], 'KBA13_KRSHERST_BMW_BENZ': ['-1'], 'KBA13_KRSHERST_FORD_OPEL': ['-1'], 'KBA13_KRSSEG_KLEIN': ['-1'], 'KBA13_KRSSEG_OBER': ['-1'], 'KBA13_KRSSEG_VAN': ['-1'], 'KBA13_KRSZUL_NEU': ['-1'], 'KBA13_KW_30': ['-1'], 'KBA13_KW_40': ['-1'], 'KBA13_KW_50': ['-1'], 'KBA13_KW_60': ['-1'], 'KBA13_KW_0_60': ['-1'], 'KBA13_KW_70': ['-1'], 'KBA13_KW_61_120': ['-1'], 'KBA13_KW_80': ['-1'], 'KBA13_KW_90': ['-1'], 'KBA13_KW_110': ['-1'], 'KBA13_KW_120': ['-1'], 'KBA13_KW_121': ['-1'], 'KBA13_MAZDA': ['-1'], 'KBA13_MERCEDES': ['-1'], 'KBA13_MOTOR': ['-1'], 'KBA13_NISSAN': ['-1'], 'KBA13_OPEL': ['-1'], 'KBA13_PEUGEOT': ['-1'], 'KBA13_RENAULT': ['-1'], 'KBA13_SEG_GELAENDEWAGEN': ['-1'], 'KBA13_SEG_GROSSRAUMVANS': ['-1'], 'KBA13_SEG_KLEINST': ['-1'], 'KBA13_SEG_KLEINWAGEN': ['-1'], 'KBA13_SEG_KOMPAKTKLASSE': ['-1'], 'KBA13_SEG_MINIVANS': ['-1'], 'KBA13_SEG_MINIWAGEN': ['-1'], 'KBA13_SEG_MITTELKLASSE': ['-1'], 'KBA13_SEG_OBEREMITTELKLASSE': ['-1'], 'KBA13_SEG_OBERKLASSE': ['-1'], 'KBA13_SEG_SONSTIGE': ['-1'], 'KBA13_SEG_SPORTWAGEN': ['-1'], 'KBA13_SEG_UTILITIES': ['-1'], 'KBA13_SEG_VAN': ['-1'], 'KBA13_SEG_WOHNMOBILE': ['-1'], 'KBA13_SITZE_4': ['-1'], 'KBA13_SITZE_5': ['-1'], 'KBA13_SITZE_6': ['-1'], 'KBA13_TOYOTA': ['-1'], 'KBA13_VORB_0': ['-1'], 'KBA13_VORB_1': ['-1'], 'KBA13_VORB_1_2': ['-1'], 'KBA13_VORB_2': ['-1'], 'KBA13_VORB_3': ['-1'], 'KBA13_VW': ['-1'], 'KKK': ['-1', '0'], 'NATIONALITAET_KZ': ['-1', '0'], 'ORTSGR_KLS9': ['-1'], 'OST_WEST_KZ': ['-1'], 'PLZ8_ANTG1': ['-1'], 'PLZ8_ANTG2': ['-1'], 'PLZ8_ANTG3': ['-1'], 'PLZ8_ANTG4': ['-1'], 'PLZ8_GBZ': ['-1'], 'PLZ8_HHZ': ['-1'], 'PRAEGENDE_JUGENDJAHRE': ['-1', '0'], 'REGIOTYP': ['-1', '0'], 'RELAT_AB': ['-1', '9'], 'RETOURTYP_BK_S': ['0'], 'SEMIO_DOM': ['-1', '9'], 'SEMIO_ERL': ['-1', '9'], 'SEMIO_FAM': ['-1', '9'], 'SEMIO_KAEM': ['-1', '9'], 'SEMIO_KRIT': ['-1', '9'], 'SEMIO_KULT': ['-1', '9'], 'SEMIO_LUST': ['-1', '9'], 'SEMIO_MAT': ['-1', '9'], 'SEMIO_PFLICHT': ['-1', '9'], 'SEMIO_RAT': ['-1', '9'], 'SEMIO_REL': ['-1', '9'], 'SEMIO_SOZ': ['-1', '9'], 'SEMIO_TRADV': ['-1', '9'], 'SEMIO_VERT': ['-1', '9'], 'SHOPPER_TYP': ['-1'], 'SOHO_FLAG': ['-1'], 'TITEL_KZ': ['-1', '0'], 'VERS_TYP': ['-1'], 'WOHNDAUER_2008': ['-1', '0'], 'WOHNLAGE': ['-1'], 'WACHSTUMSGEBIET_NB': ['-1', '0'], 'W_KEIT_KIND_HH': ['-1', '0'], 'ZABEOTYP': ['-1', '9']}\n"
     ]
    }
   ],
   "source": [
    "print(unknown_keys_dict)"
   ]
  },
  {
   "cell_type": "markdown",
   "metadata": {},
   "source": [
    "**Clean \"no transaction known\" & \"no transactions known\" data where its value=0**"
   ]
  },
  {
   "cell_type": "code",
   "execution_count": 14,
   "metadata": {},
   "outputs": [],
   "source": [
    "no_transaction_one = {}\n",
    "no_transaction_two = {}"
   ]
  },
  {
   "cell_type": "code",
   "execution_count": 15,
   "metadata": {},
   "outputs": [],
   "source": [
    "no_transaction_keys_1 = attribute_values[attribute_values[\"Meaning\"].isin([\"no transaction known\", \"no transactions known\"])]"
   ]
  },
  {
   "cell_type": "code",
   "execution_count": 16,
   "metadata": {},
   "outputs": [],
   "source": [
    "for _, row in no_transaction_keys_1.iterrows():\n",
    "    key = row[\"Attribute\"]\n",
    "    no_transaction_one[key] = row[\"Value\"].split(\", \")"
   ]
  },
  {
   "cell_type": "markdown",
   "metadata": {},
   "source": [
    "**Remove \"_RZ\" from attributes name**"
   ]
  },
  {
   "cell_type": "code",
   "execution_count": 17,
   "metadata": {},
   "outputs": [],
   "source": [
    "no_transaction_one_list = no_transaction_one.keys()"
   ]
  },
  {
   "cell_type": "code",
   "execution_count": 18,
   "metadata": {},
   "outputs": [],
   "source": [
    "if key in no_transaction_one_list:\n",
    "    new_key = key.replace(\"RZ\", \"\")\n",
    "    no_transaction_one[new_key] = [\"0\"]\n",
    "else:\n",
    "    no_transaction_one[key] = [\"0\"]"
   ]
  },
  {
   "cell_type": "code",
   "execution_count": 19,
   "metadata": {},
   "outputs": [
    {
     "name": "stdout",
     "output_type": "stream",
     "text": [
      "{'D19_BANKEN_ANZ_12': ['0'], 'D19_BANKEN_ANZ_24': ['0'], nan: ['10'], 'D19_BANKEN_DIREKT_RZ': ['0'], 'D19_BANKEN_GROSS_RZ': ['0'], 'D19_BANKEN_LOKAL_RZ': ['0'], 'D19_BANKEN_REST_RZ': ['0'], 'D19_BEKLEIDUNG_GEH_RZ': ['0'], 'D19_BEKLEIDUNG_REST_RZ': ['0'], 'D19_BILDUNG_RZ': ['0'], 'D19_BIO_OEKO_RZ': ['0'], 'D19_BUCH_RZ': ['0'], 'D19_DIGIT_SERV_RZ': ['0'], 'D19_DROGERIEARTIKEL_RZ': ['0'], 'D19_ENERGIE_RZ': ['0'], 'D19_FREIZEIT_RZ': ['0'], 'D19_GARTEN_RZ': ['0'], 'D19_GESAMT_ANZ_12': ['0'], 'D19_GESAMT_ANZ_24': ['0'], 'D19_HANDWERK_RZ': ['0'], 'D19_HAUS_DEKO_RZ': ['0'], 'D19_KINDERARTIKEL_RZ': ['0'], 'D19_KOSMETIK_RZ': ['0'], 'D19_LEBENSMITTEL_RZ': ['0'], 'D19_LOTTO_RZ': ['0'], 'D19_NAHRUNGSERGAENZUNG_RZ': ['0'], 'D19_RATGEBER_RZ': ['0'], 'D19_REISEN_RZ': ['0'], 'D19_SAMMELARTIKEL_RZ': ['0'], 'D19_SCHUHE_RZ': ['0'], 'D19_SONSTIGE_RZ': ['0'], 'D19_TECHNIK_RZ': ['0'], 'D19_TELKO_ANZ_12': ['0'], 'D19_TELKO_ANZ_24': ['0'], 'D19_TELKO_MOBILE_RZ': ['0'], 'D19_TELKO_REST_RZ': ['0'], 'D19_TIERARTIKEL_RZ': ['0'], 'D19_VERSAND_ANZ_12': ['0'], 'D19_VERSAND_ANZ_24': ['0'], 'D19_VERSAND_REST_RZ': ['0'], 'D19_VERSICHERUNGEN_RZ': ['0'], 'D19_VERSI_ANZ_12': ['0'], 'D19_VERSI_ANZ_24': ['0'], 'D19_VOLLSORTIMENT_RZ': ['0'], 'D19_WEIN_FEINKOST_RZ': ['0'], 'D19_WEIN_FEINKOST_': ['0']}\n"
     ]
    }
   ],
   "source": [
    "print(no_transaction_one)"
   ]
  },
  {
   "cell_type": "markdown",
   "metadata": {},
   "source": [
    "**Clean \"no transaction known\" & \"no transactions known\" data where its value=10**"
   ]
  },
  {
   "cell_type": "code",
   "execution_count": 20,
   "metadata": {},
   "outputs": [],
   "source": [
    "no_transaction_keys_2 = attribute_values[attribute_values[\"Meaning\"].isin([\"highest activity within the last 12 months\"])]"
   ]
  },
  {
   "cell_type": "code",
   "execution_count": 21,
   "metadata": {},
   "outputs": [],
   "source": [
    "for _, row in no_transaction_keys_2.iterrows():\n",
    "    key = row[\"Attribute\"]\n",
    "    no_transaction_two[key] = ['10']"
   ]
  },
  {
   "cell_type": "code",
   "execution_count": 22,
   "metadata": {},
   "outputs": [
    {
     "name": "stdout",
     "output_type": "stream",
     "text": [
      "{'D19_BANKEN_DATUM': ['10'], 'D19_BANKEN_OFFLINE_DATUM': ['10'], 'D19_BANKEN_ONLINE_DATUM': ['10'], 'D19_GESAMT_DATUM': ['10'], 'D19_GESAMT_OFFLINE_DATUM': ['10'], 'D19_GESAMT_ONLINE_DATUM': ['10'], 'D19_TELKO_DATUM': ['10'], 'D19_TELKO_OFFLINE_DATUM': ['10'], 'D19_TELKO_ONLINE_DATUM': ['10'], 'D19_VERSAND_DATUM': ['10'], 'D19_VERSAND_OFFLINE_DATUM': ['10'], 'D19_VERSAND_ONLINE_DATUM': ['10']}\n"
     ]
    }
   ],
   "source": [
    "print(no_transaction_two)"
   ]
  },
  {
   "cell_type": "markdown",
   "metadata": {},
   "source": [
    "**Merge \"unknown\" and \"no transaction known\" dictionary**"
   ]
  },
  {
   "cell_type": "code",
   "execution_count": 23,
   "metadata": {},
   "outputs": [],
   "source": [
    "missing_keys_dict = { **unknown_keys_dict, **no_transaction_one, **no_transaction_two }"
   ]
  },
  {
   "cell_type": "markdown",
   "metadata": {},
   "source": [
    "**For attributes with missing codes, manually add codes from attributes that are similar to it**"
   ]
  },
  {
   "cell_type": "code",
   "execution_count": 24,
   "metadata": {},
   "outputs": [],
   "source": [
    "a = list(attribute_values[\"Attribute\"].dropna())\n",
    "#print(a)"
   ]
  },
  {
   "cell_type": "code",
   "execution_count": 25,
   "metadata": {},
   "outputs": [],
   "source": [
    "b = list(azdias.columns)\n",
    "#print(b)"
   ]
  },
  {
   "cell_type": "code",
   "execution_count": 26,
   "metadata": {},
   "outputs": [],
   "source": [
    "# Attributes that are in azdias columns dataset but not explained in DIAS_Attributes_Values.csv\n",
    "c = [elem for elem in b if elem not in a]\n",
    "#print(c)"
   ]
  },
  {
   "cell_type": "code",
   "execution_count": 27,
   "metadata": {},
   "outputs": [],
   "source": [
    "# Attributes that are explained in DIAS_Attributes_Values.csv but are not in azdias columns\n",
    "d = [elem for elem in a if elem not in b]\n",
    "#print(d)"
   ]
  },
  {
   "cell_type": "code",
   "execution_count": 28,
   "metadata": {},
   "outputs": [],
   "source": [
    "# Manually add missing codes from other similar attributes\n",
    "missing_keys_dict[\"CAMEO_DEU_2015\"] = ['XX'] # there is no missing value code assigned for this attribute\n",
    "missing_keys_dict[\"CAMEO_DEUG_2015\"] = ['X', 'XX'] # there is no missing value code assigned for this attribute\n",
    "missing_keys_dict[\"CAMEO_INTL_2015\"] = ['XX'] # there is no missing value code assigned for this attribute\n",
    "missing_keys_dict[\"CAMEO_INTL_2015\"] = missing_keys_dict[\"CAMEO_DEUINTL_2015\"] # assign similar value code to CAMEO_INTL_2015 \n",
    "missing_keys_dict[\"GEBURTSJAHR\"] = ['0'] # there is no missing value code assigned for this attribute as it records the data year of birth\n",
    "missing_keys_dict[\"KBA13_CCM_1401_2500\"] = missing_keys_dict[\"KBA13_CCM_1400_2500\"] # assign similar value code to KBA13_CCM_1401_2500 because value code is not explained in DIAS_Attributes_Values.csv\n",
    "missing_keys_dict[\"KBA13_BAUMAX\"] = missing_keys_dict[\"KBA05_BAUMAX\"] # assign similar value code to KBA13_CCM_1401_2500 because value code is not explained in DIAS_Attributes_Values.csv\n",
    "missing_keys_dict[\"KBA13_ANTG1\"] = missing_keys_dict[\"KBA05_ANTG1\"] # assign similar value code to KBA13_CCM_1401_2500 because value code is not explained in DIAS_Attributes_Values.csv\n",
    "missing_keys_dict[\"KBA13_ANTG2\"] = missing_keys_dict[\"KBA05_ANTG2\"] # assign similar value code to KBA13_CCM_1401_2500 because value code is not explained in DIAS_Attributes_Values.csv\n",
    "missing_keys_dict[\"KBA13_ANTG3\"] = missing_keys_dict[\"KBA05_ANTG3\"] # assign similar value code to KBA13_CCM_1401_2500 because value code is not explained in DIAS_Attributes_Values.csv\n",
    "missing_keys_dict[\"KBA13_ANTG4\"] = missing_keys_dict[\"KBA05_ANTG4\"] # assign similar value code to KBA13_CCM_1401_2500 because value code is not explained in DIAS_Attributes_Values.csv   "
   ]
  },
  {
   "cell_type": "code",
   "execution_count": 29,
   "metadata": {},
   "outputs": [
    {
     "name": "stdout",
     "output_type": "stream",
     "text": [
      "{'AGER_TYP': ['-1'], 'ALTERSKATEGORIE_GROB': ['-1', '0'], 'ALTER_HH': ['0'], 'ANREDE_KZ': ['-1', '0'], 'BALLRAUM': ['-1'], 'BIP_FLAG': ['-1'], 'CAMEO_DEUG_2015': ['X', 'XX'], 'CAMEO_DEUINTL_2015': ['-1'], 'CJT_GESAMTTYP': ['0'], 'D19_KK_KUNDENTYP': ['-1'], 'EWDICHTE': ['-1'], 'FINANZTYP': ['-1'], 'FINANZ_ANLEGER': ['-1'], 'FINANZ_HAUSBAUER': ['-1'], 'FINANZ_MINIMALIST': ['-1'], 'FINANZ_SPARER': ['-1'], 'FINANZ_UNAUFFAELLIGER': ['-1'], 'FINANZ_VORSORGER': ['-1'], 'GEBAEUDETYP': ['-1', '0'], 'GEOSCORE_KLS7': ['-1', '0'], 'HAUSHALTSSTRUKTUR': ['-1', '0'], 'HEALTH_TYP': ['-1'], 'HH_EINKOMMEN_SCORE': ['-1', '0'], 'INNENSTADT': ['-1'], 'KBA05_ALTER1': ['-1', '9'], 'KBA05_ALTER2': ['-1', '9'], 'KBA05_ALTER3': ['-1', '9'], 'KBA05_ALTER4': ['-1', '9'], 'KBA05_ANHANG': ['-1', '9'], 'KBA05_ANTG1': ['-1'], 'KBA05_ANTG2': ['-1'], 'KBA05_ANTG3': ['-1'], 'KBA05_ANTG4': ['-1'], 'KBA05_AUTOQUOT': ['-1', '9'], 'KBA05_BAUMAX': ['-1', '0'], 'KBA05_CCM1': ['-1', '9'], 'KBA05_CCM2': ['-1', '9'], 'KBA05_CCM3': ['-1', '9'], 'KBA05_CCM4': ['-1', '9'], 'KBA05_DIESEL': ['-1', '9'], 'KBA05_FRAU': ['-1', '9'], 'KBA05_GBZ': ['-1', '0'], 'KBA05_HERST1': ['-1', '9'], 'KBA05_HERST2': ['-1', '9'], 'KBA05_HERST3': ['-1', '9'], 'KBA05_HERST4': ['-1', '9'], 'KBA05_HERST5': ['-1', '9'], 'KBA05_HERSTTEMP': ['-1', '9'], 'KBA05_KRSAQUOT': ['-1', '9'], 'KBA05_KRSHERST1': ['-1', '9'], 'KBA05_KRSHERST2': ['-1', '9'], 'KBA05_KRSHERST3': ['-1', '9'], 'KBA05_KRSKLEIN': ['-1', '9'], 'KBA05_KRSOBER': ['-1', '9'], 'KBA05_KRSVAN': ['-1', '9'], 'KBA05_KRSZUL': ['-1', '9'], 'KBA05_KW1': ['-1', '9'], 'KBA05_KW2': ['-1', '9'], 'KBA05_KW3': ['-1', '9'], 'KBA05_MAXAH': ['-1', '9'], 'KBA05_MAXBJ': ['-1', '9'], 'KBA05_MAXHERST': ['-1', '9'], 'KBA05_MAXSEG': ['-1', '9'], 'KBA05_MAXVORB': ['-1', '9'], 'KBA05_MOD1': ['-1', '9'], 'KBA05_MOD2': ['-1', '9'], 'KBA05_MOD3': ['-1', '9'], 'KBA05_MOD4': ['-1', '9'], 'KBA05_MOD8': ['-1', '9'], 'KBA05_MODTEMP': ['-1', '9'], 'KBA05_MOTOR': ['-1', '9'], 'KBA05_MOTRAD': ['-1', '9'], 'KBA05_SEG1': ['-1', '9'], 'KBA05_SEG10': ['-1', '9'], 'KBA05_SEG2': ['-1', '9'], 'KBA05_SEG3': ['-1', '9'], 'KBA05_SEG4': ['-1', '9'], 'KBA05_SEG5': ['-1', '9'], 'KBA05_SEG6': ['-1', '9'], 'KBA05_SEG7': ['-1', '9'], 'KBA05_SEG8': ['-1', '9'], 'KBA05_SEG9': ['-1', '9'], 'KBA05_VORB0': ['-1', '9'], 'KBA05_VORB1': ['-1', '9'], 'KBA05_VORB2': ['-1', '9'], 'KBA05_ZUL1': ['-1', '9'], 'KBA05_ZUL2': ['-1', '9'], 'KBA05_ZUL3': ['-1', '9'], 'KBA05_ZUL4': ['-1', '9'], 'KBA13_ALTERHALTER_30': ['-1'], 'KBA13_ALTERHALTER_45': ['-1'], 'KBA13_ALTERHALTER_60': ['-1'], 'KBA13_ALTERHALTER_61': ['-1'], 'KBA13_AUDI': ['-1'], 'KBA13_AUTOQUOTE': ['-1'], 'KBA13_BJ_1999': ['-1'], 'KBA13_BJ_2000': ['-1'], 'KBA13_BJ_2004': ['-1'], 'KBA13_BJ_2006': ['-1'], 'KBA13_BJ_2008': ['-1'], 'KBA13_BJ_2009': ['-1'], 'KBA13_BMW': ['-1'], 'KBA13_CCM_1000': ['-1'], 'KBA13_CCM_1200': ['-1'], 'KBA13_CCM_1400': ['-1'], 'KBA13_CCM_0_1400': ['-1'], 'KBA13_CCM_1500': ['-1'], 'KBA13_CCM_1400_2500': ['-1'], 'KBA13_CCM_1600': ['-1'], 'KBA13_CCM_1800': ['-1'], 'KBA13_CCM_2000': ['-1'], 'KBA13_CCM_2500': ['-1'], 'KBA13_CCM_2501': ['-1'], 'KBA13_CCM_3000': ['-1'], 'KBA13_CCM_3001': ['-1'], 'KBA13_FAB_ASIEN': ['-1'], 'KBA13_FAB_SONSTIGE': ['-1'], 'KBA13_FIAT': ['-1'], 'KBA13_FORD': ['-1'], 'KBA13_HALTER_20': ['-1'], 'KBA13_HALTER_25': ['-1'], 'KBA13_HALTER_30': ['-1'], 'KBA13_HALTER_35': ['-1'], 'KBA13_HALTER_40': ['-1'], 'KBA13_HALTER_45': ['-1'], 'KBA13_HALTER_50': ['-1'], 'KBA13_HALTER_55': ['-1'], 'KBA13_HALTER_60': ['-1'], 'KBA13_HALTER_65': ['-1'], 'KBA13_HALTER_66': ['-1'], 'KBA13_HERST_ASIEN': ['-1'], 'KBA13_HERST_AUDI_VW': ['-1'], 'KBA13_HERST_BMW_BENZ': ['-1'], 'KBA13_HERST_EUROPA': ['-1'], 'KBA13_HERST_FORD_OPEL': ['-1'], 'KBA13_HERST_SONST': ['-1'], 'KBA13_KMH_110': ['-1'], 'KBA13_KMH_140': ['-1'], 'KBA13_KMH_180': ['-1'], 'KBA13_KMH_0_140': ['-1'], 'KBA13_KMH_140_210': ['-1'], 'KBA13_KMH_211': ['-1'], 'KBA13_KMH_250': ['-1'], 'KBA13_KMH_251': ['-1'], 'KBA13_KRSAQUOT': ['-1'], 'KBA13_KRSHERST_AUDI_VW': ['-1'], 'KBA13_KRSHERST_BMW_BENZ': ['-1'], 'KBA13_KRSHERST_FORD_OPEL': ['-1'], 'KBA13_KRSSEG_KLEIN': ['-1'], 'KBA13_KRSSEG_OBER': ['-1'], 'KBA13_KRSSEG_VAN': ['-1'], 'KBA13_KRSZUL_NEU': ['-1'], 'KBA13_KW_30': ['-1'], 'KBA13_KW_40': ['-1'], 'KBA13_KW_50': ['-1'], 'KBA13_KW_60': ['-1'], 'KBA13_KW_0_60': ['-1'], 'KBA13_KW_70': ['-1'], 'KBA13_KW_61_120': ['-1'], 'KBA13_KW_80': ['-1'], 'KBA13_KW_90': ['-1'], 'KBA13_KW_110': ['-1'], 'KBA13_KW_120': ['-1'], 'KBA13_KW_121': ['-1'], 'KBA13_MAZDA': ['-1'], 'KBA13_MERCEDES': ['-1'], 'KBA13_MOTOR': ['-1'], 'KBA13_NISSAN': ['-1'], 'KBA13_OPEL': ['-1'], 'KBA13_PEUGEOT': ['-1'], 'KBA13_RENAULT': ['-1'], 'KBA13_SEG_GELAENDEWAGEN': ['-1'], 'KBA13_SEG_GROSSRAUMVANS': ['-1'], 'KBA13_SEG_KLEINST': ['-1'], 'KBA13_SEG_KLEINWAGEN': ['-1'], 'KBA13_SEG_KOMPAKTKLASSE': ['-1'], 'KBA13_SEG_MINIVANS': ['-1'], 'KBA13_SEG_MINIWAGEN': ['-1'], 'KBA13_SEG_MITTELKLASSE': ['-1'], 'KBA13_SEG_OBEREMITTELKLASSE': ['-1'], 'KBA13_SEG_OBERKLASSE': ['-1'], 'KBA13_SEG_SONSTIGE': ['-1'], 'KBA13_SEG_SPORTWAGEN': ['-1'], 'KBA13_SEG_UTILITIES': ['-1'], 'KBA13_SEG_VAN': ['-1'], 'KBA13_SEG_WOHNMOBILE': ['-1'], 'KBA13_SITZE_4': ['-1'], 'KBA13_SITZE_5': ['-1'], 'KBA13_SITZE_6': ['-1'], 'KBA13_TOYOTA': ['-1'], 'KBA13_VORB_0': ['-1'], 'KBA13_VORB_1': ['-1'], 'KBA13_VORB_1_2': ['-1'], 'KBA13_VORB_2': ['-1'], 'KBA13_VORB_3': ['-1'], 'KBA13_VW': ['-1'], 'KKK': ['-1', '0'], 'NATIONALITAET_KZ': ['-1', '0'], 'ORTSGR_KLS9': ['-1'], 'OST_WEST_KZ': ['-1'], 'PLZ8_ANTG1': ['-1'], 'PLZ8_ANTG2': ['-1'], 'PLZ8_ANTG3': ['-1'], 'PLZ8_ANTG4': ['-1'], 'PLZ8_GBZ': ['-1'], 'PLZ8_HHZ': ['-1'], 'PRAEGENDE_JUGENDJAHRE': ['-1', '0'], 'REGIOTYP': ['-1', '0'], 'RELAT_AB': ['-1', '9'], 'RETOURTYP_BK_S': ['0'], 'SEMIO_DOM': ['-1', '9'], 'SEMIO_ERL': ['-1', '9'], 'SEMIO_FAM': ['-1', '9'], 'SEMIO_KAEM': ['-1', '9'], 'SEMIO_KRIT': ['-1', '9'], 'SEMIO_KULT': ['-1', '9'], 'SEMIO_LUST': ['-1', '9'], 'SEMIO_MAT': ['-1', '9'], 'SEMIO_PFLICHT': ['-1', '9'], 'SEMIO_RAT': ['-1', '9'], 'SEMIO_REL': ['-1', '9'], 'SEMIO_SOZ': ['-1', '9'], 'SEMIO_TRADV': ['-1', '9'], 'SEMIO_VERT': ['-1', '9'], 'SHOPPER_TYP': ['-1'], 'SOHO_FLAG': ['-1'], 'TITEL_KZ': ['-1', '0'], 'VERS_TYP': ['-1'], 'WOHNDAUER_2008': ['-1', '0'], 'WOHNLAGE': ['-1'], 'WACHSTUMSGEBIET_NB': ['-1', '0'], 'W_KEIT_KIND_HH': ['-1', '0'], 'ZABEOTYP': ['-1', '9'], 'D19_BANKEN_ANZ_12': ['0'], 'D19_BANKEN_ANZ_24': ['0'], nan: ['10'], 'D19_BANKEN_DIREKT_RZ': ['0'], 'D19_BANKEN_GROSS_RZ': ['0'], 'D19_BANKEN_LOKAL_RZ': ['0'], 'D19_BANKEN_REST_RZ': ['0'], 'D19_BEKLEIDUNG_GEH_RZ': ['0'], 'D19_BEKLEIDUNG_REST_RZ': ['0'], 'D19_BILDUNG_RZ': ['0'], 'D19_BIO_OEKO_RZ': ['0'], 'D19_BUCH_RZ': ['0'], 'D19_DIGIT_SERV_RZ': ['0'], 'D19_DROGERIEARTIKEL_RZ': ['0'], 'D19_ENERGIE_RZ': ['0'], 'D19_FREIZEIT_RZ': ['0'], 'D19_GARTEN_RZ': ['0'], 'D19_GESAMT_ANZ_12': ['0'], 'D19_GESAMT_ANZ_24': ['0'], 'D19_HANDWERK_RZ': ['0'], 'D19_HAUS_DEKO_RZ': ['0'], 'D19_KINDERARTIKEL_RZ': ['0'], 'D19_KOSMETIK_RZ': ['0'], 'D19_LEBENSMITTEL_RZ': ['0'], 'D19_LOTTO_RZ': ['0'], 'D19_NAHRUNGSERGAENZUNG_RZ': ['0'], 'D19_RATGEBER_RZ': ['0'], 'D19_REISEN_RZ': ['0'], 'D19_SAMMELARTIKEL_RZ': ['0'], 'D19_SCHUHE_RZ': ['0'], 'D19_SONSTIGE_RZ': ['0'], 'D19_TECHNIK_RZ': ['0'], 'D19_TELKO_ANZ_12': ['0'], 'D19_TELKO_ANZ_24': ['0'], 'D19_TELKO_MOBILE_RZ': ['0'], 'D19_TELKO_REST_RZ': ['0'], 'D19_TIERARTIKEL_RZ': ['0'], 'D19_VERSAND_ANZ_12': ['0'], 'D19_VERSAND_ANZ_24': ['0'], 'D19_VERSAND_REST_RZ': ['0'], 'D19_VERSICHERUNGEN_RZ': ['0'], 'D19_VERSI_ANZ_12': ['0'], 'D19_VERSI_ANZ_24': ['0'], 'D19_VOLLSORTIMENT_RZ': ['0'], 'D19_WEIN_FEINKOST_RZ': ['0'], 'D19_WEIN_FEINKOST_': ['0'], 'D19_BANKEN_DATUM': ['10'], 'D19_BANKEN_OFFLINE_DATUM': ['10'], 'D19_BANKEN_ONLINE_DATUM': ['10'], 'D19_GESAMT_DATUM': ['10'], 'D19_GESAMT_OFFLINE_DATUM': ['10'], 'D19_GESAMT_ONLINE_DATUM': ['10'], 'D19_TELKO_DATUM': ['10'], 'D19_TELKO_OFFLINE_DATUM': ['10'], 'D19_TELKO_ONLINE_DATUM': ['10'], 'D19_VERSAND_DATUM': ['10'], 'D19_VERSAND_OFFLINE_DATUM': ['10'], 'D19_VERSAND_ONLINE_DATUM': ['10'], 'CAMEO_DEU_2015': ['XX'], 'CAMEO_INTL_2015': ['-1'], 'GEBURTSJAHR': ['0'], 'KBA13_CCM_1401_2500': ['-1'], 'KBA13_BAUMAX': ['-1', '0'], 'KBA13_ANTG1': ['-1'], 'KBA13_ANTG2': ['-1'], 'KBA13_ANTG3': ['-1'], 'KBA13_ANTG4': ['-1']}\n"
     ]
    }
   ],
   "source": [
    "print(missing_keys_dict)"
   ]
  },
  {
   "cell_type": "markdown",
   "metadata": {},
   "source": [
    "**Produce an array of number of missing values for each column**"
   ]
  },
  {
   "cell_type": "code",
   "execution_count": 30,
   "metadata": {},
   "outputs": [],
   "source": [
    "def get_missing_by_column(df):\n",
    "    '''\n",
    "    Determine the number of NaN or missing values for each column and returns an array of this number\n",
    "    Input:\n",
    "        df (dataframe): The dataframe for which the evaluation will be made\n",
    "    Output:\n",
    "        col_missing_value (array): An array of values representing missing values for each column\n",
    "    '''\n",
    "    col_missing_value = []\n",
    "    for col in azdias.columns:\n",
    "        try:\n",
    "            col_missing_value.append(azdias[col].isnull().value_counts()[1])\n",
    "        except:\n",
    "            col_missing_value.append(0)\n",
    "    return col_missing_value"
   ]
  },
  {
   "cell_type": "code",
   "execution_count": 31,
   "metadata": {},
   "outputs": [],
   "source": [
    "initial_missing = get_missing_by_column(azdias)"
   ]
  },
  {
   "cell_type": "code",
   "execution_count": 32,
   "metadata": {},
   "outputs": [
    {
     "name": "stdout",
     "output_type": "stream",
     "text": [
      "[0, 0, 73499, 73499, 810163, 861722, 885051, 890016, 262947, 93148, 97008, 73499, 73499, 93148, 73499, 97216, 93740, 98979, 98979, 98979, 4854, 4854, 4854, 4854, 4854, 4854, 4854, 4854, 0, 0, 0, 0, 0, 0, 0, 0, 257113, 0, 0, 0, 0, 0, 0, 0, 0, 0, 0, 0, 0, 0, 0, 0, 0, 257113, 0, 0, 0, 257113, 0, 0, 0, 257113, 257113, 0, 0, 0, 0, 0, 0, 257113, 0, 0, 0, 0, 0, 0, 0, 257113, 0, 0, 0, 0, 0, 0, 0, 257113, 0, 0, 0, 0, 0, 0, 257113, 0, 0, 0, 93148, 93148, 73499, 93740, 654153, 0, 0, 0, 0, 0, 0, 0, 93155, 93148, 93155, 0, 97274, 4854, 0, 0, 107602, 18348, 93740, 133324, 133324, 133324, 133324, 133324, 133324, 133324, 133324, 133324, 133324, 133324, 133324, 133324, 133324, 133324, 133324, 133324, 133324, 133324, 133324, 133324, 133324, 133324, 93148, 133324, 133324, 133324, 133324, 133324, 133324, 133324, 133324, 133324, 133324, 133324, 133324, 133324, 133324, 133324, 133324, 133324, 133324, 133324, 133324, 133324, 93148, 133324, 133324, 133324, 133324, 133324, 133324, 133324, 133324, 133324, 133324, 133324, 133324, 133324, 133324, 133324, 133324, 133324, 133324, 133324, 105800, 105800, 105800, 105800, 105800, 105800, 105800, 105800, 105800, 105800, 105800, 105800, 105800, 105800, 105800, 105800, 105800, 105800, 105800, 105800, 105800, 105800, 105800, 105800, 105800, 105800, 105800, 105800, 105800, 105800, 105800, 105800, 105800, 105800, 105800, 105800, 105800, 105800, 105800, 105800, 105800, 105800, 105800, 105800, 105800, 105800, 105800, 105800, 105800, 105800, 105800, 105800, 105800, 105800, 105800, 105800, 105800, 105800, 105800, 105800, 105800, 105800, 105800, 105800, 105800, 105800, 105800, 105800, 105800, 105800, 105800, 105800, 105800, 105800, 105800, 105800, 105800, 105800, 105800, 105800, 105800, 105800, 105800, 105800, 105800, 105800, 105800, 105800, 105800, 105800, 105800, 105800, 105800, 105800, 105800, 105800, 105800, 105800, 105800, 105800, 105800, 105800, 105800, 105800, 105800, 105800, 105800, 105800, 105800, 105800, 105800, 105800, 105800, 105800, 105800, 105800, 584612, 121196, 0, 73969, 93155, 4854, 4854, 4854, 4854, 4854, 4854, 93148, 93148, 133324, 0, 4854, 97216, 93148, 116515, 116515, 116515, 116515, 116515, 116515, 116515, 0, 121196, 97216, 4854, 4854, 4854, 51226, 0, 0, 0, 0, 0, 0, 0, 0, 0, 0, 0, 0, 0, 0, 0, 73499, 97274, 73499, 97786, 97786, 73499, 97274, 0, 73499, 121196, 75917, 75917, 75917, 107602, 73499, 93148, 0, 0, 0]\n"
     ]
    }
   ],
   "source": [
    "print(initial_missing)"
   ]
  },
  {
   "cell_type": "markdown",
   "metadata": {},
   "source": [
    "**Convert missing value key to NaN**"
   ]
  },
  {
   "cell_type": "code",
   "execution_count": 33,
   "metadata": {},
   "outputs": [],
   "source": [
    "def convert_keys_to_nan(df, keys_dict):\n",
    "    '''\n",
    "    Replace missing value with np.NaN for missing value keys in the missing keys dictionary\n",
    "    Input:\n",
    "        df (dataframe):\n",
    "        keys_dict (dictionary): Dictionary of attributes as keys with missing value that needs to be converted to np.NaN\n",
    "    Output:\n",
    "        None\n",
    "    '''\n",
    "    for attribute in keys_dict:\n",
    "        if attribute in azdias.columns:\n",
    "            keys_values = keys_dict[attribute]\n",
    "            for value in keys_values:\n",
    "                if value == 'X' or value == 'XX':\n",
    "                    value = str(value)\n",
    "                else:\n",
    "                    value = int(value)\n",
    "                df[attribute].replace(value, np.NaN, inplace=True)"
   ]
  },
  {
   "cell_type": "code",
   "execution_count": 34,
   "metadata": {},
   "outputs": [],
   "source": [
    "convert_keys_to_nan(azdias, missing_keys_dict)"
   ]
  },
  {
   "cell_type": "markdown",
   "metadata": {},
   "source": [
    "**Check how much missing data there is in each column**"
   ]
  },
  {
   "cell_type": "code",
   "execution_count": 35,
   "metadata": {},
   "outputs": [],
   "source": [
    "def create_missing_info_df(df, initial_missing=None):\n",
    "    '''\n",
    "    Build a missing info dataframe where each row is an attribute and the columns will show \n",
    "    initial missing values (obtained from isnull() function), final missing values (obtained\n",
    "    from encoding to np.NaN) and percentage of missing values.\n",
    "    Input:\n",
    "        df (dataframe): dataframe from which missing info is created\n",
    "        initial_missing (array): An array of values representing missing values for each column\n",
    "    Output:\n",
    "        sorted_missing_info (dataframe): Dataframe showing attributes in each row with its\n",
    "        corresponding initial missing, final missing and percentage missing values; sorted in \n",
    "        descending order.\n",
    "    '''\n",
    "    missing_info = pd.DataFrame(data=azdias.columns, columns=[\"Attribute\"])\n",
    "    \n",
    "    if initial_missing != None:\n",
    "        missing_info[\"initial_missing\"] = initial_missing\n",
    "        \n",
    "    missing_info[\"final_missing\"] = get_missing_by_column(df)\n",
    "    total = df.shape[0]\n",
    "    \n",
    "    # calculate percent of total missing value by attribute \n",
    "    missing_info[\"%_missing\"] = missing_info[\"final_missing\"] / total * 100\n",
    "    \n",
    "    # dataframe of missing attributes sorted from lowest to highest\n",
    "    sorted_missing_info = missing_info.sort_values(by=\"final_missing\", ascending=False)\n",
    "    \n",
    "    return sorted_missing_info"
   ]
  },
  {
   "cell_type": "code",
   "execution_count": 36,
   "metadata": {},
   "outputs": [
    {
     "name": "stdout",
     "output_type": "stream",
     "text": [
      "                     Attribute  initial_missing  final_missing  %_missing\n",
      "7                  ALTER_KIND4           890016         890016       99.9\n",
      "349                   TITEL_KZ            73499         889061       99.8\n",
      "6                  ALTER_KIND3           885051         885051       99.3\n",
      "76      D19_TELKO_ONLINE_DATUM                0         883018       99.1\n",
      "34    D19_BANKEN_OFFLINE_DATUM                0         871535       97.8\n",
      "5                  ALTER_KIND2           861722         861722       96.7\n",
      "71            D19_TELKO_ANZ_12                0         857990       96.3\n",
      "28           D19_BANKEN_ANZ_12                0         831734       93.3\n",
      "72            D19_TELKO_ANZ_24                0         826208       92.7\n",
      "87            D19_VERSI_ANZ_12                0         821289       92.2\n",
      "75     D19_TELKO_OFFLINE_DATUM                0         819114       91.9\n",
      "4                  ALTER_KIND1           810163         810163       90.9\n",
      "29           D19_BANKEN_ANZ_24                0         794100       89.1\n",
      "88            D19_VERSI_ANZ_24                0         777037       87.2\n",
      "35     D19_BANKEN_ONLINE_DATUM                0         726982       81.6\n",
      "30            D19_BANKEN_DATUM                0         678331       76.1\n",
      "1                     AGER_TYP                0         677503       76.0\n",
      "73             D19_TELKO_DATUM                0         665798       74.7\n",
      "100                  EXTSEL992           654153         654153       73.4\n",
      "80          D19_VERSAND_ANZ_12                0         637972       71.6\n",
      "83   D19_VERSAND_OFFLINE_DATUM                0         634233       71.2\n",
      "48           D19_GESAMT_ANZ_12                0         584797       65.6\n",
      "300               KK_KUNDENTYP           584612         584612       65.6\n",
      "81          D19_VERSAND_ANZ_24                0         563818       63.3\n",
      "51    D19_GESAMT_OFFLINE_DATUM                0         558558       62.7\n",
      "49           D19_GESAMT_ANZ_24                0         505303       56.7\n",
      "84    D19_VERSAND_ONLINE_DATUM                0         494464       55.5\n",
      "129               KBA05_BAUMAX           133324         476524       53.5\n",
      "52     D19_GESAMT_ONLINE_DATUM                0         450995       50.6\n",
      "82           D19_VERSAND_DATUM                0         437886       49.1\n"
     ]
    }
   ],
   "source": [
    "sorted_missing_info = create_missing_info_df(azdias, initial_missing)\n",
    "print(sorted_missing_info.round(decimals=1)[:30])"
   ]
  },
  {
   "cell_type": "code",
   "execution_count": 37,
   "metadata": {},
   "outputs": [
    {
     "data": {
      "image/png": "[encoded data removed]",
      "text/plain": [
       "<Figure size 1152x576 with 1 Axes>"
      ]
     },
     "metadata": {
      "needs_background": "light"
     },
     "output_type": "display_data"
    }
   ],
   "source": [
    "ax = sorted_missing_info[:80].plot(\"Attribute\", \"%_missing\", kind=\"bar\", figsize=(16, 8), \n",
    "                                   title=\"Top 80 Columns with highest missing values\")\n",
    "ax.set_xlabel(\"Column name\")\n",
    "ax.set_ylabel(\"Percentage missing values\")\n",
    "ax.figure.savefig('top_missing.png', dpi=500);"
   ]
  },
  {
   "cell_type": "markdown",
   "metadata": {},
   "source": [
    "**Drop columns with more than 30% missing data**"
   ]
  },
  {
   "cell_type": "code",
   "execution_count": 38,
   "metadata": {},
   "outputs": [
    {
     "name": "stdout",
     "output_type": "stream",
     "text": [
      "33\n",
      "['ALTER_KIND4', 'TITEL_KZ', 'ALTER_KIND3', 'D19_TELKO_ONLINE_DATUM', 'D19_BANKEN_OFFLINE_DATUM', 'ALTER_KIND2', 'D19_TELKO_ANZ_12', 'D19_BANKEN_ANZ_12', 'D19_TELKO_ANZ_24', 'D19_VERSI_ANZ_12', 'D19_TELKO_OFFLINE_DATUM', 'ALTER_KIND1', 'D19_BANKEN_ANZ_24', 'D19_VERSI_ANZ_24', 'D19_BANKEN_ONLINE_DATUM', 'D19_BANKEN_DATUM', 'AGER_TYP', 'D19_TELKO_DATUM', 'EXTSEL992', 'D19_VERSAND_ANZ_12', 'D19_VERSAND_OFFLINE_DATUM', 'D19_GESAMT_ANZ_12', 'KK_KUNDENTYP', 'D19_VERSAND_ANZ_24', 'D19_GESAMT_OFFLINE_DATUM', 'D19_GESAMT_ANZ_24', 'D19_VERSAND_ONLINE_DATUM', 'KBA05_BAUMAX', 'D19_GESAMT_ONLINE_DATUM', 'D19_VERSAND_DATUM', 'GEBURTSJAHR', 'D19_GESAMT_DATUM', 'ALTER_HH']\n",
      "[99.86 99.76 99.31 99.08 97.79 96.69 96.27 93.33 92.71 92.15 91.91 90.9\n",
      " 89.1  87.19 81.57 76.11 76.02 74.71 73.4  71.58 71.16 65.62 65.6  63.26\n",
      " 62.67 56.7  55.48 53.47 50.6  49.13 44.02 39.74 34.81]\n"
     ]
    }
   ],
   "source": [
    "deleted_columns_one = sorted_missing_info[sorted_missing_info[\"%_missing\"]>30][\"Attribute\"].values\n",
    "print(len(deleted_columns_one))\n",
    "print(list(deleted_columns_one))\n",
    "print(sorted_missing_info[sorted_missing_info[\"%_missing\"]>30][\"%_missing\"].values.round(2))"
   ]
  },
  {
   "cell_type": "markdown",
   "metadata": {},
   "source": [
    "Total columns with more than 30% missing data is 33 columns. These 33 attributes will be dropped from the dataframe."
   ]
  },
  {
   "cell_type": "markdown",
   "metadata": {},
   "source": [
    "**Additional columns to drop**"
   ]
  },
  {
   "cell_type": "markdown",
   "metadata": {},
   "source": [
    "By going through the AZDIAS columns and comparing them to the DIAS_Attribute_Values file, we ensure that columns in the AZDIAS data are found in the DIAS_Attribute_Values file. We also check for columns that are a repeat or similar to other columns, has many zero values and too many categories. <br>\n",
    "\n",
    "Add additional columns to remove: <br>\n",
    "LNR : Identifier that does not contribute to analysis. <br>\n",
    "ANZ_HH_TITEL : Too many zero values. <br>\n",
    "ANZ_KINDER : Too many categories. 11 categories. <br>\n",
    "ANZ_TITEL : Too many zero values. <br>\n",
    "CAMEO_DEU_2015 : Too many categories. 44 categories. <br>\n",
    "GEBAEUDETYP : Repeat of GEBAEUDETYP_RASTER. <br>\n",
    "KBA05_MODTEMP : Repeat of KBA05_HERSTTEMP. <br>\n",
    "LP_FAMILIE_FEIN : Repeat of LP_FAMILY_GROB. <br>\n",
    "LP_LEBENSPHASE_FEIN : Too many categories and repeat of other columns. 40 categories. <br>\n",
    "LP_LEBENSPHASE_GROB : Too many categories and repeat of other columns. 12 categories. <br>\n",
    "LP_STATUS_FEIN : Almost similar to LP_STATUS_GROB. <br>\n",
    "PLZ8_ANTG1 : Almost similar to PLZ8_BAUMAX. <br>\n",
    "PLZ8_ANTG2 : Almost similar to PLZ8_BAUMAX. <br>\n",
    "PLZ8_ANTG3 : Almost similar to PLZ8_BAUMAX. <br>\n",
    "PLZ8_ANTG4 : Almost similar to PLZ8_BAUMAX. <br>\n",
    "VERDICHTUNGSRAUM : Too many categories. 45 categories. <br>\n",
    "VK_DHT4A : Too many categories. 11 categories. <br>\n",
    "VK_DISTANZ : Too many categories. 11 categories. <br>\n",
    "VK_ZG11 : Too many categories. 11 categories. <br>\n",
    "ALTERSKATEGORIE_FEIN : Attribute is unknown. <br>\n",
    "D19_TELKO_ONLINE_QUOTE_12 : Attribute is unknown. Too many zero values. <br>\n",
    "D19_LETZTER_KAUF_BRANCHE : Attribute is unknown. <br>\n",
    "D19_VERSI_ONLINE_QUOTE_12 : Attribute is unknown. Too many zero values. <br>"
   ]
  },
  {
   "cell_type": "code",
   "execution_count": 39,
   "metadata": {},
   "outputs": [],
   "source": [
    "deleted_columns_two = ['LNR', 'ANZ_HH_TITEL', 'ANZ_KINDER', 'ANZ_TITEL', 'CAMEO_DEU_2015',\n",
    "                       'GEBAEUDETYP', 'KBA05_MODTEMP', 'LP_FAMILIE_FEIN',\n",
    "                       'LP_LEBENSPHASE_FEIN', 'LP_LEBENSPHASE_GROB', 'LP_STATUS_FEIN', 'PLZ8_ANTG1',\n",
    "                       'PLZ8_ANTG2', 'PLZ8_ANTG3', 'PLZ8_ANTG4', 'VERDICHTUNGSRAUM', 'VK_DHT4A',\n",
    "                       'VK_DISTANZ', 'VK_ZG11', 'ALTERSKATEGORIE_FEIN', 'D19_TELKO_ONLINE_QUOTE_12',\n",
    "                       'D19_LETZTER_KAUF_BRANCHE', 'D19_VERSI_ONLINE_QUOTE_12']"
   ]
  },
  {
   "cell_type": "markdown",
   "metadata": {},
   "source": [
    "**List all columns to be dropped**"
   ]
  },
  {
   "cell_type": "code",
   "execution_count": 40,
   "metadata": {},
   "outputs": [
    {
     "name": "stdout",
     "output_type": "stream",
     "text": [
      "56\n",
      "['ALTER_KIND4', 'TITEL_KZ', 'ALTER_KIND3', 'D19_TELKO_ONLINE_DATUM', 'D19_BANKEN_OFFLINE_DATUM', 'ALTER_KIND2', 'D19_TELKO_ANZ_12', 'D19_BANKEN_ANZ_12', 'D19_TELKO_ANZ_24', 'D19_VERSI_ANZ_12', 'D19_TELKO_OFFLINE_DATUM', 'ALTER_KIND1', 'D19_BANKEN_ANZ_24', 'D19_VERSI_ANZ_24', 'D19_BANKEN_ONLINE_DATUM', 'D19_BANKEN_DATUM', 'AGER_TYP', 'D19_TELKO_DATUM', 'EXTSEL992', 'D19_VERSAND_ANZ_12', 'D19_VERSAND_OFFLINE_DATUM', 'D19_GESAMT_ANZ_12', 'KK_KUNDENTYP', 'D19_VERSAND_ANZ_24', 'D19_GESAMT_OFFLINE_DATUM', 'D19_GESAMT_ANZ_24', 'D19_VERSAND_ONLINE_DATUM', 'KBA05_BAUMAX', 'D19_GESAMT_ONLINE_DATUM', 'D19_VERSAND_DATUM', 'GEBURTSJAHR', 'D19_GESAMT_DATUM', 'ALTER_HH', 'LNR', 'ANZ_HH_TITEL', 'ANZ_KINDER', 'ANZ_TITEL', 'CAMEO_DEU_2015', 'GEBAEUDETYP', 'KBA05_MODTEMP', 'LP_FAMILIE_FEIN', 'LP_LEBENSPHASE_FEIN', 'LP_LEBENSPHASE_GROB', 'LP_STATUS_FEIN', 'PLZ8_ANTG1', 'PLZ8_ANTG2', 'PLZ8_ANTG3', 'PLZ8_ANTG4', 'VERDICHTUNGSRAUM', 'VK_DHT4A', 'VK_DISTANZ', 'VK_ZG11', 'ALTERSKATEGORIE_FEIN', 'D19_TELKO_ONLINE_QUOTE_12', 'D19_LETZTER_KAUF_BRANCHE', 'D19_VERSI_ONLINE_QUOTE_12']\n"
     ]
    }
   ],
   "source": [
    "deleted_columns = list(deleted_columns_one) + deleted_columns_two\n",
    "print(len(deleted_columns))\n",
    "print(deleted_columns)"
   ]
  },
  {
   "cell_type": "code",
   "execution_count": 41,
   "metadata": {},
   "outputs": [
    {
     "name": "stdout",
     "output_type": "stream",
     "text": [
      "AZDIAS shape in original dataframe: (891221, 366)\n",
      "AZDIAS shape with columns dropped: (891221, 310)\n"
     ]
    }
   ],
   "source": [
    "print(\"AZDIAS shape in original dataframe: {}\".format(azdias.shape))\n",
    "azdias_reduced = azdias.drop(deleted_columns, axis=1)\n",
    "print(\"AZDIAS shape with columns dropped: {}\".format(azdias_reduced.shape))"
   ]
  },
  {
   "cell_type": "markdown",
   "metadata": {},
   "source": [
    "#### 2.) Assess missing data in rows"
   ]
  },
  {
   "cell_type": "code",
   "execution_count": 42,
   "metadata": {},
   "outputs": [],
   "source": [
    "# Calculate the number of missing value for each row\n",
    "azdias_reduced[\"n_missing\"] = azdias_reduced.isnull().sum(axis=1)"
   ]
  },
  {
   "cell_type": "code",
   "execution_count": 43,
   "metadata": {},
   "outputs": [
    {
     "data": {
      "image/png": "[encoded data removed]",
      "text/plain": [
       "<Figure size 1152x576 with 1 Axes>"
      ]
     },
     "metadata": {
      "needs_background": "light"
     },
     "output_type": "display_data"
    }
   ],
   "source": [
    "plt.figure(figsize=(16, 8))\n",
    "plt.hist(azdias_reduced[\"n_missing\"], bins=np.linspace(min(azdias_reduced[\"n_missing\"]), max(azdias_reduced[\"n_missing\"])+1))\n",
    "plt.xticks(np.arange(min(azdias_reduced[\"n_missing\"]), max(azdias_reduced[\"n_missing\"])+1, 10))\n",
    "plt.ylabel(\"Number of rows\")\n",
    "plt.xlabel(\"Amount of missing data out of {} attributes\".format(azdias_reduced.shape[1]))\n",
    "plt.title(\"Distribution of missing values by row\")\n",
    "plt.savefig('row_missing.png', dpi=500);"
   ]
  },
  {
   "cell_type": "code",
   "execution_count": 44,
   "metadata": {},
   "outputs": [
    {
     "data": {
      "image/png": "[encoded data removed]",
      "text/plain": [
       "<Figure size 1152x576 with 1 Axes>"
      ]
     },
     "metadata": {
      "needs_background": "light"
     },
     "output_type": "display_data"
    }
   ],
   "source": [
    "x = (azdias_reduced[\"n_missing\"].value_counts().sort_index().cumsum()/len(azdias)) * 100\n",
    "\n",
    "plt.figure(figsize=(16, 8))\n",
    "plt.plot(x)\n",
    "\n",
    "plt.yticks(np.arange(0, 100+5, 5))\n",
    "plt.xticks(np.arange(min(x.index), max(x.index)+1, 10))\n",
    "\n",
    "plt.ylabel(\"Percentage share of rows\")\n",
    "plt.xlabel(\"No. of missing values\")\n",
    "plt.title(\"Cumulative distribution of missing row values\")\n",
    "plt.savefig(\"cum_dist_missing_rows.png\", dpi=500);"
   ]
  },
  {
   "cell_type": "code",
   "execution_count": 45,
   "metadata": {},
   "outputs": [
    {
     "name": "stdout",
     "output_type": "stream",
     "text": [
      "Percentage of data kept: \n",
      " 0     54.673869\n",
      "1     55.290439\n",
      "2     59.520702\n",
      "3     61.416080\n",
      "4     62.605459\n",
      "5     63.472023\n",
      "6     77.910978\n",
      "7     78.394360\n",
      "8     79.655102\n",
      "9     80.218711\n",
      "10    80.656874\n",
      "11    81.272883\n",
      "12    82.057649\n",
      "13    82.139671\n",
      "14    82.203292\n",
      "15    82.220684\n",
      "16    82.588382\n",
      "17    82.598368\n",
      "18    82.616209\n",
      "19    82.629561\n",
      "20    82.640782\n",
      "21    82.648299\n",
      "22    82.711583\n",
      "23    82.714276\n",
      "24    82.715398\n",
      "25    82.718877\n",
      "26    82.722131\n",
      "27    82.724711\n",
      "28    82.727741\n",
      "29    82.727853\n",
      "Name: n_missing, dtype: float64\n"
     ]
    }
   ],
   "source": [
    "print(\"Percentage of data kept: \\n\", x[0:30])"
   ]
  },
  {
   "cell_type": "markdown",
   "metadata": {},
   "source": [
    "The figure above shows us the percentage share of rows with X no. of missing values. \n",
    "\n",
    "We shall keep rows with less than 26 missing values. This means 82% share of rows data will be retained. This is where the percentage of rows/data kept plateaus. We shall use this threshold to drop the rows with missing values."
   ]
  },
  {
   "cell_type": "code",
   "execution_count": 46,
   "metadata": {},
   "outputs": [
    {
     "name": "stdout",
     "output_type": "stream",
     "text": [
      "(737208, 310)\n"
     ]
    }
   ],
   "source": [
    "# Keep rows with missing rows that is less than 26 missing attributes\n",
    "azdias_row_reduced = azdias_reduced[azdias_reduced[\"n_missing\"] < 26].drop(\"n_missing\", axis=1)\n",
    "print(azdias_row_reduced.shape)"
   ]
  },
  {
   "cell_type": "markdown",
   "metadata": {},
   "source": [
    "#### 3.) Clean and perform feature engineering"
   ]
  },
  {
   "cell_type": "markdown",
   "metadata": {},
   "source": [
    "Summarizing from above, the steps performed to clean data are condensed into a clean_data helper function.\n",
    "\n",
    "Further, the following attributes require feature engineering before the dataframe can be used for analysis.\n",
    "\n",
    "Attributes that need feature engineering:\n",
    "['OST_WEST_KZ', 'EINGEFUEGT_AM', 'CAMEO_DEUG_2015']"
   ]
  },
  {
   "cell_type": "code",
   "execution_count": 47,
   "metadata": {},
   "outputs": [],
   "source": [
    "def clean_data(df, missing_keys_dict, test_data=False):\n",
    "    '''\n",
    "    Clean the dataframe by performing column, row drops and feature engineering.\n",
    "    Input:\n",
    "        df (dataframe): original dataframe to be cleaned\n",
    "        missing_keys_dict (dictionary): dictionary of attributes and its missing keys\n",
    "        test_data (boolean): test data, if dataframe is not a test data then default is False\n",
    "    Output:\n",
    "        df_cleaned (dataframe): dataframe that has been cleaned\n",
    "    \n",
    "    '''\n",
    "    \n",
    "    # COLUMN DROP\n",
    "    # convert missing value codes into NaNs\n",
    "    convert_keys_to_nan(df, missing_keys_dict)\n",
    "    # Drop columns with more than 30% of missing values\n",
    "    deleted_columns_1 = ['ALTER_KIND4', 'TITEL_KZ', 'ALTER_KIND3', 'D19_TELKO_ONLINE_DATUM', 'D19_BANKEN_OFFLINE_DATUM',\n",
    "                         'ALTER_KIND2', 'D19_TELKO_ANZ_12', 'D19_BANKEN_ANZ_12', 'D19_TELKO_ANZ_24', 'D19_VERSI_ANZ_12', \n",
    "                         'D19_TELKO_OFFLINE_DATUM', 'ALTER_KIND1', 'D19_BANKEN_ANZ_24', 'D19_VERSI_ANZ_24', \n",
    "                         'D19_BANKEN_ONLINE_DATUM', 'D19_BANKEN_DATUM', 'AGER_TYP', 'D19_TELKO_DATUM', 'EXTSEL992', \n",
    "                         'D19_VERSAND_ANZ_12', 'D19_VERSAND_OFFLINE_DATUM', 'D19_GESAMT_ANZ_12', 'KK_KUNDENTYP', \n",
    "                         'D19_VERSAND_ANZ_24', 'D19_GESAMT_OFFLINE_DATUM', 'D19_GESAMT_ANZ_24', 'D19_VERSAND_ONLINE_DATUM', \n",
    "                         'KBA05_BAUMAX', 'D19_GESAMT_ONLINE_DATUM', 'D19_VERSAND_DATUM', 'GEBURTSJAHR', 'D19_GESAMT_DATUM', \n",
    "                         'ALTER_HH']   \n",
    "    # Drop more columns with unknown / repeated / attributes or has many zero values\n",
    "    deleted_columns_2 = ['LNR', 'ANZ_HH_TITEL', 'ANZ_KINDER', 'ANZ_TITEL', 'CAMEO_DEU_2015',\n",
    "                         'GEBAEUDETYP', 'KBA05_MODTEMP', 'LP_FAMILIE_FEIN',\n",
    "                         'LP_LEBENSPHASE_FEIN', 'LP_LEBENSPHASE_GROB', 'LP_STATUS_FEIN', 'PLZ8_ANTG1',\n",
    "                         'PLZ8_ANTG2', 'PLZ8_ANTG3', 'PLZ8_ANTG4', 'VERDICHTUNGSRAUM', 'VK_DHT4A',\n",
    "                         'VK_DISTANZ', 'VK_ZG11', 'ALTERSKATEGORIE_FEIN', 'D19_TELKO_ONLINE_QUOTE_12',\n",
    "                         'D19_LETZTER_KAUF_BRANCHE', 'D19_VERSI_ONLINE_QUOTE_12']\n",
    "\n",
    "    # Perform column drop\n",
    "\n",
    "    deleted_columns = list(deleted_columns_1) + list(deleted_columns_2)\n",
    "    df_cleaned = df.drop(deleted_columns,axis=1)\n",
    "    \n",
    "    \n",
    "    # ROW DROP\n",
    "    # Drop rows with more than 26 missing attributes if it is not a testing data, skip this step if it is a test data\n",
    "    df_cleaned['n_missing'] = df_cleaned.isnull().sum(axis=1)\n",
    "    \n",
    "    try:\n",
    "        df_cleaned = df_cleaned.drop(['PRODUCT_GROUP','CUSTOMER_GROUP','ONLINE_PURCHASE'], axis=1)\n",
    "    except:\n",
    "        pass\n",
    "    \n",
    "    if not test_data:\n",
    "        # Remove rows with more than 26 missing attributes\n",
    "        df_cleaned = df_cleaned[df_cleaned[\"n_missing\"] < 26].drop(\"n_missing\", axis=1)\n",
    "    else:\n",
    "        df_cleaned = df_cleaned.drop(\"n_missing\", axis=1)\n",
    "    \n",
    "    \n",
    "    # FEATURE ENGINEERING OF ATTRIBUTES\n",
    "\n",
    "    # OST_WEST_KZ -> Change attribute values O -> 0, W -> 1\n",
    "    # print(\"Reencode OST_WEST_KZ attribute\")\n",
    "    df_cleaned['OST_WEST_KZ'].replace(['O','W'], [0, 1], inplace=True)\n",
    "    \n",
    "    # EINGEFUEGT_AM -> Change to year format\n",
    "    # print(\"Change EINGEFUEGT_AM to year\")\n",
    "    df_cleaned[\"EINGEFUEGT_AM\"] = pd.to_datetime(df_cleaned[\"EINGEFUEGT_AM\"], format='%Y/%m/%d %H:%M')\n",
    "    df_cleaned[\"EINGEFUEGT_AM\"] = df_cleaned[\"EINGEFUEGT_AM\"].dt.year\n",
    "    \n",
    "    # CAMEO_DEUG_2015 -> Change object type to numeric type\n",
    "    df_cleaned[\"CAMEO_DEUG_2015\"] = pd.to_numeric(df_cleaned[\"CAMEO_DEUG_2015\"])\n",
    "     \n",
    "    return df_cleaned"
   ]
  },
  {
   "cell_type": "code",
   "execution_count": 48,
   "metadata": {},
   "outputs": [
    {
     "data": {
      "text/plain": [
       "(737208, 310)"
      ]
     },
     "execution_count": 48,
     "metadata": {},
     "output_type": "execute_result"
    }
   ],
   "source": [
    "azdias_cleaned = clean_data(azdias, missing_keys_dict)\n",
    "azdias_cleaned.shape"
   ]
  },
  {
   "cell_type": "code",
   "execution_count": 49,
   "metadata": {},
   "outputs": [
    {
     "data": {
      "text/plain": [
       "float64    244\n",
       "int64       65\n",
       "object       1\n",
       "dtype: int64"
      ]
     },
     "execution_count": 49,
     "metadata": {},
     "output_type": "execute_result"
    }
   ],
   "source": [
    "azdias_cleaned.dtypes.value_counts()"
   ]
  },
  {
   "cell_type": "code",
   "execution_count": 50,
   "metadata": {},
   "outputs": [
    {
     "data": {
      "text/plain": [
       "(134245, 310)"
      ]
     },
     "execution_count": 50,
     "metadata": {},
     "output_type": "execute_result"
    }
   ],
   "source": [
    "customers_cleaned = clean_data(customers, missing_keys_dict)\n",
    "customers_cleaned.shape"
   ]
  },
  {
   "cell_type": "code",
   "execution_count": 51,
   "metadata": {},
   "outputs": [
    {
     "data": {
      "text/plain": [
       "float64    244\n",
       "int64       65\n",
       "object       1\n",
       "dtype: int64"
      ]
     },
     "execution_count": 51,
     "metadata": {},
     "output_type": "execute_result"
    }
   ],
   "source": [
    "customers_cleaned.dtypes.value_counts()"
   ]
  },
  {
   "cell_type": "markdown",
   "metadata": {},
   "source": [
    "#### 4.) Impute, transform and standardize features"
   ]
  },
  {
   "cell_type": "markdown",
   "metadata": {},
   "source": [
    "We shall now classify attributes type and impute the data according to the type of attribute:\n",
    "\n",
    "1.) skewed continuous - These are datasets that are continuous numbers. For example, the number of people in a household and number of cars. Highly skewed continuous datasets have to be log-transformed so as to reduce possible mistakes in dataset. The missing values in the dataset can then be median imputed.<br>\n",
    "2.) binary - Missing values for binary type datasets will be imputed according to the most frequently occuring value, either '1' or '0'.<br>\n",
    "3.) categorical - These dataset type will be one-hot encoded first and then imputed according to the most frequently occuring value, either '1' or '0'.<br>\n",
    "4.) numerical - These dataset type will be imputed according to the median value."
   ]
  },
  {
   "cell_type": "markdown",
   "metadata": {},
   "source": [
    "**Skewed continuous**"
   ]
  },
  {
   "cell_type": "code",
   "execution_count": 52,
   "metadata": {},
   "outputs": [],
   "source": [
    "continuous_columns = ['ANZ_HAUSHALTE_AKTIV', 'ANZ_HH_TITEL', 'ANZ_PERSONEN', 'ANZ_TITEL', 'GEBURTSJAHR', \n",
    "                      'KBA13_ANZAHL_PKW', 'MIN_GEBAEUDEJAHR']"
   ]
  },
  {
   "cell_type": "code",
   "execution_count": 53,
   "metadata": {},
   "outputs": [
    {
     "name": "stdout",
     "output_type": "stream",
     "text": [
      "ANZ_HAUSHALTE_AKTIV, Skewness: 8.7\n",
      "ANZ_PERSONEN, Skewness: 1.8\n",
      "KBA13_ANZAHL_PKW, Skewness: 1.3\n",
      "MIN_GEBAEUDEJAHR, Skewness: 3.1\n"
     ]
    }
   ],
   "source": [
    "skewed_columns = []\n",
    "for col in continuous_columns:\n",
    "    try:\n",
    "        skewness = skew(azdias_cleaned[col].dropna())\n",
    "        print(\"{}, Skewness: {}\".format(col, round(skewness, 1)))\n",
    "        if abs(skewness) > 1:\n",
    "            skewed_columns.append(col)\n",
    "    except:\n",
    "        pass"
   ]
  },
  {
   "cell_type": "markdown",
   "metadata": {},
   "source": [
    "List of skewed continuous attributes:"
   ]
  },
  {
   "cell_type": "code",
   "execution_count": 54,
   "metadata": {},
   "outputs": [
    {
     "data": {
      "text/plain": [
       "['ANZ_HAUSHALTE_AKTIV', 'ANZ_PERSONEN', 'KBA13_ANZAHL_PKW', 'MIN_GEBAEUDEJAHR']"
      ]
     },
     "execution_count": 54,
     "metadata": {},
     "output_type": "execute_result"
    }
   ],
   "source": [
    "skewed_columns"
   ]
  },
  {
   "cell_type": "code",
   "execution_count": 55,
   "metadata": {},
   "outputs": [],
   "source": [
    "skew_pipeline = Pipeline([\n",
    "    ('log_transform', FunctionTransformer(np.log1p)),\n",
    "    ('log_impute', SimpleImputer(missing_values=np.nan, strategy='median')),\n",
    "    ('log_scale', StandardScaler())\n",
    "])"
   ]
  },
  {
   "cell_type": "markdown",
   "metadata": {},
   "source": [
    "**Binary**"
   ]
  },
  {
   "cell_type": "code",
   "execution_count": 56,
   "metadata": {},
   "outputs": [],
   "source": [
    "numerical_columns = azdias_cleaned.select_dtypes(['float64', 'int64']).columns"
   ]
  },
  {
   "cell_type": "code",
   "execution_count": 57,
   "metadata": {},
   "outputs": [],
   "source": [
    "binary_columns = []\n",
    "for col in numerical_columns:\n",
    "    no_unique = azdias_cleaned[col].dropna().nunique()\n",
    "    if no_unique == 2 :\n",
    "        binary_columns.append(col)"
   ]
  },
  {
   "cell_type": "code",
   "execution_count": 58,
   "metadata": {},
   "outputs": [
    {
     "data": {
      "text/plain": [
       "['DSL_FLAG',\n",
       " 'GREEN_AVANTGARDE',\n",
       " 'HH_DELTA_FLAG',\n",
       " 'KBA05_SEG6',\n",
       " 'KONSUMZELLE',\n",
       " 'OST_WEST_KZ',\n",
       " 'SOHO_KZ',\n",
       " 'UNGLEICHENN_FLAG',\n",
       " 'VERS_TYP',\n",
       " 'ANREDE_KZ']"
      ]
     },
     "execution_count": 58,
     "metadata": {},
     "output_type": "execute_result"
    }
   ],
   "source": [
    "binary_columns"
   ]
  },
  {
   "cell_type": "markdown",
   "metadata": {},
   "source": [
    "Tranform and impute:"
   ]
  },
  {
   "cell_type": "code",
   "execution_count": 59,
   "metadata": {},
   "outputs": [],
   "source": [
    "binary_pipeline = Pipeline([('binary_impute', SimpleImputer(missing_values=np.nan, strategy=\"most_frequent\"))])"
   ]
  },
  {
   "cell_type": "markdown",
   "metadata": {},
   "source": [
    "**Categorical**"
   ]
  },
  {
   "cell_type": "code",
   "execution_count": 60,
   "metadata": {},
   "outputs": [],
   "source": [
    "categorical_columns = list(azdias_cleaned.select_dtypes(['object']).columns)"
   ]
  },
  {
   "cell_type": "code",
   "execution_count": 61,
   "metadata": {},
   "outputs": [
    {
     "data": {
      "text/plain": [
       "['CAMEO_INTL_2015']"
      ]
     },
     "execution_count": 61,
     "metadata": {},
     "output_type": "execute_result"
    }
   ],
   "source": [
    "categorical_columns"
   ]
  },
  {
   "cell_type": "code",
   "execution_count": 62,
   "metadata": {},
   "outputs": [],
   "source": [
    "categorical_pipeline = Pipeline([\n",
    "    ('binary_impute', SimpleImputer(missing_values=np.nan, strategy=\"most_frequent\")),\n",
    "    ('onehot', OneHotEncoder(handle_unknown=\"ignore\"))\n",
    "])"
   ]
  },
  {
   "cell_type": "markdown",
   "metadata": {},
   "source": [
    "**Numerical**"
   ]
  },
  {
   "cell_type": "code",
   "execution_count": 63,
   "metadata": {},
   "outputs": [
    {
     "name": "stdout",
     "output_type": "stream",
     "text": [
      "295\n"
     ]
    }
   ],
   "source": [
    "numerical_columns = list(set(azdias_cleaned.columns) - set(skewed_columns) - set(binary_columns) - set(categorical_columns))\n",
    "print(len(numerical_columns))"
   ]
  },
  {
   "cell_type": "code",
   "execution_count": 64,
   "metadata": {},
   "outputs": [],
   "source": [
    "numerical_pipeline = Pipeline([\n",
    "    ('numerical_impute', SimpleImputer(missing_values=np.nan, strategy=\"median\")),\n",
    "    ('numerical_scale', StandardScaler())\n",
    "])"
   ]
  },
  {
   "cell_type": "markdown",
   "metadata": {},
   "source": [
    "**Combine pipelines**"
   ]
  },
  {
   "cell_type": "code",
   "execution_count": 65,
   "metadata": {},
   "outputs": [],
   "source": [
    "transformers = [('skewed', skew_pipeline, skewed_columns),\n",
    "                ('binary', binary_pipeline, binary_columns), \n",
    "                ('categorical', categorical_pipeline, categorical_columns),\n",
    "                ('numerical', numerical_pipeline, numerical_columns)]"
   ]
  },
  {
   "cell_type": "code",
   "execution_count": 66,
   "metadata": {},
   "outputs": [],
   "source": [
    "column_transformer = ColumnTransformer(transformers = transformers)"
   ]
  },
  {
   "cell_type": "markdown",
   "metadata": {},
   "source": [
    "**Features transformation**"
   ]
  },
  {
   "cell_type": "code",
   "execution_count": 67,
   "metadata": {},
   "outputs": [],
   "source": [
    "azdias_transformed = column_transformer.fit_transform(azdias_cleaned)"
   ]
  },
  {
   "cell_type": "code",
   "execution_count": 68,
   "metadata": {},
   "outputs": [],
   "source": [
    "# Getting the column names from one hot encoded features\n",
    "dummy_columns = list(column_transformer.transformers_[2][1].named_steps['onehot'].get_feature_names(categorical_columns))"
   ]
  },
  {
   "cell_type": "code",
   "execution_count": 69,
   "metadata": {},
   "outputs": [],
   "source": [
    "# List all column names for the transformed dataframe\n",
    "column_names = skewed_columns + binary_columns + dummy_columns + numerical_columns"
   ]
  },
  {
   "cell_type": "code",
   "execution_count": 70,
   "metadata": {},
   "outputs": [],
   "source": [
    "azdias_transformed = pd.DataFrame(azdias_transformed, columns=[column_names])"
   ]
  },
  {
   "cell_type": "code",
   "execution_count": 71,
   "metadata": {},
   "outputs": [
    {
     "data": {
      "text/plain": [
       "float64    331\n",
       "dtype: int64"
      ]
     },
     "execution_count": 71,
     "metadata": {},
     "output_type": "execute_result"
    }
   ],
   "source": [
    "azdias_transformed.dtypes.value_counts()"
   ]
  },
  {
   "cell_type": "code",
   "execution_count": 72,
   "metadata": {},
   "outputs": [
    {
     "data": {
      "text/plain": [
       "(737208, 331)"
      ]
     },
     "execution_count": 72,
     "metadata": {},
     "output_type": "execute_result"
    }
   ],
   "source": [
    "azdias_transformed.shape"
   ]
  },
  {
   "cell_type": "markdown",
   "metadata": {},
   "source": [
    "## Part 1: Customer Segmentation Report\n",
    "\n",
    "The main bulk of your analysis will come in this part of the project. Here, you should use unsupervised learning techniques to describe the relationship between the demographics of the company's existing customers and the general population of Germany. By the end of this part, you should be able to describe parts of the general population that are more likely to be part of the mail-order company's main customer base, and which parts of the general population are less so."
   ]
  },
  {
   "cell_type": "markdown",
   "metadata": {},
   "source": [
    "## Principal Component Analysis - PCA"
   ]
  },
  {
   "cell_type": "code",
   "execution_count": 73,
   "metadata": {},
   "outputs": [],
   "source": [
    "def pca_scree_plot(pca):\n",
    "    \"\"\"\n",
    "    Plots PCA scree plot\n",
    "    \n",
    "    Input: PCA object after fit transform\n",
    "    Output: Scree plot\n",
    "    \"\"\"\n",
    "    num_components = len(pca.explained_variance_ratio_)\n",
    "    index = np.arange(num_components)\n",
    "    values = pca.explained_variance_ratio_\n",
    "    cumulative_values = np.cumsum(values)\n",
    "\n",
    "    fig = plt.figure(figsize=(18, 6))\n",
    "    ax = plt.subplot()\n",
    "    ax.bar(index, values)\n",
    "    ax.plot(index, cumulative_values)\n",
    "\n",
    "    plt.xlabel(\"Principal component\")\n",
    "    plt.ylabel(\"Cumulative explained variance\")\n",
    "    plt.title(\"Cumulative explained variance per principal component plot\")\n",
    "\n",
    "    return fig"
   ]
  },
  {
   "cell_type": "code",
   "execution_count": 74,
   "metadata": {},
   "outputs": [
    {
     "data": {
      "image/png": "[encoded data removed]",
      "text/plain": [
       "<Figure size 1296x432 with 1 Axes>"
      ]
     },
     "metadata": {
      "needs_background": "light"
     },
     "output_type": "display_data"
    }
   ],
   "source": [
    "# Principal Component Analysis on Dataset. Fit the model with data and apply the dimensionality reduction on data.\n",
    "pca = PCA()\n",
    "azdias_pca = pca.fit_transform(azdias_transformed)\n",
    "fig = pca_scree_plot(pca)\n",
    "fig.savefig('scree_plot.png', dpi=500)"
   ]
  },
  {
   "cell_type": "markdown",
   "metadata": {},
   "source": [
    "At around the 175-th principal component, the explained variance drops off close to zero."
   ]
  },
  {
   "cell_type": "code",
   "execution_count": 75,
   "metadata": {},
   "outputs": [
    {
     "name": "stdout",
     "output_type": "stream",
     "text": [
      "Explained variance ratio for the first 195 components is 94.0%\n"
     ]
    }
   ],
   "source": [
    "n_component = 195\n",
    "print(\"Explained variance ratio for the first {} components is {}%\".format(n_component, sum(pca.explained_variance_ratio_[:n_component]).round(2)*100))"
   ]
  },
  {
   "cell_type": "markdown",
   "metadata": {},
   "source": [
    "The first 195 components will describe 94% of the data variance out of a total of 331 features."
   ]
  },
  {
   "cell_type": "code",
   "execution_count": 76,
   "metadata": {},
   "outputs": [
    {
     "name": "stdout",
     "output_type": "stream",
     "text": [
      "azdias_pca_reduced shape: (737208, 195)\n",
      "explained variance ratio percentage: 94.0\n"
     ]
    }
   ],
   "source": [
    "pca = PCA(n_component)\n",
    "\n",
    "azdias_pca_reduced = pca.fit_transform(azdias_transformed)\n",
    "explained_variance_ratio = sum(pca.explained_variance_ratio_)\n",
    "\n",
    "print(\"azdias_pca_reduced shape: {}\".format(azdias_pca_reduced.shape))\n",
    "print(\"explained variance ratio percentage: {}\".format(explained_variance_ratio.round(2)*100))"
   ]
  },
  {
   "cell_type": "markdown",
   "metadata": {},
   "source": [
    "**Mapping PCA components to column names**"
   ]
  },
  {
   "cell_type": "code",
   "execution_count": 77,
   "metadata": {},
   "outputs": [
    {
     "name": "stdout",
     "output_type": "stream",
     "text": [
      "The first 3 components accounts for 18.7% of the data variance.\n"
     ]
    }
   ],
   "source": [
    "top_three_pca = pca.explained_variance_ratio_[:3]\n",
    "print(\"The first 3 components accounts for {}% of the data variance.\".format(top_three_pca.sum().round(3) * 100))"
   ]
  },
  {
   "cell_type": "code",
   "execution_count": 78,
   "metadata": {},
   "outputs": [],
   "source": [
    "def map_component_to_features(pca, component, column_names):\n",
    "    \"\"\"\n",
    "    Input:\n",
    "    pca (object) : object of PCA class\n",
    "    component (int) : number of components to map to features\n",
    "    column_names (list(str)) : column names of azdias before PCA transformation\n",
    "    \n",
    "    Output:\n",
    "    df_features (dataframe) : dataframe with attribute names and attribute PCA weighting\n",
    "    \"\"\"\n",
    "    weights_array = pca.components_[component]\n",
    "    df_features = pd.DataFrame(weights_array, index=column_names, columns=['weight'])\n",
    "    df_features = df_features.sort_values(by=['weight'], ascending=False)\n",
    "    return df_features    "
   ]
  },
  {
   "cell_type": "code",
   "execution_count": 79,
   "metadata": {},
   "outputs": [
    {
     "name": "stdout",
     "output_type": "stream",
     "text": [
      "The first component explains 8.1% of the variance in the data and is determined largely by the following features:\n"
     ]
    },
    {
     "data": {
      "text/html": [
       "<div>\n",
       "<style scoped>\n",
       "    .dataframe tbody tr th:only-of-type {\n",
       "        vertical-align: middle;\n",
       "    }\n",
       "\n",
       "    .dataframe tbody tr th {\n",
       "        vertical-align: top;\n",
       "    }\n",
       "\n",
       "    .dataframe thead th {\n",
       "        text-align: right;\n",
       "    }\n",
       "</style>\n",
       "<table border=\"1\" class=\"dataframe\">\n",
       "  <thead>\n",
       "    <tr style=\"text-align: right;\">\n",
       "      <th></th>\n",
       "      <th>weight</th>\n",
       "    </tr>\n",
       "  </thead>\n",
       "  <tbody>\n",
       "    <tr>\n",
       "      <th>ANZ_HAUSHALTE_AKTIV</th>\n",
       "      <td>0.148029</td>\n",
       "    </tr>\n",
       "    <tr>\n",
       "      <th>KBA13_ANTG3</th>\n",
       "      <td>0.147887</td>\n",
       "    </tr>\n",
       "    <tr>\n",
       "      <th>KBA13_ANTG4</th>\n",
       "      <td>0.145582</td>\n",
       "    </tr>\n",
       "    <tr>\n",
       "      <th>KBA13_BAUMAX</th>\n",
       "      <td>0.145405</td>\n",
       "    </tr>\n",
       "    <tr>\n",
       "      <th>PLZ8_BAUMAX</th>\n",
       "      <td>0.143571</td>\n",
       "    </tr>\n",
       "  </tbody>\n",
       "</table>\n",
       "</div>"
      ],
      "text/plain": [
       "                       weight\n",
       "ANZ_HAUSHALTE_AKTIV  0.148029\n",
       "KBA13_ANTG3          0.147887\n",
       "KBA13_ANTG4          0.145582\n",
       "KBA13_BAUMAX         0.145405\n",
       "PLZ8_BAUMAX          0.143571"
      ]
     },
     "execution_count": 79,
     "metadata": {},
     "output_type": "execute_result"
    }
   ],
   "source": [
    "print(\"The first component explains {}% of the variance in the data and is determined largely by the following features:\".format(top_three_pca[0].round(3)*100))\n",
    "map_component_to_features(pca, 0, azdias_transformed.columns).head()"
   ]
  },
  {
   "cell_type": "code",
   "execution_count": 80,
   "metadata": {},
   "outputs": [
    {
     "name": "stdout",
     "output_type": "stream",
     "text": [
      "The first component is negatively influenced by the following features:\n"
     ]
    },
    {
     "data": {
      "text/html": [
       "<div>\n",
       "<style scoped>\n",
       "    .dataframe tbody tr th:only-of-type {\n",
       "        vertical-align: middle;\n",
       "    }\n",
       "\n",
       "    .dataframe tbody tr th {\n",
       "        vertical-align: top;\n",
       "    }\n",
       "\n",
       "    .dataframe thead th {\n",
       "        text-align: right;\n",
       "    }\n",
       "</style>\n",
       "<table border=\"1\" class=\"dataframe\">\n",
       "  <thead>\n",
       "    <tr style=\"text-align: right;\">\n",
       "      <th></th>\n",
       "      <th>weight</th>\n",
       "    </tr>\n",
       "  </thead>\n",
       "  <tbody>\n",
       "    <tr>\n",
       "      <th>MOBI_RASTER</th>\n",
       "      <td>-0.141011</td>\n",
       "    </tr>\n",
       "    <tr>\n",
       "      <th>LP_STATUS_GROB</th>\n",
       "      <td>-0.142993</td>\n",
       "    </tr>\n",
       "    <tr>\n",
       "      <th>KBA05_ANTG1</th>\n",
       "      <td>-0.145942</td>\n",
       "    </tr>\n",
       "    <tr>\n",
       "      <th>KBA13_ANTG1</th>\n",
       "      <td>-0.149726</td>\n",
       "    </tr>\n",
       "    <tr>\n",
       "      <th>MOBI_REGIO</th>\n",
       "      <td>-0.157366</td>\n",
       "    </tr>\n",
       "  </tbody>\n",
       "</table>\n",
       "</div>"
      ],
      "text/plain": [
       "                  weight\n",
       "MOBI_RASTER    -0.141011\n",
       "LP_STATUS_GROB -0.142993\n",
       "KBA05_ANTG1    -0.145942\n",
       "KBA13_ANTG1    -0.149726\n",
       "MOBI_REGIO     -0.157366"
      ]
     },
     "execution_count": 80,
     "metadata": {},
     "output_type": "execute_result"
    }
   ],
   "source": [
    "print(\"The first component is negatively influenced by the following features:\")\n",
    "map_component_to_features(pca, 0, azdias_transformed.columns).tail()"
   ]
  },
  {
   "cell_type": "markdown",
   "metadata": {},
   "source": [
    "This shows that component 1 is mainly determined by number of households in a building and size of family in a house."
   ]
  },
  {
   "cell_type": "code",
   "execution_count": 81,
   "metadata": {},
   "outputs": [
    {
     "name": "stdout",
     "output_type": "stream",
     "text": [
      "The second component explains 5.7% of the variance in the data and is determined largely by the following features:\n"
     ]
    },
    {
     "data": {
      "text/html": [
       "<div>\n",
       "<style scoped>\n",
       "    .dataframe tbody tr th:only-of-type {\n",
       "        vertical-align: middle;\n",
       "    }\n",
       "\n",
       "    .dataframe tbody tr th {\n",
       "        vertical-align: top;\n",
       "    }\n",
       "\n",
       "    .dataframe thead th {\n",
       "        text-align: right;\n",
       "    }\n",
       "</style>\n",
       "<table border=\"1\" class=\"dataframe\">\n",
       "  <thead>\n",
       "    <tr style=\"text-align: right;\">\n",
       "      <th></th>\n",
       "      <th>weight</th>\n",
       "    </tr>\n",
       "  </thead>\n",
       "  <tbody>\n",
       "    <tr>\n",
       "      <th>KBA13_HERST_BMW_BENZ</th>\n",
       "      <td>0.188410</td>\n",
       "    </tr>\n",
       "    <tr>\n",
       "      <th>KBA13_SEG_OBEREMITTELKLASSE</th>\n",
       "      <td>0.162117</td>\n",
       "    </tr>\n",
       "    <tr>\n",
       "      <th>KBA13_MERCEDES</th>\n",
       "      <td>0.160805</td>\n",
       "    </tr>\n",
       "    <tr>\n",
       "      <th>KBA13_BMW</th>\n",
       "      <td>0.157176</td>\n",
       "    </tr>\n",
       "    <tr>\n",
       "      <th>KBA13_SITZE_4</th>\n",
       "      <td>0.148354</td>\n",
       "    </tr>\n",
       "  </tbody>\n",
       "</table>\n",
       "</div>"
      ],
      "text/plain": [
       "                               weight\n",
       "KBA13_HERST_BMW_BENZ         0.188410\n",
       "KBA13_SEG_OBEREMITTELKLASSE  0.162117\n",
       "KBA13_MERCEDES               0.160805\n",
       "KBA13_BMW                    0.157176\n",
       "KBA13_SITZE_4                0.148354"
      ]
     },
     "execution_count": 81,
     "metadata": {},
     "output_type": "execute_result"
    }
   ],
   "source": [
    "print(\"The second component explains {}% of the variance in the data and is determined largely by the following features:\".format(top_three_pca[1].round(3)*100))\n",
    "map_component_to_features(pca, 1, azdias_transformed.columns).head()"
   ]
  },
  {
   "cell_type": "code",
   "execution_count": 82,
   "metadata": {},
   "outputs": [
    {
     "name": "stdout",
     "output_type": "stream",
     "text": [
      "The second component is negatively influenced by the following features:\n"
     ]
    },
    {
     "data": {
      "text/html": [
       "<div>\n",
       "<style scoped>\n",
       "    .dataframe tbody tr th:only-of-type {\n",
       "        vertical-align: middle;\n",
       "    }\n",
       "\n",
       "    .dataframe tbody tr th {\n",
       "        vertical-align: top;\n",
       "    }\n",
       "\n",
       "    .dataframe thead th {\n",
       "        text-align: right;\n",
       "    }\n",
       "</style>\n",
       "<table border=\"1\" class=\"dataframe\">\n",
       "  <thead>\n",
       "    <tr style=\"text-align: right;\">\n",
       "      <th></th>\n",
       "      <th>weight</th>\n",
       "    </tr>\n",
       "  </thead>\n",
       "  <tbody>\n",
       "    <tr>\n",
       "      <th>KBA13_HALTER_25</th>\n",
       "      <td>-0.121193</td>\n",
       "    </tr>\n",
       "    <tr>\n",
       "      <th>KBA13_KMH_180</th>\n",
       "      <td>-0.122829</td>\n",
       "    </tr>\n",
       "    <tr>\n",
       "      <th>KBA13_SEG_KLEINWAGEN</th>\n",
       "      <td>-0.135079</td>\n",
       "    </tr>\n",
       "    <tr>\n",
       "      <th>KBA13_KMH_140_210</th>\n",
       "      <td>-0.135196</td>\n",
       "    </tr>\n",
       "    <tr>\n",
       "      <th>KBA13_SITZE_5</th>\n",
       "      <td>-0.151770</td>\n",
       "    </tr>\n",
       "  </tbody>\n",
       "</table>\n",
       "</div>"
      ],
      "text/plain": [
       "                        weight\n",
       "KBA13_HALTER_25      -0.121193\n",
       "KBA13_KMH_180        -0.122829\n",
       "KBA13_SEG_KLEINWAGEN -0.135079\n",
       "KBA13_KMH_140_210    -0.135196\n",
       "KBA13_SITZE_5        -0.151770"
      ]
     },
     "execution_count": 82,
     "metadata": {},
     "output_type": "execute_result"
    }
   ],
   "source": [
    "print(\"The second component is negatively influenced by the following features:\")\n",
    "map_component_to_features(pca, 1, azdias_transformed.columns).tail()"
   ]
  },
  {
   "cell_type": "markdown",
   "metadata": {},
   "source": [
    "This shows that component 2 is mainly determined by luxury and expensive cars owned."
   ]
  },
  {
   "cell_type": "code",
   "execution_count": 83,
   "metadata": {},
   "outputs": [
    {
     "name": "stdout",
     "output_type": "stream",
     "text": [
      "The third component explains 4.9% of the variance in the data and is determined largely by the following features:\n"
     ]
    },
    {
     "data": {
      "text/html": [
       "<div>\n",
       "<style scoped>\n",
       "    .dataframe tbody tr th:only-of-type {\n",
       "        vertical-align: middle;\n",
       "    }\n",
       "\n",
       "    .dataframe tbody tr th {\n",
       "        vertical-align: top;\n",
       "    }\n",
       "\n",
       "    .dataframe thead th {\n",
       "        text-align: right;\n",
       "    }\n",
       "</style>\n",
       "<table border=\"1\" class=\"dataframe\">\n",
       "  <thead>\n",
       "    <tr style=\"text-align: right;\">\n",
       "      <th></th>\n",
       "      <th>weight</th>\n",
       "    </tr>\n",
       "  </thead>\n",
       "  <tbody>\n",
       "    <tr>\n",
       "      <th>PRAEGENDE_JUGENDJAHRE</th>\n",
       "      <td>0.221305</td>\n",
       "    </tr>\n",
       "    <tr>\n",
       "      <th>CJT_TYP_1</th>\n",
       "      <td>0.208153</td>\n",
       "    </tr>\n",
       "    <tr>\n",
       "      <th>FINANZ_SPARER</th>\n",
       "      <td>0.203782</td>\n",
       "    </tr>\n",
       "    <tr>\n",
       "      <th>CJT_TYP_2</th>\n",
       "      <td>0.200991</td>\n",
       "    </tr>\n",
       "    <tr>\n",
       "      <th>FINANZ_ANLEGER</th>\n",
       "      <td>0.183331</td>\n",
       "    </tr>\n",
       "  </tbody>\n",
       "</table>\n",
       "</div>"
      ],
      "text/plain": [
       "                         weight\n",
       "PRAEGENDE_JUGENDJAHRE  0.221305\n",
       "CJT_TYP_1              0.208153\n",
       "FINANZ_SPARER          0.203782\n",
       "CJT_TYP_2              0.200991\n",
       "FINANZ_ANLEGER         0.183331"
      ]
     },
     "execution_count": 83,
     "metadata": {},
     "output_type": "execute_result"
    }
   ],
   "source": [
    "print(\"The third component explains {}% of the variance in the data and is determined largely by the following features:\".format(top_three_pca[2].round(3)*100))\n",
    "map_component_to_features(pca, 2, azdias_transformed.columns).head()"
   ]
  },
  {
   "cell_type": "code",
   "execution_count": 84,
   "metadata": {},
   "outputs": [
    {
     "name": "stdout",
     "output_type": "stream",
     "text": [
      "The third component is negatively influenced by the following features:\n"
     ]
    },
    {
     "data": {
      "text/html": [
       "<div>\n",
       "<style scoped>\n",
       "    .dataframe tbody tr th:only-of-type {\n",
       "        vertical-align: middle;\n",
       "    }\n",
       "\n",
       "    .dataframe tbody tr th {\n",
       "        vertical-align: top;\n",
       "    }\n",
       "\n",
       "    .dataframe thead th {\n",
       "        text-align: right;\n",
       "    }\n",
       "</style>\n",
       "<table border=\"1\" class=\"dataframe\">\n",
       "  <thead>\n",
       "    <tr style=\"text-align: right;\">\n",
       "      <th></th>\n",
       "      <th>weight</th>\n",
       "    </tr>\n",
       "  </thead>\n",
       "  <tbody>\n",
       "    <tr>\n",
       "      <th>CJT_TYP_3</th>\n",
       "      <td>-0.177394</td>\n",
       "    </tr>\n",
       "    <tr>\n",
       "      <th>CJT_TYP_4</th>\n",
       "      <td>-0.185471</td>\n",
       "    </tr>\n",
       "    <tr>\n",
       "      <th>ALTERSKATEGORIE_GROB</th>\n",
       "      <td>-0.189030</td>\n",
       "    </tr>\n",
       "    <tr>\n",
       "      <th>CJT_TYP_5</th>\n",
       "      <td>-0.190569</td>\n",
       "    </tr>\n",
       "    <tr>\n",
       "      <th>FINANZ_VORSORGER</th>\n",
       "      <td>-0.194264</td>\n",
       "    </tr>\n",
       "  </tbody>\n",
       "</table>\n",
       "</div>"
      ],
      "text/plain": [
       "                        weight\n",
       "CJT_TYP_3            -0.177394\n",
       "CJT_TYP_4            -0.185471\n",
       "ALTERSKATEGORIE_GROB -0.189030\n",
       "CJT_TYP_5            -0.190569\n",
       "FINANZ_VORSORGER     -0.194264"
      ]
     },
     "execution_count": 84,
     "metadata": {},
     "output_type": "execute_result"
    }
   ],
   "source": [
    "print(\"The third component is negatively influenced by the following features:\")\n",
    "map_component_to_features(pca, 2, azdias_transformed.columns).tail()"
   ]
  },
  {
   "cell_type": "markdown",
   "metadata": {},
   "source": [
    "This shows that component 3 is mainly determined by age and financial status."
   ]
  },
  {
   "cell_type": "markdown",
   "metadata": {},
   "source": [
    "## K-Means Clustering"
   ]
  },
  {
   "cell_type": "markdown",
   "metadata": {},
   "source": [
    "To find a K value, we start by selecting a range of centers value (K value). Then we compute the sum of squared error for the all the centers value/K value. Sum of squared error(SSE) is defined as the sum of the squared distance between each centroid and each member of the cluster. We then plot the centers value/K value against the SSE. Based on the plot, we should be able to observe that as K increases, SSE decreases. Hence, the idea of the algorithm is to choose the value of K at which the graph decreases abruptly - this produces the so-called \"elbow effect\"."
   ]
  },
  {
   "cell_type": "code",
   "execution_count": 85,
   "metadata": {},
   "outputs": [],
   "source": [
    "def get_kmeans_score(data, center, batch_size=20000):\n",
    "    '''\n",
    "    returns the kmeans score. This is the sum of the squared error for all the centers value.\n",
    "    Input:\n",
    "        data (dataframe) : the dataset you want to fit kmeans to\n",
    "        center (int) : the number of centers in the distribution (or equivalent to the K value)\n",
    "    \n",
    "    Output:\n",
    "        score (int) : the sum of the squared error for kmeans model fit to the data\n",
    "    '''\n",
    "    kmeans = MiniBatchKMeans(n_clusters=center, batch_size=batch_size, random_state=0)\n",
    "    model = kmeans.fit(data)\n",
    "    score = np.abs(model.score(data))\n",
    "    return score"
   ]
  },
  {
   "cell_type": "code",
   "execution_count": 86,
   "metadata": {},
   "outputs": [
    {
     "name": "stdout",
     "output_type": "stream",
     "text": [
      "1\n",
      "2\n",
      "3\n",
      "4\n",
      "5\n",
      "6\n",
      "7\n",
      "8\n",
      "9\n",
      "10\n",
      "11\n",
      "12\n",
      "13\n",
      "14\n",
      "15\n",
      "16\n",
      "17\n",
      "18\n",
      "19\n",
      "20\n",
      "21\n",
      "22\n",
      "23\n",
      "24\n",
      "25\n",
      "26\n",
      "27\n",
      "28\n",
      "29\n",
      "30\n"
     ]
    }
   ],
   "source": [
    "batch_size = 40000\n",
    "scores = []\n",
    "centers = list(range(1, 31, 1))\n",
    "\n",
    "for center in centers:\n",
    "    print(center)\n",
    "    scores.append(get_kmeans_score(azdias_pca_reduced, center, batch_size))"
   ]
  },
  {
   "cell_type": "code",
   "execution_count": 87,
   "metadata": {},
   "outputs": [
    {
     "data": {
      "image/png": "[encoded data removed]",
      "text/plain": [
       "<Figure size 1152x576 with 1 Axes>"
      ]
     },
     "metadata": {
      "needs_background": "light"
     },
     "output_type": "display_data"
    }
   ],
   "source": [
    "plt.figure(figsize=(16,8))\n",
    "plt.plot(centers, scores, '-o')\n",
    "plt.xlabel(\"Number of clusters, k\")\n",
    "plt.ylabel(\"Score/Sum of the squared error\")\n",
    "plt.title(\"Score vs No. of clusters\")\n",
    "plt.savefig('elbow_diagram.png', dpi=500)"
   ]
  },
  {
   "cell_type": "markdown",
   "metadata": {},
   "source": [
    "To determine the optimal number of clusters, we select k=8, because at this point, we can see a slight elbow forming."
   ]
  },
  {
   "cell_type": "markdown",
   "metadata": {},
   "source": [
    "## Clean customers dataset, transform, perform PCA and K-Means clustering"
   ]
  },
  {
   "cell_type": "code",
   "execution_count": 88,
   "metadata": {},
   "outputs": [],
   "source": [
    "# Set PCA and KMeans parameters and pipeline\n",
    "n_components = 195\n",
    "n_clusters = 8\n",
    "cluster_pipeline = Pipeline([\n",
    "    ('transform', column_transformer),\n",
    "    ('pca', PCA(n_components)),\n",
    "    ('kmeans', KMeans(n_clusters, random_state=0))\n",
    "])"
   ]
  },
  {
   "cell_type": "code",
   "execution_count": 89,
   "metadata": {},
   "outputs": [],
   "source": [
    "# Fit cluster pipeline to general population & create clustered general population dataframe\n",
    "cluster_pipeline.fit(azdias_cleaned)\n",
    "azdias_clustered = pd.DataFrame(cluster_pipeline.predict(azdias_cleaned), columns=['Cluster'])"
   ]
  },
  {
   "cell_type": "code",
   "execution_count": 90,
   "metadata": {},
   "outputs": [],
   "source": [
    "# Create clustered customers dataframe\n",
    "customers_clustered = pd.DataFrame(cluster_pipeline.predict(customers_cleaned), columns=['Cluster'])"
   ]
  },
  {
   "cell_type": "code",
   "execution_count": 91,
   "metadata": {},
   "outputs": [],
   "source": [
    "azdias_clustered.to_pickle('azdias_clustered')\n",
    "customers_clustered.to_pickle('customers_clustered')\n",
    "azdias_clustered = pd.read_pickle('azdias_clustered')\n",
    "customers_clustered = pd.read_pickle('customers_clustered')"
   ]
  },
  {
   "cell_type": "markdown",
   "metadata": {},
   "source": [
    "**Comparison of proportion of clustered datapoints for general population and customers clusters**"
   ]
  },
  {
   "cell_type": "code",
   "execution_count": 92,
   "metadata": {},
   "outputs": [],
   "source": [
    "general_clusters = azdias_clustered['Cluster'].value_counts().sort_index()"
   ]
  },
  {
   "cell_type": "code",
   "execution_count": 93,
   "metadata": {},
   "outputs": [
    {
     "data": {
      "text/plain": [
       "0     96535\n",
       "1    107942\n",
       "2    127202\n",
       "3     95450\n",
       "4    125225\n",
       "5     77525\n",
       "6     52002\n",
       "7     55327\n",
       "Name: Cluster, dtype: int64"
      ]
     },
     "execution_count": 93,
     "metadata": {},
     "output_type": "execute_result"
    }
   ],
   "source": [
    "general_clusters"
   ]
  },
  {
   "cell_type": "code",
   "execution_count": 94,
   "metadata": {},
   "outputs": [],
   "source": [
    "customer_clusters = customers_clustered['Cluster'].value_counts().sort_index()"
   ]
  },
  {
   "cell_type": "code",
   "execution_count": 95,
   "metadata": {},
   "outputs": [
    {
     "data": {
      "text/plain": [
       "0     3108\n",
       "1    18001\n",
       "2     1713\n",
       "3    28329\n",
       "4    49004\n",
       "5    27721\n",
       "6     3761\n",
       "7     2608\n",
       "Name: Cluster, dtype: int64"
      ]
     },
     "execution_count": 95,
     "metadata": {},
     "output_type": "execute_result"
    }
   ],
   "source": [
    "customer_clusters"
   ]
  },
  {
   "cell_type": "code",
   "execution_count": 96,
   "metadata": {},
   "outputs": [],
   "source": [
    "clusters = pd.concat([general_clusters, customer_clusters], axis=1).reset_index()"
   ]
  },
  {
   "cell_type": "code",
   "execution_count": 97,
   "metadata": {},
   "outputs": [],
   "source": [
    "clusters.columns = ['cluster', 'general_count', 'customers_count']"
   ]
  },
  {
   "cell_type": "code",
   "execution_count": 98,
   "metadata": {},
   "outputs": [
    {
     "data": {
      "text/html": [
       "<div>\n",
       "<style scoped>\n",
       "    .dataframe tbody tr th:only-of-type {\n",
       "        vertical-align: middle;\n",
       "    }\n",
       "\n",
       "    .dataframe tbody tr th {\n",
       "        vertical-align: top;\n",
       "    }\n",
       "\n",
       "    .dataframe thead th {\n",
       "        text-align: right;\n",
       "    }\n",
       "</style>\n",
       "<table border=\"1\" class=\"dataframe\">\n",
       "  <thead>\n",
       "    <tr style=\"text-align: right;\">\n",
       "      <th></th>\n",
       "      <th>cluster</th>\n",
       "      <th>general_count</th>\n",
       "      <th>customers_count</th>\n",
       "    </tr>\n",
       "  </thead>\n",
       "  <tbody>\n",
       "    <tr>\n",
       "      <th>0</th>\n",
       "      <td>0</td>\n",
       "      <td>96535</td>\n",
       "      <td>3108</td>\n",
       "    </tr>\n",
       "    <tr>\n",
       "      <th>1</th>\n",
       "      <td>1</td>\n",
       "      <td>107942</td>\n",
       "      <td>18001</td>\n",
       "    </tr>\n",
       "    <tr>\n",
       "      <th>2</th>\n",
       "      <td>2</td>\n",
       "      <td>127202</td>\n",
       "      <td>1713</td>\n",
       "    </tr>\n",
       "    <tr>\n",
       "      <th>3</th>\n",
       "      <td>3</td>\n",
       "      <td>95450</td>\n",
       "      <td>28329</td>\n",
       "    </tr>\n",
       "    <tr>\n",
       "      <th>4</th>\n",
       "      <td>4</td>\n",
       "      <td>125225</td>\n",
       "      <td>49004</td>\n",
       "    </tr>\n",
       "    <tr>\n",
       "      <th>5</th>\n",
       "      <td>5</td>\n",
       "      <td>77525</td>\n",
       "      <td>27721</td>\n",
       "    </tr>\n",
       "    <tr>\n",
       "      <th>6</th>\n",
       "      <td>6</td>\n",
       "      <td>52002</td>\n",
       "      <td>3761</td>\n",
       "    </tr>\n",
       "    <tr>\n",
       "      <th>7</th>\n",
       "      <td>7</td>\n",
       "      <td>55327</td>\n",
       "      <td>2608</td>\n",
       "    </tr>\n",
       "  </tbody>\n",
       "</table>\n",
       "</div>"
      ],
      "text/plain": [
       "   cluster  general_count  customers_count\n",
       "0        0          96535             3108\n",
       "1        1         107942            18001\n",
       "2        2         127202             1713\n",
       "3        3          95450            28329\n",
       "4        4         125225            49004\n",
       "5        5          77525            27721\n",
       "6        6          52002             3761\n",
       "7        7          55327             2608"
      ]
     },
     "execution_count": 98,
     "metadata": {},
     "output_type": "execute_result"
    }
   ],
   "source": [
    "clusters"
   ]
  },
  {
   "cell_type": "code",
   "execution_count": 99,
   "metadata": {},
   "outputs": [],
   "source": [
    "clusters['general_share'] = ( clusters['general_count'] / clusters['general_count'].sum() ) * 100\n",
    "clusters['customers_share'] = ( clusters['customers_count'] / clusters['customers_count'].sum() ) * 100\n",
    "clusters['difference'] = clusters['customers_share'] - clusters['general_share']"
   ]
  },
  {
   "cell_type": "markdown",
   "metadata": {},
   "source": [
    "**Plot of clusters**"
   ]
  },
  {
   "cell_type": "code",
   "execution_count": 100,
   "metadata": {},
   "outputs": [
    {
     "data": {
      "image/png": "[encoded data removed]",
      "text/plain": [
       "<Figure size 1152x576 with 1 Axes>"
      ]
     },
     "metadata": {
      "needs_background": "light"
     },
     "output_type": "display_data"
    }
   ],
   "source": [
    "fig, ax = plt.subplots(figsize=(16, 8))\n",
    "index = np.arange(n_clusters)\n",
    "bar_width = 0.35\n",
    "\n",
    "ax.bar(index, clusters['general_share'], bar_width, label='general_share')\n",
    "ax.bar(index+bar_width, clusters['customers_share'], bar_width, label='customers_share')\n",
    "\n",
    "ax.set_xlabel(\"Cluster\")\n",
    "ax.set_ylabel(\"Percentage of total (%)\")\n",
    "ax.set_title(\"Percentage share of clusters in general population and customers dataset\")\n",
    "ax.set_xticks(index + bar_width / 2)\n",
    "ax.set_xticklabels(index)\n",
    "ax.legend()\n",
    "plt.savefig('share_of_clusters.png', dpi=500)"
   ]
  },
  {
   "cell_type": "markdown",
   "metadata": {},
   "source": [
    "**Plot of cluster differences**"
   ]
  },
  {
   "cell_type": "code",
   "execution_count": 101,
   "metadata": {},
   "outputs": [
    {
     "data": {
      "image/png": "[encoded data removed]",
      "text/plain": [
       "<Figure size 1152x576 with 1 Axes>"
      ]
     },
     "metadata": {
      "needs_background": "light"
     },
     "output_type": "display_data"
    }
   ],
   "source": [
    "fig, ax = plt.subplots(figsize=(16, 8))\n",
    "index = np.arange(n_clusters)\n",
    "bar_width = 0.35\n",
    "\n",
    "ax.bar(index, clusters['difference'], bar_width)\n",
    "ax.set_xlabel(\"Cluster\")\n",
    "ax.set_ylabel(\"Percentage difference in total share\")\n",
    "ax.set_title(\"Percentage difference in total share of each cluster for general population and customers dataset\")\n",
    "ax.set_xticks(index)\n",
    "ax.set_xticklabels(index)\n",
    "\n",
    "plt.savefig('cluster_difference.png', dpi=500)"
   ]
  },
  {
   "cell_type": "markdown",
   "metadata": {},
   "source": [
    "Clusters 4 and 5 are positively-represented while clusters 0 and 2 are negatively-represented."
   ]
  },
  {
   "cell_type": "markdown",
   "metadata": {},
   "source": [
    "**Obtain cluster attributes**"
   ]
  },
  {
   "cell_type": "code",
   "execution_count": 102,
   "metadata": {},
   "outputs": [],
   "source": [
    "def get_clusters_attributes(cluster_pipeline, numerical_columns, column_names):\n",
    "    '''\n",
    "    Input:\n",
    "        cluster_pipeline (object) : object of cluster_pipeline\n",
    "        num_attributes (list): list of numerical attributes which were rescaled\n",
    "        log_attributes (list): list of attributes which has logarithmic transformation and also were rescaled\n",
    "        column_names (list): names of all columns after Column Transformer operation\n",
    "    \n",
    "    Output:\n",
    "        cluster_centers_df (dataframe): Dataframe of cluster_centers with their attributes values\n",
    "    '''\n",
    "    pca_components = cluster_pipeline.named_steps['pca']\n",
    "    kmeans = cluster_pipeline.named_steps['kmeans']\n",
    "    transformer = cluster_pipeline.named_steps['transform']\n",
    "    \n",
    "    cluster_centers = pca_components.inverse_transform(kmeans.cluster_centers_)\n",
    "    cluster_centers_df = pd.DataFrame(data=cluster_centers, columns=column_names)\n",
    "    \n",
    "    num_scale = transformer.named_transformers_['numerical'].named_steps['numerical_scale']\n",
    "    \n",
    "    cluster_centers_df[numerical_columns] = num_scale.inverse_transform(cluster_centers_df[numerical_columns])\n",
    "    \n",
    "    return cluster_centers_df"
   ]
  },
  {
   "cell_type": "code",
   "execution_count": 103,
   "metadata": {},
   "outputs": [],
   "source": [
    "cluster_centers_df = get_clusters_attributes(cluster_pipeline, numerical_columns, column_names)"
   ]
  },
  {
   "cell_type": "code",
   "execution_count": 104,
   "metadata": {},
   "outputs": [
    {
     "data": {
      "text/html": [
       "<div>\n",
       "<style scoped>\n",
       "    .dataframe tbody tr th:only-of-type {\n",
       "        vertical-align: middle;\n",
       "    }\n",
       "\n",
       "    .dataframe tbody tr th {\n",
       "        vertical-align: top;\n",
       "    }\n",
       "\n",
       "    .dataframe thead th {\n",
       "        text-align: right;\n",
       "    }\n",
       "</style>\n",
       "<table border=\"1\" class=\"dataframe\">\n",
       "  <thead>\n",
       "    <tr style=\"text-align: right;\">\n",
       "      <th></th>\n",
       "      <th>ANZ_HAUSHALTE_AKTIV</th>\n",
       "      <th>ANZ_PERSONEN</th>\n",
       "      <th>KBA13_ANZAHL_PKW</th>\n",
       "      <th>MIN_GEBAEUDEJAHR</th>\n",
       "      <th>DSL_FLAG</th>\n",
       "      <th>GREEN_AVANTGARDE</th>\n",
       "      <th>HH_DELTA_FLAG</th>\n",
       "      <th>KBA05_SEG6</th>\n",
       "      <th>KONSUMZELLE</th>\n",
       "      <th>OST_WEST_KZ</th>\n",
       "      <th>...</th>\n",
       "      <th>KBA13_MAZDA</th>\n",
       "      <th>KBA05_KRSZUL</th>\n",
       "      <th>KBA05_CCM2</th>\n",
       "      <th>SEMIO_ERL</th>\n",
       "      <th>D19_BEKLEIDUNG_GEH</th>\n",
       "      <th>KBA05_KRSHERST3</th>\n",
       "      <th>KBA13_CCM_1800</th>\n",
       "      <th>KBA05_KRSHERST1</th>\n",
       "      <th>PLZ8_BAUMAX</th>\n",
       "      <th>KBA13_HERST_SONST</th>\n",
       "    </tr>\n",
       "  </thead>\n",
       "  <tbody>\n",
       "    <tr>\n",
       "      <th>0</th>\n",
       "      <td>0.999460</td>\n",
       "      <td>-0.282291</td>\n",
       "      <td>-0.596771</td>\n",
       "      <td>-0.254483</td>\n",
       "      <td>0.995648</td>\n",
       "      <td>0.080843</td>\n",
       "      <td>0.071494</td>\n",
       "      <td>0.087445</td>\n",
       "      <td>0.624747</td>\n",
       "      <td>0.765747</td>\n",
       "      <td>...</td>\n",
       "      <td>3.125882</td>\n",
       "      <td>1.688776</td>\n",
       "      <td>2.937132</td>\n",
       "      <td>3.808336</td>\n",
       "      <td>0.286016</td>\n",
       "      <td>3.076011</td>\n",
       "      <td>2.312812</td>\n",
       "      <td>2.765667</td>\n",
       "      <td>4.046248</td>\n",
       "      <td>3.236558</td>\n",
       "    </tr>\n",
       "    <tr>\n",
       "      <th>1</th>\n",
       "      <td>0.614808</td>\n",
       "      <td>-0.289307</td>\n",
       "      <td>-0.027189</td>\n",
       "      <td>-0.267751</td>\n",
       "      <td>0.997304</td>\n",
       "      <td>0.068786</td>\n",
       "      <td>0.076180</td>\n",
       "      <td>0.068403</td>\n",
       "      <td>0.301879</td>\n",
       "      <td>0.882086</td>\n",
       "      <td>...</td>\n",
       "      <td>3.295465</td>\n",
       "      <td>1.814520</td>\n",
       "      <td>3.064375</td>\n",
       "      <td>5.489583</td>\n",
       "      <td>0.237140</td>\n",
       "      <td>3.269990</td>\n",
       "      <td>2.280266</td>\n",
       "      <td>2.663526</td>\n",
       "      <td>2.332326</td>\n",
       "      <td>2.769325</td>\n",
       "    </tr>\n",
       "    <tr>\n",
       "      <th>2</th>\n",
       "      <td>0.034033</td>\n",
       "      <td>-0.198149</td>\n",
       "      <td>0.346625</td>\n",
       "      <td>-0.057077</td>\n",
       "      <td>0.995707</td>\n",
       "      <td>0.128048</td>\n",
       "      <td>0.081619</td>\n",
       "      <td>0.103719</td>\n",
       "      <td>0.169900</td>\n",
       "      <td>0.940964</td>\n",
       "      <td>...</td>\n",
       "      <td>3.028835</td>\n",
       "      <td>1.893562</td>\n",
       "      <td>2.973828</td>\n",
       "      <td>3.640178</td>\n",
       "      <td>0.192855</td>\n",
       "      <td>3.120049</td>\n",
       "      <td>2.383747</td>\n",
       "      <td>2.826624</td>\n",
       "      <td>1.236788</td>\n",
       "      <td>2.662176</td>\n",
       "    </tr>\n",
       "    <tr>\n",
       "      <th>3</th>\n",
       "      <td>-0.821670</td>\n",
       "      <td>1.071158</td>\n",
       "      <td>0.282093</td>\n",
       "      <td>0.276210</td>\n",
       "      <td>0.991761</td>\n",
       "      <td>0.442794</td>\n",
       "      <td>0.149813</td>\n",
       "      <td>0.148463</td>\n",
       "      <td>0.075612</td>\n",
       "      <td>0.933339</td>\n",
       "      <td>...</td>\n",
       "      <td>2.884712</td>\n",
       "      <td>2.031829</td>\n",
       "      <td>2.897295</td>\n",
       "      <td>4.528717</td>\n",
       "      <td>1.616692</td>\n",
       "      <td>3.033271</td>\n",
       "      <td>2.416574</td>\n",
       "      <td>3.013505</td>\n",
       "      <td>1.091643</td>\n",
       "      <td>2.627607</td>\n",
       "    </tr>\n",
       "    <tr>\n",
       "      <th>4</th>\n",
       "      <td>-0.756894</td>\n",
       "      <td>-0.073739</td>\n",
       "      <td>0.312114</td>\n",
       "      <td>0.029803</td>\n",
       "      <td>0.991288</td>\n",
       "      <td>0.344914</td>\n",
       "      <td>0.094545</td>\n",
       "      <td>0.143026</td>\n",
       "      <td>0.080854</td>\n",
       "      <td>0.959235</td>\n",
       "      <td>...</td>\n",
       "      <td>2.859219</td>\n",
       "      <td>2.012792</td>\n",
       "      <td>2.920771</td>\n",
       "      <td>5.379094</td>\n",
       "      <td>0.390554</td>\n",
       "      <td>3.047480</td>\n",
       "      <td>2.424908</td>\n",
       "      <td>3.015314</td>\n",
       "      <td>1.037183</td>\n",
       "      <td>2.582584</td>\n",
       "    </tr>\n",
       "    <tr>\n",
       "      <th>5</th>\n",
       "      <td>-0.065930</td>\n",
       "      <td>-0.065266</td>\n",
       "      <td>0.034563</td>\n",
       "      <td>-0.183595</td>\n",
       "      <td>0.998953</td>\n",
       "      <td>0.522286</td>\n",
       "      <td>0.092915</td>\n",
       "      <td>0.288051</td>\n",
       "      <td>0.340265</td>\n",
       "      <td>0.936008</td>\n",
       "      <td>...</td>\n",
       "      <td>2.804753</td>\n",
       "      <td>2.169222</td>\n",
       "      <td>2.625423</td>\n",
       "      <td>4.736820</td>\n",
       "      <td>0.738054</td>\n",
       "      <td>2.473867</td>\n",
       "      <td>2.264385</td>\n",
       "      <td>3.620278</td>\n",
       "      <td>1.968114</td>\n",
       "      <td>3.231222</td>\n",
       "    </tr>\n",
       "    <tr>\n",
       "      <th>6</th>\n",
       "      <td>-0.645503</td>\n",
       "      <td>0.145973</td>\n",
       "      <td>-0.531051</td>\n",
       "      <td>0.665079</td>\n",
       "      <td>0.937901</td>\n",
       "      <td>0.121668</td>\n",
       "      <td>0.087104</td>\n",
       "      <td>0.061709</td>\n",
       "      <td>0.042015</td>\n",
       "      <td>0.150205</td>\n",
       "      <td>...</td>\n",
       "      <td>3.279836</td>\n",
       "      <td>1.952760</td>\n",
       "      <td>3.308514</td>\n",
       "      <td>4.816300</td>\n",
       "      <td>0.403365</td>\n",
       "      <td>3.037126</td>\n",
       "      <td>2.414329</td>\n",
       "      <td>2.950180</td>\n",
       "      <td>1.088893</td>\n",
       "      <td>3.992681</td>\n",
       "    </tr>\n",
       "    <tr>\n",
       "      <th>7</th>\n",
       "      <td>0.810039</td>\n",
       "      <td>-0.215000</td>\n",
       "      <td>-0.446098</td>\n",
       "      <td>0.185421</td>\n",
       "      <td>0.972508</td>\n",
       "      <td>0.018447</td>\n",
       "      <td>0.063109</td>\n",
       "      <td>0.018850</td>\n",
       "      <td>0.258163</td>\n",
       "      <td>0.068636</td>\n",
       "      <td>...</td>\n",
       "      <td>3.873420</td>\n",
       "      <td>1.905612</td>\n",
       "      <td>3.622970</td>\n",
       "      <td>4.707816</td>\n",
       "      <td>0.213011</td>\n",
       "      <td>3.114230</td>\n",
       "      <td>2.401220</td>\n",
       "      <td>2.661896</td>\n",
       "      <td>3.454403</td>\n",
       "      <td>3.969672</td>\n",
       "    </tr>\n",
       "  </tbody>\n",
       "</table>\n",
       "<p>8 rows × 331 columns</p>\n",
       "</div>"
      ],
      "text/plain": [
       "   ANZ_HAUSHALTE_AKTIV  ANZ_PERSONEN  KBA13_ANZAHL_PKW  MIN_GEBAEUDEJAHR  \\\n",
       "0             0.999460     -0.282291         -0.596771         -0.254483   \n",
       "1             0.614808     -0.289307         -0.027189         -0.267751   \n",
       "2             0.034033     -0.198149          0.346625         -0.057077   \n",
       "3            -0.821670      1.071158          0.282093          0.276210   \n",
       "4            -0.756894     -0.073739          0.312114          0.029803   \n",
       "5            -0.065930     -0.065266          0.034563         -0.183595   \n",
       "6            -0.645503      0.145973         -0.531051          0.665079   \n",
       "7             0.810039     -0.215000         -0.446098          0.185421   \n",
       "\n",
       "   DSL_FLAG  GREEN_AVANTGARDE  HH_DELTA_FLAG  KBA05_SEG6  KONSUMZELLE  \\\n",
       "0  0.995648          0.080843       0.071494    0.087445     0.624747   \n",
       "1  0.997304          0.068786       0.076180    0.068403     0.301879   \n",
       "2  0.995707          0.128048       0.081619    0.103719     0.169900   \n",
       "3  0.991761          0.442794       0.149813    0.148463     0.075612   \n",
       "4  0.991288          0.344914       0.094545    0.143026     0.080854   \n",
       "5  0.998953          0.522286       0.092915    0.288051     0.340265   \n",
       "6  0.937901          0.121668       0.087104    0.061709     0.042015   \n",
       "7  0.972508          0.018447       0.063109    0.018850     0.258163   \n",
       "\n",
       "   OST_WEST_KZ  ...  KBA13_MAZDA  KBA05_KRSZUL  KBA05_CCM2  SEMIO_ERL  \\\n",
       "0     0.765747  ...     3.125882      1.688776    2.937132   3.808336   \n",
       "1     0.882086  ...     3.295465      1.814520    3.064375   5.489583   \n",
       "2     0.940964  ...     3.028835      1.893562    2.973828   3.640178   \n",
       "3     0.933339  ...     2.884712      2.031829    2.897295   4.528717   \n",
       "4     0.959235  ...     2.859219      2.012792    2.920771   5.379094   \n",
       "5     0.936008  ...     2.804753      2.169222    2.625423   4.736820   \n",
       "6     0.150205  ...     3.279836      1.952760    3.308514   4.816300   \n",
       "7     0.068636  ...     3.873420      1.905612    3.622970   4.707816   \n",
       "\n",
       "   D19_BEKLEIDUNG_GEH  KBA05_KRSHERST3  KBA13_CCM_1800  KBA05_KRSHERST1  \\\n",
       "0            0.286016         3.076011        2.312812         2.765667   \n",
       "1            0.237140         3.269990        2.280266         2.663526   \n",
       "2            0.192855         3.120049        2.383747         2.826624   \n",
       "3            1.616692         3.033271        2.416574         3.013505   \n",
       "4            0.390554         3.047480        2.424908         3.015314   \n",
       "5            0.738054         2.473867        2.264385         3.620278   \n",
       "6            0.403365         3.037126        2.414329         2.950180   \n",
       "7            0.213011         3.114230        2.401220         2.661896   \n",
       "\n",
       "   PLZ8_BAUMAX  KBA13_HERST_SONST  \n",
       "0     4.046248           3.236558  \n",
       "1     2.332326           2.769325  \n",
       "2     1.236788           2.662176  \n",
       "3     1.091643           2.627607  \n",
       "4     1.037183           2.582584  \n",
       "5     1.968114           3.231222  \n",
       "6     1.088893           3.992681  \n",
       "7     3.454403           3.969672  \n",
       "\n",
       "[8 rows x 331 columns]"
      ]
     },
     "execution_count": 104,
     "metadata": {},
     "output_type": "execute_result"
    }
   ],
   "source": [
    "cluster_centers_df"
   ]
  },
  {
   "cell_type": "code",
   "execution_count": 105,
   "metadata": {},
   "outputs": [],
   "source": [
    "positive_cluster1 = 4\n",
    "positive_cluster2 = 5\n",
    "negative_cluster1 = 0\n",
    "negative_cluster2 = 2\n",
    "\n",
    "comparison_df = cluster_centers_df.T[[4, 5, 0, 2]]\n",
    "comparison_df.columns = ['positive_cluster1', 'positive_cluster2', 'negative_cluster1', 'negative_cluster2']"
   ]
  },
  {
   "cell_type": "code",
   "execution_count": 106,
   "metadata": {},
   "outputs": [],
   "source": [
    "comparison_df_std = comparison_df[comparison_df.std(axis=1) > 1]"
   ]
  },
  {
   "cell_type": "code",
   "execution_count": 107,
   "metadata": {},
   "outputs": [
    {
     "data": {
      "text/html": [
       "<div>\n",
       "<style scoped>\n",
       "    .dataframe tbody tr th:only-of-type {\n",
       "        vertical-align: middle;\n",
       "    }\n",
       "\n",
       "    .dataframe tbody tr th {\n",
       "        vertical-align: top;\n",
       "    }\n",
       "\n",
       "    .dataframe thead th {\n",
       "        text-align: right;\n",
       "    }\n",
       "</style>\n",
       "<table border=\"1\" class=\"dataframe\">\n",
       "  <thead>\n",
       "    <tr style=\"text-align: right;\">\n",
       "      <th></th>\n",
       "      <th>positive_cluster1</th>\n",
       "      <th>positive_cluster2</th>\n",
       "      <th>negative_cluster1</th>\n",
       "      <th>negative_cluster2</th>\n",
       "    </tr>\n",
       "  </thead>\n",
       "  <tbody>\n",
       "    <tr>\n",
       "      <th>ANZ_STATISTISCHE_HAUSHALTE</th>\n",
       "      <td>2.234183</td>\n",
       "      <td>6.872080</td>\n",
       "      <td>16.062857</td>\n",
       "      <td>5.814821</td>\n",
       "    </tr>\n",
       "    <tr>\n",
       "      <th>HH_EINKOMMEN_SCORE</th>\n",
       "      <td>3.428707</td>\n",
       "      <td>3.582609</td>\n",
       "      <td>5.609253</td>\n",
       "      <td>4.862961</td>\n",
       "    </tr>\n",
       "    <tr>\n",
       "      <th>SEMIO_REL</th>\n",
       "      <td>2.948076</td>\n",
       "      <td>3.498428</td>\n",
       "      <td>5.197501</td>\n",
       "      <td>5.431387</td>\n",
       "    </tr>\n",
       "    <tr>\n",
       "      <th>CJT_TYP_5</th>\n",
       "      <td>4.359608</td>\n",
       "      <td>3.522882</td>\n",
       "      <td>2.178142</td>\n",
       "      <td>2.065598</td>\n",
       "    </tr>\n",
       "    <tr>\n",
       "      <th>EWDICHTE</th>\n",
       "      <td>2.862775</td>\n",
       "      <td>4.934159</td>\n",
       "      <td>5.774976</td>\n",
       "      <td>3.588748</td>\n",
       "    </tr>\n",
       "    <tr>\n",
       "      <th>FINANZ_ANLEGER</th>\n",
       "      <td>1.957603</td>\n",
       "      <td>1.960719</td>\n",
       "      <td>3.304043</td>\n",
       "      <td>4.076545</td>\n",
       "    </tr>\n",
       "    <tr>\n",
       "      <th>FINANZ_SPARER</th>\n",
       "      <td>1.446380</td>\n",
       "      <td>2.240616</td>\n",
       "      <td>3.932492</td>\n",
       "      <td>4.140664</td>\n",
       "    </tr>\n",
       "    <tr>\n",
       "      <th>CJT_TYP_2</th>\n",
       "      <td>1.790810</td>\n",
       "      <td>2.866600</td>\n",
       "      <td>4.343586</td>\n",
       "      <td>4.316408</td>\n",
       "    </tr>\n",
       "    <tr>\n",
       "      <th>FINANZ_VORSORGER</th>\n",
       "      <td>4.548210</td>\n",
       "      <td>3.795755</td>\n",
       "      <td>2.560997</td>\n",
       "      <td>2.336631</td>\n",
       "    </tr>\n",
       "    <tr>\n",
       "      <th>EINGEZOGENAM_HH_JAHR</th>\n",
       "      <td>2000.723413</td>\n",
       "      <td>2003.341237</td>\n",
       "      <td>2006.233312</td>\n",
       "      <td>2006.551229</td>\n",
       "    </tr>\n",
       "    <tr>\n",
       "      <th>SEMIO_TRADV</th>\n",
       "      <td>2.778744</td>\n",
       "      <td>3.543177</td>\n",
       "      <td>4.524404</td>\n",
       "      <td>5.101881</td>\n",
       "    </tr>\n",
       "    <tr>\n",
       "      <th>KBA13_BAUMAX</th>\n",
       "      <td>1.064956</td>\n",
       "      <td>2.086685</td>\n",
       "      <td>4.201116</td>\n",
       "      <td>1.307635</td>\n",
       "    </tr>\n",
       "    <tr>\n",
       "      <th>INNENSTADT</th>\n",
       "      <td>5.608998</td>\n",
       "      <td>3.743530</td>\n",
       "      <td>2.475729</td>\n",
       "      <td>5.137652</td>\n",
       "    </tr>\n",
       "    <tr>\n",
       "      <th>MOBI_REGIO</th>\n",
       "      <td>4.125136</td>\n",
       "      <td>3.027193</td>\n",
       "      <td>1.514120</td>\n",
       "      <td>3.012239</td>\n",
       "    </tr>\n",
       "    <tr>\n",
       "      <th>GEMEINDETYP</th>\n",
       "      <td>31.431368</td>\n",
       "      <td>17.890657</td>\n",
       "      <td>12.577350</td>\n",
       "      <td>26.300017</td>\n",
       "    </tr>\n",
       "    <tr>\n",
       "      <th>CJT_TYP_1</th>\n",
       "      <td>2.162840</td>\n",
       "      <td>2.964168</td>\n",
       "      <td>4.258935</td>\n",
       "      <td>4.509262</td>\n",
       "    </tr>\n",
       "    <tr>\n",
       "      <th>BALLRAUM</th>\n",
       "      <td>5.050903</td>\n",
       "      <td>2.955694</td>\n",
       "      <td>2.437008</td>\n",
       "      <td>4.569595</td>\n",
       "    </tr>\n",
       "    <tr>\n",
       "      <th>ORTSGR_KLS9</th>\n",
       "      <td>3.823973</td>\n",
       "      <td>6.557802</td>\n",
       "      <td>7.781508</td>\n",
       "      <td>4.738989</td>\n",
       "    </tr>\n",
       "    <tr>\n",
       "      <th>PRAEGENDE_JUGENDJAHRE</th>\n",
       "      <td>6.138209</td>\n",
       "      <td>8.528607</td>\n",
       "      <td>11.658221</td>\n",
       "      <td>12.730041</td>\n",
       "    </tr>\n",
       "    <tr>\n",
       "      <th>CJT_TYP_3</th>\n",
       "      <td>4.366782</td>\n",
       "      <td>3.377998</td>\n",
       "      <td>2.053673</td>\n",
       "      <td>2.275225</td>\n",
       "    </tr>\n",
       "    <tr>\n",
       "      <th>AKT_DAT_KL</th>\n",
       "      <td>3.230074</td>\n",
       "      <td>4.202700</td>\n",
       "      <td>5.784368</td>\n",
       "      <td>6.041270</td>\n",
       "    </tr>\n",
       "    <tr>\n",
       "      <th>FINANZ_MINIMALIST</th>\n",
       "      <td>4.356588</td>\n",
       "      <td>3.339890</td>\n",
       "      <td>1.813622</td>\n",
       "      <td>2.036623</td>\n",
       "    </tr>\n",
       "    <tr>\n",
       "      <th>LP_STATUS_GROB</th>\n",
       "      <td>3.700276</td>\n",
       "      <td>2.792912</td>\n",
       "      <td>1.196847</td>\n",
       "      <td>1.879419</td>\n",
       "    </tr>\n",
       "    <tr>\n",
       "      <th>SEMIO_PFLICHT</th>\n",
       "      <td>3.033459</td>\n",
       "      <td>3.712099</td>\n",
       "      <td>5.406316</td>\n",
       "      <td>5.751991</td>\n",
       "    </tr>\n",
       "    <tr>\n",
       "      <th>CAMEO_DEUG_2015</th>\n",
       "      <td>3.954690</td>\n",
       "      <td>4.477270</td>\n",
       "      <td>7.980041</td>\n",
       "      <td>5.449069</td>\n",
       "    </tr>\n",
       "    <tr>\n",
       "      <th>PLZ8_BAUMAX</th>\n",
       "      <td>1.037183</td>\n",
       "      <td>1.968114</td>\n",
       "      <td>4.046248</td>\n",
       "      <td>1.236788</td>\n",
       "    </tr>\n",
       "  </tbody>\n",
       "</table>\n",
       "</div>"
      ],
      "text/plain": [
       "                            positive_cluster1  positive_cluster2  \\\n",
       "ANZ_STATISTISCHE_HAUSHALTE           2.234183           6.872080   \n",
       "HH_EINKOMMEN_SCORE                   3.428707           3.582609   \n",
       "SEMIO_REL                            2.948076           3.498428   \n",
       "CJT_TYP_5                            4.359608           3.522882   \n",
       "EWDICHTE                             2.862775           4.934159   \n",
       "FINANZ_ANLEGER                       1.957603           1.960719   \n",
       "FINANZ_SPARER                        1.446380           2.240616   \n",
       "CJT_TYP_2                            1.790810           2.866600   \n",
       "FINANZ_VORSORGER                     4.548210           3.795755   \n",
       "EINGEZOGENAM_HH_JAHR              2000.723413        2003.341237   \n",
       "SEMIO_TRADV                          2.778744           3.543177   \n",
       "KBA13_BAUMAX                         1.064956           2.086685   \n",
       "INNENSTADT                           5.608998           3.743530   \n",
       "MOBI_REGIO                           4.125136           3.027193   \n",
       "GEMEINDETYP                         31.431368          17.890657   \n",
       "CJT_TYP_1                            2.162840           2.964168   \n",
       "BALLRAUM                             5.050903           2.955694   \n",
       "ORTSGR_KLS9                          3.823973           6.557802   \n",
       "PRAEGENDE_JUGENDJAHRE                6.138209           8.528607   \n",
       "CJT_TYP_3                            4.366782           3.377998   \n",
       "AKT_DAT_KL                           3.230074           4.202700   \n",
       "FINANZ_MINIMALIST                    4.356588           3.339890   \n",
       "LP_STATUS_GROB                       3.700276           2.792912   \n",
       "SEMIO_PFLICHT                        3.033459           3.712099   \n",
       "CAMEO_DEUG_2015                      3.954690           4.477270   \n",
       "PLZ8_BAUMAX                          1.037183           1.968114   \n",
       "\n",
       "                            negative_cluster1  negative_cluster2  \n",
       "ANZ_STATISTISCHE_HAUSHALTE          16.062857           5.814821  \n",
       "HH_EINKOMMEN_SCORE                   5.609253           4.862961  \n",
       "SEMIO_REL                            5.197501           5.431387  \n",
       "CJT_TYP_5                            2.178142           2.065598  \n",
       "EWDICHTE                             5.774976           3.588748  \n",
       "FINANZ_ANLEGER                       3.304043           4.076545  \n",
       "FINANZ_SPARER                        3.932492           4.140664  \n",
       "CJT_TYP_2                            4.343586           4.316408  \n",
       "FINANZ_VORSORGER                     2.560997           2.336631  \n",
       "EINGEZOGENAM_HH_JAHR              2006.233312        2006.551229  \n",
       "SEMIO_TRADV                          4.524404           5.101881  \n",
       "KBA13_BAUMAX                         4.201116           1.307635  \n",
       "INNENSTADT                           2.475729           5.137652  \n",
       "MOBI_REGIO                           1.514120           3.012239  \n",
       "GEMEINDETYP                         12.577350          26.300017  \n",
       "CJT_TYP_1                            4.258935           4.509262  \n",
       "BALLRAUM                             2.437008           4.569595  \n",
       "ORTSGR_KLS9                          7.781508           4.738989  \n",
       "PRAEGENDE_JUGENDJAHRE               11.658221          12.730041  \n",
       "CJT_TYP_3                            2.053673           2.275225  \n",
       "AKT_DAT_KL                           5.784368           6.041270  \n",
       "FINANZ_MINIMALIST                    1.813622           2.036623  \n",
       "LP_STATUS_GROB                       1.196847           1.879419  \n",
       "SEMIO_PFLICHT                        5.406316           5.751991  \n",
       "CAMEO_DEUG_2015                      7.980041           5.449069  \n",
       "PLZ8_BAUMAX                          4.046248           1.236788  "
      ]
     },
     "execution_count": 107,
     "metadata": {},
     "output_type": "execute_result"
    }
   ],
   "source": [
    "comparison_df_std"
   ]
  },
  {
   "cell_type": "markdown",
   "metadata": {},
   "source": [
    "Observing the positive and negative clusters for the highest difference between them, we can identify attributes of groups of people that would be positively interested by the marketing, as well as those negatively interested by it.\n",
    "\n",
    "The positively interested clusters are those that have the following attributes:\n",
    "- financially prepared with savings\n",
    "- financially lean with good budget\n",
    "- religiously inclined\n",
    "- they are of the 60s - 80s generation\n",
    "- they have relatively high income\n",
    "- they are mostly established and consumption minded middle class\n",
    "- they are slightly above the average income earners\n",
    "- they are people with investments and are typically money savers\n",
    "- they are traditional-minded\n",
    "- low movement pattern, indicating they live in a house they own\n",
    "\n",
    "The negatively interested clusters are those that have the following attributes:\n",
    "- very low savings and people who do not invest\n",
    "- low income earners\n",
    "- less religiously inclined\n",
    "- they are of the 80s and above generation and most likely to be a member of the Communist Party Youth Organisation\n",
    "- they are less traditionally inclined\n",
    "- high movement pattern, indicating the person does not live in a house they own"
   ]
  },
  {
   "cell_type": "code",
   "execution_count": 108,
   "metadata": {},
   "outputs": [],
   "source": [
    "comparison_df.to_pickle('comparison_df')"
   ]
  },
  {
   "cell_type": "code",
   "execution_count": 109,
   "metadata": {},
   "outputs": [],
   "source": [
    "comparison_df = pd.read_pickle('comparison_df')"
   ]
  },
  {
   "cell_type": "markdown",
   "metadata": {},
   "source": [
    "## Part 2: Supervised Learning Model\n",
    "\n",
    "Now that you've found which parts of the population are more likely to be customers of the mail-order company, it's time to build a prediction model. Each of the rows in the \"MAILOUT\" data files represents an individual that was targeted for a mailout campaign. Ideally, we should be able to use the demographic information from each individual to decide whether or not it will be worth it to include that person in the campaign.\n",
    "\n",
    "The \"MAILOUT\" data has been split into two approximately equal parts, each with almost 43 000 data rows. In this part, you can verify your model with the \"TRAIN\" partition, which includes a column, \"RESPONSE\", that states whether or not a person became a customer of the company following the campaign. In the next part, you'll need to create predictions on the \"TEST\" partition, where the \"RESPONSE\" column has been withheld."
   ]
  },
  {
   "cell_type": "code",
   "execution_count": 110,
   "metadata": {},
   "outputs": [],
   "source": [
    "mailout_train = pd.read_csv('./Udacity_MAILOUT_052018_TRAIN.csv', sep=';', low_memory=False)"
   ]
  },
  {
   "cell_type": "code",
   "execution_count": 111,
   "metadata": {},
   "outputs": [
    {
     "data": {
      "text/plain": [
       "(42962, 367)"
      ]
     },
     "execution_count": 111,
     "metadata": {},
     "output_type": "execute_result"
    }
   ],
   "source": [
    "mailout_train.shape"
   ]
  },
  {
   "cell_type": "code",
   "execution_count": 112,
   "metadata": {},
   "outputs": [
    {
     "data": {
      "text/plain": [
       "0    42430\n",
       "1      532\n",
       "Name: RESPONSE, dtype: int64"
      ]
     },
     "execution_count": 112,
     "metadata": {},
     "output_type": "execute_result"
    }
   ],
   "source": [
    "mailout_train['RESPONSE'].value_counts()"
   ]
  },
  {
   "cell_type": "code",
   "execution_count": 114,
   "metadata": {},
   "outputs": [],
   "source": [
    "mailout_train_cleaned = clean_data(mailout_train, missing_keys_dict, test_data=True)"
   ]
  },
  {
   "cell_type": "code",
   "execution_count": 115,
   "metadata": {},
   "outputs": [
    {
     "name": "stdout",
     "output_type": "stream",
     "text": [
      "(42962, 311)\n"
     ]
    }
   ],
   "source": [
    "print(mailout_train_cleaned.shape)"
   ]
  },
  {
   "cell_type": "code",
   "execution_count": 116,
   "metadata": {},
   "outputs": [
    {
     "name": "stdout",
     "output_type": "stream",
     "text": [
      "float64    246\n",
      "int64       64\n",
      "object       1\n",
      "dtype: int64\n"
     ]
    }
   ],
   "source": [
    "print(mailout_train_cleaned.dtypes.value_counts())"
   ]
  },
  {
   "cell_type": "code",
   "execution_count": 117,
   "metadata": {},
   "outputs": [],
   "source": [
    "X_train = mailout_train_cleaned.drop(['RESPONSE'], axis=1)\n",
    "y_train = mailout_train_cleaned['RESPONSE']"
   ]
  },
  {
   "cell_type": "code",
   "execution_count": 118,
   "metadata": {},
   "outputs": [],
   "source": [
    "models = {'RandomForestClassifier': RandomForestClassifier(),\n",
    "          'AdaBoostClassifier': AdaBoostClassifier(),\n",
    "          'GradientBoostingClassifier': GradientBoostingClassifier(),\n",
    "          'XGBClassifier': xgb.XGBClassifier()\n",
    "         }"
   ]
  },
  {
   "cell_type": "code",
   "execution_count": 119,
   "metadata": {},
   "outputs": [],
   "source": [
    "def randomize(X, y):\n",
    "    X2 = pd.concat([X,y], axis=1)\n",
    "    X2 = X2.sample(frac=1, random_state=0)\n",
    "    y2 = X2['RESPONSE']\n",
    "    X2 = X2.drop(['RESPONSE'], axis=1)\n",
    "    \n",
    "    return X2, y2"
   ]
  },
  {
   "cell_type": "code",
   "execution_count": 120,
   "metadata": {},
   "outputs": [],
   "source": [
    "def plot_learning_curves(X, y, estimator, n_trainings):\n",
    "    train_sizes, train_scores, test_scores = learning_curve(\n",
    "        estimator, X, y, train_sizes=np.linspace(.1, 1.0, n_trainings), cv=None, scoring='roc_auc')\n",
    "    \n",
    "    train_scores_mean = np.mean(train_scores, axis=1)\n",
    "    test_scores_mean = np.mean(test_scores, axis=1)\n",
    "    \n",
    "    roc_auc_train_score = train_scores_mean[-1].round(2)\n",
    "    roc_auc_validation_score = test_scores_mean[-1].round(2)\n",
    "    \n",
    "    print(\"ROC_AUC Train Score: {}\".format(roc_auc_train_score))\n",
    "    print(\"ROC_AUC Validation/Test Score: {}\".format(roc_auc_validation_score))\n",
    "    \n",
    "    plt.grid()\n",
    "    plt.xlabel(\"Percentage of training\")\n",
    "    plt.ylabel(\"Score\")\n",
    "    plt.title(\"Learning curves\")\n",
    "    plt.plot(np.linspace(0.1, 1.0, n_trainings)*100, train_scores_mean, 'o-', color='b', label='train' )\n",
    "    plt.plot(np.linspace(0.1, 1.0, n_trainings)*100, test_scores_mean, 'o-', color='g', label='test' )\n",
    "    \n",
    "    plt.yticks(np.arange(0.45, 1.02, 0.05))\n",
    "    plt.xticks(np.arange(0., 100.05, 10))\n",
    "    plt.show()"
   ]
  },
  {
   "cell_type": "markdown",
   "metadata": {},
   "source": [
    "The pipeline consists of two parts, a transformer from the pre-processing section of this project and a classifier:"
   ]
  },
  {
   "cell_type": "code",
   "execution_count": 121,
   "metadata": {},
   "outputs": [
    {
     "name": "stdout",
     "output_type": "stream",
     "text": [
      "RandomForestClassifier\n",
      "ROC_AUC Train Score: 0.97\n",
      "ROC_AUC Validation/Test Score: 0.61\n"
     ]
    },
    {
     "data": {
      "image/png": "[encoded data removed]",
      "text/plain": [
       "<Figure size 432x288 with 1 Axes>"
      ]
     },
     "metadata": {
      "needs_background": "light"
     },
     "output_type": "display_data"
    },
    {
     "name": "stdout",
     "output_type": "stream",
     "text": [
      "AdaBoostClassifier\n",
      "ROC_AUC Train Score: 0.84\n",
      "ROC_AUC Validation/Test Score: 0.73\n"
     ]
    },
    {
     "data": {
      "image/png": "[encoded data removed]",
      "text/plain": [
       "<Figure size 432x288 with 1 Axes>"
      ]
     },
     "metadata": {
      "needs_background": "light"
     },
     "output_type": "display_data"
    },
    {
     "name": "stdout",
     "output_type": "stream",
     "text": [
      "GradientBoostingClassifier\n",
      "ROC_AUC Train Score: 0.91\n",
      "ROC_AUC Validation/Test Score: 0.75\n"
     ]
    },
    {
     "data": {
      "image/png": "[encoded data removed]",
      "text/plain": [
       "<Figure size 432x288 with 1 Axes>"
      ]
     },
     "metadata": {
      "needs_background": "light"
     },
     "output_type": "display_data"
    },
    {
     "name": "stdout",
     "output_type": "stream",
     "text": [
      "XGBClassifier\n",
      "ROC_AUC Train Score: 0.99\n",
      "ROC_AUC Validation/Test Score: 0.68\n"
     ]
    },
    {
     "data": {
      "image/png": "[encoded data removed]",
      "text/plain": [
       "<Figure size 432x288 with 1 Axes>"
      ]
     },
     "metadata": {
      "needs_background": "light"
     },
     "output_type": "display_data"
    }
   ],
   "source": [
    "for model_key in models.keys():\n",
    "    print(model_key)\n",
    "    ml_pipeline = Pipeline([\n",
    "        ('transform', column_transformer),\n",
    "        ('model', models[model_key])\n",
    "    ])\n",
    "    X2, y2 = randomize(X_train, y_train)\n",
    "    plot_learning_curves(X2, y2, ml_pipeline, 10)"
   ]
  },
  {
   "cell_type": "markdown",
   "metadata": {},
   "source": [
    "The RandomForestClassifier and XGBoostClassifier is a high bias model in this instance as the train and test curve does not seem to converge even with additional data. This means both estimators are overfitting the model and hence badly predicts new data.\n",
    "\n",
    "The AdaBoostClassifier is slightly better as the train and test curve seems to converge with the addition data. However, the test curve appears to have plateaued and does not seem to converge anymore towards the end of the test curve.\n",
    "\n",
    "The GradientBoostingClassifier is far better as the train and test curve seems to converge with the addition of data. Moreover there is the possibility that the model will converge further if more data is provided. Also, it's validation score is higher than AdaBoostClassifier. Hence, we will select GradientBoostingClassifier as our estimator."
   ]
  },
  {
   "cell_type": "markdown",
   "metadata": {},
   "source": [
    "## Grid Search"
   ]
  },
  {
   "cell_type": "markdown",
   "metadata": {},
   "source": [
    "GridSearch performs an exhaustive search over specified parameter values for an estimator. It will then select the model with parameters that yield the best validation score."
   ]
  },
  {
   "cell_type": "code",
   "execution_count": 122,
   "metadata": {},
   "outputs": [
    {
     "name": "stdout",
     "output_type": "stream",
     "text": [
      "{'gbc__learning_rate': 0.1, 'gbc__max_depth': 3, 'gbc__min_samples_split': 4, 'gbc__n_estimators': 100}\n",
      "ROC score: 0.8978\n",
      "Final ROC score: 0.8981\n"
     ]
    }
   ],
   "source": [
    "# Create pipeline with column transformer and gradient boosting classifier for grid search\n",
    "gbc_pipeline = Pipeline([\n",
    "    ('transform', column_transformer),\n",
    "    ('gbc', GradientBoostingClassifier(random_state=0))\n",
    "])\n",
    "\n",
    "# define parameters appropriate for an exhaustive iterative search of the best parameters\n",
    "parameters = { 'gbc__learning_rate': [0.1, 0.2], 'gbc__n_estimators': [100], \n",
    "              'gbc__max_depth': [3, 5], 'gbc__min_samples_split': [2, 4] }\n",
    "\n",
    "# instantiate grid search\n",
    "grid_obj = GridSearchCV(gbc_pipeline, parameters, scoring='roc_auc')\n",
    "\n",
    "# fit the grid search object to training data to find the best parameters\n",
    "grid_obj.fit(X_train, y_train)\n",
    "\n",
    "# get the estimator and predict based on the best parameters\n",
    "print(grid_obj.best_params_)\n",
    "best_clf = grid_obj.best_estimator_\n",
    "best_predictions = best_clf.predict_proba(X_train)[:, 1]\n",
    "\n",
    "# predict based on the default parameters\n",
    "predictions = (gbc_pipeline.fit(X_train, y_train)).predict_proba(X_train)[:, 1]\n",
    "\n",
    "print(\"ROC score: {:.4f}\".format(roc_auc_score(y_train, predictions)))\n",
    "print(\"Final ROC score: {:.4f}\".format(roc_auc_score(y_train, best_predictions)))"
   ]
  },
  {
   "cell_type": "code",
   "execution_count": 123,
   "metadata": {},
   "outputs": [],
   "source": [
    "pkl_filename = 'best_gradient_boosting.pkl'\n",
    "with open(pkl_filename, 'wb') as file:\n",
    "    pickle.dump(best_clf, file)"
   ]
  },
  {
   "cell_type": "code",
   "execution_count": 124,
   "metadata": {},
   "outputs": [
    {
     "data": {
      "image/png": "[encoded data removed]",
      "text/plain": [
       "<Figure size 1152x576 with 1 Axes>"
      ]
     },
     "metadata": {
      "needs_background": "light"
     },
     "output_type": "display_data"
    }
   ],
   "source": [
    "feature_importances = best_clf.named_steps['gbc'].feature_importances_\n",
    "pd.Series(feature_importances, index=column_names).sort_values()[-10:].plot(kind='barh', figsize=(16, 8))\n",
    "plt.xlabel(\"Feature importance\")\n",
    "plt.savefig('feature_importance.png', dpi=500)"
   ]
  },
  {
   "cell_type": "markdown",
   "metadata": {},
   "source": [
    "## Part 3: Kaggle Competition\n",
    "\n",
    "Now that you've created a model to predict which individuals are most likely to respond to a mailout campaign, it's time to test that model in competition through Kaggle. If you click on the link [here](http://www.kaggle.com/t/21e6d45d4c574c7fa2d868f0e8c83140), you'll be taken to the competition page where, if you have a Kaggle account, you can enter. If you're one of the top performers, you may have the chance to be contacted by a hiring manager from Arvato or Bertelsmann for an interview!\n",
    "\n",
    "Your entry to the competition should be a CSV file with two columns. The first column should be a copy of \"LNR\", which acts as an ID number for each individual in the \"TEST\" partition. The second column, \"RESPONSE\", should be some measure of how likely each individual became a customer – this might not be a straightforward probability. As you should have found in Part 2, there is a large output class imbalance, where most individuals did not respond to the mailout. Thus, predicting individual classes and using accuracy does not seem to be an appropriate performance evaluation method. Instead, the competition will be using AUC to evaluate performance. The exact values of the \"RESPONSE\" column do not matter as much: only that the higher values try to capture as many of the actual customers as possible, early in the ROC curve sweep."
   ]
  },
  {
   "cell_type": "code",
   "execution_count": 125,
   "metadata": {},
   "outputs": [],
   "source": [
    "mailout_test = pd.read_csv('./Udacity_MAILOUT_052018_TEST.csv', sep=';', low_memory=False)"
   ]
  },
  {
   "cell_type": "code",
   "execution_count": 126,
   "metadata": {},
   "outputs": [
    {
     "data": {
      "text/plain": [
       "(42833, 366)"
      ]
     },
     "execution_count": 126,
     "metadata": {},
     "output_type": "execute_result"
    }
   ],
   "source": [
    "mailout_test.shape"
   ]
  },
  {
   "cell_type": "code",
   "execution_count": 127,
   "metadata": {},
   "outputs": [],
   "source": [
    "mailout_test_cleaned = clean_data(mailout_test, missing_keys_dict, test_data=True)"
   ]
  },
  {
   "cell_type": "code",
   "execution_count": 128,
   "metadata": {},
   "outputs": [],
   "source": [
    "# check that dataset is the same\n",
    "mailout_test_cleaned = mailout_test_cleaned[mailout_train_cleaned.drop(['RESPONSE'], axis=1).columns]"
   ]
  },
  {
   "cell_type": "code",
   "execution_count": 129,
   "metadata": {},
   "outputs": [
    {
     "name": "stdout",
     "output_type": "stream",
     "text": [
      "(42962, 310)\n",
      "(42833, 310)\n"
     ]
    }
   ],
   "source": [
    "print(mailout_train_cleaned.drop(['RESPONSE'], axis=1).shape)\n",
    "print(mailout_test_cleaned.shape)"
   ]
  },
  {
   "cell_type": "code",
   "execution_count": 130,
   "metadata": {},
   "outputs": [
    {
     "data": {
      "text/plain": [
       "array([0.04380394, 0.02599756, 0.00293027, ..., 0.02821888, 0.03872202,\n",
       "       0.02212874])"
      ]
     },
     "execution_count": 130,
     "metadata": {},
     "output_type": "execute_result"
    }
   ],
   "source": [
    "pkl_filename = 'best_gradient_boosting.pkl'\n",
    "\n",
    "with open(pkl_filename, 'rb') as file:\n",
    "    pickle_model = pickle.load(file)\n",
    "\n",
    "kaggle_predict = pickle_model.predict_proba(mailout_test_cleaned)[:,1]\n",
    "kaggle_predict"
   ]
  },
  {
   "cell_type": "code",
   "execution_count": 131,
   "metadata": {},
   "outputs": [
    {
     "data": {
      "text/plain": [
       "(42833, 2)"
      ]
     },
     "execution_count": 131,
     "metadata": {},
     "output_type": "execute_result"
    }
   ],
   "source": [
    "submission = pd.read_csv('Arvato_Capstone_Example_Submission.csv')\n",
    "submission['RESPONSE'] = kaggle_predict\n",
    "submission.to_csv('kaggle_submission.csv', index=False)\n",
    "submission.shape"
   ]
  },
  {
   "cell_type": "code",
   "execution_count": 132,
   "metadata": {},
   "outputs": [
    {
     "data": {
      "text/html": [
       "<div>\n",
       "<style scoped>\n",
       "    .dataframe tbody tr th:only-of-type {\n",
       "        vertical-align: middle;\n",
       "    }\n",
       "\n",
       "    .dataframe tbody tr th {\n",
       "        vertical-align: top;\n",
       "    }\n",
       "\n",
       "    .dataframe thead th {\n",
       "        text-align: right;\n",
       "    }\n",
       "</style>\n",
       "<table border=\"1\" class=\"dataframe\">\n",
       "  <thead>\n",
       "    <tr style=\"text-align: right;\">\n",
       "      <th></th>\n",
       "      <th>LNR</th>\n",
       "      <th>RESPONSE</th>\n",
       "    </tr>\n",
       "  </thead>\n",
       "  <tbody>\n",
       "    <tr>\n",
       "      <th>0</th>\n",
       "      <td>1754</td>\n",
       "      <td>0.043804</td>\n",
       "    </tr>\n",
       "    <tr>\n",
       "      <th>1</th>\n",
       "      <td>1770</td>\n",
       "      <td>0.025998</td>\n",
       "    </tr>\n",
       "    <tr>\n",
       "      <th>2</th>\n",
       "      <td>1465</td>\n",
       "      <td>0.002930</td>\n",
       "    </tr>\n",
       "    <tr>\n",
       "      <th>3</th>\n",
       "      <td>1470</td>\n",
       "      <td>0.003441</td>\n",
       "    </tr>\n",
       "    <tr>\n",
       "      <th>4</th>\n",
       "      <td>1478</td>\n",
       "      <td>0.015672</td>\n",
       "    </tr>\n",
       "  </tbody>\n",
       "</table>\n",
       "</div>"
      ],
      "text/plain": [
       "    LNR  RESPONSE\n",
       "0  1754  0.043804\n",
       "1  1770  0.025998\n",
       "2  1465  0.002930\n",
       "3  1470  0.003441\n",
       "4  1478  0.015672"
      ]
     },
     "execution_count": 132,
     "metadata": {},
     "output_type": "execute_result"
    }
   ],
   "source": [
    "submission.head()"
   ]
  },
  {
   "cell_type": "markdown",
   "metadata": {},
   "source": [
    "#### The Kaggle score on the test data set is 0.78556."
   ]
  }
 ],
 "metadata": {
  "kernelspec": {
   "display_name": "Python 3",
   "language": "python",
   "name": "python3"
  },
  "language_info": {
   "codemirror_mode": {
    "name": "ipython",
    "version": 3
   },
   "file_extension": ".py",
   "mimetype": "text/x-python",
   "name": "python",
   "nbconvert_exporter": "python",
   "pygments_lexer": "ipython3",
   "version": "3.8.5"
  }
 },
 "nbformat": 4,
 "nbformat_minor": 4
}
